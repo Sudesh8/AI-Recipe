{
  "nbformat": 4,
  "nbformat_minor": 0,
  "metadata": {
    "colab": {
      "provenance": [],
      "gpuType": "T4"
    },
    "kernelspec": {
      "name": "python3",
      "display_name": "Python 3"
    },
    "language_info": {
      "name": "python"
    },
    "accelerator": "GPU"
  },
  "cells": [
    {
      "cell_type": "code",
      "execution_count": null,
      "metadata": {
        "colab": {
          "base_uri": "https://localhost:8080/"
        },
        "collapsed": true,
        "id": "JqSh4dBTpBU1",
        "outputId": "ad100e7e-7fe5-41b7-c340-c6282095ca5b"
      },
      "outputs": [
        {
          "output_type": "stream",
          "name": "stdout",
          "text": [
            "Collecting ultralytics\n",
            "  Downloading ultralytics-8.2.74-py3-none-any.whl.metadata (41 kB)\n",
            "\u001b[?25l     \u001b[90m━━━━━━━━━━━━━━━━━━━━━━━━━━━━━━━━━━━━━━━━\u001b[0m \u001b[32m0.0/41.3 kB\u001b[0m \u001b[31m?\u001b[0m eta \u001b[36m-:--:--\u001b[0m\r\u001b[2K     \u001b[90m━━━━━━━━━━━━━━━━━━━━━━━━━━━━━━━━━━━━━━━━\u001b[0m \u001b[32m41.3/41.3 kB\u001b[0m \u001b[31m2.8 MB/s\u001b[0m eta \u001b[36m0:00:00\u001b[0m\n",
            "\u001b[?25hRequirement already satisfied: numpy<2.0.0,>=1.23.0 in /usr/local/lib/python3.10/dist-packages (from ultralytics) (1.26.4)\n",
            "Requirement already satisfied: matplotlib>=3.3.0 in /usr/local/lib/python3.10/dist-packages (from ultralytics) (3.7.1)\n",
            "Requirement already satisfied: opencv-python>=4.6.0 in /usr/local/lib/python3.10/dist-packages (from ultralytics) (4.10.0.84)\n",
            "Requirement already satisfied: pillow>=7.1.2 in /usr/local/lib/python3.10/dist-packages (from ultralytics) (9.4.0)\n",
            "Requirement already satisfied: pyyaml>=5.3.1 in /usr/local/lib/python3.10/dist-packages (from ultralytics) (6.0.1)\n",
            "Requirement already satisfied: requests>=2.23.0 in /usr/local/lib/python3.10/dist-packages (from ultralytics) (2.31.0)\n",
            "Requirement already satisfied: scipy>=1.4.1 in /usr/local/lib/python3.10/dist-packages (from ultralytics) (1.13.1)\n",
            "Requirement already satisfied: torch>=1.8.0 in /usr/local/lib/python3.10/dist-packages (from ultralytics) (2.3.1+cu121)\n",
            "Requirement already satisfied: torchvision>=0.9.0 in /usr/local/lib/python3.10/dist-packages (from ultralytics) (0.18.1+cu121)\n",
            "Requirement already satisfied: tqdm>=4.64.0 in /usr/local/lib/python3.10/dist-packages (from ultralytics) (4.66.4)\n",
            "Requirement already satisfied: psutil in /usr/local/lib/python3.10/dist-packages (from ultralytics) (5.9.5)\n",
            "Requirement already satisfied: py-cpuinfo in /usr/local/lib/python3.10/dist-packages (from ultralytics) (9.0.0)\n",
            "Requirement already satisfied: pandas>=1.1.4 in /usr/local/lib/python3.10/dist-packages (from ultralytics) (2.1.4)\n",
            "Requirement already satisfied: seaborn>=0.11.0 in /usr/local/lib/python3.10/dist-packages (from ultralytics) (0.13.1)\n",
            "Collecting ultralytics-thop>=2.0.0 (from ultralytics)\n",
            "  Downloading ultralytics_thop-2.0.0-py3-none-any.whl.metadata (8.5 kB)\n",
            "Requirement already satisfied: contourpy>=1.0.1 in /usr/local/lib/python3.10/dist-packages (from matplotlib>=3.3.0->ultralytics) (1.2.1)\n",
            "Requirement already satisfied: cycler>=0.10 in /usr/local/lib/python3.10/dist-packages (from matplotlib>=3.3.0->ultralytics) (0.12.1)\n",
            "Requirement already satisfied: fonttools>=4.22.0 in /usr/local/lib/python3.10/dist-packages (from matplotlib>=3.3.0->ultralytics) (4.53.1)\n",
            "Requirement already satisfied: kiwisolver>=1.0.1 in /usr/local/lib/python3.10/dist-packages (from matplotlib>=3.3.0->ultralytics) (1.4.5)\n",
            "Requirement already satisfied: packaging>=20.0 in /usr/local/lib/python3.10/dist-packages (from matplotlib>=3.3.0->ultralytics) (24.1)\n",
            "Requirement already satisfied: pyparsing>=2.3.1 in /usr/local/lib/python3.10/dist-packages (from matplotlib>=3.3.0->ultralytics) (3.1.2)\n",
            "Requirement already satisfied: python-dateutil>=2.7 in /usr/local/lib/python3.10/dist-packages (from matplotlib>=3.3.0->ultralytics) (2.8.2)\n",
            "Requirement already satisfied: pytz>=2020.1 in /usr/local/lib/python3.10/dist-packages (from pandas>=1.1.4->ultralytics) (2024.1)\n",
            "Requirement already satisfied: tzdata>=2022.1 in /usr/local/lib/python3.10/dist-packages (from pandas>=1.1.4->ultralytics) (2024.1)\n",
            "Requirement already satisfied: charset-normalizer<4,>=2 in /usr/local/lib/python3.10/dist-packages (from requests>=2.23.0->ultralytics) (3.3.2)\n",
            "Requirement already satisfied: idna<4,>=2.5 in /usr/local/lib/python3.10/dist-packages (from requests>=2.23.0->ultralytics) (3.7)\n",
            "Requirement already satisfied: urllib3<3,>=1.21.1 in /usr/local/lib/python3.10/dist-packages (from requests>=2.23.0->ultralytics) (2.0.7)\n",
            "Requirement already satisfied: certifi>=2017.4.17 in /usr/local/lib/python3.10/dist-packages (from requests>=2.23.0->ultralytics) (2024.7.4)\n",
            "Requirement already satisfied: filelock in /usr/local/lib/python3.10/dist-packages (from torch>=1.8.0->ultralytics) (3.15.4)\n",
            "Requirement already satisfied: typing-extensions>=4.8.0 in /usr/local/lib/python3.10/dist-packages (from torch>=1.8.0->ultralytics) (4.12.2)\n",
            "Requirement already satisfied: sympy in /usr/local/lib/python3.10/dist-packages (from torch>=1.8.0->ultralytics) (1.13.1)\n",
            "Requirement already satisfied: networkx in /usr/local/lib/python3.10/dist-packages (from torch>=1.8.0->ultralytics) (3.3)\n",
            "Requirement already satisfied: jinja2 in /usr/local/lib/python3.10/dist-packages (from torch>=1.8.0->ultralytics) (3.1.4)\n",
            "Requirement already satisfied: fsspec in /usr/local/lib/python3.10/dist-packages (from torch>=1.8.0->ultralytics) (2024.6.1)\n",
            "Collecting nvidia-cuda-nvrtc-cu12==12.1.105 (from torch>=1.8.0->ultralytics)\n",
            "  Using cached nvidia_cuda_nvrtc_cu12-12.1.105-py3-none-manylinux1_x86_64.whl.metadata (1.5 kB)\n",
            "Collecting nvidia-cuda-runtime-cu12==12.1.105 (from torch>=1.8.0->ultralytics)\n",
            "  Using cached nvidia_cuda_runtime_cu12-12.1.105-py3-none-manylinux1_x86_64.whl.metadata (1.5 kB)\n",
            "Collecting nvidia-cuda-cupti-cu12==12.1.105 (from torch>=1.8.0->ultralytics)\n",
            "  Using cached nvidia_cuda_cupti_cu12-12.1.105-py3-none-manylinux1_x86_64.whl.metadata (1.6 kB)\n",
            "Collecting nvidia-cudnn-cu12==8.9.2.26 (from torch>=1.8.0->ultralytics)\n",
            "  Using cached nvidia_cudnn_cu12-8.9.2.26-py3-none-manylinux1_x86_64.whl.metadata (1.6 kB)\n",
            "Collecting nvidia-cublas-cu12==12.1.3.1 (from torch>=1.8.0->ultralytics)\n",
            "  Using cached nvidia_cublas_cu12-12.1.3.1-py3-none-manylinux1_x86_64.whl.metadata (1.5 kB)\n",
            "Collecting nvidia-cufft-cu12==11.0.2.54 (from torch>=1.8.0->ultralytics)\n",
            "  Using cached nvidia_cufft_cu12-11.0.2.54-py3-none-manylinux1_x86_64.whl.metadata (1.5 kB)\n",
            "Collecting nvidia-curand-cu12==10.3.2.106 (from torch>=1.8.0->ultralytics)\n",
            "  Using cached nvidia_curand_cu12-10.3.2.106-py3-none-manylinux1_x86_64.whl.metadata (1.5 kB)\n",
            "Collecting nvidia-cusolver-cu12==11.4.5.107 (from torch>=1.8.0->ultralytics)\n",
            "  Using cached nvidia_cusolver_cu12-11.4.5.107-py3-none-manylinux1_x86_64.whl.metadata (1.6 kB)\n",
            "Collecting nvidia-cusparse-cu12==12.1.0.106 (from torch>=1.8.0->ultralytics)\n",
            "  Using cached nvidia_cusparse_cu12-12.1.0.106-py3-none-manylinux1_x86_64.whl.metadata (1.6 kB)\n",
            "Collecting nvidia-nccl-cu12==2.20.5 (from torch>=1.8.0->ultralytics)\n",
            "  Using cached nvidia_nccl_cu12-2.20.5-py3-none-manylinux2014_x86_64.whl.metadata (1.8 kB)\n",
            "Collecting nvidia-nvtx-cu12==12.1.105 (from torch>=1.8.0->ultralytics)\n",
            "  Using cached nvidia_nvtx_cu12-12.1.105-py3-none-manylinux1_x86_64.whl.metadata (1.7 kB)\n",
            "Requirement already satisfied: triton==2.3.1 in /usr/local/lib/python3.10/dist-packages (from torch>=1.8.0->ultralytics) (2.3.1)\n",
            "Collecting nvidia-nvjitlink-cu12 (from nvidia-cusolver-cu12==11.4.5.107->torch>=1.8.0->ultralytics)\n",
            "  Using cached nvidia_nvjitlink_cu12-12.6.20-py3-none-manylinux2014_x86_64.whl.metadata (1.5 kB)\n",
            "Requirement already satisfied: six>=1.5 in /usr/local/lib/python3.10/dist-packages (from python-dateutil>=2.7->matplotlib>=3.3.0->ultralytics) (1.16.0)\n",
            "Requirement already satisfied: MarkupSafe>=2.0 in /usr/local/lib/python3.10/dist-packages (from jinja2->torch>=1.8.0->ultralytics) (2.1.5)\n",
            "Requirement already satisfied: mpmath<1.4,>=1.1.0 in /usr/local/lib/python3.10/dist-packages (from sympy->torch>=1.8.0->ultralytics) (1.3.0)\n",
            "Downloading ultralytics-8.2.74-py3-none-any.whl (865 kB)\n",
            "\u001b[2K   \u001b[90m━━━━━━━━━━━━━━━━━━━━━━━━━━━━━━━━━━━━━━━━\u001b[0m \u001b[32m865.5/865.5 kB\u001b[0m \u001b[31m25.7 MB/s\u001b[0m eta \u001b[36m0:00:00\u001b[0m\n",
            "\u001b[?25hUsing cached nvidia_cublas_cu12-12.1.3.1-py3-none-manylinux1_x86_64.whl (410.6 MB)\n",
            "Using cached nvidia_cuda_cupti_cu12-12.1.105-py3-none-manylinux1_x86_64.whl (14.1 MB)\n",
            "Using cached nvidia_cuda_nvrtc_cu12-12.1.105-py3-none-manylinux1_x86_64.whl (23.7 MB)\n",
            "Using cached nvidia_cuda_runtime_cu12-12.1.105-py3-none-manylinux1_x86_64.whl (823 kB)\n",
            "Using cached nvidia_cudnn_cu12-8.9.2.26-py3-none-manylinux1_x86_64.whl (731.7 MB)\n",
            "Using cached nvidia_cufft_cu12-11.0.2.54-py3-none-manylinux1_x86_64.whl (121.6 MB)\n",
            "Using cached nvidia_curand_cu12-10.3.2.106-py3-none-manylinux1_x86_64.whl (56.5 MB)\n",
            "Using cached nvidia_cusolver_cu12-11.4.5.107-py3-none-manylinux1_x86_64.whl (124.2 MB)\n",
            "Using cached nvidia_cusparse_cu12-12.1.0.106-py3-none-manylinux1_x86_64.whl (196.0 MB)\n",
            "Using cached nvidia_nccl_cu12-2.20.5-py3-none-manylinux2014_x86_64.whl (176.2 MB)\n",
            "Using cached nvidia_nvtx_cu12-12.1.105-py3-none-manylinux1_x86_64.whl (99 kB)\n",
            "Downloading ultralytics_thop-2.0.0-py3-none-any.whl (25 kB)\n",
            "Using cached nvidia_nvjitlink_cu12-12.6.20-py3-none-manylinux2014_x86_64.whl (19.7 MB)\n",
            "Installing collected packages: nvidia-nvtx-cu12, nvidia-nvjitlink-cu12, nvidia-nccl-cu12, nvidia-curand-cu12, nvidia-cufft-cu12, nvidia-cuda-runtime-cu12, nvidia-cuda-nvrtc-cu12, nvidia-cuda-cupti-cu12, nvidia-cublas-cu12, nvidia-cusparse-cu12, nvidia-cudnn-cu12, nvidia-cusolver-cu12, ultralytics-thop, ultralytics\n",
            "Successfully installed nvidia-cublas-cu12-12.1.3.1 nvidia-cuda-cupti-cu12-12.1.105 nvidia-cuda-nvrtc-cu12-12.1.105 nvidia-cuda-runtime-cu12-12.1.105 nvidia-cudnn-cu12-8.9.2.26 nvidia-cufft-cu12-11.0.2.54 nvidia-curand-cu12-10.3.2.106 nvidia-cusolver-cu12-11.4.5.107 nvidia-cusparse-cu12-12.1.0.106 nvidia-nccl-cu12-2.20.5 nvidia-nvjitlink-cu12-12.6.20 nvidia-nvtx-cu12-12.1.105 ultralytics-8.2.74 ultralytics-thop-2.0.0\n"
          ]
        }
      ],
      "source": [
        "# Install the ultralytics package, which includes YOLOv8 implementation\n",
        "\n",
        "!pip install ultralytics"
      ]
    },
    {
      "cell_type": "code",
      "source": [
        "# Import YOLO class from the ultralytics library\n",
        "from ultralytics import YOLO"
      ],
      "metadata": {
        "id": "q7q4hjvYsFA4"
      },
      "execution_count": null,
      "outputs": []
    },
    {
      "cell_type": "code",
      "source": [
        "\n",
        "# Load the pre-trained YOLOv8 model from the specified weights file\n",
        "# 'yolov8s.pt' is a pre-trained model file for YOLOv8\n",
        "model=YOLO('yolov8s.pt')"
      ],
      "metadata": {
        "colab": {
          "base_uri": "https://localhost:8080/"
        },
        "id": "goKnU26UsMhO",
        "outputId": "2629fc93-ba1e-4e70-da89-2a9ac4147cfc"
      },
      "execution_count": null,
      "outputs": [
        {
          "output_type": "stream",
          "name": "stdout",
          "text": [
            "Downloading https://github.com/ultralytics/assets/releases/download/v8.2.0/yolov8s.pt to 'yolov8s.pt'...\n"
          ]
        },
        {
          "output_type": "stream",
          "name": "stderr",
          "text": [
            "100%|██████████| 21.5M/21.5M [00:00<00:00, 218MB/s]\n"
          ]
        }
      ]
    },
    {
      "cell_type": "code",
      "source": [
        "# Unzip the dataset archive located in Google Drive into a folder named \"train_data\"\n",
        "# The archive 'veg3.zip' contains images for training the model\n",
        "!unzip /content/drive/MyDrive/Projects/veggies/dataset/veg3.zip -d \"train_data\""
      ],
      "metadata": {
        "colab": {
          "base_uri": "https://localhost:8080/"
        },
        "collapsed": true,
        "id": "3nBqxSJ0sNit",
        "outputId": "c2c6e988-1abc-46cf-e80c-d2422a619855"
      },
      "execution_count": null,
      "outputs": [
        {
          "output_type": "stream",
          "name": "stdout",
          "text": [
            "Archive:  /content/drive/MyDrive/Projects/veggies/dataset/veg3.zip\n",
            "   creating: train_data/veg3/\n",
            "  inflating: train_data/veg3/data.yaml  \n",
            "   creating: train_data/veg3/test/\n",
            "   creating: train_data/veg3/test/images/\n",
            "  inflating: train_data/veg3/test/images/20230412_112934_jpg.rf.045f283020eb4ddebb9075f12bb45187.jpg  \n",
            "  inflating: train_data/veg3/test/images/IMG-20230412-WA0004_jpg.rf.efbcb7240130892733a4b69782188c35.jpg  \n",
            "  inflating: train_data/veg3/test/images/IMG-20230412-WA0010_jpg.rf.ec8279c54bd8e66d5a79b474ed690102.jpg  \n",
            "  inflating: train_data/veg3/test/images/IMG20230412113036_jpg.rf.532137b6f6a02ffcfd1299ae39c3413d.jpg  \n",
            "  inflating: train_data/veg3/test/images/IMG20230412113101_jpg.rf.ed8b32b1a7479235e3a23bd704ac15de.jpg  \n",
            "  inflating: train_data/veg3/test/images/IMG20230412113320_jpg.rf.523f9f1cd6fc2918baf7345449cc75be.jpg  \n",
            "  inflating: train_data/veg3/test/images/IMG20230412113443_jpg.rf.2df9a9db32b759ae3c1514bc30919606.jpg  \n",
            "  inflating: train_data/veg3/test/images/IMG20230412113547_jpg.rf.d9350a4ed18d81129aad8810520266bb.jpg  \n",
            "  inflating: train_data/veg3/test/images/IMG20230412114039_jpg.rf.963ab89c6333ef96826887ef89648cb3.jpg  \n",
            "  inflating: train_data/veg3/test/images/IMG20230412115722_jpg.rf.af34b54b81a7e38edd8590a9b1aac506.jpg  \n",
            "  inflating: train_data/veg3/test/images/IMG20230428125806_jpg.rf.01eee85a37727baf4c779c60c6d44045.jpg  \n",
            "  inflating: train_data/veg3/test/images/IMG20230428125820_jpg.rf.642d8c6c109e646bdde691a265811c30.jpg  \n",
            "  inflating: train_data/veg3/test/images/IMG20230428125831_jpg.rf.3ccba991bba0cee8755266c4bfbf4596.jpg  \n",
            "  inflating: train_data/veg3/test/images/IMG20230428130125_jpg.rf.4221e3dd7abcd45226d7dec51fe68ae6.jpg  \n",
            "  inflating: train_data/veg3/test/images/IMG20230502125959_jpg.rf.80085fdb08b152ce1eb271f4a50bd989.jpg  \n",
            "  inflating: train_data/veg3/test/images/IMG20230502130240_jpg.rf.5595e5a83ed2b9a9097bbe080e46ada7.jpg  \n",
            "  inflating: train_data/veg3/test/images/IMG20230502130824_jpg.rf.e2136d8c6f65598c86c61911b503e685.jpg  \n",
            "  inflating: train_data/veg3/test/images/IMG20230502131001_jpg.rf.52ec0fd652baba54eb738d873978486d.jpg  \n",
            "  inflating: train_data/veg3/test/images/IMG20230502131045_jpg.rf.cdd9827ef22377bc8f7cb46ac3b63839.jpg  \n",
            "  inflating: train_data/veg3/test/images/IMG20230502131335_jpg.rf.4a69e153ac3def0d9c4e255a5d1e49f8.jpg  \n",
            "  inflating: train_data/veg3/test/images/IMG20230502131750_jpg.rf.3e2ec8ca5d83cf96de841b4170e98627.jpg  \n",
            "  inflating: train_data/veg3/test/images/IMG20230502131813_jpg.rf.67eb425be677528e5b61c62a2a9cdd25.jpg  \n",
            "  inflating: train_data/veg3/test/images/IMG20230502155404_jpg.rf.9b8223570a69c1eec42c028f0b9b5417.jpg  \n",
            "  inflating: train_data/veg3/test/images/IMG20230502155634_jpg.rf.5316704edc9047d3c32d58fb435f08de.jpg  \n",
            "  inflating: train_data/veg3/test/images/IMG20230502155651_jpg.rf.07274092e9160e054e7e20399437b2ef.jpg  \n",
            "  inflating: train_data/veg3/test/images/IMG20230502155807_jpg.rf.1eb03eaed8bf8f5b84fabd65bca98270.jpg  \n",
            "  inflating: train_data/veg3/test/images/IMG20230502160106_jpg.rf.6001107aeaf699d24876d15195b4d6a7.jpg  \n",
            "  inflating: train_data/veg3/test/images/IMG20230502161049_jpg.rf.1bbcb353cbc5da613eff225d23fa520e.jpg  \n",
            "  inflating: train_data/veg3/test/images/IMG20230502161110_jpg.rf.edcdb8cd20169fa2a525b7bcec259948.jpg  \n",
            "  inflating: train_data/veg3/test/images/IMG20230502161122_jpg.rf.1acc8ec2b29db45246363c99cc79e50f.jpg  \n",
            "  inflating: train_data/veg3/test/images/IMG20230502161326_jpg.rf.4720fb70b760dcb58e74815c12f3217a.jpg  \n",
            "  inflating: train_data/veg3/test/images/IMG20230502161614_jpg.rf.17e96d4ddd38eb5021d43579808a9d2c.jpg  \n",
            "  inflating: train_data/veg3/test/images/IMG20230502162147_jpg.rf.3f93d371232b7da751a1d9c4be495dfa.jpg  \n",
            "  inflating: train_data/veg3/test/images/IMG20230502162321_jpg.rf.1c3c508fe402be37e86b5e390e7a129a.jpg  \n",
            "  inflating: train_data/veg3/test/images/IMG20230502162613_jpg.rf.529315875b173d02d0e9a84cbbf55a33.jpg  \n",
            "  inflating: train_data/veg3/test/images/IMG20230502163242_jpg.rf.99b67b25dabeaa08b753fc979045e5fb.jpg  \n",
            "  inflating: train_data/veg3/test/images/IMG20230502163304_jpg.rf.c48f3cf75564f5f8633823e4235a0be2.jpg  \n",
            "  inflating: train_data/veg3/test/images/IMG20230502163543_jpg.rf.0deae7d17e3c310b7978ba349ba4c9de.jpg  \n",
            "  inflating: train_data/veg3/test/images/IMG20230502163547_jpg.rf.1d7941f79d6f9404344059c1fa051163.jpg  \n",
            "  inflating: train_data/veg3/test/images/IMG20230502164108_jpg.rf.4593dc2854c782a9de0071ebcde9b157.jpg  \n",
            "  inflating: train_data/veg3/test/images/IMG20230502164430_jpg.rf.b2eec1f74cd3ab9396e9c023538bb632.jpg  \n",
            "  inflating: train_data/veg3/test/images/IMG20230502164515_jpg.rf.186eb5ff8431717cd260e3bd2fbe588b.jpg  \n",
            "  inflating: train_data/veg3/test/images/IMG20230502164715_jpg.rf.37594c78901e12c90242588aba4164ba.jpg  \n",
            "  inflating: train_data/veg3/test/images/IMG20230502164931_jpg.rf.b7694fa276a111fd1d096db594fec58f.jpg  \n",
            "  inflating: train_data/veg3/test/images/IMG20230502165832_jpg.rf.b75aec0bfed0474b39136e37e535ee21.jpg  \n",
            "  inflating: train_data/veg3/test/images/IMG20230502165900_jpg.rf.01293dd3eac965d3b216c6935a4d4ac1.jpg  \n",
            "  inflating: train_data/veg3/test/images/IMG20230502165956_jpg.rf.542cf239e7e0fae9825678a9a09f1f2a.jpg  \n",
            "  inflating: train_data/veg3/test/images/IMG20230502170012_jpg.rf.f9e76839cb888e6c2a415c74d685d899.jpg  \n",
            "  inflating: train_data/veg3/test/images/IMG20230502170500_jpg.rf.ad06395d63a2cce77c86025a2e7c5301.jpg  \n",
            "  inflating: train_data/veg3/test/images/IMG20230502170531_jpg.rf.5a69f033bb847b8456fe08e715fb22f3.jpg  \n",
            "  inflating: train_data/veg3/test/images/IMG20230502171233_jpg.rf.f965d0ee79df57afac942a1f8135ae45.jpg  \n",
            "  inflating: train_data/veg3/test/images/IMG20230502171424_jpg.rf.56dd3fdedc8941897e1c42b1471e5cf9.jpg  \n",
            "  inflating: train_data/veg3/test/images/IMG20230502171507_jpg.rf.9eba3f3c606db5d08bcc2b165247ff26.jpg  \n",
            "  inflating: train_data/veg3/test/images/IMG20230502171526_jpg.rf.9d80e2f3fa86d50632ea22d95cb25103.jpg  \n",
            "  inflating: train_data/veg3/test/images/IMG20230502171541_jpg.rf.fd9b219e19afa443c98ef3f3765d4efb.jpg  \n",
            "  inflating: train_data/veg3/test/images/IMG20230502172219_jpg.rf.9f91f2411aab9e85f47f9a763bb0fc63.jpg  \n",
            "  inflating: train_data/veg3/test/images/IMG20230502172343_jpg.rf.cbe665e5eec79a25d54cec1c6816d60d.jpg  \n",
            "  inflating: train_data/veg3/test/images/IMG20230502172451_jpg.rf.5fd3315514493746191b8b9d5e354b24.jpg  \n",
            "  inflating: train_data/veg3/test/images/IMG20230502172509_jpg.rf.eff17383d825b1a00b6f06323b5cbe8e.jpg  \n",
            "  inflating: train_data/veg3/test/images/IMG20230502172520_jpg.rf.ca82b8769508cb95ffa38f2dfd49b39b.jpg  \n",
            "  inflating: train_data/veg3/test/images/IMG20230502172632_jpg.rf.e7c02092f72100379ee7c78f5d5e15dc.jpg  \n",
            "  inflating: train_data/veg3/test/images/IMG20230502174248_jpg.rf.e4d34da8c39544b3dd87a98a098143b2.jpg  \n",
            "  inflating: train_data/veg3/test/images/IMG20230502174718_jpg.rf.b7e4d978c1f0b7f05fb99758dcb2be04.jpg  \n",
            "  inflating: train_data/veg3/test/images/IMG20230502174741_jpg.rf.eaf41d5bd2ac0d094eac1c3c3ad47975.jpg  \n",
            "  inflating: train_data/veg3/test/images/IMG20230502174802_jpg.rf.8ece85507e11819a9ade0e56c7441109.jpg  \n",
            "  inflating: train_data/veg3/test/images/IMG20230502174837_jpg.rf.d469e4c1941d7a94388ef50c8edf3eee.jpg  \n",
            "  inflating: train_data/veg3/test/images/IMG20230502174900_jpg.rf.2f787736c030b9d39752b121d5118b2e.jpg  \n",
            "  inflating: train_data/veg3/test/images/IMG20230502175012_jpg.rf.a5664b5ef5288f3f322a2f15aeb6f7e0.jpg  \n",
            "  inflating: train_data/veg3/test/images/IMG20230502180027_jpg.rf.9b4679d778d5c1451937b9f6a0d7ad95.jpg  \n",
            "  inflating: train_data/veg3/test/images/IMG20230502180111_jpg.rf.b07a2a796ee0bf1427c3af792791631a.jpg  \n",
            "  inflating: train_data/veg3/test/images/IMG20230502180150_jpg.rf.81de0d6a54cbcf271136dc5e15b206aa.jpg  \n",
            "  inflating: train_data/veg3/test/images/IMG20230502180725_jpg.rf.4d71e6464960cfbc378f43b255e8d2ca.jpg  \n",
            "  inflating: train_data/veg3/test/images/IMG20230502180739_jpg.rf.5f89f6ef99518ad446d47680f8b68e39.jpg  \n",
            "  inflating: train_data/veg3/test/images/IMG20230502180815_jpg.rf.bde7e3467b277f729dc966a838bab9e0.jpg  \n",
            "  inflating: train_data/veg3/test/images/IMG20230502180839_jpg.rf.6e79932abb3bb18d17fd66eac0b4b841.jpg  \n",
            "  inflating: train_data/veg3/test/images/IMG20230502180950_jpg.rf.d6e6fa6fcc512f97cd97f2056f2b6bac.jpg  \n",
            "  inflating: train_data/veg3/test/images/IMG20230502180957_jpg.rf.fef4fb6d0eea01795a41d3b5e19c976f.jpg  \n",
            "  inflating: train_data/veg3/test/images/IMG20230502181008_jpg.rf.e2192be90ea4e4c2df63daaad190e5cc.jpg  \n",
            "  inflating: train_data/veg3/test/images/IMG20230502182933_jpg.rf.1d75a9b92d08b944a58209152c1ada1e.jpg  \n",
            "  inflating: train_data/veg3/test/images/IMG20230502183049_jpg.rf.79076cf8b0a6c08506d8043683a7ab8c.jpg  \n",
            "  inflating: train_data/veg3/test/images/IMG20230502184207_jpg.rf.47ede74e4a4f521aa539f01ead389b6e.jpg  \n",
            "  inflating: train_data/veg3/test/images/IMG20230502191041_jpg.rf.3d72c2db8bbf6990d9d51fa1077d9af3.jpg  \n",
            "  inflating: train_data/veg3/test/images/IMG_20230412_115210_jpg.rf.151804d61df1651b71d372e36f63e70f.jpg  \n",
            "  inflating: train_data/veg3/test/images/IMG_20230412_115238_jpg.rf.44e500a0ce7c58c25ec30526cc589ed8.jpg  \n",
            "  inflating: train_data/veg3/test/images/IMG_20230428_113211_jpg.rf.d7274ba394f9c40784c84dd65a23cd3b.jpg  \n",
            "  inflating: train_data/veg3/test/images/IMG_20230428_113420_jpg.rf.9933150ae8e33d3b99d0635f31e2a463.jpg  \n",
            "  inflating: train_data/veg3/test/images/IMG_20230428_113759_jpg.rf.09cb40d9f34de61ac15697fecc127ed4.jpg  \n",
            "  inflating: train_data/veg3/test/images/IMG_20230428_114033_jpg.rf.8955fd8251ef7450a14e567398d9bfde.jpg  \n",
            "  inflating: train_data/veg3/test/images/IMG_20230428_122736_jpg.rf.38146be68582238635776f67ca12a93d.jpg  \n",
            "  inflating: train_data/veg3/test/images/IMG_20230428_122912_jpg.rf.235de51cbbf57880c23dc1bb1f4afe51.jpg  \n",
            "  inflating: train_data/veg3/test/images/IMG_20230428_122933_jpg.rf.8b782a9369cb4007a6c828c7e28ea5ba.jpg  \n",
            "  inflating: train_data/veg3/test/images/IMG_20230428_123040_jpg.rf.e5548141027ec6261b21bae750f552d9.jpg  \n",
            "  inflating: train_data/veg3/test/images/IMG_20230428_123112_jpg.rf.b104c9147958f03af17959d95adfee49.jpg  \n",
            "  inflating: train_data/veg3/test/images/IMG_20230428_123208_jpg.rf.aeae4ffc917b43e78203deab18ec73d1.jpg  \n",
            "  inflating: train_data/veg3/test/images/IMG_20230428_123300_jpg.rf.1adef8b97a71820bf2b88344cbdcb37b.jpg  \n",
            "  inflating: train_data/veg3/test/images/IMG_20230428_123538_jpg.rf.f3a6d42296d62173c149491589b9b54b.jpg  \n",
            "  inflating: train_data/veg3/test/images/IMG_20230428_123547_jpg.rf.7af2b4ae4b1ed35e85e05309292808a1.jpg  \n",
            "  inflating: train_data/veg3/test/images/IMG_20230428_123828_jpg.rf.5d0ac4debcad28ffd0dc777a1036dd7b.jpg  \n",
            "  inflating: train_data/veg3/test/images/IMG_20230428_124331_jpg.rf.449dbdcbd5dbde55aebf860d387e0664.jpg  \n",
            "  inflating: train_data/veg3/test/images/IMG_20230428_124440_jpg.rf.74dbbcf7f71fc205975ae36c09d9b8c5.jpg  \n",
            "  inflating: train_data/veg3/test/images/IMG_20230428_124530_jpg.rf.59fd7a7815b6b09647f664efe03f34a1.jpg  \n",
            "  inflating: train_data/veg3/test/images/IMG_20230428_124938_jpg.rf.10e9fba5a18158d9f7cc6ea8038374f9.jpg  \n",
            "  inflating: train_data/veg3/test/images/IMG_20230428_124943_jpg.rf.da16808fd1468b207fbc55c91e62bc27.jpg  \n",
            "  inflating: train_data/veg3/test/images/IMG_20230428_124953_jpg.rf.fce0431d0fad328291b7a3e36d6ccf6b.jpg  \n",
            "  inflating: train_data/veg3/test/images/IMG_20230428_125032_jpg.rf.3effcf51c88d7455bde48ac0b8e8d673.jpg  \n",
            "  inflating: train_data/veg3/test/images/IMG_20230428_125203_jpg.rf.ffebc4c9b0196360dc898ad6dfb0e523.jpg  \n",
            "  inflating: train_data/veg3/test/images/IMG_20230502_184616_jpg.rf.cbd0b63afd31d0117a31b429066fab6b.jpg  \n",
            "  inflating: train_data/veg3/test/images/IMG_20230502_185928_jpg.rf.9bd2705e6311fe94a519493353f32e99.jpg  \n",
            "  inflating: train_data/veg3/test/images/IMG_20230502_190243_jpg.rf.d80c5def1839a2d067947e1a5606e1bf.jpg  \n",
            "   creating: train_data/veg3/test/labels/\n",
            "  inflating: train_data/veg3/test/labels/20230412_112934_jpg.rf.045f283020eb4ddebb9075f12bb45187.txt  \n",
            "  inflating: train_data/veg3/test/labels/IMG-20230412-WA0004_jpg.rf.efbcb7240130892733a4b69782188c35.txt  \n",
            "  inflating: train_data/veg3/test/labels/IMG-20230412-WA0010_jpg.rf.ec8279c54bd8e66d5a79b474ed690102.txt  \n",
            "  inflating: train_data/veg3/test/labels/IMG20230412113036_jpg.rf.532137b6f6a02ffcfd1299ae39c3413d.txt  \n",
            "  inflating: train_data/veg3/test/labels/IMG20230412113101_jpg.rf.ed8b32b1a7479235e3a23bd704ac15de.txt  \n",
            "  inflating: train_data/veg3/test/labels/IMG20230412113320_jpg.rf.523f9f1cd6fc2918baf7345449cc75be.txt  \n",
            "  inflating: train_data/veg3/test/labels/IMG20230412113443_jpg.rf.2df9a9db32b759ae3c1514bc30919606.txt  \n",
            "  inflating: train_data/veg3/test/labels/IMG20230412113547_jpg.rf.d9350a4ed18d81129aad8810520266bb.txt  \n",
            "  inflating: train_data/veg3/test/labels/IMG20230412114039_jpg.rf.963ab89c6333ef96826887ef89648cb3.txt  \n",
            "  inflating: train_data/veg3/test/labels/IMG20230412115722_jpg.rf.af34b54b81a7e38edd8590a9b1aac506.txt  \n",
            "  inflating: train_data/veg3/test/labels/IMG20230428125806_jpg.rf.01eee85a37727baf4c779c60c6d44045.txt  \n",
            "  inflating: train_data/veg3/test/labels/IMG20230428125820_jpg.rf.642d8c6c109e646bdde691a265811c30.txt  \n",
            "  inflating: train_data/veg3/test/labels/IMG20230428125831_jpg.rf.3ccba991bba0cee8755266c4bfbf4596.txt  \n",
            "  inflating: train_data/veg3/test/labels/IMG20230428130125_jpg.rf.4221e3dd7abcd45226d7dec51fe68ae6.txt  \n",
            "  inflating: train_data/veg3/test/labels/IMG20230502125959_jpg.rf.80085fdb08b152ce1eb271f4a50bd989.txt  \n",
            "  inflating: train_data/veg3/test/labels/IMG20230502130240_jpg.rf.5595e5a83ed2b9a9097bbe080e46ada7.txt  \n",
            "  inflating: train_data/veg3/test/labels/IMG20230502130824_jpg.rf.e2136d8c6f65598c86c61911b503e685.txt  \n",
            "  inflating: train_data/veg3/test/labels/IMG20230502131001_jpg.rf.52ec0fd652baba54eb738d873978486d.txt  \n",
            "  inflating: train_data/veg3/test/labels/IMG20230502131045_jpg.rf.cdd9827ef22377bc8f7cb46ac3b63839.txt  \n",
            "  inflating: train_data/veg3/test/labels/IMG20230502131335_jpg.rf.4a69e153ac3def0d9c4e255a5d1e49f8.txt  \n",
            "  inflating: train_data/veg3/test/labels/IMG20230502131750_jpg.rf.3e2ec8ca5d83cf96de841b4170e98627.txt  \n",
            "  inflating: train_data/veg3/test/labels/IMG20230502131813_jpg.rf.67eb425be677528e5b61c62a2a9cdd25.txt  \n",
            "  inflating: train_data/veg3/test/labels/IMG20230502155404_jpg.rf.9b8223570a69c1eec42c028f0b9b5417.txt  \n",
            "  inflating: train_data/veg3/test/labels/IMG20230502155634_jpg.rf.5316704edc9047d3c32d58fb435f08de.txt  \n",
            "  inflating: train_data/veg3/test/labels/IMG20230502155651_jpg.rf.07274092e9160e054e7e20399437b2ef.txt  \n",
            "  inflating: train_data/veg3/test/labels/IMG20230502155807_jpg.rf.1eb03eaed8bf8f5b84fabd65bca98270.txt  \n",
            "  inflating: train_data/veg3/test/labels/IMG20230502160106_jpg.rf.6001107aeaf699d24876d15195b4d6a7.txt  \n",
            "  inflating: train_data/veg3/test/labels/IMG20230502161049_jpg.rf.1bbcb353cbc5da613eff225d23fa520e.txt  \n",
            "  inflating: train_data/veg3/test/labels/IMG20230502161110_jpg.rf.edcdb8cd20169fa2a525b7bcec259948.txt  \n",
            "  inflating: train_data/veg3/test/labels/IMG20230502161122_jpg.rf.1acc8ec2b29db45246363c99cc79e50f.txt  \n",
            "  inflating: train_data/veg3/test/labels/IMG20230502161326_jpg.rf.4720fb70b760dcb58e74815c12f3217a.txt  \n",
            "  inflating: train_data/veg3/test/labels/IMG20230502161614_jpg.rf.17e96d4ddd38eb5021d43579808a9d2c.txt  \n",
            "  inflating: train_data/veg3/test/labels/IMG20230502162147_jpg.rf.3f93d371232b7da751a1d9c4be495dfa.txt  \n",
            "  inflating: train_data/veg3/test/labels/IMG20230502162321_jpg.rf.1c3c508fe402be37e86b5e390e7a129a.txt  \n",
            "  inflating: train_data/veg3/test/labels/IMG20230502162613_jpg.rf.529315875b173d02d0e9a84cbbf55a33.txt  \n",
            "  inflating: train_data/veg3/test/labels/IMG20230502163242_jpg.rf.99b67b25dabeaa08b753fc979045e5fb.txt  \n",
            "  inflating: train_data/veg3/test/labels/IMG20230502163304_jpg.rf.c48f3cf75564f5f8633823e4235a0be2.txt  \n",
            "  inflating: train_data/veg3/test/labels/IMG20230502163543_jpg.rf.0deae7d17e3c310b7978ba349ba4c9de.txt  \n",
            "  inflating: train_data/veg3/test/labels/IMG20230502163547_jpg.rf.1d7941f79d6f9404344059c1fa051163.txt  \n",
            "  inflating: train_data/veg3/test/labels/IMG20230502164108_jpg.rf.4593dc2854c782a9de0071ebcde9b157.txt  \n",
            "  inflating: train_data/veg3/test/labels/IMG20230502164430_jpg.rf.b2eec1f74cd3ab9396e9c023538bb632.txt  \n",
            "  inflating: train_data/veg3/test/labels/IMG20230502164515_jpg.rf.186eb5ff8431717cd260e3bd2fbe588b.txt  \n",
            "  inflating: train_data/veg3/test/labels/IMG20230502164715_jpg.rf.37594c78901e12c90242588aba4164ba.txt  \n",
            "  inflating: train_data/veg3/test/labels/IMG20230502164931_jpg.rf.b7694fa276a111fd1d096db594fec58f.txt  \n",
            "  inflating: train_data/veg3/test/labels/IMG20230502165832_jpg.rf.b75aec0bfed0474b39136e37e535ee21.txt  \n",
            "  inflating: train_data/veg3/test/labels/IMG20230502165900_jpg.rf.01293dd3eac965d3b216c6935a4d4ac1.txt  \n",
            "  inflating: train_data/veg3/test/labels/IMG20230502165956_jpg.rf.542cf239e7e0fae9825678a9a09f1f2a.txt  \n",
            "  inflating: train_data/veg3/test/labels/IMG20230502170012_jpg.rf.f9e76839cb888e6c2a415c74d685d899.txt  \n",
            "  inflating: train_data/veg3/test/labels/IMG20230502170500_jpg.rf.ad06395d63a2cce77c86025a2e7c5301.txt  \n",
            "  inflating: train_data/veg3/test/labels/IMG20230502170531_jpg.rf.5a69f033bb847b8456fe08e715fb22f3.txt  \n",
            "  inflating: train_data/veg3/test/labels/IMG20230502171233_jpg.rf.f965d0ee79df57afac942a1f8135ae45.txt  \n",
            "  inflating: train_data/veg3/test/labels/IMG20230502171424_jpg.rf.56dd3fdedc8941897e1c42b1471e5cf9.txt  \n",
            "  inflating: train_data/veg3/test/labels/IMG20230502171507_jpg.rf.9eba3f3c606db5d08bcc2b165247ff26.txt  \n",
            "  inflating: train_data/veg3/test/labels/IMG20230502171526_jpg.rf.9d80e2f3fa86d50632ea22d95cb25103.txt  \n",
            "  inflating: train_data/veg3/test/labels/IMG20230502171541_jpg.rf.fd9b219e19afa443c98ef3f3765d4efb.txt  \n",
            "  inflating: train_data/veg3/test/labels/IMG20230502172219_jpg.rf.9f91f2411aab9e85f47f9a763bb0fc63.txt  \n",
            "  inflating: train_data/veg3/test/labels/IMG20230502172343_jpg.rf.cbe665e5eec79a25d54cec1c6816d60d.txt  \n",
            "  inflating: train_data/veg3/test/labels/IMG20230502172451_jpg.rf.5fd3315514493746191b8b9d5e354b24.txt  \n",
            "  inflating: train_data/veg3/test/labels/IMG20230502172509_jpg.rf.eff17383d825b1a00b6f06323b5cbe8e.txt  \n",
            "  inflating: train_data/veg3/test/labels/IMG20230502172520_jpg.rf.ca82b8769508cb95ffa38f2dfd49b39b.txt  \n",
            "  inflating: train_data/veg3/test/labels/IMG20230502172632_jpg.rf.e7c02092f72100379ee7c78f5d5e15dc.txt  \n",
            "  inflating: train_data/veg3/test/labels/IMG20230502174248_jpg.rf.e4d34da8c39544b3dd87a98a098143b2.txt  \n",
            "  inflating: train_data/veg3/test/labels/IMG20230502174718_jpg.rf.b7e4d978c1f0b7f05fb99758dcb2be04.txt  \n",
            "  inflating: train_data/veg3/test/labels/IMG20230502174741_jpg.rf.eaf41d5bd2ac0d094eac1c3c3ad47975.txt  \n",
            "  inflating: train_data/veg3/test/labels/IMG20230502174802_jpg.rf.8ece85507e11819a9ade0e56c7441109.txt  \n",
            "  inflating: train_data/veg3/test/labels/IMG20230502174837_jpg.rf.d469e4c1941d7a94388ef50c8edf3eee.txt  \n",
            "  inflating: train_data/veg3/test/labels/IMG20230502174900_jpg.rf.2f787736c030b9d39752b121d5118b2e.txt  \n",
            "  inflating: train_data/veg3/test/labels/IMG20230502175012_jpg.rf.a5664b5ef5288f3f322a2f15aeb6f7e0.txt  \n",
            "  inflating: train_data/veg3/test/labels/IMG20230502180027_jpg.rf.9b4679d778d5c1451937b9f6a0d7ad95.txt  \n",
            "  inflating: train_data/veg3/test/labels/IMG20230502180111_jpg.rf.b07a2a796ee0bf1427c3af792791631a.txt  \n",
            "  inflating: train_data/veg3/test/labels/IMG20230502180150_jpg.rf.81de0d6a54cbcf271136dc5e15b206aa.txt  \n",
            "  inflating: train_data/veg3/test/labels/IMG20230502180725_jpg.rf.4d71e6464960cfbc378f43b255e8d2ca.txt  \n",
            "  inflating: train_data/veg3/test/labels/IMG20230502180739_jpg.rf.5f89f6ef99518ad446d47680f8b68e39.txt  \n",
            "  inflating: train_data/veg3/test/labels/IMG20230502180815_jpg.rf.bde7e3467b277f729dc966a838bab9e0.txt  \n",
            "  inflating: train_data/veg3/test/labels/IMG20230502180839_jpg.rf.6e79932abb3bb18d17fd66eac0b4b841.txt  \n",
            "  inflating: train_data/veg3/test/labels/IMG20230502180950_jpg.rf.d6e6fa6fcc512f97cd97f2056f2b6bac.txt  \n",
            "  inflating: train_data/veg3/test/labels/IMG20230502180957_jpg.rf.fef4fb6d0eea01795a41d3b5e19c976f.txt  \n",
            "  inflating: train_data/veg3/test/labels/IMG20230502181008_jpg.rf.e2192be90ea4e4c2df63daaad190e5cc.txt  \n",
            "  inflating: train_data/veg3/test/labels/IMG20230502182933_jpg.rf.1d75a9b92d08b944a58209152c1ada1e.txt  \n",
            "  inflating: train_data/veg3/test/labels/IMG20230502183049_jpg.rf.79076cf8b0a6c08506d8043683a7ab8c.txt  \n",
            "  inflating: train_data/veg3/test/labels/IMG20230502184207_jpg.rf.47ede74e4a4f521aa539f01ead389b6e.txt  \n",
            "  inflating: train_data/veg3/test/labels/IMG20230502191041_jpg.rf.3d72c2db8bbf6990d9d51fa1077d9af3.txt  \n",
            "  inflating: train_data/veg3/test/labels/IMG_20230412_115210_jpg.rf.151804d61df1651b71d372e36f63e70f.txt  \n",
            "  inflating: train_data/veg3/test/labels/IMG_20230412_115238_jpg.rf.44e500a0ce7c58c25ec30526cc589ed8.txt  \n",
            "  inflating: train_data/veg3/test/labels/IMG_20230428_113211_jpg.rf.d7274ba394f9c40784c84dd65a23cd3b.txt  \n",
            "  inflating: train_data/veg3/test/labels/IMG_20230428_113420_jpg.rf.9933150ae8e33d3b99d0635f31e2a463.txt  \n",
            "  inflating: train_data/veg3/test/labels/IMG_20230428_113759_jpg.rf.09cb40d9f34de61ac15697fecc127ed4.txt  \n",
            "  inflating: train_data/veg3/test/labels/IMG_20230428_114033_jpg.rf.8955fd8251ef7450a14e567398d9bfde.txt  \n",
            "  inflating: train_data/veg3/test/labels/IMG_20230428_122736_jpg.rf.38146be68582238635776f67ca12a93d.txt  \n",
            "  inflating: train_data/veg3/test/labels/IMG_20230428_122912_jpg.rf.235de51cbbf57880c23dc1bb1f4afe51.txt  \n",
            "  inflating: train_data/veg3/test/labels/IMG_20230428_122933_jpg.rf.8b782a9369cb4007a6c828c7e28ea5ba.txt  \n",
            "  inflating: train_data/veg3/test/labels/IMG_20230428_123040_jpg.rf.e5548141027ec6261b21bae750f552d9.txt  \n",
            "  inflating: train_data/veg3/test/labels/IMG_20230428_123112_jpg.rf.b104c9147958f03af17959d95adfee49.txt  \n",
            "  inflating: train_data/veg3/test/labels/IMG_20230428_123208_jpg.rf.aeae4ffc917b43e78203deab18ec73d1.txt  \n",
            "  inflating: train_data/veg3/test/labels/IMG_20230428_123300_jpg.rf.1adef8b97a71820bf2b88344cbdcb37b.txt  \n",
            "  inflating: train_data/veg3/test/labels/IMG_20230428_123538_jpg.rf.f3a6d42296d62173c149491589b9b54b.txt  \n",
            "  inflating: train_data/veg3/test/labels/IMG_20230428_123547_jpg.rf.7af2b4ae4b1ed35e85e05309292808a1.txt  \n",
            "  inflating: train_data/veg3/test/labels/IMG_20230428_123828_jpg.rf.5d0ac4debcad28ffd0dc777a1036dd7b.txt  \n",
            "  inflating: train_data/veg3/test/labels/IMG_20230428_124331_jpg.rf.449dbdcbd5dbde55aebf860d387e0664.txt  \n",
            "  inflating: train_data/veg3/test/labels/IMG_20230428_124440_jpg.rf.74dbbcf7f71fc205975ae36c09d9b8c5.txt  \n",
            "  inflating: train_data/veg3/test/labels/IMG_20230428_124530_jpg.rf.59fd7a7815b6b09647f664efe03f34a1.txt  \n",
            "  inflating: train_data/veg3/test/labels/IMG_20230428_124938_jpg.rf.10e9fba5a18158d9f7cc6ea8038374f9.txt  \n",
            "  inflating: train_data/veg3/test/labels/IMG_20230428_124943_jpg.rf.da16808fd1468b207fbc55c91e62bc27.txt  \n",
            "  inflating: train_data/veg3/test/labels/IMG_20230428_124953_jpg.rf.fce0431d0fad328291b7a3e36d6ccf6b.txt  \n",
            "  inflating: train_data/veg3/test/labels/IMG_20230428_125032_jpg.rf.3effcf51c88d7455bde48ac0b8e8d673.txt  \n",
            "  inflating: train_data/veg3/test/labels/IMG_20230428_125203_jpg.rf.ffebc4c9b0196360dc898ad6dfb0e523.txt  \n",
            "  inflating: train_data/veg3/test/labels/IMG_20230502_184616_jpg.rf.cbd0b63afd31d0117a31b429066fab6b.txt  \n",
            "  inflating: train_data/veg3/test/labels/IMG_20230502_185928_jpg.rf.9bd2705e6311fe94a519493353f32e99.txt  \n",
            "  inflating: train_data/veg3/test/labels/IMG_20230502_190243_jpg.rf.d80c5def1839a2d067947e1a5606e1bf.txt  \n",
            "   creating: train_data/veg3/train/\n",
            "   creating: train_data/veg3/train/images/\n",
            "  inflating: train_data/veg3/train/images/20230412_112406_jpg.rf.3d840d23353ad1bdb5c1ff489b9f0821.jpg  \n",
            "  inflating: train_data/veg3/train/images/20230412_112501_jpg.rf.9997a46b7ecc5b06e03c82e7d100c43b.jpg  \n",
            "  inflating: train_data/veg3/train/images/20230412_112534_jpg.rf.4869d8cf7c5de5d24fe4031c65ad4b6b.jpg  \n",
            "  inflating: train_data/veg3/train/images/20230412_112555_jpg.rf.e6fba680b67dba68d6196b51f384e4d8.jpg  \n",
            "  inflating: train_data/veg3/train/images/20230412_112629_jpg.rf.13649232fc3c1fd65e95a82765030100.jpg  \n",
            "  inflating: train_data/veg3/train/images/20230412_112654_jpg.rf.2b85976e671333fd2256dfa7a1158b0d.jpg  \n",
            "  inflating: train_data/veg3/train/images/20230412_112706_jpg.rf.b8fde6bda9cec45ed5394fc73556a510.jpg  \n",
            "  inflating: train_data/veg3/train/images/20230412_112922_jpg.rf.d29d8bc975f3dd509a4ce5a890e3f30e.jpg  \n",
            "  inflating: train_data/veg3/train/images/IMG-20230412-WA0002_jpg.rf.8a6f503bfead3cbf8b730900bcf246b9.jpg  \n",
            "  inflating: train_data/veg3/train/images/IMG-20230412-WA0003_jpg.rf.93c7484b984d3a2328e19ccbe1b1548c.jpg  \n",
            "  inflating: train_data/veg3/train/images/IMG-20230412-WA0005_jpg.rf.06670f308950d39f90944be80bc4bac2.jpg  \n",
            "  inflating: train_data/veg3/train/images/IMG-20230412-WA0006_jpg.rf.3c02b427a8be08adf8cc32f3e5b24ae4.jpg  \n",
            "  inflating: train_data/veg3/train/images/IMG-20230412-WA0007_jpg.rf.740b20d1c3653e36e6a68c555d9b04e0.jpg  \n",
            "  inflating: train_data/veg3/train/images/IMG-20230412-WA0008_jpg.rf.6cb9cd70a5694f2dfed4c0f68b34c4b9.jpg  \n",
            "  inflating: train_data/veg3/train/images/IMG-20230412-WA0009_jpg.rf.9b3f59204d75ccb70b31bc90f9b9f098.jpg  \n",
            "  inflating: train_data/veg3/train/images/IMG20230412113111_jpg.rf.54098dc1398924c7b893c36331403469.jpg  \n",
            "  inflating: train_data/veg3/train/images/IMG20230412113142_jpg.rf.3463bb10d8b23fd6c782238e495a3a39.jpg  \n",
            "  inflating: train_data/veg3/train/images/IMG20230412113149_jpg.rf.0356c7747433cb81e86eb0566124d92d.jpg  \n",
            "  inflating: train_data/veg3/train/images/IMG20230412113156_jpg.rf.eb7dd29619a0a1d67e3d41421cf1962f.jpg  \n",
            "  inflating: train_data/veg3/train/images/IMG20230412113214_jpg.rf.b1797f684a278569819d7a00ac6b2cf8.jpg  \n",
            "  inflating: train_data/veg3/train/images/IMG20230412113222_jpg.rf.e954daa2d5dd8edf21f6f5df9cc32d6d.jpg  \n",
            "  inflating: train_data/veg3/train/images/IMG20230412113307_jpg.rf.330db2ea24071149b27d644cbd5b8c68.jpg  \n",
            "  inflating: train_data/veg3/train/images/IMG20230412113311_jpg.rf.fb5315180b77b2d915bbe44f32f0fcce.jpg  \n",
            "  inflating: train_data/veg3/train/images/IMG20230412113437_jpg.rf.e855ad55c3259a30d795aa34cabdf15d.jpg  \n",
            "  inflating: train_data/veg3/train/images/IMG20230412113454_jpg.rf.7919d801d468164efb19bd670ce64775.jpg  \n",
            "  inflating: train_data/veg3/train/images/IMG20230412113505_jpg.rf.1fd3c44ddc27fa2f6f866c82f0f2bf16.jpg  \n",
            "  inflating: train_data/veg3/train/images/IMG20230412113554_jpg.rf.2f042daedd70879ff7d0ec960d7fc15a.jpg  \n",
            "  inflating: train_data/veg3/train/images/IMG20230412113602_jpg.rf.c494ef066dedb626dd82bcb1478526b5.jpg  \n",
            "  inflating: train_data/veg3/train/images/IMG20230412113609_jpg.rf.ae38e26e0e1bdb1dd81cce9c9099eb35.jpg  \n",
            "  inflating: train_data/veg3/train/images/IMG20230412113710_jpg.rf.28abbee90ed07e22a3ab0f6cbe253553.jpg  \n",
            "  inflating: train_data/veg3/train/images/IMG20230412113721_jpg.rf.8705a98ab1464b44df26858cdbaab220.jpg  \n",
            "  inflating: train_data/veg3/train/images/IMG20230412113730_jpg.rf.c607801bf776996353085c7d60aafd04.jpg  \n",
            "  inflating: train_data/veg3/train/images/IMG20230412113746_jpg.rf.beaef18ec29f14f37108e50d3659f4dc.jpg  \n",
            "  inflating: train_data/veg3/train/images/IMG20230412114026_jpg.rf.7e67ccbc94d3620140adb742659b74ec.jpg  \n",
            "  inflating: train_data/veg3/train/images/IMG20230412114056_jpg.rf.9b40dd85620f02d015e9dfe6ac4a7d60.jpg  \n",
            "  inflating: train_data/veg3/train/images/IMG20230412114101_jpg.rf.8f004689ea5f89674f051fafa0033f4c.jpg  \n",
            "  inflating: train_data/veg3/train/images/IMG20230412115625_jpg.rf.88c7a1fa237d9556e14519b601ccddb0.jpg  \n",
            "  inflating: train_data/veg3/train/images/IMG20230412115634_jpg.rf.e8e681029029c1b11db2bd3875c169dc.jpg  \n",
            "  inflating: train_data/veg3/train/images/IMG20230412115641_jpg.rf.681b31aa60dda9f0e3e8686167e40dfe.jpg  \n",
            "  inflating: train_data/veg3/train/images/IMG20230412115653_jpg.rf.4cd9971d8aff6e3ee859ed2e2a096347.jpg  \n",
            "  inflating: train_data/veg3/train/images/IMG20230412115658_jpg.rf.9bb030b6e6beff7c93975058eed8734a.jpg  \n",
            "  inflating: train_data/veg3/train/images/IMG20230412115705_jpg.rf.3efa56c121e3a29adecd7b25ddb66121.jpg  \n",
            "  inflating: train_data/veg3/train/images/IMG20230412115710_jpg.rf.93e8f2710e07af8905e3748b0b6f4a18.jpg  \n",
            "  inflating: train_data/veg3/train/images/IMG20230412115728_jpg.rf.e0cd1256a3ed110b71553b15ff9b3c09.jpg  \n",
            "  inflating: train_data/veg3/train/images/IMG20230412115733_jpg.rf.8419feab39c5c32bd876efe79162aa16.jpg  \n",
            "  inflating: train_data/veg3/train/images/IMG20230412115735_jpg.rf.b551bb169d8041783c9f9983da087f20.jpg  \n",
            "  inflating: train_data/veg3/train/images/IMG20230412115739_jpg.rf.ebf8c419ef8564700246d8ecf02bab2e.jpg  \n",
            "  inflating: train_data/veg3/train/images/IMG20230428125811_jpg.rf.b7546a65a3d25e70fda1b62d34d7a10f.jpg  \n",
            "  inflating: train_data/veg3/train/images/IMG20230428125813_jpg.rf.785ccd92bc173e3c0ac4995ae24069c2.jpg  \n",
            "  inflating: train_data/veg3/train/images/IMG20230428125826_jpg.rf.f44cabe590e73af139ad9a5e034a827d.jpg  \n",
            "  inflating: train_data/veg3/train/images/IMG20230428125847_jpg.rf.7bef3bee6d808886c2d199186d2677af.jpg  \n",
            "  inflating: train_data/veg3/train/images/IMG20230428125856_jpg.rf.d1e331321ddb28d587fcf50714032e3e.jpg  \n",
            "  inflating: train_data/veg3/train/images/IMG20230428125912_jpg.rf.82aff6208d9d2909223cf6de83494b55.jpg  \n",
            "  inflating: train_data/veg3/train/images/IMG20230428125919_jpg.rf.8e946a875b774ccd9a17dbe815534116.jpg  \n",
            "  inflating: train_data/veg3/train/images/IMG20230428125922_jpg.rf.5f408a65519c506b9bb17063c2ee1e01.jpg  \n",
            "  inflating: train_data/veg3/train/images/IMG20230428125935_jpg.rf.e1937a00f64c34289470bb153ed2df18.jpg  \n",
            "  inflating: train_data/veg3/train/images/IMG20230428125939_jpg.rf.929f8d1f0b7375ede25ffa11af76ea2e.jpg  \n",
            "  inflating: train_data/veg3/train/images/IMG20230428125951_jpg.rf.0620d88ea0a11d3b9ab98405ccee01d6.jpg  \n",
            "  inflating: train_data/veg3/train/images/IMG20230428125957_jpg.rf.aef3dd25fcbe47cbc5c78bda02425532.jpg  \n",
            "  inflating: train_data/veg3/train/images/IMG20230428130000_jpg.rf.73a7c1c6d5f2feb6f29ce644ea9c9857.jpg  \n",
            "  inflating: train_data/veg3/train/images/IMG20230428130013_jpg.rf.35991b21968e1d68198bf6aaa086326b.jpg  \n",
            "  inflating: train_data/veg3/train/images/IMG20230428130017_jpg.rf.94eb16ab9ed15b52477f4917d795f62b.jpg  \n",
            "  inflating: train_data/veg3/train/images/IMG20230428130028_jpg.rf.2e1d48f5a0c196a2ea59c7b5e1eee147.jpg  \n",
            "  inflating: train_data/veg3/train/images/IMG20230428130034_jpg.rf.944b209504d56e64e240bcf794e9a3b2.jpg  \n",
            "  inflating: train_data/veg3/train/images/IMG20230428130038_jpg.rf.53dd029da2b067b7941ef13416f6e591.jpg  \n",
            "  inflating: train_data/veg3/train/images/IMG20230428130048_jpg.rf.c6d9edaa5e2e3a5e36de8e9119dd1b62.jpg  \n",
            "  inflating: train_data/veg3/train/images/IMG20230428130130_jpg.rf.7fced3c197a425a8b7a325800804577c.jpg  \n",
            "  inflating: train_data/veg3/train/images/IMG20230428130132_jpg.rf.0d13a26ba64dd418a9211a839ccb6172.jpg  \n",
            "  inflating: train_data/veg3/train/images/IMG20230428130135_jpg.rf.785a502e1c75ff1218df8fb347baee22.jpg  \n",
            "  inflating: train_data/veg3/train/images/IMG20230428130139_jpg.rf.952bd9beafa3b1b41ad81faa2a2f2053.jpg  \n",
            "  inflating: train_data/veg3/train/images/IMG20230428130144_jpg.rf.0f8551b7d2b411233dd805dbdfe865bd.jpg  \n",
            "  inflating: train_data/veg3/train/images/IMG20230428130149_jpg.rf.cd40a42751fafad634ce5afc459c9830.jpg  \n",
            "  inflating: train_data/veg3/train/images/IMG20230428130741_jpg.rf.30f83600a558c9c1f3caf41c24b6017b.jpg  \n",
            "  inflating: train_data/veg3/train/images/IMG20230428130756_jpg.rf.c5dde9e419910db06ffc132116ee7c1b.jpg  \n",
            "  inflating: train_data/veg3/train/images/IMG20230428130802_jpg.rf.33c45964942617afe9dc03b75c18eb13.jpg  \n",
            "  inflating: train_data/veg3/train/images/IMG20230502125948_jpg.rf.da2b4d0284a9bedb3a8ee0f61f3e8ad5.jpg  \n",
            "  inflating: train_data/veg3/train/images/IMG20230502130004_jpg.rf.1c0dafbc45bde3e3bd3d2e19064e7481.jpg  \n",
            "  inflating: train_data/veg3/train/images/IMG20230502130012_jpg.rf.44e371b679d922158eb051a75c1f1417.jpg  \n",
            "  inflating: train_data/veg3/train/images/IMG20230502130025_jpg.rf.11a4020c0dbb39320b6a64567fb4cfd0.jpg  \n",
            "  inflating: train_data/veg3/train/images/IMG20230502130032_jpg.rf.4c0fe89a99f4d8e98de6638a96c91458.jpg  \n",
            "  inflating: train_data/veg3/train/images/IMG20230502130110_jpg.rf.373a5c60eb68d53ef4c2bd94fe31d644.jpg  \n",
            "  inflating: train_data/veg3/train/images/IMG20230502130132_jpg.rf.418f16d312d4c0e99bbe8fdb1a4e0b2f.jpg  \n",
            "  inflating: train_data/veg3/train/images/IMG20230502130223_jpg.rf.72749e0cb4899ca48a6c4d38010b286c.jpg  \n",
            "  inflating: train_data/veg3/train/images/IMG20230502130232_jpg.rf.20fb40b85fad8a739e6af8dd53b7b9ec.jpg  \n",
            "  inflating: train_data/veg3/train/images/IMG20230502130236_jpg.rf.f87040dc96839e437d4a6c08f19845fd.jpg  \n",
            "  inflating: train_data/veg3/train/images/IMG20230502130247_jpg.rf.0a8f45e1818708c6083cbc69cb767fa1.jpg  \n",
            "  inflating: train_data/veg3/train/images/IMG20230502130300_jpg.rf.9139155834f13d069740fa77c33f50da.jpg  \n",
            "  inflating: train_data/veg3/train/images/IMG20230502130319_jpg.rf.b075b54fad3b7fdff6fc0f41a4a4917f.jpg  \n",
            "  inflating: train_data/veg3/train/images/IMG20230502130328_jpg.rf.78db2c357ddad319d76134c58f5ebca2.jpg  \n",
            "  inflating: train_data/veg3/train/images/IMG20230502130333_jpg.rf.5092784b356d84fcd4ba5262d5137a3d.jpg  \n",
            "  inflating: train_data/veg3/train/images/IMG20230502130408_jpg.rf.f12e000779516cd9e4a7b0b247994014.jpg  \n",
            "  inflating: train_data/veg3/train/images/IMG20230502130413_jpg.rf.e08e35c9989c84356644c0a86447a5b6.jpg  \n",
            "  inflating: train_data/veg3/train/images/IMG20230502130421_jpg.rf.6e2b1b5bddb11016658afe2fb1435a9f.jpg  \n",
            "  inflating: train_data/veg3/train/images/IMG20230502130430_jpg.rf.6610fac4b7f1bcead3680c080fc25e11.jpg  \n",
            "  inflating: train_data/veg3/train/images/IMG20230502130439_jpg.rf.ff00093c55803f7552db2fa85bfeb32f.jpg  \n",
            "  inflating: train_data/veg3/train/images/IMG20230502130447_jpg.rf.d31906f97f3df5c27e99c58fbded8626.jpg  \n",
            "  inflating: train_data/veg3/train/images/IMG20230502130501_jpg.rf.d3433e4633bd0a85ac709d2d5cd320e6.jpg  \n",
            "  inflating: train_data/veg3/train/images/IMG20230502130510_jpg.rf.de4ff53c3c8af0413906da35fb219adb.jpg  \n",
            "  inflating: train_data/veg3/train/images/IMG20230502130653_jpg.rf.f9d714711de84368a669c76156ce9231.jpg  \n",
            "  inflating: train_data/veg3/train/images/IMG20230502130700_jpg.rf.b0c499824643a32e333191d3ffbbb640.jpg  \n",
            "  inflating: train_data/veg3/train/images/IMG20230502130731_jpg.rf.44d98b82b46947babb9709ace7a79b60.jpg  \n",
            "  inflating: train_data/veg3/train/images/IMG20230502130735_jpg.rf.d07ab7dcd8422484520636d579fef37e.jpg  \n",
            "  inflating: train_data/veg3/train/images/IMG20230502130744_jpg.rf.6796aadf65098e8bd96177289461a0c3.jpg  \n",
            "  inflating: train_data/veg3/train/images/IMG20230502130751_jpg.rf.dfa2d1fd49603752c75291fca08e3c4e.jpg  \n",
            "  inflating: train_data/veg3/train/images/IMG20230502130756_jpg.rf.7e6bf6c04bad72bff7f8ca09b7504534.jpg  \n",
            "  inflating: train_data/veg3/train/images/IMG20230502130829_jpg.rf.e734b3832a3cc29b7395c076deb0e130.jpg  \n",
            "  inflating: train_data/veg3/train/images/IMG20230502130942_jpg.rf.f08df3cbbddcf0ca1e1ab5f88e3e2010.jpg  \n",
            "  inflating: train_data/veg3/train/images/IMG20230502130955_jpg.rf.cea5a32b3d29b9e8d94fb358eeef7f15.jpg  \n",
            "  inflating: train_data/veg3/train/images/IMG20230502131012_jpg.rf.e6195871c63de46a00e0ac84d084c2d0.jpg  \n",
            "  inflating: train_data/veg3/train/images/IMG20230502131051_jpg.rf.20569d42b920bd95a032c8884bf039b6.jpg  \n",
            "  inflating: train_data/veg3/train/images/IMG20230502131108_jpg.rf.498a5e17d2fef0cdf20f837c57f8375c.jpg  \n",
            "  inflating: train_data/veg3/train/images/IMG20230502131244_jpg.rf.057e9b5b5c4ac38abfb1b4abeef70919.jpg  \n",
            "  inflating: train_data/veg3/train/images/IMG20230502131248_jpg.rf.581ac2963939c4fdc5c649bca8e9b68d.jpg  \n",
            "  inflating: train_data/veg3/train/images/IMG20230502131312_jpg.rf.81f045902a2eca85089c107b4abec351.jpg  \n",
            "  inflating: train_data/veg3/train/images/IMG20230502131402_jpg.rf.b80ef56c5dbea9ad5d880465ca0fb022.jpg  \n",
            "  inflating: train_data/veg3/train/images/IMG20230502131414_jpg.rf.4bce77ff69ac729257ea90245ad2792d.jpg  \n",
            "  inflating: train_data/veg3/train/images/IMG20230502131422_jpg.rf.2049e215598250ac91ef1ec6c858f5fd.jpg  \n",
            "  inflating: train_data/veg3/train/images/IMG20230502131602_jpg.rf.9c5c5d81aa2db791daef3b8a1b0b879a.jpg  \n",
            "  inflating: train_data/veg3/train/images/IMG20230502131605_jpg.rf.83ac76d28c077f92a82147c57b18c72d.jpg  \n",
            "  inflating: train_data/veg3/train/images/IMG20230502131608_jpg.rf.edd26ce60e5deed81b3c1043aa8d7498.jpg  \n",
            "  inflating: train_data/veg3/train/images/IMG20230502131619_jpg.rf.337d82f561a73a92261531cf6234c940.jpg  \n",
            "  inflating: train_data/veg3/train/images/IMG20230502131623_jpg.rf.f68a96b8cf5f17666f6b74a94fa4a03c.jpg  \n",
            "  inflating: train_data/veg3/train/images/IMG20230502131650_jpg.rf.d73c450b777de02b8633c7e9e891f7e3.jpg  \n",
            "  inflating: train_data/veg3/train/images/IMG20230502131703_jpg.rf.0794a729ee72a8cdc3be29af3ead7cc3.jpg  \n",
            "  inflating: train_data/veg3/train/images/IMG20230502131726_jpg.rf.515b24e280c0901e39de2e96a8fb0cf6.jpg  \n",
            "  inflating: train_data/veg3/train/images/IMG20230502131802_jpg.rf.aa0abc52d87ed1aa7b2b421b4a0284dd.jpg  \n",
            "  inflating: train_data/veg3/train/images/IMG20230502131805_jpg.rf.4ebdd487be069dbd09cd6861399a84c3.jpg  \n",
            "  inflating: train_data/veg3/train/images/IMG20230502131809_jpg.rf.e0bc84dddabd9ca5660e0aa4f2666d0a.jpg  \n",
            "  inflating: train_data/veg3/train/images/IMG20230502131833_jpg.rf.680c4f9e3f8e90321b0b0891d84010c6.jpg  \n",
            "  inflating: train_data/veg3/train/images/IMG20230502131851_jpg.rf.2483285f4d8d3ace4c50621ae86f092c.jpg  \n",
            "  inflating: train_data/veg3/train/images/IMG20230502131856_jpg.rf.798e17816037ab00a842800f9f051df8.jpg  \n",
            "  inflating: train_data/veg3/train/images/IMG20230502132307_jpg.rf.36f0bd9ae7ebad6c87037f1dd9cddc00.jpg  \n",
            "  inflating: train_data/veg3/train/images/IMG20230502132314_jpg.rf.1469412d0f8b1ef9dba17bdd3c7405e4.jpg  \n",
            "  inflating: train_data/veg3/train/images/IMG20230502132318_jpg.rf.0f5eec61b8ff533991a091f123de67db.jpg  \n",
            "  inflating: train_data/veg3/train/images/IMG20230502132329_jpg.rf.fe6cc0d4e4bbcc6760bb40fb22fd1f01.jpg  \n",
            "  inflating: train_data/veg3/train/images/IMG20230502132355_jpg.rf.963aa5ab5ef9877aa6ba3160bdf773ff.jpg  \n",
            "  inflating: train_data/veg3/train/images/IMG20230502132424_jpg.rf.743e66d28c18e43cabb488751f7fec12.jpg  \n",
            "  inflating: train_data/veg3/train/images/IMG20230502132428_jpg.rf.270fff207aaf3e009eadd494325f16d2.jpg  \n",
            "  inflating: train_data/veg3/train/images/IMG20230502132531_jpg.rf.6e21a69c15009e3a5f0fdef6223088c5.jpg  \n",
            "  inflating: train_data/veg3/train/images/IMG20230502132543_jpg.rf.d162db927e54ce6879be9e9872740025.jpg  \n",
            "  inflating: train_data/veg3/train/images/IMG20230502155342_jpg.rf.3cbe27763a41f670f84cda14bd11edae.jpg  \n",
            "  inflating: train_data/veg3/train/images/IMG20230502155358_jpg.rf.55d3fb6e24622a7cfe71d6f4adc8f6b2.jpg  \n",
            "  inflating: train_data/veg3/train/images/IMG20230502155412_jpg.rf.9ca97575894281076eb17b6e27e6c482.jpg  \n",
            "  inflating: train_data/veg3/train/images/IMG20230502155420_jpg.rf.ac9aae6031e57f2567b0e0f3178119dc.jpg  \n",
            "  inflating: train_data/veg3/train/images/IMG20230502155425_jpg.rf.05c93119ed373763be8739d1cb707dbd.jpg  \n",
            "  inflating: train_data/veg3/train/images/IMG20230502155429_jpg.rf.f39373b31fd57b5f24769c7e867aca1d.jpg  \n",
            "  inflating: train_data/veg3/train/images/IMG20230502155433_jpg.rf.412419574fbd68e404fdb561761c2415.jpg  \n",
            "  inflating: train_data/veg3/train/images/IMG20230502155629_jpg.rf.d911fa6f79ba342088fcd23e87d4af6b.jpg  \n",
            "  inflating: train_data/veg3/train/images/IMG20230502155639_jpg.rf.79f6e1480a7810e6c8da3cb70aa0b58b.jpg  \n",
            "  inflating: train_data/veg3/train/images/IMG20230502155642_jpg.rf.f5088562d53c293b3888d8b6d9ecde15.jpg  \n",
            "  inflating: train_data/veg3/train/images/IMG20230502155647_jpg.rf.3e1e27791cf5a1c2ff4ccefd942f209d.jpg  \n",
            "  inflating: train_data/veg3/train/images/IMG20230502155655_jpg.rf.a1ab996ff5238f4ed539162fa83677c2.jpg  \n",
            "  inflating: train_data/veg3/train/images/IMG20230502155706_jpg.rf.079cac5800d8449fbb8fd59547fa599e.jpg  \n",
            "  inflating: train_data/veg3/train/images/IMG20230502155731_jpg.rf.6ce3510ce79bbd9ed78373f451d3a27c.jpg  \n",
            "  inflating: train_data/veg3/train/images/IMG20230502155737_jpg.rf.3815b6e5872dc823a039bbb6b3d88c86.jpg  \n",
            "  inflating: train_data/veg3/train/images/IMG20230502155744_jpg.rf.8384aa90267841030dbc6fa77db52476.jpg  \n",
            "  inflating: train_data/veg3/train/images/IMG20230502155758_jpg.rf.834f127ff8b8df2d107d85c7b3338c30.jpg  \n",
            "  inflating: train_data/veg3/train/images/IMG20230502155813_jpg.rf.eefd41d0fa6dc67edad2ccd303660f13.jpg  \n",
            "  inflating: train_data/veg3/train/images/IMG20230502155827_jpg.rf.6e2b24d49ac6ba597fa24dcc4363bf63.jpg  \n",
            "  inflating: train_data/veg3/train/images/IMG20230502155922_jpg.rf.471a31bc85c5b5285c8046274bd87b58.jpg  \n",
            "  inflating: train_data/veg3/train/images/IMG20230502155926_jpg.rf.c70b2058a6b21cd922467f7116d2a1c0.jpg  \n",
            "  inflating: train_data/veg3/train/images/IMG20230502155940_jpg.rf.d71efd7b6e94d66e0f281a4e57a26513.jpg  \n",
            "  inflating: train_data/veg3/train/images/IMG20230502155953_jpg.rf.24fe3f7359e905051df3d36f9f6dc992.jpg  \n",
            "  inflating: train_data/veg3/train/images/IMG20230502160015_jpg.rf.90cabdfddfecbf1561bad4e26f2d7e77.jpg  \n",
            "  inflating: train_data/veg3/train/images/IMG20230502160021_jpg.rf.494efbe9a610f9adfbdd94a4e762a145.jpg  \n",
            "  inflating: train_data/veg3/train/images/IMG20230502160114_jpg.rf.f8d0cce5db177155f89a3ecad48ffce6.jpg  \n",
            "  inflating: train_data/veg3/train/images/IMG20230502160123_jpg.rf.e4f21f0c6f87ff9eb38d1dd3dac95d34.jpg  \n",
            "  inflating: train_data/veg3/train/images/IMG20230502160344_jpg.rf.4c4b69997c3055684785e04d253bf472.jpg  \n",
            "  inflating: train_data/veg3/train/images/IMG20230502161054_jpg.rf.2ba658196db34328ca10aed0c6014535.jpg  \n",
            "  inflating: train_data/veg3/train/images/IMG20230502161101_jpg.rf.7e522b0a3b44fea9f19a66d389dab120.jpg  \n",
            "  inflating: train_data/veg3/train/images/IMG20230502161103_jpg.rf.088666e634fd4ca4e7e39b8fd639a2be.jpg  \n",
            "  inflating: train_data/veg3/train/images/IMG20230502161105_jpg.rf.430fa6080e7f39137014c684c4360db1.jpg  \n",
            "  inflating: train_data/veg3/train/images/IMG20230502161113_jpg.rf.b19c57d24c773bf6738f3e47d75ea1d5.jpg  \n",
            "  inflating: train_data/veg3/train/images/IMG20230502161118_jpg.rf.d9950bde6224be7c70b4ca0dc2495415.jpg  \n",
            "  inflating: train_data/veg3/train/images/IMG20230502161126_jpg.rf.9acc1e7ead8845ffe530cbfc618b8631.jpg  \n",
            "  inflating: train_data/veg3/train/images/IMG20230502161130_jpg.rf.0e34985969bb575b82d722ac4899c3ce.jpg  \n",
            "  inflating: train_data/veg3/train/images/IMG20230502161142_jpg.rf.67d6d8f17094f89f2a700b8dadb134e4.jpg  \n",
            "  inflating: train_data/veg3/train/images/IMG20230502161144_jpg.rf.3a39c56b4167e84084976ffe17f6df3f.jpg  \n",
            "  inflating: train_data/veg3/train/images/IMG20230502161149_jpg.rf.cff4cf87b98d9fe59446293acb125819.jpg  \n",
            "  inflating: train_data/veg3/train/images/IMG20230502161154_jpg.rf.6380d87b9c1c29229bb3d03dbca5e785.jpg  \n",
            "  inflating: train_data/veg3/train/images/IMG20230502161157_jpg.rf.88d684527382be9e7c8f7a9113814406.jpg  \n",
            "  inflating: train_data/veg3/train/images/IMG20230502161201_jpg.rf.e94a480382181f4ccd0347403f9f7e87.jpg  \n",
            "  inflating: train_data/veg3/train/images/IMG20230502161204_jpg.rf.79f0b314020fa56d3703457991477231.jpg  \n",
            "  inflating: train_data/veg3/train/images/IMG20230502161208_jpg.rf.35d493f8a6e1b3722085553678224d50.jpg  \n",
            "  inflating: train_data/veg3/train/images/IMG20230502161219_jpg.rf.68df6a5d49266ba13a1061d5fa4e4b65.jpg  \n",
            "  inflating: train_data/veg3/train/images/IMG20230502161226_jpg.rf.3fe4f60d8ad38bca1fab16695f5d629a.jpg  \n",
            "  inflating: train_data/veg3/train/images/IMG20230502161242_jpg.rf.bf442ac9a698e57f04620ef5cbb776f2.jpg  \n",
            "  inflating: train_data/veg3/train/images/IMG20230502161244_jpg.rf.f6be76ecfb1e80c9e91e093fc6f9be60.jpg  \n",
            "  inflating: train_data/veg3/train/images/IMG20230502161258_jpg.rf.62dd370c6e5a3181669afa6baf9ca084.jpg  \n",
            "  inflating: train_data/veg3/train/images/IMG20230502161303_jpg.rf.eb46f7d52999961ef892c7371c4d0855.jpg  \n",
            "  inflating: train_data/veg3/train/images/IMG20230502161316_jpg.rf.7b8f3aea59865d817a04d0bd07a52d30.jpg  \n",
            "  inflating: train_data/veg3/train/images/IMG20230502161318_jpg.rf.f0b76688b7a8524b2c153aaf0e6c78dc.jpg  \n",
            "  inflating: train_data/veg3/train/images/IMG20230502161320_jpg.rf.f0a9216d86e57b184236c2e4477c4b0f.jpg  \n",
            "  inflating: train_data/veg3/train/images/IMG20230502161323_jpg.rf.ceb779ef877239c184ba2bcb562c5db1.jpg  \n",
            "  inflating: train_data/veg3/train/images/IMG20230502161607_jpg.rf.9cd666111760dbaa255c9c7584947b86.jpg  \n",
            "  inflating: train_data/veg3/train/images/IMG20230502161620_jpg.rf.62007cb84a3b2e6e1c3ae9e12a5b6336.jpg  \n",
            "  inflating: train_data/veg3/train/images/IMG20230502161624_jpg.rf.0b8593af6d3996d13a7a0d1f461f846c.jpg  \n",
            "  inflating: train_data/veg3/train/images/IMG20230502161628_jpg.rf.85db7f295a2b0530ab373f3cfaf72ec3.jpg  \n",
            "  inflating: train_data/veg3/train/images/IMG20230502161631_jpg.rf.495826ec2e668df9a0f5fb46f3394c27.jpg  \n",
            "  inflating: train_data/veg3/train/images/IMG20230502161646_jpg.rf.b0519f7ab94fe8013d08fbb957d4df23.jpg  \n",
            "  inflating: train_data/veg3/train/images/IMG20230502161655_jpg.rf.510e4870ef749b06141420a95dbb43f9.jpg  \n",
            "  inflating: train_data/veg3/train/images/IMG20230502162151_jpg.rf.ad5333f2e530a5add619b00f0d5ded84.jpg  \n",
            "  inflating: train_data/veg3/train/images/IMG20230502162158_jpg.rf.e9b895dd1d3995cea21409dac51b6dad.jpg  \n",
            "  inflating: train_data/veg3/train/images/IMG20230502162200_jpg.rf.bc99a908edfcd991d26e5d2cf35b75cf.jpg  \n",
            "  inflating: train_data/veg3/train/images/IMG20230502162206_jpg.rf.bf55741cc022f1378badc31fcb2a26a2.jpg  \n",
            "  inflating: train_data/veg3/train/images/IMG20230502162215_jpg.rf.13811aa6ed796a3966000341b695c970.jpg  \n",
            "  inflating: train_data/veg3/train/images/IMG20230502162253_jpg.rf.e8d15012b58a26c503574b7449bbb337.jpg  \n",
            "  inflating: train_data/veg3/train/images/IMG20230502162257_jpg.rf.cf69b7487378f92017af68140fe54ef2.jpg  \n",
            "  inflating: train_data/veg3/train/images/IMG20230502162301_jpg.rf.6943a29ae3c5b389c9014cc339096b86.jpg  \n",
            "  inflating: train_data/veg3/train/images/IMG20230502162304_jpg.rf.5addf237d28779320397043f84304386.jpg  \n",
            "  inflating: train_data/veg3/train/images/IMG20230502162311_jpg.rf.cabe23e2418b0aa3bfdc3641f03a5743.jpg  \n",
            "  inflating: train_data/veg3/train/images/IMG20230502162313_jpg.rf.c91395f1d4237e5b2d9ddcbc34bf935f.jpg  \n",
            "  inflating: train_data/veg3/train/images/IMG20230502162446_jpg.rf.915a15d41ff1c855a69ff615204ea366.jpg  \n",
            "  inflating: train_data/veg3/train/images/IMG20230502162453_jpg.rf.9e2e609fa33a820d78aa5e398bd13b8d.jpg  \n",
            "  inflating: train_data/veg3/train/images/IMG20230502162455_jpg.rf.fbe26e06fc6ba7c57c6c28d8d071f43e.jpg  \n",
            "  inflating: train_data/veg3/train/images/IMG20230502162459_jpg.rf.81f74055865c78e97bd8072da8905c88.jpg  \n",
            "  inflating: train_data/veg3/train/images/IMG20230502162502_jpg.rf.68a2dc0e49bf675a3c6bb5d473f12913.jpg  \n",
            "  inflating: train_data/veg3/train/images/IMG20230502162507_jpg.rf.7a25536548a4eebb93224877951b5214.jpg  \n",
            "  inflating: train_data/veg3/train/images/IMG20230502162513_jpg.rf.0b3f2429c534ecc0ad84f742bf37ee9d.jpg  \n",
            "  inflating: train_data/veg3/train/images/IMG20230502162522_jpg.rf.ccef69e8c9ad4d421e58b643c417f1bd.jpg  \n",
            "  inflating: train_data/veg3/train/images/IMG20230502162546_jpg.rf.26d7e4eee9936c5df7d1fc078ca31a06.jpg  \n",
            "  inflating: train_data/veg3/train/images/IMG20230502162554_jpg.rf.bd7139c2268738bbc09e686fa38df7b0.jpg  \n",
            "  inflating: train_data/veg3/train/images/IMG20230502162558_jpg.rf.ae7e02a286e34c80c4a659d68fc5b8df.jpg  \n",
            "  inflating: train_data/veg3/train/images/IMG20230502162601_jpg.rf.f3345f5709f20fd64f916966028e60de.jpg  \n",
            "  inflating: train_data/veg3/train/images/IMG20230502162604_jpg.rf.8d7f50810a69c7260631d7754324c021.jpg  \n",
            "  inflating: train_data/veg3/train/images/IMG20230502162611_jpg.rf.78df04334c11e5d762ed0320dfe7da30.jpg  \n",
            "  inflating: train_data/veg3/train/images/IMG20230502162616_jpg.rf.b21ae9970da5f7d2e23e36dc93938aa8.jpg  \n",
            "  inflating: train_data/veg3/train/images/IMG20230502162622_jpg.rf.c8e6e5ad555396d902f734f2050b23b0.jpg  \n",
            "  inflating: train_data/veg3/train/images/IMG20230502162638_jpg.rf.8b531f7134bf6b1c52222297eba683c6.jpg  \n",
            "  inflating: train_data/veg3/train/images/IMG20230502162641_jpg.rf.41390cc4066bab758a1e91afef11fae7.jpg  \n",
            "  inflating: train_data/veg3/train/images/IMG20230502163201_jpg.rf.d872f862e6926f7d70c4cc22d7d7c9f4.jpg  \n",
            "  inflating: train_data/veg3/train/images/IMG20230502163217_jpg.rf.8381154d2e4285bdeda2a08cc8ab12df.jpg  \n",
            "  inflating: train_data/veg3/train/images/IMG20230502163221_jpg.rf.1012493ec2654ca63b0f264ed92b8de3.jpg  \n",
            "  inflating: train_data/veg3/train/images/IMG20230502163225_jpg.rf.98b0f636e8c7b382ea834f10130f088c.jpg  \n",
            "  inflating: train_data/veg3/train/images/IMG20230502163238_jpg.rf.69460bdf5929e2dc2ec0d89ee8b5ba3b.jpg  \n",
            "  inflating: train_data/veg3/train/images/IMG20230502163246_jpg.rf.525062d253af5b6b44e052daa011ef6c.jpg  \n",
            "  inflating: train_data/veg3/train/images/IMG20230502163257_jpg.rf.6d21bf9d2860549eea8dbe2f8d5cff5e.jpg  \n",
            "  inflating: train_data/veg3/train/images/IMG20230502163308_jpg.rf.70d809d8449147a9301cee1dc95e2c06.jpg  \n",
            "  inflating: train_data/veg3/train/images/IMG20230502163314_jpg.rf.a7bb30a5ce097fe9a2feb47f6812c230.jpg  \n",
            "  inflating: train_data/veg3/train/images/IMG20230502163320_jpg.rf.b3286d53d1bf2d9cd13ede6fbb8c756f.jpg  \n",
            "  inflating: train_data/veg3/train/images/IMG20230502163357_jpg.rf.c5a87b02d46c2bf7e2dbbe4d624e350a.jpg  \n",
            "  inflating: train_data/veg3/train/images/IMG20230502163401_jpg.rf.e2804e4272813bd26ac45a399eade2b7.jpg  \n",
            "  inflating: train_data/veg3/train/images/IMG20230502163417_jpg.rf.b312ab77d321e51f0f321089c9b5a8cb.jpg  \n",
            "  inflating: train_data/veg3/train/images/IMG20230502163425_jpg.rf.6be547c51ceea55589552e931ed436c2.jpg  \n",
            "  inflating: train_data/veg3/train/images/IMG20230502163435_jpg.rf.4edfe1f66c8d38b8e217b145451052c1.jpg  \n",
            "  inflating: train_data/veg3/train/images/IMG20230502163505_jpg.rf.76914a2af67f6ef758a6880a8aa06124.jpg  \n",
            "  inflating: train_data/veg3/train/images/IMG20230502163510_jpg.rf.dfaf311de57a3fb6517003ece40b5588.jpg  \n",
            "  inflating: train_data/veg3/train/images/IMG20230502163538_jpg.rf.09a799f77ae89748f5210752be593018.jpg  \n",
            "  inflating: train_data/veg3/train/images/IMG20230502163540_jpg.rf.79e2475323273f97be05b7e2702edb92.jpg  \n",
            "  inflating: train_data/veg3/train/images/IMG20230502163551_jpg.rf.aacfb20e1124979b548c2cd644cbe558.jpg  \n",
            "  inflating: train_data/veg3/train/images/IMG20230502163558_jpg.rf.ba7345f6295bd913da4fb0573c6f995b.jpg  \n",
            "  inflating: train_data/veg3/train/images/IMG20230502163607_jpg.rf.7e945889ead0265401c51723ed5c7961.jpg  \n",
            "  inflating: train_data/veg3/train/images/IMG20230502163929_jpg.rf.92daf8ab4c9104d411c99b153acd4a96.jpg  \n",
            "  inflating: train_data/veg3/train/images/IMG20230502164010_jpg.rf.d9f3141ffd7b78d101f331a1b10868fc.jpg  \n",
            "  inflating: train_data/veg3/train/images/IMG20230502164014_jpg.rf.c48d8dbfdaebcbb59e39b89a89334daa.jpg  \n",
            "  inflating: train_data/veg3/train/images/IMG20230502164026_jpg.rf.56ee6156083b9ce939e5ef6b450307ce.jpg  \n",
            "  inflating: train_data/veg3/train/images/IMG20230502164033_jpg.rf.1a8e7659db3d4ebd8f9e186da1ea4e0f.jpg  \n",
            "  inflating: train_data/veg3/train/images/IMG20230502164038_jpg.rf.27e110a07a2e3c83f218368a374b1d69.jpg  \n",
            "  inflating: train_data/veg3/train/images/IMG20230502164050_jpg.rf.87a6d8c2b7dedf4374c003afcc614ebd.jpg  \n",
            "  inflating: train_data/veg3/train/images/IMG20230502164056_jpg.rf.ed154917a0242b5ab28709a29194d82f.jpg  \n",
            "  inflating: train_data/veg3/train/images/IMG20230502164102_jpg.rf.251de3aa6a455148db4c7f29e7d5edc2.jpg  \n",
            "  inflating: train_data/veg3/train/images/IMG20230502164411_jpg.rf.cd7c6149f01b4b733a7f8806e7576c12.jpg  \n",
            "  inflating: train_data/veg3/train/images/IMG20230502164417_jpg.rf.33bbbfbd3136d350ca4f495b2889442f.jpg  \n",
            "  inflating: train_data/veg3/train/images/IMG20230502164433_jpg.rf.80de187ac5966035c2470ae115738671.jpg  \n",
            "  inflating: train_data/veg3/train/images/IMG20230502164451_jpg.rf.e14eb20c046ecaa7b19b4ab2181504cd.jpg  \n",
            "  inflating: train_data/veg3/train/images/IMG20230502164457_jpg.rf.0c4b64cc4999d3b40cac4a3a876952c7.jpg  \n",
            "  inflating: train_data/veg3/train/images/IMG20230502164501_jpg.rf.5516731a86636ba6d5c4c068a0d9b2ea.jpg  \n",
            "  inflating: train_data/veg3/train/images/IMG20230502164539_jpg.rf.fdd96f40b05c25cbf9334bd963e927bb.jpg  \n",
            "  inflating: train_data/veg3/train/images/IMG20230502164549_jpg.rf.40eea8644c68935e4051c498fa8aea66.jpg  \n",
            "  inflating: train_data/veg3/train/images/IMG20230502164551_jpg.rf.5e9d1a66f2a2881e131d637748083577.jpg  \n",
            "  inflating: train_data/veg3/train/images/IMG20230502164553_jpg.rf.61decc3ece636427835840f53e4a8bdd.jpg  \n",
            "  inflating: train_data/veg3/train/images/IMG20230502164607_jpg.rf.378fdb066bb510fe3354c97565c814ec.jpg  \n",
            "  inflating: train_data/veg3/train/images/IMG20230502164610_jpg.rf.9a9711709cf4868c38454d81dc5ae018.jpg  \n",
            "  inflating: train_data/veg3/train/images/IMG20230502164613_jpg.rf.4773bd7817f859e54c9e57e2e360ba31.jpg  \n",
            "  inflating: train_data/veg3/train/images/IMG20230502164617_jpg.rf.aaedf5e84b075da29380fd911b5bc182.jpg  \n",
            "  inflating: train_data/veg3/train/images/IMG20230502164626_jpg.rf.0b3dd21c3e72796d9a0d53f491e64a0c.jpg  \n",
            "  inflating: train_data/veg3/train/images/IMG20230502164629_jpg.rf.f47906693f28cc0c808d94da1089de66.jpg  \n",
            "  inflating: train_data/veg3/train/images/IMG20230502164633_jpg.rf.b044034608424171674a01f6458d7814.jpg  \n",
            "  inflating: train_data/veg3/train/images/IMG20230502164635_jpg.rf.18c54d5d6c2f58d3c310b7d24dab2abf.jpg  \n",
            "  inflating: train_data/veg3/train/images/IMG20230502164638_jpg.rf.c2a70e265aa59bdccc6b4bb557b2e0c0.jpg  \n",
            "  inflating: train_data/veg3/train/images/IMG20230502164642_jpg.rf.ff7f2400c9161117e5922458048dafbe.jpg  \n",
            "  inflating: train_data/veg3/train/images/IMG20230502164653_jpg.rf.414cdfd754fdc3882c012ab64c2cdb65.jpg  \n",
            "  inflating: train_data/veg3/train/images/IMG20230502164710_jpg.rf.53a2219a618e478af21932c66125eb61.jpg  \n",
            "  inflating: train_data/veg3/train/images/IMG20230502164712_jpg.rf.8d103f57e14353a422c9576296a94ef2.jpg  \n",
            "  inflating: train_data/veg3/train/images/IMG20230502164722_jpg.rf.a96977623e043f1a866529a44cd5dc0d.jpg  \n",
            "  inflating: train_data/veg3/train/images/IMG20230502164728_jpg.rf.826fbfe5a683cab62d82e04eee78ecc7.jpg  \n",
            "  inflating: train_data/veg3/train/images/IMG20230502164856_jpg.rf.926d64820be2765e1a4559df9277df43.jpg  \n",
            "  inflating: train_data/veg3/train/images/IMG20230502164859_jpg.rf.f3685745d83c9c6d2c74a7f0a31570ab.jpg  \n",
            "  inflating: train_data/veg3/train/images/IMG20230502164902_jpg.rf.4d7078b11b6989c9028eb81e9fa56967.jpg  \n",
            "  inflating: train_data/veg3/train/images/IMG20230502164907_jpg.rf.3a0c35d2b8abfcc922cb351ce7f7cd2c.jpg  \n",
            "  inflating: train_data/veg3/train/images/IMG20230502164928_jpg.rf.2854a746f69e760338c1131acbc316ee.jpg  \n",
            "  inflating: train_data/veg3/train/images/IMG20230502164938_jpg.rf.7625f86f5459fb4cfa7fc91bfaad7dc5.jpg  \n",
            "  inflating: train_data/veg3/train/images/IMG20230502164947_jpg.rf.b06a5fba67c62856c6815aaef134cf1f.jpg  \n",
            "  inflating: train_data/veg3/train/images/IMG20230502165802_jpg.rf.3f8093faebcf9b91bca86f4c20161d51.jpg  \n",
            "  inflating: train_data/veg3/train/images/IMG20230502165804_jpg.rf.07663b28b74d095d3161981bc4cd29bb.jpg  \n",
            "  inflating: train_data/veg3/train/images/IMG20230502165808_jpg.rf.336ceada2e9fe9d23c449808715a1a01.jpg  \n",
            "  inflating: train_data/veg3/train/images/IMG20230502165813_jpg.rf.9d0682e5170556c082b844642bf47f50.jpg  \n",
            "  inflating: train_data/veg3/train/images/IMG20230502165824_jpg.rf.2da24391b46f9c78a94f91ea5b356508.jpg  \n",
            "  inflating: train_data/veg3/train/images/IMG20230502165826_jpg.rf.b2e52b475e451dad62f8b004d4ded649.jpg  \n",
            "  inflating: train_data/veg3/train/images/IMG20230502165839_jpg.rf.9dd67ede2ccfad09873b96a04d74ad83.jpg  \n",
            "  inflating: train_data/veg3/train/images/IMG20230502165845_jpg.rf.fdabfbca227665b16e648d438a6974cf.jpg  \n",
            "  inflating: train_data/veg3/train/images/IMG20230502165857_jpg.rf.cfadb296651f10f250c9d401e7be3e86.jpg  \n",
            "  inflating: train_data/veg3/train/images/IMG20230502165910_jpg.rf.9ecf448d48cd48716d9baa4251c961b3.jpg  \n",
            "  inflating: train_data/veg3/train/images/IMG20230502165920_jpg.rf.acb79f55a67350ae8fd7c876d5f4dd37.jpg  \n",
            "  inflating: train_data/veg3/train/images/IMG20230502165928_jpg.rf.6f7484a0288a155228fac8f932f2a74f.jpg  \n",
            "  inflating: train_data/veg3/train/images/IMG20230502165930_jpg.rf.684397dd9a79a591afda35697612f0d7.jpg  \n",
            "  inflating: train_data/veg3/train/images/IMG20230502170003_jpg.rf.061253985673b5a175acc1003f26c2b3.jpg  \n",
            "  inflating: train_data/veg3/train/images/IMG20230502170010_jpg.rf.f2240eccaf17971c4df7f387e37abfed.jpg  \n",
            "  inflating: train_data/veg3/train/images/IMG20230502170014_jpg.rf.b756984c89141803a5e11256f4edf9ea.jpg  \n",
            "  inflating: train_data/veg3/train/images/IMG20230502170016_jpg.rf.a029aae5141fa45fec74bc1a533e7221.jpg  \n",
            "  inflating: train_data/veg3/train/images/IMG20230502170044_jpg.rf.5bad60f23f89b0175fe3a64e0229706e.jpg  \n",
            "  inflating: train_data/veg3/train/images/IMG20230502170056_jpg.rf.a0026140427aac0054e79696f8287dd4.jpg  \n",
            "  inflating: train_data/veg3/train/images/IMG20230502170101_jpg.rf.05c5c2ce33a0cc4c9baa221ffa90fde2.jpg  \n",
            "  inflating: train_data/veg3/train/images/IMG20230502170104_jpg.rf.6f6a5facada015403cd7efc605912e53.jpg  \n",
            "  inflating: train_data/veg3/train/images/IMG20230502170108_jpg.rf.6c0d0bfbfb7fd40dcc36bf4f626eb931.jpg  \n",
            "  inflating: train_data/veg3/train/images/IMG20230502170342_jpg.rf.de4f97af42aa35149d707adfb2a10839.jpg  \n",
            "  inflating: train_data/veg3/train/images/IMG20230502170345_jpg.rf.152e718999da18589613814835fe112c.jpg  \n",
            "  inflating: train_data/veg3/train/images/IMG20230502170347_jpg.rf.d93b479f3a443b33fb3db51ca8060b72.jpg  \n",
            "  inflating: train_data/veg3/train/images/IMG20230502170349_jpg.rf.131942255ddece5d1a63928087710298.jpg  \n",
            "  inflating: train_data/veg3/train/images/IMG20230502170351_jpg.rf.e1ea819f68f96399eb9b99dd8133fbee.jpg  \n",
            "  inflating: train_data/veg3/train/images/IMG20230502170353_jpg.rf.2f3ce08d5a48a820c4ad021b8515433e.jpg  \n",
            "  inflating: train_data/veg3/train/images/IMG20230502170358_jpg.rf.e1a4f7297b2038e6a48fc5001eea797b.jpg  \n",
            "  inflating: train_data/veg3/train/images/IMG20230502170412_jpg.rf.d5035722f86e2c0eabaf017b615e32ac.jpg  \n",
            "  inflating: train_data/veg3/train/images/IMG20230502170415_jpg.rf.6de58b297b9fa6cb582c4f751d74dd76.jpg  \n",
            "  inflating: train_data/veg3/train/images/IMG20230502170431_jpg.rf.c7f6c0f8121f2f03b11b009e17c8cf80.jpg  \n",
            "  inflating: train_data/veg3/train/images/IMG20230502170433_jpg.rf.d9fe0fb62d508cdca8056ea545551ddd.jpg  \n",
            "  inflating: train_data/veg3/train/images/IMG20230502170438_jpg.rf.67afeb691b97429c35367ca6b01b4f9e.jpg  \n",
            "  inflating: train_data/veg3/train/images/IMG20230502170441_jpg.rf.a3480c4ef6650e7604f71298efb332f2.jpg  \n",
            "  inflating: train_data/veg3/train/images/IMG20230502170446_jpg.rf.a8728c973ff38395cf7d171e50174177.jpg  \n",
            "  inflating: train_data/veg3/train/images/IMG20230502170449_jpg.rf.02c2468ef59d7cfe150a3de2023a0bf5.jpg  \n",
            "  inflating: train_data/veg3/train/images/IMG20230502170454_jpg.rf.09a3aa43a5f59ebb380168cbf57f20e9.jpg  \n",
            "  inflating: train_data/veg3/train/images/IMG20230502170503_jpg.rf.037cda19f22f69cab1808fd084625995.jpg  \n",
            "  inflating: train_data/veg3/train/images/IMG20230502170506_jpg.rf.13e70b470b4016f1ed124b3afb7814df.jpg  \n",
            "  inflating: train_data/veg3/train/images/IMG20230502170510_jpg.rf.384fb63a885de7ccbfb911bcb63fe962.jpg  \n",
            "  inflating: train_data/veg3/train/images/IMG20230502170529_jpg.rf.0ada2f1caa4bd113f1f189f0366baf93.jpg  \n",
            "  inflating: train_data/veg3/train/images/IMG20230502170534_jpg.rf.133c27f6ce0bae90c05532b963b2a281.jpg  \n",
            "  inflating: train_data/veg3/train/images/IMG20230502170536_jpg.rf.f46ddeca45ebe3177049928b4b2d92ab.jpg  \n",
            "  inflating: train_data/veg3/train/images/IMG20230502170539_jpg.rf.1714d4ca21a003ed35fc63cf9feb5336.jpg  \n",
            "  inflating: train_data/veg3/train/images/IMG20230502170541_jpg.rf.8988f61c6f039851ec96337202cf9f15.jpg  \n",
            "  inflating: train_data/veg3/train/images/IMG20230502170552_jpg.rf.9f20f8dda1f8c5ea1ab933cad67d9ef5.jpg  \n",
            "  inflating: train_data/veg3/train/images/IMG20230502170602_jpg.rf.f8751bc87248f84f1450226219222fa2.jpg  \n",
            "  inflating: train_data/veg3/train/images/IMG20230502170604_jpg.rf.fa4bed677c4c70b0759260f289b270ac.jpg  \n",
            "  inflating: train_data/veg3/train/images/IMG20230502170610_jpg.rf.2c6f6fe1472e61bf36ef42449255150a.jpg  \n",
            "  inflating: train_data/veg3/train/images/IMG20230502170703_jpg.rf.fffe017a4f58e976eb4c42da3fd94b2c.jpg  \n",
            "  inflating: train_data/veg3/train/images/IMG20230502170705_jpg.rf.fd1e9e766889cab70cf14f4df333de92.jpg  \n",
            "  inflating: train_data/veg3/train/images/IMG20230502170708_jpg.rf.1095ae2ba8b74ea1223b6ff1d0aaa91a.jpg  \n",
            "  inflating: train_data/veg3/train/images/IMG20230502170718_jpg.rf.194914b00410e5f1a275337a09ffba53.jpg  \n",
            "  inflating: train_data/veg3/train/images/IMG20230502170727_jpg.rf.8cbcdc7592ffcad10640f62db0fdb10d.jpg  \n",
            "  inflating: train_data/veg3/train/images/IMG20230502170730_jpg.rf.4abab50eae54c3b6a8f0865408186ff5.jpg  \n",
            "  inflating: train_data/veg3/train/images/IMG20230502170749_jpg.rf.d70d0045dd8400e67ba772591522bf14.jpg  \n",
            "  inflating: train_data/veg3/train/images/IMG20230502170758_jpg.rf.a5997027414155583aaf182dcff6361d.jpg  \n",
            "  inflating: train_data/veg3/train/images/IMG20230502171208_jpg.rf.79bc9c1fa1c9b4eef9dd198a743cba59.jpg  \n",
            "  inflating: train_data/veg3/train/images/IMG20230502171237_jpg.rf.d2de11887e92094be9d81293a40a95bb.jpg  \n",
            "  inflating: train_data/veg3/train/images/IMG20230502171243_jpg.rf.46cdde3b144368271a7626eb3596cc79.jpg  \n",
            "  inflating: train_data/veg3/train/images/IMG20230502171247_jpg.rf.2f0e31f66bb9f73cd0ed3eb8bcdf1f67.jpg  \n",
            "  inflating: train_data/veg3/train/images/IMG20230502171251_jpg.rf.b9f3caf42d28580d4813191695660f68.jpg  \n",
            "  inflating: train_data/veg3/train/images/IMG20230502171305_jpg.rf.a242d71113b598c9e7861010f6de36a7.jpg  \n",
            "  inflating: train_data/veg3/train/images/IMG20230502171324_jpg.rf.fec76bcb3be865723e38485ed0f6ed13.jpg  \n",
            "  inflating: train_data/veg3/train/images/IMG20230502171332_jpg.rf.f417ee1181a8e9c838fbb721dbf183bc.jpg  \n",
            "  inflating: train_data/veg3/train/images/IMG20230502171343_jpg.rf.875d6c2080a086c8c4bf6b625bb9bc3d.jpg  \n",
            "  inflating: train_data/veg3/train/images/IMG20230502171351_jpg.rf.5cc59be040ecc99e072911c4a4838c30.jpg  \n",
            "  inflating: train_data/veg3/train/images/IMG20230502171357_jpg.rf.753c570d45fbbda1466d3c7de5b436dc.jpg  \n",
            "  inflating: train_data/veg3/train/images/IMG20230502171408_jpg.rf.574cdeec75fa9e42479dc7b961a3b42d.jpg  \n",
            "  inflating: train_data/veg3/train/images/IMG20230502171411_jpg.rf.f37cabfbc4c76b201b1bbb4eb19911e7.jpg  \n",
            "  inflating: train_data/veg3/train/images/IMG20230502171414_jpg.rf.924d26e0dea8752681bc8f745a294667.jpg  \n",
            "  inflating: train_data/veg3/train/images/IMG20230502171441_jpg.rf.dfa5508093c75d7b5712ba184de81876.jpg  \n",
            "  inflating: train_data/veg3/train/images/IMG20230502171444_jpg.rf.f1a36e0e5e1fcbe4f75770f434f71eb7.jpg  \n",
            "  inflating: train_data/veg3/train/images/IMG20230502171446_jpg.rf.ded437f4a56788ff2ccc3d93a890cc42.jpg  \n",
            "  inflating: train_data/veg3/train/images/IMG20230502171510_jpg.rf.e5c3e84de3b6143a55619349778e8ad5.jpg  \n",
            "  inflating: train_data/veg3/train/images/IMG20230502171552_jpg.rf.0e8434bcfdeb6aac085a9b8354a99da2.jpg  \n",
            "  inflating: train_data/veg3/train/images/IMG20230502171555_jpg.rf.1419651ddc91bc8f178d6636df8b3d3f.jpg  \n",
            "  inflating: train_data/veg3/train/images/IMG20230502171557_jpg.rf.ab1cf491765f18444803c62b58eadf97.jpg  \n",
            "  inflating: train_data/veg3/train/images/IMG20230502171634_jpg.rf.546f8a659359e5690f56c99fb9e30cec.jpg  \n",
            "  inflating: train_data/veg3/train/images/IMG20230502171717_jpg.rf.e7da11d5b54c3de9dd87936bad33f8e8.jpg  \n",
            "  inflating: train_data/veg3/train/images/IMG20230502171728_jpg.rf.8e2324e5a1b901d1be369f6eba9b5557.jpg  \n",
            "  inflating: train_data/veg3/train/images/IMG20230502171730_jpg.rf.62d736feac04235acd2eecee6dc2a8a6.jpg  \n",
            "  inflating: train_data/veg3/train/images/IMG20230502171733_jpg.rf.389108a501b4129fca7f5db347ed8ba4.jpg  \n",
            "  inflating: train_data/veg3/train/images/IMG20230502171738_jpg.rf.e7299bae3278468701f15261a1213c7a.jpg  \n",
            "  inflating: train_data/veg3/train/images/IMG20230502171804_jpg.rf.8ef412d302a8e9585d9b023eb80f18de.jpg  \n",
            "  inflating: train_data/veg3/train/images/IMG20230502171809_jpg.rf.b17881a25780342f646de4b4d87b880d.jpg  \n",
            "  inflating: train_data/veg3/train/images/IMG20230502172202_jpg.rf.bb3666335a8982d6695660d8fc3015b0.jpg  \n",
            "  inflating: train_data/veg3/train/images/IMG20230502172206_jpg.rf.984432a8b5ed38661d0a260131d23c69.jpg  \n",
            "  inflating: train_data/veg3/train/images/IMG20230502172209_jpg.rf.33db4229585fcf7633dc286935a7f53d.jpg  \n",
            "  inflating: train_data/veg3/train/images/IMG20230502172211_jpg.rf.74b4f66a1b9ba327b94b3c4c381a8080.jpg  \n",
            "  inflating: train_data/veg3/train/images/IMG20230502172213_jpg.rf.d557be4e84efd81c8f38b1d20e26c546.jpg  \n",
            "  inflating: train_data/veg3/train/images/IMG20230502172215_jpg.rf.6ed08d4fabe30ddddbf601ec6a220bd8.jpg  \n",
            "  inflating: train_data/veg3/train/images/IMG20230502172221_jpg.rf.77c3b3d557f92a1a5d920b05a9ff9ed0.jpg  \n",
            "  inflating: train_data/veg3/train/images/IMG20230502172224_jpg.rf.22e04f30b1e8af9d2ff842fe10948bc1.jpg  \n",
            "  inflating: train_data/veg3/train/images/IMG20230502172231_jpg.rf.93499118ce8a722a6dcf4f7c7ad666e6.jpg  \n",
            "  inflating: train_data/veg3/train/images/IMG20230502172235_jpg.rf.1fca59e7bee88e4775cb0cf4b90fab13.jpg  \n",
            "  inflating: train_data/veg3/train/images/IMG20230502172249_jpg.rf.4867cc7c60919813d07c7c60380fcbe5.jpg  \n",
            "  inflating: train_data/veg3/train/images/IMG20230502172317_jpg.rf.155b82d66b6d6dd92274c8505fbab5fb.jpg  \n",
            "  inflating: train_data/veg3/train/images/IMG20230502172319_jpg.rf.b523d761f6aa7fbf227ab948a9e8c86e.jpg  \n",
            "  inflating: train_data/veg3/train/images/IMG20230502172322_jpg.rf.10a8fa9f93acc9b138d62d1c33ad4acc.jpg  \n",
            "  inflating: train_data/veg3/train/images/IMG20230502172328_jpg.rf.8af626a4f4e8868532f4bd5fef6e624d.jpg  \n",
            "  inflating: train_data/veg3/train/images/IMG20230502172347_jpg.rf.8af1bce454caf128cf37eaa0920a6150.jpg  \n",
            "  inflating: train_data/veg3/train/images/IMG20230502172351_jpg.rf.cc54de89f7972fcd1b7de06857ef1341.jpg  \n",
            "  inflating: train_data/veg3/train/images/IMG20230502172404_jpg.rf.89f5c5d742d1ac22bd4951a5606e2f19.jpg  \n",
            "  inflating: train_data/veg3/train/images/IMG20230502172407_jpg.rf.70bf1f71d3bb888e868fba00482dc94e.jpg  \n",
            "  inflating: train_data/veg3/train/images/IMG20230502172423_jpg.rf.30ad1987f8f41b4d05eff8b291bf4f1e.jpg  \n",
            "  inflating: train_data/veg3/train/images/IMG20230502172427_jpg.rf.b4fc82f205a87d7bba7dd14b22db7823.jpg  \n",
            "  inflating: train_data/veg3/train/images/IMG20230502172503_jpg.rf.3121152291aadcac5cce0ec8920522c0.jpg  \n",
            "  inflating: train_data/veg3/train/images/IMG20230502172506_jpg.rf.eac39a4ab86703305f435c0205606bf0.jpg  \n",
            "  inflating: train_data/veg3/train/images/IMG20230502172526_jpg.rf.d34a2e40d800423e847cb51a83a7ea68.jpg  \n",
            "  inflating: train_data/veg3/train/images/IMG20230502172608_jpg.rf.b96f5b06f15b2845141059f06121ff3b.jpg  \n",
            "  inflating: train_data/veg3/train/images/IMG20230502172614_jpg.rf.202002514a5daba03fb3ab4718a17b36.jpg  \n",
            "  inflating: train_data/veg3/train/images/IMG20230502172640_jpg.rf.b38bcbb2000f011f94a4f5e3e9b8bc3b.jpg  \n",
            "  inflating: train_data/veg3/train/images/IMG20230502172644_jpg.rf.11250fe0bb7a607965145a0943b4ad85.jpg  \n",
            "  inflating: train_data/veg3/train/images/IMG20230502174106_jpg.rf.f70f7ab2e9ed77c09a06fef68a7457c1.jpg  \n",
            "  inflating: train_data/veg3/train/images/IMG20230502174109_jpg.rf.34a0c87147aeae539d65ec1107c0abdd.jpg  \n",
            "  inflating: train_data/veg3/train/images/IMG20230502174113_jpg.rf.11813cd362dcab35e326e6df3219fd0e.jpg  \n",
            "  inflating: train_data/veg3/train/images/IMG20230502174127_jpg.rf.0980387f856e57ebf9cd7f632e5c5aff.jpg  \n",
            "  inflating: train_data/veg3/train/images/IMG20230502174136_jpg.rf.1c828a6fdd3849a65b2bee3e9bc0be30.jpg  \n",
            "  inflating: train_data/veg3/train/images/IMG20230502174202_jpg.rf.c2930de26c13ea6c32f79ac05f992445.jpg  \n",
            "  inflating: train_data/veg3/train/images/IMG20230502174212_jpg.rf.dbead342148feab2b897347b71722442.jpg  \n",
            "  inflating: train_data/veg3/train/images/IMG20230502174214_jpg.rf.5d09498ec9d6d4d79f463159f5bb3fd3.jpg  \n",
            "  inflating: train_data/veg3/train/images/IMG20230502174222_jpg.rf.4123b55b963f105266a1b0cc65f3a6e5.jpg  \n",
            "  inflating: train_data/veg3/train/images/IMG20230502174237_jpg.rf.7599a1284aefea435cd6a9308f276bb3.jpg  \n",
            "  inflating: train_data/veg3/train/images/IMG20230502174240_jpg.rf.0d21a5cc0ced1268911cc986a78728eb.jpg  \n",
            "  inflating: train_data/veg3/train/images/IMG20230502174251_jpg.rf.368c32ebf30f8ef956625e332e26fab5.jpg  \n",
            "  inflating: train_data/veg3/train/images/IMG20230502174302_jpg.rf.5cf951a6b7acc3e76c0ab2580b564b46.jpg  \n",
            "  inflating: train_data/veg3/train/images/IMG20230502174310_jpg.rf.42ae6d125be6eac380857931ab9a6f58.jpg  \n",
            "  inflating: train_data/veg3/train/images/IMG20230502174312_jpg.rf.f5ac0c843b000bb1e3ffb85ca3d6c7b7.jpg  \n",
            "  inflating: train_data/veg3/train/images/IMG20230502174321_jpg.rf.dad45dc89edb6c78492b4f032f979ebf.jpg  \n",
            "  inflating: train_data/veg3/train/images/IMG20230502174330_jpg.rf.07f95a607d75971f821a43f32ccf0f5a.jpg  \n",
            "  inflating: train_data/veg3/train/images/IMG20230502174334_jpg.rf.e130e9bcd1a399b6b930c164cd889b47.jpg  \n",
            "  inflating: train_data/veg3/train/images/IMG20230502174336_jpg.rf.2d67b9efdebe9f60251ff18cbbf79a62.jpg  \n",
            "  inflating: train_data/veg3/train/images/IMG20230502174339_jpg.rf.039d9689645bbcfd503992d660655074.jpg  \n",
            "  inflating: train_data/veg3/train/images/IMG20230502174343_jpg.rf.aada4a81d23d6d2e2b07dc6823a38ac6.jpg  \n",
            "  inflating: train_data/veg3/train/images/IMG20230502174358_jpg.rf.2d661efb5fc3009a85212dfb1e5640a7.jpg  \n",
            "  inflating: train_data/veg3/train/images/IMG20230502174404_jpg.rf.69043864c50be860c94748dfb188373f.jpg  \n",
            "  inflating: train_data/veg3/train/images/IMG20230502174413_jpg.rf.2e6d23482560ad333742e9e3573057b2.jpg  \n",
            "  inflating: train_data/veg3/train/images/IMG20230502174416_jpg.rf.674a0362be6a3e76a0b5682a2d2b1cff.jpg  \n",
            "  inflating: train_data/veg3/train/images/IMG20230502174420_jpg.rf.dec5ca9e8ff256e97a797868ce53ec1c.jpg  \n",
            "  inflating: train_data/veg3/train/images/IMG20230502174426_jpg.rf.aff45c2dfd0a186bb77e897fe6411d64.jpg  \n",
            "  inflating: train_data/veg3/train/images/IMG20230502174430_jpg.rf.5433c4edebb2c79fa81bc8820d53e0da.jpg  \n",
            "  inflating: train_data/veg3/train/images/IMG20230502174657_jpg.rf.f9efe301ae6d801f1790d5a916f8a4d1.jpg  \n",
            "  inflating: train_data/veg3/train/images/IMG20230502174704_jpg.rf.403b6ffe1241c0ea809ce33410834ac0.jpg  \n",
            "  inflating: train_data/veg3/train/images/IMG20230502174707_jpg.rf.63bf69c35956727dded860d05e3e4986.jpg  \n",
            "  inflating: train_data/veg3/train/images/IMG20230502174712_jpg.rf.40eb1aaf906601cea7cef663e00b4c47.jpg  \n",
            "  inflating: train_data/veg3/train/images/IMG20230502174714_jpg.rf.7e0a4abae579747462a4375b3dd82301.jpg  \n",
            "  inflating: train_data/veg3/train/images/IMG20230502174727_jpg.rf.50e232f4bb0569d712a1d27d289cc153.jpg  \n",
            "  inflating: train_data/veg3/train/images/IMG20230502174736_jpg.rf.70c80104ada9dd36e5c53386b0531e90.jpg  \n",
            "  inflating: train_data/veg3/train/images/IMG20230502174738_jpg.rf.68ab37ca6408c365561c43889e3f9468.jpg  \n",
            "  inflating: train_data/veg3/train/images/IMG20230502174744_jpg.rf.b491ae5ae4288a5ebd45f5010a838b08.jpg  \n",
            "  inflating: train_data/veg3/train/images/IMG20230502174806_jpg.rf.4d0e6286ba64a9ab11796b327cd234d8.jpg  \n",
            "  inflating: train_data/veg3/train/images/IMG20230502174816_jpg.rf.355b61c5a3ed0d58f463cbfe1a1cca6d.jpg  \n",
            "  inflating: train_data/veg3/train/images/IMG20230502174822_jpg.rf.137226e6d624d6e802488ac19a8dbad9.jpg  \n",
            "  inflating: train_data/veg3/train/images/IMG20230502174824_jpg.rf.69e08589aaaf273e1fc9dddf68db1faf.jpg  \n",
            "  inflating: train_data/veg3/train/images/IMG20230502174827_jpg.rf.02d953eccd1d5953d4cad680e28f79a6.jpg  \n",
            "  inflating: train_data/veg3/train/images/IMG20230502174832_jpg.rf.d149a64670bc64e29b99a97958dde36c.jpg  \n",
            "  inflating: train_data/veg3/train/images/IMG20230502174846_jpg.rf.9918668fc5ffb734652de454ca1ca93b.jpg  \n",
            "  inflating: train_data/veg3/train/images/IMG20230502174848_jpg.rf.dffdb1b5e8722e9b380d5c25a3df11fe.jpg  \n",
            "  inflating: train_data/veg3/train/images/IMG20230502174851_jpg.rf.7589f25c26d42a753d8ef46cc5ae8d66.jpg  \n",
            "  inflating: train_data/veg3/train/images/IMG20230502174905_jpg.rf.2bdc2dd96a5c5ae39fe855d1cb1d3c14.jpg  \n",
            "  inflating: train_data/veg3/train/images/IMG20230502174910_jpg.rf.54db5dda08effc39e16e6c5f9545146f.jpg  \n",
            "  inflating: train_data/veg3/train/images/IMG20230502174934_jpg.rf.2e6e06cfa3024e3c156c40ca167e119d.jpg  \n",
            "  inflating: train_data/veg3/train/images/IMG20230502174937_jpg.rf.0bc42bdfa6f161b52684a04d9e9efef0.jpg  \n",
            "  inflating: train_data/veg3/train/images/IMG20230502174940_jpg.rf.b83880ad4e218ac5415e971565eb35c8.jpg  \n",
            "  inflating: train_data/veg3/train/images/IMG20230502175015_jpg.rf.9ddd6e6da7d8cb002417e1ad88d144dc.jpg  \n",
            "  inflating: train_data/veg3/train/images/IMG20230502175028_jpg.rf.5978eead428517308f0a690c84540661.jpg  \n",
            "  inflating: train_data/veg3/train/images/IMG20230502175033_jpg.rf.52d7276cfb4c1a03e49c2ca6c16395c7.jpg  \n",
            "  inflating: train_data/veg3/train/images/IMG20230502175036_jpg.rf.4d42e254bea927605acced094b04e85c.jpg  \n",
            "  inflating: train_data/veg3/train/images/IMG20230502175117_jpg.rf.ea77436eb55804aca166f37dd03dcfe4.jpg  \n",
            "  inflating: train_data/veg3/train/images/IMG20230502175123_jpg.rf.6a7ece4f3abfc866fea5200f05c1152a.jpg  \n",
            "  inflating: train_data/veg3/train/images/IMG20230502175134_jpg.rf.b1d8861c220d3c383b5fa80d8bbe38ad.jpg  \n",
            "  inflating: train_data/veg3/train/images/IMG20230502175956_jpg.rf.9f6d820757f05284342bc08bdde52bef.jpg  \n",
            "  inflating: train_data/veg3/train/images/IMG20230502175959_jpg.rf.e7f434aa3726fdee486c46de807ea55e.jpg  \n",
            "  inflating: train_data/veg3/train/images/IMG20230502180004_jpg.rf.20200dfd7bb277b32c3341f8d103974d.jpg  \n",
            "  inflating: train_data/veg3/train/images/IMG20230502180010_jpg.rf.c14c21c44efd07285dd519c8b1324f44.jpg  \n",
            "  inflating: train_data/veg3/train/images/IMG20230502180012_jpg.rf.1e32d988bfc76ffa1213ab9525e1ccb4.jpg  \n",
            "  inflating: train_data/veg3/train/images/IMG20230502180014_jpg.rf.75126328859e9aa33251edf449208ff7.jpg  \n",
            "  inflating: train_data/veg3/train/images/IMG20230502180016_jpg.rf.62eade12ced46658c581a9ff480b96bc.jpg  \n",
            "  inflating: train_data/veg3/train/images/IMG20230502180030_jpg.rf.e795759a84521d3d32c66a6feff1d1b7.jpg  \n",
            "  inflating: train_data/veg3/train/images/IMG20230502180035_jpg.rf.137bda38a5616accbe5c18d2ce59d41c.jpg  \n",
            "  inflating: train_data/veg3/train/images/IMG20230502180040_jpg.rf.83fe2baae71339bbf7a7cfbd3baa21b8.jpg  \n",
            "  inflating: train_data/veg3/train/images/IMG20230502180043_jpg.rf.c3c3df08ad7061cfed35fb7ec0b0c155.jpg  \n",
            "  inflating: train_data/veg3/train/images/IMG20230502180049_jpg.rf.a02ce24cc363b14dc5cc0390aac48d87.jpg  \n",
            "  inflating: train_data/veg3/train/images/IMG20230502180055_jpg.rf.3a2b94c1e32a0093338cd64e1571f006.jpg  \n",
            "  inflating: train_data/veg3/train/images/IMG20230502180102_jpg.rf.1bf9285a630448fbfa2fa984825abffa.jpg  \n",
            "  inflating: train_data/veg3/train/images/IMG20230502180108_jpg.rf.a0424cd3d5a326888ae019a8175c83b3.jpg  \n",
            "  inflating: train_data/veg3/train/images/IMG20230502180117_jpg.rf.b7c4df15a62effe30f411467fbf21cb1.jpg  \n",
            "  inflating: train_data/veg3/train/images/IMG20230502180130_jpg.rf.e06e18266cf7d345c85478f645f0fcf7.jpg  \n",
            "  inflating: train_data/veg3/train/images/IMG20230502180134_jpg.rf.5144176649605c25ab4b5668ffdf3f64.jpg  \n",
            "  inflating: train_data/veg3/train/images/IMG20230502180136_jpg.rf.933dd380d2f68011d302b562ff9932e4.jpg  \n",
            "  inflating: train_data/veg3/train/images/IMG20230502180148_jpg.rf.f1506c1c5ed543abe650fe01a9799145.jpg  \n",
            "  inflating: train_data/veg3/train/images/IMG20230502180153_jpg.rf.405145f68dd74dd9c101e0e41c6355c8.jpg  \n",
            "  inflating: train_data/veg3/train/images/IMG20230502180156_jpg.rf.7689afbac98203febbe4aceb840d324c.jpg  \n",
            "  inflating: train_data/veg3/train/images/IMG20230502180256_jpg.rf.3db5d7bb45af473345515d01b57982d7.jpg  \n",
            "  inflating: train_data/veg3/train/images/IMG20230502180300_jpg.rf.0ab06c08671ae9f625d009c1e2e99f38.jpg  \n",
            "  inflating: train_data/veg3/train/images/IMG20230502180303_jpg.rf.34532abdaac3bc033cfc4b3d942da062.jpg  \n",
            "  inflating: train_data/veg3/train/images/IMG20230502180313_jpg.rf.c87f699f3e5dd4030a1ab824a644fcb4.jpg  \n",
            "  inflating: train_data/veg3/train/images/IMG20230502180316_jpg.rf.e3e1cbf750cca21d4cf43eb81d2ddbb8.jpg  \n",
            "  inflating: train_data/veg3/train/images/IMG20230502180319_jpg.rf.3e4c8f9b7c35cc9ec1df1094e305ad2c.jpg  \n",
            "  inflating: train_data/veg3/train/images/IMG20230502180325_jpg.rf.c0d8c89f2d2eaa6b4c559744a0a17e9b.jpg  \n",
            "  inflating: train_data/veg3/train/images/IMG20230502180331_jpg.rf.0109604149ffcf5aab771129929d50fd.jpg  \n",
            "  inflating: train_data/veg3/train/images/IMG20230502180332_jpg.rf.7911e881636d3c1dde27edb980672001.jpg  \n",
            "  inflating: train_data/veg3/train/images/IMG20230502180334_jpg.rf.b5f83370efc732d2495be8df19ef8079.jpg  \n",
            "  inflating: train_data/veg3/train/images/IMG20230502180627_jpg.rf.b5c840a718dc0855b6511fd7d0d83b30.jpg  \n",
            "  inflating: train_data/veg3/train/images/IMG20230502180629_jpg.rf.c5f20677b2808e09def6f46015fba5a9.jpg  \n",
            "  inflating: train_data/veg3/train/images/IMG20230502180631_jpg.rf.3f303fef420fe1d56a6a486540023872.jpg  \n",
            "  inflating: train_data/veg3/train/images/IMG20230502180633_jpg.rf.d2a9bee3dd69c750488a89755df7634c.jpg  \n",
            "  inflating: train_data/veg3/train/images/IMG20230502180635_jpg.rf.d8057d6bf9ec69910828585bd3a9b669.jpg  \n",
            "  inflating: train_data/veg3/train/images/IMG20230502180637_jpg.rf.2d3b11ef43fea8548565ef04c4862433.jpg  \n",
            "  inflating: train_data/veg3/train/images/IMG20230502180642_jpg.rf.11753340b3c24045858211051c7f4f39.jpg  \n",
            "  inflating: train_data/veg3/train/images/IMG20230502180644_jpg.rf.cd00a07162c038231a6fe0e6749545c0.jpg  \n",
            "  inflating: train_data/veg3/train/images/IMG20230502180645_jpg.rf.607a0a38b59f074a4e3b801ae199971e.jpg  \n",
            "  inflating: train_data/veg3/train/images/IMG20230502180654_jpg.rf.6ae3854be92db0ae92d53f63f1975b23.jpg  \n",
            "  inflating: train_data/veg3/train/images/IMG20230502180710_jpg.rf.fcf1454d52403427c420f163b64410e5.jpg  \n",
            "  inflating: train_data/veg3/train/images/IMG20230502180714_jpg.rf.34407d77423dfb87768613e194cbc557.jpg  \n",
            "  inflating: train_data/veg3/train/images/IMG20230502180721_jpg.rf.e9f2fcc9455884837fce81f19da38b8d.jpg  \n",
            "  inflating: train_data/veg3/train/images/IMG20230502180737_jpg.rf.cd3643417457853c9257f46e209b5e66.jpg  \n",
            "  inflating: train_data/veg3/train/images/IMG20230502180742_jpg.rf.b4c990ab2f3638ea76714b66589abf5f.jpg  \n",
            "  inflating: train_data/veg3/train/images/IMG20230502180801_jpg.rf.8ade357e548450d338fbb287ee5bdd01.jpg  \n",
            "  inflating: train_data/veg3/train/images/IMG20230502180804_jpg.rf.137bb005ecd606fb318540b2f45146c3.jpg  \n",
            "  inflating: train_data/veg3/train/images/IMG20230502180809_jpg.rf.22bc9efcb0af2df99f1553bec24b453d.jpg  \n",
            "  inflating: train_data/veg3/train/images/IMG20230502180811_jpg.rf.27895d9e0f9ce71463a9be70a9116545.jpg  \n",
            "  inflating: train_data/veg3/train/images/IMG20230502180818_jpg.rf.aed880871f2a26971616c008280f0fa8.jpg  \n",
            "  inflating: train_data/veg3/train/images/IMG20230502180821_jpg.rf.55e1e674cd1e2df6ec5e37626673ebe7.jpg  \n",
            "  inflating: train_data/veg3/train/images/IMG20230502180824_jpg.rf.75326d42a98bc86fdc8b6e318b5f8435.jpg  \n",
            "  inflating: train_data/veg3/train/images/IMG20230502180833_jpg.rf.79d9f3b834a62ebd5eef63d1a81a1ee4.jpg  \n",
            "  inflating: train_data/veg3/train/images/IMG20230502180836_jpg.rf.287b0644e75a63f46a0a0da0da076bfd.jpg  \n",
            "  inflating: train_data/veg3/train/images/IMG20230502180842_jpg.rf.8015e57b9df8a22ab629c91623d7bad6.jpg  \n",
            "  inflating: train_data/veg3/train/images/IMG20230502180848_jpg.rf.8c8d26b542a5a5bf4a2599a611de0d4a.jpg  \n",
            "  inflating: train_data/veg3/train/images/IMG20230502180945_jpg.rf.79508f20c86bb58c3bff1a96a7432a39.jpg  \n",
            "  inflating: train_data/veg3/train/images/IMG20230502180947_jpg.rf.adb4b0685cd01863f9311c398a6ecfe0.jpg  \n",
            "  inflating: train_data/veg3/train/images/IMG20230502180955_jpg.rf.959e5f7969647dfcabcc87176927c6c7.jpg  \n",
            "  inflating: train_data/veg3/train/images/IMG20230502181000_jpg.rf.15d1b6bd7ebbf021fcf12d3972b0189f.jpg  \n",
            "  inflating: train_data/veg3/train/images/IMG20230502181013_jpg.rf.14d7ee59dc89ebe89f7cc76f0f352b8d.jpg  \n",
            "  inflating: train_data/veg3/train/images/IMG20230502181920_jpg.rf.7593381519920ab86694bf6bf15f16fe.jpg  \n",
            "  inflating: train_data/veg3/train/images/IMG20230502181927_jpg.rf.580664efbcdb6a709f8e4cd8022eb491.jpg  \n",
            "  inflating: train_data/veg3/train/images/IMG20230502181954_jpg.rf.8d8d52d92f481d39748125f13953dbdf.jpg  \n",
            "  inflating: train_data/veg3/train/images/IMG20230502182002_jpg.rf.919692dbc438a1d4ad4c54d8763d2274.jpg  \n",
            "  inflating: train_data/veg3/train/images/IMG20230502182010_jpg.rf.23d9c1a6d112e6fefd096d80171d3d3d.jpg  \n",
            "  inflating: train_data/veg3/train/images/IMG20230502182015_jpg.rf.73f753f13959dce7f0e8a316e0a5d609.jpg  \n",
            "  inflating: train_data/veg3/train/images/IMG20230502182844_jpg.rf.f41671f551951ffdb9e3b65c80508213.jpg  \n",
            "  inflating: train_data/veg3/train/images/IMG20230502182856_jpg.rf.c3d6c61d9b48f84add4fdb3e05171ffa.jpg  \n",
            "  inflating: train_data/veg3/train/images/IMG20230502182925_jpg.rf.5576ff2ef61572de058061bfa330986d.jpg  \n",
            "  inflating: train_data/veg3/train/images/IMG20230502182938_jpg.rf.d799e109fec34086045dd332d7a0dfc3.jpg  \n",
            "  inflating: train_data/veg3/train/images/IMG20230502183017_jpg.rf.f40b1acc65279ce20062bfeda2cc4c96.jpg  \n",
            "  inflating: train_data/veg3/train/images/IMG20230502183021_jpg.rf.721049ae9e31fa30c28f7fe7b69b89bc.jpg  \n",
            "  inflating: train_data/veg3/train/images/IMG20230502183027_jpg.rf.1f1ed2f5ff95c8dcd4c03b49411cdfb7.jpg  \n",
            "  inflating: train_data/veg3/train/images/IMG20230502183300_jpg.rf.edec8b7a34d81e3ec595908198e5b31a.jpg  \n",
            "  inflating: train_data/veg3/train/images/IMG20230502183308_jpg.rf.02dbd980ccfb45ddabdc5f9e417fce82.jpg  \n",
            "  inflating: train_data/veg3/train/images/IMG20230502183313_jpg.rf.c9a297cab07500a52cd66304ecf46f2d.jpg  \n",
            "  inflating: train_data/veg3/train/images/IMG20230502183340_jpg.rf.596ce5004235ea5ae6eb6406a56c03da.jpg  \n",
            "  inflating: train_data/veg3/train/images/IMG20230502183345_jpg.rf.a93810334f4e7d16805b16d0316b1de0.jpg  \n",
            "  inflating: train_data/veg3/train/images/IMG20230502183416_jpg.rf.e3d23640e8e8eec63ac89c811b03ccae.jpg  \n",
            "  inflating: train_data/veg3/train/images/IMG20230502183421_jpg.rf.308d414fff1950d32f5e071d3b9afbd0.jpg  \n",
            "  inflating: train_data/veg3/train/images/IMG20230502183427_jpg.rf.90ce8273fd6ef4e655f66286fc8a0aad.jpg  \n",
            "  inflating: train_data/veg3/train/images/IMG20230502184154_jpg.rf.6650007c01fbdddbc7ee1872aa547d8a.jpg  \n",
            "  inflating: train_data/veg3/train/images/IMG20230502184950_jpg.rf.28b872edb3fb0642d1bdd08cbbd06d99.jpg  \n",
            "  inflating: train_data/veg3/train/images/IMG20230502190704_jpg.rf.b7bdd1c81534161968e0f236abbeed6e.jpg  \n",
            "  inflating: train_data/veg3/train/images/IMG20230502190718_jpg.rf.74b0cdc8ec01a42d5274e068f9b1524b.jpg  \n",
            "  inflating: train_data/veg3/train/images/IMG20230502191056_jpg.rf.ea1db832728639ec40acf8cac8d8f826.jpg  \n",
            "  inflating: train_data/veg3/train/images/IMG20230502191140_jpg.rf.665825e4a5bd0109a0f904d63ddf6e37.jpg  \n",
            "  inflating: train_data/veg3/train/images/IMG20230502191215_jpg.rf.12d038c489ca9bdbee631c2aa8975b99.jpg  \n",
            "  inflating: train_data/veg3/train/images/IMG20230502191256_jpg.rf.cbc39ec6c71be823322b8170e169487f.jpg  \n",
            "  inflating: train_data/veg3/train/images/IMG_20230412_114823_jpg.rf.321e4a0c299f28554ca35602d6ed62cd.jpg  \n",
            "  inflating: train_data/veg3/train/images/IMG_20230412_114830_jpg.rf.a6dc17b423114846752209228b33fee5.jpg  \n",
            "  inflating: train_data/veg3/train/images/IMG_20230412_114842_jpg.rf.66d62a60c0a7104bf3313b451bd3ec09.jpg  \n",
            "  inflating: train_data/veg3/train/images/IMG_20230412_115012_jpg.rf.ca70d7a63181c280ffa84eabad6c6a9a.jpg  \n",
            "  inflating: train_data/veg3/train/images/IMG_20230412_115017_jpg.rf.1a80362fdd4eb2fd0d388e3a660a76fc.jpg  \n",
            "  inflating: train_data/veg3/train/images/IMG_20230412_115026_jpg.rf.82c31f5964ba4b91526102d55327fb13.jpg  \n",
            "  inflating: train_data/veg3/train/images/IMG_20230412_115245_jpg.rf.3251f4cc45f0858fe450daa57beb3dc7.jpg  \n",
            "  inflating: train_data/veg3/train/images/IMG_20230412_115320_jpg.rf.dd900966799ee8dd5b1d554d24cb0822.jpg  \n",
            "  inflating: train_data/veg3/train/images/IMG_20230412_115404_jpg.rf.3b2fded49e5bd6b5e32f4dbd53ff6057.jpg  \n",
            "  inflating: train_data/veg3/train/images/IMG_20230412_115413_jpg.rf.a4f013ef0e0c3e453b80944e31551c6e.jpg  \n",
            "  inflating: train_data/veg3/train/images/IMG_20230412_115421_jpg.rf.8e74493315e5a7be0a5dd2a53b895e46.jpg  \n",
            "  inflating: train_data/veg3/train/images/IMG_20230412_115453_jpg.rf.1b3d2ab6742431952746f7105a91ab9c.jpg  \n",
            "  inflating: train_data/veg3/train/images/IMG_20230428_113145_jpg.rf.c0d299cc909830acc858cb84b699afc3.jpg  \n",
            "  inflating: train_data/veg3/train/images/IMG_20230428_113157_jpg.rf.4b732a92368cee710ca86da874f4fa9f.jpg  \n",
            "  inflating: train_data/veg3/train/images/IMG_20230428_113217_jpg.rf.3ee72b5d3a5907b33edd63a0c15f6316.jpg  \n",
            "  inflating: train_data/veg3/train/images/IMG_20230428_113222_jpg.rf.3709856e88dbdb2c003b8143df72bfb5.jpg  \n",
            "  inflating: train_data/veg3/train/images/IMG_20230428_113229_jpg.rf.fce3873cccecba221bfc0c47d05b78a6.jpg  \n",
            "  inflating: train_data/veg3/train/images/IMG_20230428_113250_jpg.rf.55dbbce3fa13c3a6606d4d1ae483f35a.jpg  \n",
            "  inflating: train_data/veg3/train/images/IMG_20230428_113306_jpg.rf.2738ba3409cf357a8996f13bb45ce061.jpg  \n",
            "  inflating: train_data/veg3/train/images/IMG_20230428_113318_jpg.rf.44f31068de75804fb576d5a33a59549c.jpg  \n",
            "  inflating: train_data/veg3/train/images/IMG_20230428_113330_jpg.rf.6160a5c029f9fbf1711193afed47e7d4.jpg  \n",
            "  inflating: train_data/veg3/train/images/IMG_20230428_113443_jpg.rf.40b599c55be5746039b8a67236787326.jpg  \n",
            "  inflating: train_data/veg3/train/images/IMG_20230428_113449_jpg.rf.a1e465e3b566e1add31facdab994f2af.jpg  \n",
            "  inflating: train_data/veg3/train/images/IMG_20230428_113506_jpg.rf.86cc3f54a6a3b0183570c2d8634ec12d.jpg  \n",
            "  inflating: train_data/veg3/train/images/IMG_20230428_113511_jpg.rf.852b17087adc25af502c326cccf9362a.jpg  \n",
            "  inflating: train_data/veg3/train/images/IMG_20230428_113524_jpg.rf.a80ae99a0791e86d1800c596ea5b88e7.jpg  \n",
            "  inflating: train_data/veg3/train/images/IMG_20230428_113552_jpg.rf.f362c2c9d197c1bbe14c7b0935240bb5.jpg  \n",
            "  inflating: train_data/veg3/train/images/IMG_20230428_113612_jpg.rf.351e15c7379983cc1a0ffd7d1c5fdc93.jpg  \n",
            "  inflating: train_data/veg3/train/images/IMG_20230428_113634_jpg.rf.646259d0e08997f7265bed2e43114fe9.jpg  \n",
            "  inflating: train_data/veg3/train/images/IMG_20230428_113638_jpg.rf.24382c7a0e48adf6d7cb07c8f5448ec3.jpg  \n",
            "  inflating: train_data/veg3/train/images/IMG_20230428_113645_jpg.rf.f905ef8755a16ab5341220a9c00355a6.jpg  \n",
            "  inflating: train_data/veg3/train/images/IMG_20230428_113649_jpg.rf.e0043792effa674f48f5dbbfaf06618a.jpg  \n",
            "  inflating: train_data/veg3/train/images/IMG_20230428_113712_jpg.rf.d98dd94119f394e7a71d7e2441d9fa93.jpg  \n",
            "  inflating: train_data/veg3/train/images/IMG_20230428_113753_jpg.rf.e39d7cafdea696166a083c90016b7622.jpg  \n",
            "  inflating: train_data/veg3/train/images/IMG_20230428_113806_jpg.rf.b5b638fe841fb1cc143dc75b46c6f3ab.jpg  \n",
            "  inflating: train_data/veg3/train/images/IMG_20230428_113828_jpg.rf.85d4fb9702ebe95c742f4c480f59df55.jpg  \n",
            "  inflating: train_data/veg3/train/images/IMG_20230428_113844_jpg.rf.9c2180dc1957e0a34f3348c605a0a752.jpg  \n",
            "  inflating: train_data/veg3/train/images/IMG_20230428_113856_jpg.rf.19fe6cb5f0f0ce6372799ef36ab869e1.jpg  \n",
            "  inflating: train_data/veg3/train/images/IMG_20230428_113913_jpg.rf.ea5cec12cd7b92e04c9dc1f08734e592.jpg  \n",
            "  inflating: train_data/veg3/train/images/IMG_20230428_113920_jpg.rf.96961e82d7ce336e0c4713d163b8f1cc.jpg  \n",
            "  inflating: train_data/veg3/train/images/IMG_20230428_113942_jpg.rf.086f401753a4c6a69935dd8cb08310e6.jpg  \n",
            "  inflating: train_data/veg3/train/images/IMG_20230428_113958_jpg.rf.6aea5f3150ae782d6fa18468313383f2.jpg  \n",
            "  inflating: train_data/veg3/train/images/IMG_20230428_114005_jpg.rf.d03bf466949bbe13a56a4ee6fb1985b2.jpg  \n",
            "  inflating: train_data/veg3/train/images/IMG_20230428_114030_jpg.rf.73a85b51126861708d50672851313204.jpg  \n",
            "  inflating: train_data/veg3/train/images/IMG_20230428_122518_jpg.rf.db6f3067c83590e40c9275b3854d928c.jpg  \n",
            "  inflating: train_data/veg3/train/images/IMG_20230428_122603_jpg.rf.6321aeddef58854d2f9056a682816298.jpg  \n",
            "  inflating: train_data/veg3/train/images/IMG_20230428_122627_jpg.rf.fe566c5e13e00f5ef17fc707feaafe62.jpg  \n",
            "  inflating: train_data/veg3/train/images/IMG_20230428_122638_jpg.rf.2e323c5b2318ec13a233a0e869e4f020.jpg  \n",
            "  inflating: train_data/veg3/train/images/IMG_20230428_122704_jpg.rf.fafd5056f64f73ffdaaff063e6edce9d.jpg  \n",
            "  inflating: train_data/veg3/train/images/IMG_20230428_122710_jpg.rf.e44bb7d9948620a4591624752353fe8c.jpg  \n",
            "  inflating: train_data/veg3/train/images/IMG_20230428_122738_jpg.rf.45635e2da37e1a60cd77ca0e4175706b.jpg  \n",
            "  inflating: train_data/veg3/train/images/IMG_20230428_122742_jpg.rf.c5cec4ddc6c40e7dfac09caf572f9824.jpg  \n",
            "  inflating: train_data/veg3/train/images/IMG_20230428_122814_jpg.rf.78a95ac0ff5a8bd87b3ed08db12b68f8.jpg  \n",
            "  inflating: train_data/veg3/train/images/IMG_20230428_122821_jpg.rf.436109efbe6e0696d23047a38da19ac9.jpg  \n",
            "  inflating: train_data/veg3/train/images/IMG_20230428_122836_jpg.rf.069563535cf3ef347629fc5ee8558d06.jpg  \n",
            "  inflating: train_data/veg3/train/images/IMG_20230428_122856_jpg.rf.9ed09e6cfac17fb29a9d92ad90785296.jpg  \n",
            "  inflating: train_data/veg3/train/images/IMG_20230428_122902_jpg.rf.c51cee7127c6ba04ad272ed7d1b69cba.jpg  \n",
            "  inflating: train_data/veg3/train/images/IMG_20230428_122927_jpg.rf.8e846bf03139119273cefc4ab77372cd.jpg  \n",
            "  inflating: train_data/veg3/train/images/IMG_20230428_122959_jpg.rf.e3cfeb32cfb5737cecec7f9059844ca1.jpg  \n",
            "  inflating: train_data/veg3/train/images/IMG_20230428_123008_jpg.rf.9f09d0714ba6ac9971aff1640189a1c2.jpg  \n",
            "  inflating: train_data/veg3/train/images/IMG_20230428_123012_jpg.rf.cf93629d26efe0d5bc54e295761d5395.jpg  \n",
            "  inflating: train_data/veg3/train/images/IMG_20230428_123024_jpg.rf.29f4c5ba63bf1f64c4839832fa6eb8de.jpg  \n",
            "  inflating: train_data/veg3/train/images/IMG_20230428_123040_jpg.rf.801b4ea52f5611633f25d504a6946956.jpg  \n",
            "  inflating: train_data/veg3/train/images/IMG_20230428_123043_jpg.rf.8401cd5481f7e2c53a37052dc2ee40c2.jpg  \n",
            "  inflating: train_data/veg3/train/images/IMG_20230428_123051_jpg.rf.bd5827a5c57d4140f0b10da9c61cd35e.jpg  \n",
            "  inflating: train_data/veg3/train/images/IMG_20230428_123051_jpg.rf.bd7822d116d5eac6369bf65ce8ff35ef.jpg  \n",
            "  inflating: train_data/veg3/train/images/IMG_20230428_123113_jpg.rf.0087fb8012f55a13dca9d39770eb61df.jpg  \n",
            "  inflating: train_data/veg3/train/images/IMG_20230428_123125_jpg.rf.9c527ff73fa51db3a77672a603f8f303.jpg  \n",
            "  inflating: train_data/veg3/train/images/IMG_20230428_123126_jpg.rf.67695607c679c56ce6a43014b78c4af3.jpg  \n",
            "  inflating: train_data/veg3/train/images/IMG_20230428_123135_jpg.rf.6d2d5abd9de86921b5593740ce772d4c.jpg  \n",
            "  inflating: train_data/veg3/train/images/IMG_20230428_123143_jpg.rf.65de9a47830dabe2b1d83d4ba4d12205.jpg  \n",
            "  inflating: train_data/veg3/train/images/IMG_20230428_123149_jpg.rf.e0800e7566745f7aabd3959767ea9303.jpg  \n",
            "  inflating: train_data/veg3/train/images/IMG_20230428_123155_jpg.rf.1d2b449b5eab2c8932147950dc137883.jpg  \n",
            "  inflating: train_data/veg3/train/images/IMG_20230428_123211_jpg.rf.97f09c7999c7654624cca0aff972bea3.jpg  \n",
            "  inflating: train_data/veg3/train/images/IMG_20230428_123217_jpg.rf.865ce4c67bad3eed2eaae5ed8e423f1f.jpg  \n",
            "  inflating: train_data/veg3/train/images/IMG_20230428_123221_jpg.rf.0f78f59375204173a1f0580345bb3c11.jpg  \n",
            "  inflating: train_data/veg3/train/images/IMG_20230428_123227_jpg.rf.3df1e327f8a04ec151e9222aecdb4891.jpg  \n",
            "  inflating: train_data/veg3/train/images/IMG_20230428_123247_jpg.rf.dc15f5ff857e3a207ebb977e2851cc10.jpg  \n",
            "  inflating: train_data/veg3/train/images/IMG_20230428_123256_jpg.rf.3985ac5b65892e85592384c8e6fced11.jpg  \n",
            "  inflating: train_data/veg3/train/images/IMG_20230428_123305_jpg.rf.7fd6e239e1b092d568682c0f4baa88db.jpg  \n",
            "  inflating: train_data/veg3/train/images/IMG_20230428_123318_jpg.rf.51f6939ceb678921e586c6dac92de765.jpg  \n",
            "  inflating: train_data/veg3/train/images/IMG_20230428_123354_jpg.rf.9f892707373e9a1aafabae76faddb7e9.jpg  \n",
            "  inflating: train_data/veg3/train/images/IMG_20230428_123406_jpg.rf.f82c9d411b2d7deb0ae4d3827ff6a9f8.jpg  \n",
            "  inflating: train_data/veg3/train/images/IMG_20230428_123419_jpg.rf.7599b1405d0209cde3c0cb3b190c1934.jpg  \n",
            "  inflating: train_data/veg3/train/images/IMG_20230428_123431_jpg.rf.7bf6a69f4e640ebf8b111da68debd70a.jpg  \n",
            "  inflating: train_data/veg3/train/images/IMG_20230428_123443_jpg.rf.5b5af4e6e5fc2db5253402268de35e2c.jpg  \n",
            "  inflating: train_data/veg3/train/images/IMG_20230428_123508_jpg.rf.ca214fda2c20a78a5be9a41c8f67eb56.jpg  \n",
            "  inflating: train_data/veg3/train/images/IMG_20230428_123511_jpg.rf.712469641e2266a2b02daa376473d452.jpg  \n",
            "  inflating: train_data/veg3/train/images/IMG_20230428_123516_jpg.rf.51dfdbd3e7abc8ce778a6464e08ec029.jpg  \n",
            "  inflating: train_data/veg3/train/images/IMG_20230428_123526_jpg.rf.07c2c276c69afbd86e5fe8dad288c598.jpg  \n",
            "  inflating: train_data/veg3/train/images/IMG_20230428_123535_jpg.rf.255096e0111f4cf84077e9c88bc44e4d.jpg  \n",
            "  inflating: train_data/veg3/train/images/IMG_20230428_123542_jpg.rf.fc82cff98904296861f0ec9a1bb3337b.jpg  \n",
            "  inflating: train_data/veg3/train/images/IMG_20230428_123551_jpg.rf.39aecf5891d180e5736fe6ed71c4c507.jpg  \n",
            "  inflating: train_data/veg3/train/images/IMG_20230428_124247_jpg.rf.f45978c3192d2820505ec99156fbf7b8.jpg  \n",
            "  inflating: train_data/veg3/train/images/IMG_20230428_124251_jpg.rf.c5d8c8bc3b00d93e4193d4a9db0f053a.jpg  \n",
            "  inflating: train_data/veg3/train/images/IMG_20230428_124306_jpg.rf.739c7280e203af87983b7debb421965b.jpg  \n",
            "  inflating: train_data/veg3/train/images/IMG_20230428_124335_jpg.rf.fef5923701fef9c23d0dcf68109c7495.jpg  \n",
            "  inflating: train_data/veg3/train/images/IMG_20230428_124401_jpg.rf.0d37ef78421e4b95d39097dc54bd6e90.jpg  \n",
            "  inflating: train_data/veg3/train/images/IMG_20230428_124404_jpg.rf.654d93cbcef80ac3808993511df348a9.jpg  \n",
            "  inflating: train_data/veg3/train/images/IMG_20230428_124407_jpg.rf.40565d874f8a2eada8f3d73433fdbb32.jpg  \n",
            "  inflating: train_data/veg3/train/images/IMG_20230428_124411_jpg.rf.538b7897eb042f18e91395df5dbb4ddd.jpg  \n",
            "  inflating: train_data/veg3/train/images/IMG_20230428_124418_jpg.rf.5dd738920bc099733d8aeed9800ed7fa.jpg  \n",
            "  inflating: train_data/veg3/train/images/IMG_20230428_124420_jpg.rf.00366b324ac134b1f3131771413ef2af.jpg  \n",
            "  inflating: train_data/veg3/train/images/IMG_20230428_124422_jpg.rf.6387768cb536d4dc59b6163913192d41.jpg  \n",
            "  inflating: train_data/veg3/train/images/IMG_20230428_124429_jpg.rf.c6182ea2d5423b6682684e060e3d8fbf.jpg  \n",
            "  inflating: train_data/veg3/train/images/IMG_20230428_124431_jpg.rf.c63355c8fc9f7df973ad8a3b0d23e499.jpg  \n",
            "  inflating: train_data/veg3/train/images/IMG_20230428_124434_jpg.rf.d506ba396cd69063c3aa81e75b5c4f66.jpg  \n",
            "  inflating: train_data/veg3/train/images/IMG_20230428_124445_jpg.rf.e71194a6f62a16f32c80ade08b04f717.jpg  \n",
            "  inflating: train_data/veg3/train/images/IMG_20230428_124452_jpg.rf.119238c8f9b09dafba6ff0fab83c057b.jpg  \n",
            "  inflating: train_data/veg3/train/images/IMG_20230428_124457_jpg.rf.a78bbbd458b2bdd587f952f07f42c80d.jpg  \n",
            "  inflating: train_data/veg3/train/images/IMG_20230428_124501_jpg.rf.4c38fecddabcba682f504361e51c768b.jpg  \n",
            "  inflating: train_data/veg3/train/images/IMG_20230428_124505_jpg.rf.d8c81ca5bdb576187d395ea5a4254ea9.jpg  \n",
            "  inflating: train_data/veg3/train/images/IMG_20230428_124518_jpg.rf.3b0a458cb4cd2e9f0364b3e726dda574.jpg  \n",
            "  inflating: train_data/veg3/train/images/IMG_20230428_124536_jpg.rf.19e1662d78f335b627ff921dbbb41f4c.jpg  \n",
            "  inflating: train_data/veg3/train/images/IMG_20230428_124914_jpg.rf.e8161ddb5f1ab3fe168d30ccd7770f63.jpg  \n",
            "  inflating: train_data/veg3/train/images/IMG_20230428_124919_jpg.rf.3fd5c9f6da64dc067e9dc9a8d4885cfb.jpg  \n",
            "  inflating: train_data/veg3/train/images/IMG_20230428_124934_jpg.rf.a2271062f18f11fb0969df1e207ac54f.jpg  \n",
            "  inflating: train_data/veg3/train/images/IMG_20230428_124949_jpg.rf.d94ebc3e9e88ada5d63e58ad262abb2c.jpg  \n",
            "  inflating: train_data/veg3/train/images/IMG_20230428_124957_jpg.rf.0bb1902f034283758873126c36d2128d.jpg  \n",
            "  inflating: train_data/veg3/train/images/IMG_20230428_125003_jpg.rf.ba8eb834cd35eb355e82a06d56f03af1.jpg  \n",
            "  inflating: train_data/veg3/train/images/IMG_20230428_125029_jpg.rf.d4481c591ce3a9e17d53f5fa3f3a8e52.jpg  \n",
            "  inflating: train_data/veg3/train/images/IMG_20230428_125052_jpg.rf.3615e07e7f9b10e234ed2d2ccb5a6f4f.jpg  \n",
            "  inflating: train_data/veg3/train/images/IMG_20230428_125054_jpg.rf.23e35cb9feaab0368c63468dd09cbdec.jpg  \n",
            "  inflating: train_data/veg3/train/images/IMG_20230428_125058_jpg.rf.992b327291e30a0f30587bdddc147a6c.jpg  \n",
            "  inflating: train_data/veg3/train/images/IMG_20230428_125116_jpg.rf.f3bb62523a0ad7194015e780cf5d74a0.jpg  \n",
            "  inflating: train_data/veg3/train/images/IMG_20230428_125119_jpg.rf.15d43f9b21745cf546baad982337f03b.jpg  \n",
            "  inflating: train_data/veg3/train/images/IMG_20230428_125124_jpg.rf.76993fb3f547608765cdf87ee0f8e171.jpg  \n",
            "  inflating: train_data/veg3/train/images/IMG_20230428_125131_jpg.rf.866589e131a11641969fe04fb131aa81.jpg  \n",
            "  inflating: train_data/veg3/train/images/IMG_20230428_125133_jpg.rf.01887dd9d3ca3fc71af5ac3b894ad776.jpg  \n",
            "  inflating: train_data/veg3/train/images/IMG_20230428_125136_jpg.rf.d270bce5e07d3ebb10763e17c84a7efc.jpg  \n",
            "  inflating: train_data/veg3/train/images/IMG_20230428_125144_jpg.rf.03766324987d580f8fbe5a16eed4723f.jpg  \n",
            "  inflating: train_data/veg3/train/images/IMG_20230428_125149_jpg.rf.2713429bf2605b13e4bb2c55bfb7d987.jpg  \n",
            "  inflating: train_data/veg3/train/images/IMG_20230428_125153_jpg.rf.b17134dbd2767482a82e54f0fd222894.jpg  \n",
            "  inflating: train_data/veg3/train/images/IMG_20230428_125210_jpg.rf.6377737c48cb05ccb77e10fa236e8193.jpg  \n",
            "  inflating: train_data/veg3/train/images/IMG_20230428_125218_jpg.rf.918ca8b8f595033acd3806e26d81c4e1.jpg  \n",
            "  inflating: train_data/veg3/train/images/IMG_20230428_125223_jpg.rf.2ee75170678de71c66544b0e25dd1558.jpg  \n",
            "  inflating: train_data/veg3/train/images/IMG_20230428_125231_jpg.rf.3e0b68741249d62efd2fac519e40b27e.jpg  \n",
            "  inflating: train_data/veg3/train/images/IMG_20230428_125244_jpg.rf.417a37269585ba52e150d9388a39db20.jpg  \n",
            "  inflating: train_data/veg3/train/images/IMG_20230428_125252_jpg.rf.0ede4e912e9669b65696dfdfe45571e0.jpg  \n",
            "  inflating: train_data/veg3/train/images/IMG_20230502_130854_jpg.rf.4ed7bec68088efbffd2879bce7e314dc.jpg  \n",
            "  inflating: train_data/veg3/train/images/IMG_20230502_163945_jpg.rf.9306144ebbdeac1debfac5cf0041cbed.jpg  \n",
            "  inflating: train_data/veg3/train/images/IMG_20230502_183503_jpg.rf.2fb114142da81948ae1cc110dce3025b.jpg  \n",
            "  inflating: train_data/veg3/train/images/IMG_20230502_184603_jpg.rf.10c66115aab2650c287384f65874f13c.jpg  \n",
            "  inflating: train_data/veg3/train/images/IMG_20230502_184635_jpg.rf.48cca847ca4c989be8c4976380216bc6.jpg  \n",
            "  inflating: train_data/veg3/train/images/IMG_20230502_184720_jpg.rf.afcae1bebcf88d2f08eb5017715d2f59.jpg  \n",
            "  inflating: train_data/veg3/train/images/IMG_20230502_185207_jpg.rf.2c8b0a9696edd969b3400a91062ddb7d.jpg  \n",
            "  inflating: train_data/veg3/train/images/IMG_20230502_185224_jpg.rf.06fb67d74a7b8f86b78d5241543e3823.jpg  \n",
            "  inflating: train_data/veg3/train/images/IMG_20230502_185245_jpg.rf.362ccedc058477b9212206fa97288ae2.jpg  \n",
            "  inflating: train_data/veg3/train/images/IMG_20230502_185257_jpg.rf.d132823698bf02ba33086a5dab8835f5.jpg  \n",
            "  inflating: train_data/veg3/train/images/IMG_20230502_185421_jpg.rf.9762bcb7226e1709ad0ae86893a66633.jpg  \n",
            "  inflating: train_data/veg3/train/images/IMG_20230502_190052_jpg.rf.ef0da1e8e3bbc89209134d040c0b06eb.jpg  \n",
            "  inflating: train_data/veg3/train/images/IMG_20230502_190110_jpg.rf.922370a1c5be2392b77ab4d083bfaf27.jpg  \n",
            "  inflating: train_data/veg3/train/images/IMG_20230502_190844_jpg.rf.b2de17229f79a6edb386743b5e2cbea2.jpg  \n",
            "  inflating: train_data/veg3/train/images/IMG_20230502_191343_jpg.rf.39b7e47f1b8c0cb6bd2962c5f3e4f9a6.jpg  \n",
            "   creating: train_data/veg3/train/labels/\n",
            "  inflating: train_data/veg3/train/labels/20230412_112406_jpg.rf.3d840d23353ad1bdb5c1ff489b9f0821.txt  \n",
            "  inflating: train_data/veg3/train/labels/20230412_112501_jpg.rf.9997a46b7ecc5b06e03c82e7d100c43b.txt  \n",
            "  inflating: train_data/veg3/train/labels/20230412_112534_jpg.rf.4869d8cf7c5de5d24fe4031c65ad4b6b.txt  \n",
            "  inflating: train_data/veg3/train/labels/20230412_112555_jpg.rf.e6fba680b67dba68d6196b51f384e4d8.txt  \n",
            "  inflating: train_data/veg3/train/labels/20230412_112629_jpg.rf.13649232fc3c1fd65e95a82765030100.txt  \n",
            "  inflating: train_data/veg3/train/labels/20230412_112654_jpg.rf.2b85976e671333fd2256dfa7a1158b0d.txt  \n",
            "  inflating: train_data/veg3/train/labels/20230412_112706_jpg.rf.b8fde6bda9cec45ed5394fc73556a510.txt  \n",
            "  inflating: train_data/veg3/train/labels/20230412_112922_jpg.rf.d29d8bc975f3dd509a4ce5a890e3f30e.txt  \n",
            "  inflating: train_data/veg3/train/labels/IMG-20230412-WA0002_jpg.rf.8a6f503bfead3cbf8b730900bcf246b9.txt  \n",
            "  inflating: train_data/veg3/train/labels/IMG-20230412-WA0003_jpg.rf.93c7484b984d3a2328e19ccbe1b1548c.txt  \n",
            "  inflating: train_data/veg3/train/labels/IMG-20230412-WA0005_jpg.rf.06670f308950d39f90944be80bc4bac2.txt  \n",
            "  inflating: train_data/veg3/train/labels/IMG-20230412-WA0006_jpg.rf.3c02b427a8be08adf8cc32f3e5b24ae4.txt  \n",
            "  inflating: train_data/veg3/train/labels/IMG-20230412-WA0007_jpg.rf.740b20d1c3653e36e6a68c555d9b04e0.txt  \n",
            "  inflating: train_data/veg3/train/labels/IMG-20230412-WA0008_jpg.rf.6cb9cd70a5694f2dfed4c0f68b34c4b9.txt  \n",
            "  inflating: train_data/veg3/train/labels/IMG-20230412-WA0009_jpg.rf.9b3f59204d75ccb70b31bc90f9b9f098.txt  \n",
            "  inflating: train_data/veg3/train/labels/IMG20230412113111_jpg.rf.54098dc1398924c7b893c36331403469.txt  \n",
            "  inflating: train_data/veg3/train/labels/IMG20230412113142_jpg.rf.3463bb10d8b23fd6c782238e495a3a39.txt  \n",
            "  inflating: train_data/veg3/train/labels/IMG20230412113149_jpg.rf.0356c7747433cb81e86eb0566124d92d.txt  \n",
            "  inflating: train_data/veg3/train/labels/IMG20230412113156_jpg.rf.eb7dd29619a0a1d67e3d41421cf1962f.txt  \n",
            "  inflating: train_data/veg3/train/labels/IMG20230412113214_jpg.rf.b1797f684a278569819d7a00ac6b2cf8.txt  \n",
            " extracting: train_data/veg3/train/labels/IMG20230412113222_jpg.rf.e954daa2d5dd8edf21f6f5df9cc32d6d.txt  \n",
            "  inflating: train_data/veg3/train/labels/IMG20230412113307_jpg.rf.330db2ea24071149b27d644cbd5b8c68.txt  \n",
            "  inflating: train_data/veg3/train/labels/IMG20230412113311_jpg.rf.fb5315180b77b2d915bbe44f32f0fcce.txt  \n",
            "  inflating: train_data/veg3/train/labels/IMG20230412113437_jpg.rf.e855ad55c3259a30d795aa34cabdf15d.txt  \n",
            "  inflating: train_data/veg3/train/labels/IMG20230412113454_jpg.rf.7919d801d468164efb19bd670ce64775.txt  \n",
            "  inflating: train_data/veg3/train/labels/IMG20230412113505_jpg.rf.1fd3c44ddc27fa2f6f866c82f0f2bf16.txt  \n",
            "  inflating: train_data/veg3/train/labels/IMG20230412113554_jpg.rf.2f042daedd70879ff7d0ec960d7fc15a.txt  \n",
            "  inflating: train_data/veg3/train/labels/IMG20230412113602_jpg.rf.c494ef066dedb626dd82bcb1478526b5.txt  \n",
            "  inflating: train_data/veg3/train/labels/IMG20230412113609_jpg.rf.ae38e26e0e1bdb1dd81cce9c9099eb35.txt  \n",
            " extracting: train_data/veg3/train/labels/IMG20230412113710_jpg.rf.28abbee90ed07e22a3ab0f6cbe253553.txt  \n",
            "  inflating: train_data/veg3/train/labels/IMG20230412113721_jpg.rf.8705a98ab1464b44df26858cdbaab220.txt  \n",
            "  inflating: train_data/veg3/train/labels/IMG20230412113730_jpg.rf.c607801bf776996353085c7d60aafd04.txt  \n",
            "  inflating: train_data/veg3/train/labels/IMG20230412113746_jpg.rf.beaef18ec29f14f37108e50d3659f4dc.txt  \n",
            "  inflating: train_data/veg3/train/labels/IMG20230412114026_jpg.rf.7e67ccbc94d3620140adb742659b74ec.txt  \n",
            "  inflating: train_data/veg3/train/labels/IMG20230412114056_jpg.rf.9b40dd85620f02d015e9dfe6ac4a7d60.txt  \n",
            "  inflating: train_data/veg3/train/labels/IMG20230412114101_jpg.rf.8f004689ea5f89674f051fafa0033f4c.txt  \n",
            "  inflating: train_data/veg3/train/labels/IMG20230412115625_jpg.rf.88c7a1fa237d9556e14519b601ccddb0.txt  \n",
            "  inflating: train_data/veg3/train/labels/IMG20230412115634_jpg.rf.e8e681029029c1b11db2bd3875c169dc.txt  \n",
            "  inflating: train_data/veg3/train/labels/IMG20230412115641_jpg.rf.681b31aa60dda9f0e3e8686167e40dfe.txt  \n",
            "  inflating: train_data/veg3/train/labels/IMG20230412115653_jpg.rf.4cd9971d8aff6e3ee859ed2e2a096347.txt  \n",
            "  inflating: train_data/veg3/train/labels/IMG20230412115658_jpg.rf.9bb030b6e6beff7c93975058eed8734a.txt  \n",
            "  inflating: train_data/veg3/train/labels/IMG20230412115705_jpg.rf.3efa56c121e3a29adecd7b25ddb66121.txt  \n",
            "  inflating: train_data/veg3/train/labels/IMG20230412115710_jpg.rf.93e8f2710e07af8905e3748b0b6f4a18.txt  \n",
            "  inflating: train_data/veg3/train/labels/IMG20230412115728_jpg.rf.e0cd1256a3ed110b71553b15ff9b3c09.txt  \n",
            "  inflating: train_data/veg3/train/labels/IMG20230412115733_jpg.rf.8419feab39c5c32bd876efe79162aa16.txt  \n",
            "  inflating: train_data/veg3/train/labels/IMG20230412115735_jpg.rf.b551bb169d8041783c9f9983da087f20.txt  \n",
            "  inflating: train_data/veg3/train/labels/IMG20230412115739_jpg.rf.ebf8c419ef8564700246d8ecf02bab2e.txt  \n",
            "  inflating: train_data/veg3/train/labels/IMG20230428125811_jpg.rf.b7546a65a3d25e70fda1b62d34d7a10f.txt  \n",
            "  inflating: train_data/veg3/train/labels/IMG20230428125813_jpg.rf.785ccd92bc173e3c0ac4995ae24069c2.txt  \n",
            "  inflating: train_data/veg3/train/labels/IMG20230428125826_jpg.rf.f44cabe590e73af139ad9a5e034a827d.txt  \n",
            "  inflating: train_data/veg3/train/labels/IMG20230428125847_jpg.rf.7bef3bee6d808886c2d199186d2677af.txt  \n",
            "  inflating: train_data/veg3/train/labels/IMG20230428125856_jpg.rf.d1e331321ddb28d587fcf50714032e3e.txt  \n",
            "  inflating: train_data/veg3/train/labels/IMG20230428125912_jpg.rf.82aff6208d9d2909223cf6de83494b55.txt  \n",
            "  inflating: train_data/veg3/train/labels/IMG20230428125919_jpg.rf.8e946a875b774ccd9a17dbe815534116.txt  \n",
            "  inflating: train_data/veg3/train/labels/IMG20230428125922_jpg.rf.5f408a65519c506b9bb17063c2ee1e01.txt  \n",
            "  inflating: train_data/veg3/train/labels/IMG20230428125935_jpg.rf.e1937a00f64c34289470bb153ed2df18.txt  \n",
            "  inflating: train_data/veg3/train/labels/IMG20230428125939_jpg.rf.929f8d1f0b7375ede25ffa11af76ea2e.txt  \n",
            "  inflating: train_data/veg3/train/labels/IMG20230428125951_jpg.rf.0620d88ea0a11d3b9ab98405ccee01d6.txt  \n",
            "  inflating: train_data/veg3/train/labels/IMG20230428125957_jpg.rf.aef3dd25fcbe47cbc5c78bda02425532.txt  \n",
            "  inflating: train_data/veg3/train/labels/IMG20230428130000_jpg.rf.73a7c1c6d5f2feb6f29ce644ea9c9857.txt  \n",
            "  inflating: train_data/veg3/train/labels/IMG20230428130013_jpg.rf.35991b21968e1d68198bf6aaa086326b.txt  \n",
            "  inflating: train_data/veg3/train/labels/IMG20230428130017_jpg.rf.94eb16ab9ed15b52477f4917d795f62b.txt  \n",
            "  inflating: train_data/veg3/train/labels/IMG20230428130028_jpg.rf.2e1d48f5a0c196a2ea59c7b5e1eee147.txt  \n",
            "  inflating: train_data/veg3/train/labels/IMG20230428130034_jpg.rf.944b209504d56e64e240bcf794e9a3b2.txt  \n",
            "  inflating: train_data/veg3/train/labels/IMG20230428130038_jpg.rf.53dd029da2b067b7941ef13416f6e591.txt  \n",
            "  inflating: train_data/veg3/train/labels/IMG20230428130048_jpg.rf.c6d9edaa5e2e3a5e36de8e9119dd1b62.txt  \n",
            "  inflating: train_data/veg3/train/labels/IMG20230428130130_jpg.rf.7fced3c197a425a8b7a325800804577c.txt  \n",
            "  inflating: train_data/veg3/train/labels/IMG20230428130132_jpg.rf.0d13a26ba64dd418a9211a839ccb6172.txt  \n",
            "  inflating: train_data/veg3/train/labels/IMG20230428130135_jpg.rf.785a502e1c75ff1218df8fb347baee22.txt  \n",
            "  inflating: train_data/veg3/train/labels/IMG20230428130139_jpg.rf.952bd9beafa3b1b41ad81faa2a2f2053.txt  \n",
            "  inflating: train_data/veg3/train/labels/IMG20230428130144_jpg.rf.0f8551b7d2b411233dd805dbdfe865bd.txt  \n",
            "  inflating: train_data/veg3/train/labels/IMG20230428130149_jpg.rf.cd40a42751fafad634ce5afc459c9830.txt  \n",
            "  inflating: train_data/veg3/train/labels/IMG20230428130741_jpg.rf.30f83600a558c9c1f3caf41c24b6017b.txt  \n",
            "  inflating: train_data/veg3/train/labels/IMG20230428130756_jpg.rf.c5dde9e419910db06ffc132116ee7c1b.txt  \n",
            "  inflating: train_data/veg3/train/labels/IMG20230428130802_jpg.rf.33c45964942617afe9dc03b75c18eb13.txt  \n",
            "  inflating: train_data/veg3/train/labels/IMG20230502125948_jpg.rf.da2b4d0284a9bedb3a8ee0f61f3e8ad5.txt  \n",
            "  inflating: train_data/veg3/train/labels/IMG20230502130004_jpg.rf.1c0dafbc45bde3e3bd3d2e19064e7481.txt  \n",
            "  inflating: train_data/veg3/train/labels/IMG20230502130012_jpg.rf.44e371b679d922158eb051a75c1f1417.txt  \n",
            "  inflating: train_data/veg3/train/labels/IMG20230502130025_jpg.rf.11a4020c0dbb39320b6a64567fb4cfd0.txt  \n",
            "  inflating: train_data/veg3/train/labels/IMG20230502130032_jpg.rf.4c0fe89a99f4d8e98de6638a96c91458.txt  \n",
            "  inflating: train_data/veg3/train/labels/IMG20230502130110_jpg.rf.373a5c60eb68d53ef4c2bd94fe31d644.txt  \n",
            "  inflating: train_data/veg3/train/labels/IMG20230502130132_jpg.rf.418f16d312d4c0e99bbe8fdb1a4e0b2f.txt  \n",
            "  inflating: train_data/veg3/train/labels/IMG20230502130223_jpg.rf.72749e0cb4899ca48a6c4d38010b286c.txt  \n",
            "  inflating: train_data/veg3/train/labels/IMG20230502130232_jpg.rf.20fb40b85fad8a739e6af8dd53b7b9ec.txt  \n",
            "  inflating: train_data/veg3/train/labels/IMG20230502130236_jpg.rf.f87040dc96839e437d4a6c08f19845fd.txt  \n",
            "  inflating: train_data/veg3/train/labels/IMG20230502130247_jpg.rf.0a8f45e1818708c6083cbc69cb767fa1.txt  \n",
            "  inflating: train_data/veg3/train/labels/IMG20230502130300_jpg.rf.9139155834f13d069740fa77c33f50da.txt  \n",
            "  inflating: train_data/veg3/train/labels/IMG20230502130319_jpg.rf.b075b54fad3b7fdff6fc0f41a4a4917f.txt  \n",
            "  inflating: train_data/veg3/train/labels/IMG20230502130328_jpg.rf.78db2c357ddad319d76134c58f5ebca2.txt  \n",
            "  inflating: train_data/veg3/train/labels/IMG20230502130333_jpg.rf.5092784b356d84fcd4ba5262d5137a3d.txt  \n",
            "  inflating: train_data/veg3/train/labels/IMG20230502130408_jpg.rf.f12e000779516cd9e4a7b0b247994014.txt  \n",
            "  inflating: train_data/veg3/train/labels/IMG20230502130413_jpg.rf.e08e35c9989c84356644c0a86447a5b6.txt  \n",
            "  inflating: train_data/veg3/train/labels/IMG20230502130421_jpg.rf.6e2b1b5bddb11016658afe2fb1435a9f.txt  \n",
            "  inflating: train_data/veg3/train/labels/IMG20230502130430_jpg.rf.6610fac4b7f1bcead3680c080fc25e11.txt  \n",
            "  inflating: train_data/veg3/train/labels/IMG20230502130439_jpg.rf.ff00093c55803f7552db2fa85bfeb32f.txt  \n",
            "  inflating: train_data/veg3/train/labels/IMG20230502130447_jpg.rf.d31906f97f3df5c27e99c58fbded8626.txt  \n",
            "  inflating: train_data/veg3/train/labels/IMG20230502130501_jpg.rf.d3433e4633bd0a85ac709d2d5cd320e6.txt  \n",
            "  inflating: train_data/veg3/train/labels/IMG20230502130510_jpg.rf.de4ff53c3c8af0413906da35fb219adb.txt  \n",
            "  inflating: train_data/veg3/train/labels/IMG20230502130653_jpg.rf.f9d714711de84368a669c76156ce9231.txt  \n",
            "  inflating: train_data/veg3/train/labels/IMG20230502130700_jpg.rf.b0c499824643a32e333191d3ffbbb640.txt  \n",
            "  inflating: train_data/veg3/train/labels/IMG20230502130731_jpg.rf.44d98b82b46947babb9709ace7a79b60.txt  \n",
            "  inflating: train_data/veg3/train/labels/IMG20230502130735_jpg.rf.d07ab7dcd8422484520636d579fef37e.txt  \n",
            "  inflating: train_data/veg3/train/labels/IMG20230502130744_jpg.rf.6796aadf65098e8bd96177289461a0c3.txt  \n",
            "  inflating: train_data/veg3/train/labels/IMG20230502130751_jpg.rf.dfa2d1fd49603752c75291fca08e3c4e.txt  \n",
            "  inflating: train_data/veg3/train/labels/IMG20230502130756_jpg.rf.7e6bf6c04bad72bff7f8ca09b7504534.txt  \n",
            "  inflating: train_data/veg3/train/labels/IMG20230502130829_jpg.rf.e734b3832a3cc29b7395c076deb0e130.txt  \n",
            "  inflating: train_data/veg3/train/labels/IMG20230502130942_jpg.rf.f08df3cbbddcf0ca1e1ab5f88e3e2010.txt  \n",
            "  inflating: train_data/veg3/train/labels/IMG20230502130955_jpg.rf.cea5a32b3d29b9e8d94fb358eeef7f15.txt  \n",
            "  inflating: train_data/veg3/train/labels/IMG20230502131012_jpg.rf.e6195871c63de46a00e0ac84d084c2d0.txt  \n",
            "  inflating: train_data/veg3/train/labels/IMG20230502131051_jpg.rf.20569d42b920bd95a032c8884bf039b6.txt  \n",
            "  inflating: train_data/veg3/train/labels/IMG20230502131108_jpg.rf.498a5e17d2fef0cdf20f837c57f8375c.txt  \n",
            "  inflating: train_data/veg3/train/labels/IMG20230502131244_jpg.rf.057e9b5b5c4ac38abfb1b4abeef70919.txt  \n",
            "  inflating: train_data/veg3/train/labels/IMG20230502131248_jpg.rf.581ac2963939c4fdc5c649bca8e9b68d.txt  \n",
            "  inflating: train_data/veg3/train/labels/IMG20230502131312_jpg.rf.81f045902a2eca85089c107b4abec351.txt  \n",
            "  inflating: train_data/veg3/train/labels/IMG20230502131402_jpg.rf.b80ef56c5dbea9ad5d880465ca0fb022.txt  \n",
            "  inflating: train_data/veg3/train/labels/IMG20230502131414_jpg.rf.4bce77ff69ac729257ea90245ad2792d.txt  \n",
            "  inflating: train_data/veg3/train/labels/IMG20230502131422_jpg.rf.2049e215598250ac91ef1ec6c858f5fd.txt  \n",
            "  inflating: train_data/veg3/train/labels/IMG20230502131602_jpg.rf.9c5c5d81aa2db791daef3b8a1b0b879a.txt  \n",
            "  inflating: train_data/veg3/train/labels/IMG20230502131605_jpg.rf.83ac76d28c077f92a82147c57b18c72d.txt  \n",
            "  inflating: train_data/veg3/train/labels/IMG20230502131608_jpg.rf.edd26ce60e5deed81b3c1043aa8d7498.txt  \n",
            "  inflating: train_data/veg3/train/labels/IMG20230502131619_jpg.rf.337d82f561a73a92261531cf6234c940.txt  \n",
            "  inflating: train_data/veg3/train/labels/IMG20230502131623_jpg.rf.f68a96b8cf5f17666f6b74a94fa4a03c.txt  \n",
            "  inflating: train_data/veg3/train/labels/IMG20230502131650_jpg.rf.d73c450b777de02b8633c7e9e891f7e3.txt  \n",
            "  inflating: train_data/veg3/train/labels/IMG20230502131703_jpg.rf.0794a729ee72a8cdc3be29af3ead7cc3.txt  \n",
            "  inflating: train_data/veg3/train/labels/IMG20230502131726_jpg.rf.515b24e280c0901e39de2e96a8fb0cf6.txt  \n",
            "  inflating: train_data/veg3/train/labels/IMG20230502131802_jpg.rf.aa0abc52d87ed1aa7b2b421b4a0284dd.txt  \n",
            "  inflating: train_data/veg3/train/labels/IMG20230502131805_jpg.rf.4ebdd487be069dbd09cd6861399a84c3.txt  \n",
            "  inflating: train_data/veg3/train/labels/IMG20230502131809_jpg.rf.e0bc84dddabd9ca5660e0aa4f2666d0a.txt  \n",
            "  inflating: train_data/veg3/train/labels/IMG20230502131833_jpg.rf.680c4f9e3f8e90321b0b0891d84010c6.txt  \n",
            "  inflating: train_data/veg3/train/labels/IMG20230502131851_jpg.rf.2483285f4d8d3ace4c50621ae86f092c.txt  \n",
            "  inflating: train_data/veg3/train/labels/IMG20230502131856_jpg.rf.798e17816037ab00a842800f9f051df8.txt  \n",
            "  inflating: train_data/veg3/train/labels/IMG20230502132307_jpg.rf.36f0bd9ae7ebad6c87037f1dd9cddc00.txt  \n",
            "  inflating: train_data/veg3/train/labels/IMG20230502132314_jpg.rf.1469412d0f8b1ef9dba17bdd3c7405e4.txt  \n",
            "  inflating: train_data/veg3/train/labels/IMG20230502132318_jpg.rf.0f5eec61b8ff533991a091f123de67db.txt  \n",
            "  inflating: train_data/veg3/train/labels/IMG20230502132329_jpg.rf.fe6cc0d4e4bbcc6760bb40fb22fd1f01.txt  \n",
            "  inflating: train_data/veg3/train/labels/IMG20230502132355_jpg.rf.963aa5ab5ef9877aa6ba3160bdf773ff.txt  \n",
            "  inflating: train_data/veg3/train/labels/IMG20230502132424_jpg.rf.743e66d28c18e43cabb488751f7fec12.txt  \n",
            "  inflating: train_data/veg3/train/labels/IMG20230502132428_jpg.rf.270fff207aaf3e009eadd494325f16d2.txt  \n",
            "  inflating: train_data/veg3/train/labels/IMG20230502132531_jpg.rf.6e21a69c15009e3a5f0fdef6223088c5.txt  \n",
            "  inflating: train_data/veg3/train/labels/IMG20230502132543_jpg.rf.d162db927e54ce6879be9e9872740025.txt  \n",
            "  inflating: train_data/veg3/train/labels/IMG20230502155342_jpg.rf.3cbe27763a41f670f84cda14bd11edae.txt  \n",
            "  inflating: train_data/veg3/train/labels/IMG20230502155358_jpg.rf.55d3fb6e24622a7cfe71d6f4adc8f6b2.txt  \n",
            "  inflating: train_data/veg3/train/labels/IMG20230502155412_jpg.rf.9ca97575894281076eb17b6e27e6c482.txt  \n",
            "  inflating: train_data/veg3/train/labels/IMG20230502155420_jpg.rf.ac9aae6031e57f2567b0e0f3178119dc.txt  \n",
            "  inflating: train_data/veg3/train/labels/IMG20230502155425_jpg.rf.05c93119ed373763be8739d1cb707dbd.txt  \n",
            "  inflating: train_data/veg3/train/labels/IMG20230502155429_jpg.rf.f39373b31fd57b5f24769c7e867aca1d.txt  \n",
            "  inflating: train_data/veg3/train/labels/IMG20230502155433_jpg.rf.412419574fbd68e404fdb561761c2415.txt  \n",
            "  inflating: train_data/veg3/train/labels/IMG20230502155629_jpg.rf.d911fa6f79ba342088fcd23e87d4af6b.txt  \n",
            "  inflating: train_data/veg3/train/labels/IMG20230502155639_jpg.rf.79f6e1480a7810e6c8da3cb70aa0b58b.txt  \n",
            "  inflating: train_data/veg3/train/labels/IMG20230502155642_jpg.rf.f5088562d53c293b3888d8b6d9ecde15.txt  \n",
            "  inflating: train_data/veg3/train/labels/IMG20230502155647_jpg.rf.3e1e27791cf5a1c2ff4ccefd942f209d.txt  \n",
            "  inflating: train_data/veg3/train/labels/IMG20230502155655_jpg.rf.a1ab996ff5238f4ed539162fa83677c2.txt  \n",
            "  inflating: train_data/veg3/train/labels/IMG20230502155706_jpg.rf.079cac5800d8449fbb8fd59547fa599e.txt  \n",
            "  inflating: train_data/veg3/train/labels/IMG20230502155731_jpg.rf.6ce3510ce79bbd9ed78373f451d3a27c.txt  \n",
            "  inflating: train_data/veg3/train/labels/IMG20230502155737_jpg.rf.3815b6e5872dc823a039bbb6b3d88c86.txt  \n",
            "  inflating: train_data/veg3/train/labels/IMG20230502155744_jpg.rf.8384aa90267841030dbc6fa77db52476.txt  \n",
            "  inflating: train_data/veg3/train/labels/IMG20230502155758_jpg.rf.834f127ff8b8df2d107d85c7b3338c30.txt  \n",
            "  inflating: train_data/veg3/train/labels/IMG20230502155813_jpg.rf.eefd41d0fa6dc67edad2ccd303660f13.txt  \n",
            "  inflating: train_data/veg3/train/labels/IMG20230502155827_jpg.rf.6e2b24d49ac6ba597fa24dcc4363bf63.txt  \n",
            "  inflating: train_data/veg3/train/labels/IMG20230502155922_jpg.rf.471a31bc85c5b5285c8046274bd87b58.txt  \n",
            "  inflating: train_data/veg3/train/labels/IMG20230502155926_jpg.rf.c70b2058a6b21cd922467f7116d2a1c0.txt  \n",
            "  inflating: train_data/veg3/train/labels/IMG20230502155940_jpg.rf.d71efd7b6e94d66e0f281a4e57a26513.txt  \n",
            "  inflating: train_data/veg3/train/labels/IMG20230502155953_jpg.rf.24fe3f7359e905051df3d36f9f6dc992.txt  \n",
            "  inflating: train_data/veg3/train/labels/IMG20230502160015_jpg.rf.90cabdfddfecbf1561bad4e26f2d7e77.txt  \n",
            "  inflating: train_data/veg3/train/labels/IMG20230502160021_jpg.rf.494efbe9a610f9adfbdd94a4e762a145.txt  \n",
            "  inflating: train_data/veg3/train/labels/IMG20230502160114_jpg.rf.f8d0cce5db177155f89a3ecad48ffce6.txt  \n",
            "  inflating: train_data/veg3/train/labels/IMG20230502160123_jpg.rf.e4f21f0c6f87ff9eb38d1dd3dac95d34.txt  \n",
            "  inflating: train_data/veg3/train/labels/IMG20230502160344_jpg.rf.4c4b69997c3055684785e04d253bf472.txt  \n",
            "  inflating: train_data/veg3/train/labels/IMG20230502161054_jpg.rf.2ba658196db34328ca10aed0c6014535.txt  \n",
            "  inflating: train_data/veg3/train/labels/IMG20230502161101_jpg.rf.7e522b0a3b44fea9f19a66d389dab120.txt  \n",
            "  inflating: train_data/veg3/train/labels/IMG20230502161103_jpg.rf.088666e634fd4ca4e7e39b8fd639a2be.txt  \n",
            "  inflating: train_data/veg3/train/labels/IMG20230502161105_jpg.rf.430fa6080e7f39137014c684c4360db1.txt  \n",
            "  inflating: train_data/veg3/train/labels/IMG20230502161113_jpg.rf.b19c57d24c773bf6738f3e47d75ea1d5.txt  \n",
            "  inflating: train_data/veg3/train/labels/IMG20230502161118_jpg.rf.d9950bde6224be7c70b4ca0dc2495415.txt  \n",
            "  inflating: train_data/veg3/train/labels/IMG20230502161126_jpg.rf.9acc1e7ead8845ffe530cbfc618b8631.txt  \n",
            "  inflating: train_data/veg3/train/labels/IMG20230502161130_jpg.rf.0e34985969bb575b82d722ac4899c3ce.txt  \n",
            "  inflating: train_data/veg3/train/labels/IMG20230502161142_jpg.rf.67d6d8f17094f89f2a700b8dadb134e4.txt  \n",
            "  inflating: train_data/veg3/train/labels/IMG20230502161144_jpg.rf.3a39c56b4167e84084976ffe17f6df3f.txt  \n",
            "  inflating: train_data/veg3/train/labels/IMG20230502161149_jpg.rf.cff4cf87b98d9fe59446293acb125819.txt  \n",
            "  inflating: train_data/veg3/train/labels/IMG20230502161154_jpg.rf.6380d87b9c1c29229bb3d03dbca5e785.txt  \n",
            "  inflating: train_data/veg3/train/labels/IMG20230502161157_jpg.rf.88d684527382be9e7c8f7a9113814406.txt  \n",
            "  inflating: train_data/veg3/train/labels/IMG20230502161201_jpg.rf.e94a480382181f4ccd0347403f9f7e87.txt  \n",
            "  inflating: train_data/veg3/train/labels/IMG20230502161204_jpg.rf.79f0b314020fa56d3703457991477231.txt  \n",
            "  inflating: train_data/veg3/train/labels/IMG20230502161208_jpg.rf.35d493f8a6e1b3722085553678224d50.txt  \n",
            "  inflating: train_data/veg3/train/labels/IMG20230502161219_jpg.rf.68df6a5d49266ba13a1061d5fa4e4b65.txt  \n",
            "  inflating: train_data/veg3/train/labels/IMG20230502161226_jpg.rf.3fe4f60d8ad38bca1fab16695f5d629a.txt  \n",
            "  inflating: train_data/veg3/train/labels/IMG20230502161242_jpg.rf.bf442ac9a698e57f04620ef5cbb776f2.txt  \n",
            "  inflating: train_data/veg3/train/labels/IMG20230502161244_jpg.rf.f6be76ecfb1e80c9e91e093fc6f9be60.txt  \n",
            "  inflating: train_data/veg3/train/labels/IMG20230502161258_jpg.rf.62dd370c6e5a3181669afa6baf9ca084.txt  \n",
            "  inflating: train_data/veg3/train/labels/IMG20230502161303_jpg.rf.eb46f7d52999961ef892c7371c4d0855.txt  \n",
            "  inflating: train_data/veg3/train/labels/IMG20230502161316_jpg.rf.7b8f3aea59865d817a04d0bd07a52d30.txt  \n",
            "  inflating: train_data/veg3/train/labels/IMG20230502161318_jpg.rf.f0b76688b7a8524b2c153aaf0e6c78dc.txt  \n",
            "  inflating: train_data/veg3/train/labels/IMG20230502161320_jpg.rf.f0a9216d86e57b184236c2e4477c4b0f.txt  \n",
            "  inflating: train_data/veg3/train/labels/IMG20230502161323_jpg.rf.ceb779ef877239c184ba2bcb562c5db1.txt  \n",
            "  inflating: train_data/veg3/train/labels/IMG20230502161607_jpg.rf.9cd666111760dbaa255c9c7584947b86.txt  \n",
            "  inflating: train_data/veg3/train/labels/IMG20230502161620_jpg.rf.62007cb84a3b2e6e1c3ae9e12a5b6336.txt  \n",
            "  inflating: train_data/veg3/train/labels/IMG20230502161624_jpg.rf.0b8593af6d3996d13a7a0d1f461f846c.txt  \n",
            "  inflating: train_data/veg3/train/labels/IMG20230502161628_jpg.rf.85db7f295a2b0530ab373f3cfaf72ec3.txt  \n",
            "  inflating: train_data/veg3/train/labels/IMG20230502161631_jpg.rf.495826ec2e668df9a0f5fb46f3394c27.txt  \n",
            "  inflating: train_data/veg3/train/labels/IMG20230502161646_jpg.rf.b0519f7ab94fe8013d08fbb957d4df23.txt  \n",
            "  inflating: train_data/veg3/train/labels/IMG20230502161655_jpg.rf.510e4870ef749b06141420a95dbb43f9.txt  \n",
            "  inflating: train_data/veg3/train/labels/IMG20230502162151_jpg.rf.ad5333f2e530a5add619b00f0d5ded84.txt  \n",
            "  inflating: train_data/veg3/train/labels/IMG20230502162158_jpg.rf.e9b895dd1d3995cea21409dac51b6dad.txt  \n",
            "  inflating: train_data/veg3/train/labels/IMG20230502162200_jpg.rf.bc99a908edfcd991d26e5d2cf35b75cf.txt  \n",
            "  inflating: train_data/veg3/train/labels/IMG20230502162206_jpg.rf.bf55741cc022f1378badc31fcb2a26a2.txt  \n",
            "  inflating: train_data/veg3/train/labels/IMG20230502162215_jpg.rf.13811aa6ed796a3966000341b695c970.txt  \n",
            "  inflating: train_data/veg3/train/labels/IMG20230502162253_jpg.rf.e8d15012b58a26c503574b7449bbb337.txt  \n",
            "  inflating: train_data/veg3/train/labels/IMG20230502162257_jpg.rf.cf69b7487378f92017af68140fe54ef2.txt  \n",
            "  inflating: train_data/veg3/train/labels/IMG20230502162301_jpg.rf.6943a29ae3c5b389c9014cc339096b86.txt  \n",
            "  inflating: train_data/veg3/train/labels/IMG20230502162304_jpg.rf.5addf237d28779320397043f84304386.txt  \n",
            "  inflating: train_data/veg3/train/labels/IMG20230502162311_jpg.rf.cabe23e2418b0aa3bfdc3641f03a5743.txt  \n",
            "  inflating: train_data/veg3/train/labels/IMG20230502162313_jpg.rf.c91395f1d4237e5b2d9ddcbc34bf935f.txt  \n",
            "  inflating: train_data/veg3/train/labels/IMG20230502162446_jpg.rf.915a15d41ff1c855a69ff615204ea366.txt  \n",
            "  inflating: train_data/veg3/train/labels/IMG20230502162453_jpg.rf.9e2e609fa33a820d78aa5e398bd13b8d.txt  \n",
            "  inflating: train_data/veg3/train/labels/IMG20230502162455_jpg.rf.fbe26e06fc6ba7c57c6c28d8d071f43e.txt  \n",
            "  inflating: train_data/veg3/train/labels/IMG20230502162459_jpg.rf.81f74055865c78e97bd8072da8905c88.txt  \n",
            "  inflating: train_data/veg3/train/labels/IMG20230502162502_jpg.rf.68a2dc0e49bf675a3c6bb5d473f12913.txt  \n",
            "  inflating: train_data/veg3/train/labels/IMG20230502162507_jpg.rf.7a25536548a4eebb93224877951b5214.txt  \n",
            "  inflating: train_data/veg3/train/labels/IMG20230502162513_jpg.rf.0b3f2429c534ecc0ad84f742bf37ee9d.txt  \n",
            "  inflating: train_data/veg3/train/labels/IMG20230502162522_jpg.rf.ccef69e8c9ad4d421e58b643c417f1bd.txt  \n",
            "  inflating: train_data/veg3/train/labels/IMG20230502162546_jpg.rf.26d7e4eee9936c5df7d1fc078ca31a06.txt  \n",
            "  inflating: train_data/veg3/train/labels/IMG20230502162554_jpg.rf.bd7139c2268738bbc09e686fa38df7b0.txt  \n",
            "  inflating: train_data/veg3/train/labels/IMG20230502162558_jpg.rf.ae7e02a286e34c80c4a659d68fc5b8df.txt  \n",
            "  inflating: train_data/veg3/train/labels/IMG20230502162601_jpg.rf.f3345f5709f20fd64f916966028e60de.txt  \n",
            "  inflating: train_data/veg3/train/labels/IMG20230502162604_jpg.rf.8d7f50810a69c7260631d7754324c021.txt  \n",
            "  inflating: train_data/veg3/train/labels/IMG20230502162611_jpg.rf.78df04334c11e5d762ed0320dfe7da30.txt  \n",
            "  inflating: train_data/veg3/train/labels/IMG20230502162616_jpg.rf.b21ae9970da5f7d2e23e36dc93938aa8.txt  \n",
            "  inflating: train_data/veg3/train/labels/IMG20230502162622_jpg.rf.c8e6e5ad555396d902f734f2050b23b0.txt  \n",
            "  inflating: train_data/veg3/train/labels/IMG20230502162638_jpg.rf.8b531f7134bf6b1c52222297eba683c6.txt  \n",
            "  inflating: train_data/veg3/train/labels/IMG20230502162641_jpg.rf.41390cc4066bab758a1e91afef11fae7.txt  \n",
            "  inflating: train_data/veg3/train/labels/IMG20230502163201_jpg.rf.d872f862e6926f7d70c4cc22d7d7c9f4.txt  \n",
            "  inflating: train_data/veg3/train/labels/IMG20230502163217_jpg.rf.8381154d2e4285bdeda2a08cc8ab12df.txt  \n",
            "  inflating: train_data/veg3/train/labels/IMG20230502163221_jpg.rf.1012493ec2654ca63b0f264ed92b8de3.txt  \n",
            "  inflating: train_data/veg3/train/labels/IMG20230502163225_jpg.rf.98b0f636e8c7b382ea834f10130f088c.txt  \n",
            "  inflating: train_data/veg3/train/labels/IMG20230502163238_jpg.rf.69460bdf5929e2dc2ec0d89ee8b5ba3b.txt  \n",
            "  inflating: train_data/veg3/train/labels/IMG20230502163246_jpg.rf.525062d253af5b6b44e052daa011ef6c.txt  \n",
            "  inflating: train_data/veg3/train/labels/IMG20230502163257_jpg.rf.6d21bf9d2860549eea8dbe2f8d5cff5e.txt  \n",
            "  inflating: train_data/veg3/train/labels/IMG20230502163308_jpg.rf.70d809d8449147a9301cee1dc95e2c06.txt  \n",
            "  inflating: train_data/veg3/train/labels/IMG20230502163314_jpg.rf.a7bb30a5ce097fe9a2feb47f6812c230.txt  \n",
            "  inflating: train_data/veg3/train/labels/IMG20230502163320_jpg.rf.b3286d53d1bf2d9cd13ede6fbb8c756f.txt  \n",
            "  inflating: train_data/veg3/train/labels/IMG20230502163357_jpg.rf.c5a87b02d46c2bf7e2dbbe4d624e350a.txt  \n",
            "  inflating: train_data/veg3/train/labels/IMG20230502163401_jpg.rf.e2804e4272813bd26ac45a399eade2b7.txt  \n",
            "  inflating: train_data/veg3/train/labels/IMG20230502163417_jpg.rf.b312ab77d321e51f0f321089c9b5a8cb.txt  \n",
            "  inflating: train_data/veg3/train/labels/IMG20230502163425_jpg.rf.6be547c51ceea55589552e931ed436c2.txt  \n",
            "  inflating: train_data/veg3/train/labels/IMG20230502163435_jpg.rf.4edfe1f66c8d38b8e217b145451052c1.txt  \n",
            "  inflating: train_data/veg3/train/labels/IMG20230502163505_jpg.rf.76914a2af67f6ef758a6880a8aa06124.txt  \n",
            "  inflating: train_data/veg3/train/labels/IMG20230502163510_jpg.rf.dfaf311de57a3fb6517003ece40b5588.txt  \n",
            "  inflating: train_data/veg3/train/labels/IMG20230502163538_jpg.rf.09a799f77ae89748f5210752be593018.txt  \n",
            "  inflating: train_data/veg3/train/labels/IMG20230502163540_jpg.rf.79e2475323273f97be05b7e2702edb92.txt  \n",
            "  inflating: train_data/veg3/train/labels/IMG20230502163551_jpg.rf.aacfb20e1124979b548c2cd644cbe558.txt  \n",
            "  inflating: train_data/veg3/train/labels/IMG20230502163558_jpg.rf.ba7345f6295bd913da4fb0573c6f995b.txt  \n",
            "  inflating: train_data/veg3/train/labels/IMG20230502163607_jpg.rf.7e945889ead0265401c51723ed5c7961.txt  \n",
            "  inflating: train_data/veg3/train/labels/IMG20230502163929_jpg.rf.92daf8ab4c9104d411c99b153acd4a96.txt  \n",
            "  inflating: train_data/veg3/train/labels/IMG20230502164010_jpg.rf.d9f3141ffd7b78d101f331a1b10868fc.txt  \n",
            "  inflating: train_data/veg3/train/labels/IMG20230502164014_jpg.rf.c48d8dbfdaebcbb59e39b89a89334daa.txt  \n",
            "  inflating: train_data/veg3/train/labels/IMG20230502164026_jpg.rf.56ee6156083b9ce939e5ef6b450307ce.txt  \n",
            "  inflating: train_data/veg3/train/labels/IMG20230502164033_jpg.rf.1a8e7659db3d4ebd8f9e186da1ea4e0f.txt  \n",
            "  inflating: train_data/veg3/train/labels/IMG20230502164038_jpg.rf.27e110a07a2e3c83f218368a374b1d69.txt  \n",
            "  inflating: train_data/veg3/train/labels/IMG20230502164050_jpg.rf.87a6d8c2b7dedf4374c003afcc614ebd.txt  \n",
            "  inflating: train_data/veg3/train/labels/IMG20230502164056_jpg.rf.ed154917a0242b5ab28709a29194d82f.txt  \n",
            "  inflating: train_data/veg3/train/labels/IMG20230502164102_jpg.rf.251de3aa6a455148db4c7f29e7d5edc2.txt  \n",
            "  inflating: train_data/veg3/train/labels/IMG20230502164411_jpg.rf.cd7c6149f01b4b733a7f8806e7576c12.txt  \n",
            "  inflating: train_data/veg3/train/labels/IMG20230502164417_jpg.rf.33bbbfbd3136d350ca4f495b2889442f.txt  \n",
            "  inflating: train_data/veg3/train/labels/IMG20230502164433_jpg.rf.80de187ac5966035c2470ae115738671.txt  \n",
            "  inflating: train_data/veg3/train/labels/IMG20230502164451_jpg.rf.e14eb20c046ecaa7b19b4ab2181504cd.txt  \n",
            "  inflating: train_data/veg3/train/labels/IMG20230502164457_jpg.rf.0c4b64cc4999d3b40cac4a3a876952c7.txt  \n",
            "  inflating: train_data/veg3/train/labels/IMG20230502164501_jpg.rf.5516731a86636ba6d5c4c068a0d9b2ea.txt  \n",
            "  inflating: train_data/veg3/train/labels/IMG20230502164539_jpg.rf.fdd96f40b05c25cbf9334bd963e927bb.txt  \n",
            "  inflating: train_data/veg3/train/labels/IMG20230502164549_jpg.rf.40eea8644c68935e4051c498fa8aea66.txt  \n",
            "  inflating: train_data/veg3/train/labels/IMG20230502164551_jpg.rf.5e9d1a66f2a2881e131d637748083577.txt  \n",
            "  inflating: train_data/veg3/train/labels/IMG20230502164553_jpg.rf.61decc3ece636427835840f53e4a8bdd.txt  \n",
            "  inflating: train_data/veg3/train/labels/IMG20230502164607_jpg.rf.378fdb066bb510fe3354c97565c814ec.txt  \n",
            "  inflating: train_data/veg3/train/labels/IMG20230502164610_jpg.rf.9a9711709cf4868c38454d81dc5ae018.txt  \n",
            "  inflating: train_data/veg3/train/labels/IMG20230502164613_jpg.rf.4773bd7817f859e54c9e57e2e360ba31.txt  \n",
            "  inflating: train_data/veg3/train/labels/IMG20230502164617_jpg.rf.aaedf5e84b075da29380fd911b5bc182.txt  \n",
            "  inflating: train_data/veg3/train/labels/IMG20230502164626_jpg.rf.0b3dd21c3e72796d9a0d53f491e64a0c.txt  \n",
            "  inflating: train_data/veg3/train/labels/IMG20230502164629_jpg.rf.f47906693f28cc0c808d94da1089de66.txt  \n",
            "  inflating: train_data/veg3/train/labels/IMG20230502164633_jpg.rf.b044034608424171674a01f6458d7814.txt  \n",
            "  inflating: train_data/veg3/train/labels/IMG20230502164635_jpg.rf.18c54d5d6c2f58d3c310b7d24dab2abf.txt  \n",
            "  inflating: train_data/veg3/train/labels/IMG20230502164638_jpg.rf.c2a70e265aa59bdccc6b4bb557b2e0c0.txt  \n",
            "  inflating: train_data/veg3/train/labels/IMG20230502164642_jpg.rf.ff7f2400c9161117e5922458048dafbe.txt  \n",
            "  inflating: train_data/veg3/train/labels/IMG20230502164653_jpg.rf.414cdfd754fdc3882c012ab64c2cdb65.txt  \n",
            "  inflating: train_data/veg3/train/labels/IMG20230502164710_jpg.rf.53a2219a618e478af21932c66125eb61.txt  \n",
            "  inflating: train_data/veg3/train/labels/IMG20230502164712_jpg.rf.8d103f57e14353a422c9576296a94ef2.txt  \n",
            "  inflating: train_data/veg3/train/labels/IMG20230502164722_jpg.rf.a96977623e043f1a866529a44cd5dc0d.txt  \n",
            "  inflating: train_data/veg3/train/labels/IMG20230502164728_jpg.rf.826fbfe5a683cab62d82e04eee78ecc7.txt  \n",
            "  inflating: train_data/veg3/train/labels/IMG20230502164856_jpg.rf.926d64820be2765e1a4559df9277df43.txt  \n",
            "  inflating: train_data/veg3/train/labels/IMG20230502164859_jpg.rf.f3685745d83c9c6d2c74a7f0a31570ab.txt  \n",
            "  inflating: train_data/veg3/train/labels/IMG20230502164902_jpg.rf.4d7078b11b6989c9028eb81e9fa56967.txt  \n",
            "  inflating: train_data/veg3/train/labels/IMG20230502164907_jpg.rf.3a0c35d2b8abfcc922cb351ce7f7cd2c.txt  \n",
            "  inflating: train_data/veg3/train/labels/IMG20230502164928_jpg.rf.2854a746f69e760338c1131acbc316ee.txt  \n",
            "  inflating: train_data/veg3/train/labels/IMG20230502164938_jpg.rf.7625f86f5459fb4cfa7fc91bfaad7dc5.txt  \n",
            "  inflating: train_data/veg3/train/labels/IMG20230502164947_jpg.rf.b06a5fba67c62856c6815aaef134cf1f.txt  \n",
            "  inflating: train_data/veg3/train/labels/IMG20230502165802_jpg.rf.3f8093faebcf9b91bca86f4c20161d51.txt  \n",
            "  inflating: train_data/veg3/train/labels/IMG20230502165804_jpg.rf.07663b28b74d095d3161981bc4cd29bb.txt  \n",
            "  inflating: train_data/veg3/train/labels/IMG20230502165808_jpg.rf.336ceada2e9fe9d23c449808715a1a01.txt  \n",
            "  inflating: train_data/veg3/train/labels/IMG20230502165813_jpg.rf.9d0682e5170556c082b844642bf47f50.txt  \n",
            "  inflating: train_data/veg3/train/labels/IMG20230502165824_jpg.rf.2da24391b46f9c78a94f91ea5b356508.txt  \n",
            "  inflating: train_data/veg3/train/labels/IMG20230502165826_jpg.rf.b2e52b475e451dad62f8b004d4ded649.txt  \n",
            "  inflating: train_data/veg3/train/labels/IMG20230502165839_jpg.rf.9dd67ede2ccfad09873b96a04d74ad83.txt  \n",
            "  inflating: train_data/veg3/train/labels/IMG20230502165845_jpg.rf.fdabfbca227665b16e648d438a6974cf.txt  \n",
            "  inflating: train_data/veg3/train/labels/IMG20230502165857_jpg.rf.cfadb296651f10f250c9d401e7be3e86.txt  \n",
            "  inflating: train_data/veg3/train/labels/IMG20230502165910_jpg.rf.9ecf448d48cd48716d9baa4251c961b3.txt  \n",
            "  inflating: train_data/veg3/train/labels/IMG20230502165920_jpg.rf.acb79f55a67350ae8fd7c876d5f4dd37.txt  \n",
            "  inflating: train_data/veg3/train/labels/IMG20230502165928_jpg.rf.6f7484a0288a155228fac8f932f2a74f.txt  \n",
            "  inflating: train_data/veg3/train/labels/IMG20230502165930_jpg.rf.684397dd9a79a591afda35697612f0d7.txt  \n",
            "  inflating: train_data/veg3/train/labels/IMG20230502170003_jpg.rf.061253985673b5a175acc1003f26c2b3.txt  \n",
            "  inflating: train_data/veg3/train/labels/IMG20230502170010_jpg.rf.f2240eccaf17971c4df7f387e37abfed.txt  \n",
            "  inflating: train_data/veg3/train/labels/IMG20230502170014_jpg.rf.b756984c89141803a5e11256f4edf9ea.txt  \n",
            "  inflating: train_data/veg3/train/labels/IMG20230502170016_jpg.rf.a029aae5141fa45fec74bc1a533e7221.txt  \n",
            "  inflating: train_data/veg3/train/labels/IMG20230502170044_jpg.rf.5bad60f23f89b0175fe3a64e0229706e.txt  \n",
            "  inflating: train_data/veg3/train/labels/IMG20230502170056_jpg.rf.a0026140427aac0054e79696f8287dd4.txt  \n",
            "  inflating: train_data/veg3/train/labels/IMG20230502170101_jpg.rf.05c5c2ce33a0cc4c9baa221ffa90fde2.txt  \n",
            "  inflating: train_data/veg3/train/labels/IMG20230502170104_jpg.rf.6f6a5facada015403cd7efc605912e53.txt  \n",
            "  inflating: train_data/veg3/train/labels/IMG20230502170108_jpg.rf.6c0d0bfbfb7fd40dcc36bf4f626eb931.txt  \n",
            "  inflating: train_data/veg3/train/labels/IMG20230502170342_jpg.rf.de4f97af42aa35149d707adfb2a10839.txt  \n",
            "  inflating: train_data/veg3/train/labels/IMG20230502170345_jpg.rf.152e718999da18589613814835fe112c.txt  \n",
            "  inflating: train_data/veg3/train/labels/IMG20230502170347_jpg.rf.d93b479f3a443b33fb3db51ca8060b72.txt  \n",
            "  inflating: train_data/veg3/train/labels/IMG20230502170349_jpg.rf.131942255ddece5d1a63928087710298.txt  \n",
            "  inflating: train_data/veg3/train/labels/IMG20230502170351_jpg.rf.e1ea819f68f96399eb9b99dd8133fbee.txt  \n",
            "  inflating: train_data/veg3/train/labels/IMG20230502170353_jpg.rf.2f3ce08d5a48a820c4ad021b8515433e.txt  \n",
            "  inflating: train_data/veg3/train/labels/IMG20230502170358_jpg.rf.e1a4f7297b2038e6a48fc5001eea797b.txt  \n",
            "  inflating: train_data/veg3/train/labels/IMG20230502170412_jpg.rf.d5035722f86e2c0eabaf017b615e32ac.txt  \n",
            "  inflating: train_data/veg3/train/labels/IMG20230502170415_jpg.rf.6de58b297b9fa6cb582c4f751d74dd76.txt  \n",
            "  inflating: train_data/veg3/train/labels/IMG20230502170431_jpg.rf.c7f6c0f8121f2f03b11b009e17c8cf80.txt  \n",
            "  inflating: train_data/veg3/train/labels/IMG20230502170433_jpg.rf.d9fe0fb62d508cdca8056ea545551ddd.txt  \n",
            "  inflating: train_data/veg3/train/labels/IMG20230502170438_jpg.rf.67afeb691b97429c35367ca6b01b4f9e.txt  \n",
            "  inflating: train_data/veg3/train/labels/IMG20230502170441_jpg.rf.a3480c4ef6650e7604f71298efb332f2.txt  \n",
            "  inflating: train_data/veg3/train/labels/IMG20230502170446_jpg.rf.a8728c973ff38395cf7d171e50174177.txt  \n",
            "  inflating: train_data/veg3/train/labels/IMG20230502170449_jpg.rf.02c2468ef59d7cfe150a3de2023a0bf5.txt  \n",
            "  inflating: train_data/veg3/train/labels/IMG20230502170454_jpg.rf.09a3aa43a5f59ebb380168cbf57f20e9.txt  \n",
            "  inflating: train_data/veg3/train/labels/IMG20230502170503_jpg.rf.037cda19f22f69cab1808fd084625995.txt  \n",
            "  inflating: train_data/veg3/train/labels/IMG20230502170506_jpg.rf.13e70b470b4016f1ed124b3afb7814df.txt  \n",
            "  inflating: train_data/veg3/train/labels/IMG20230502170510_jpg.rf.384fb63a885de7ccbfb911bcb63fe962.txt  \n",
            "  inflating: train_data/veg3/train/labels/IMG20230502170529_jpg.rf.0ada2f1caa4bd113f1f189f0366baf93.txt  \n",
            "  inflating: train_data/veg3/train/labels/IMG20230502170534_jpg.rf.133c27f6ce0bae90c05532b963b2a281.txt  \n",
            "  inflating: train_data/veg3/train/labels/IMG20230502170536_jpg.rf.f46ddeca45ebe3177049928b4b2d92ab.txt  \n",
            "  inflating: train_data/veg3/train/labels/IMG20230502170539_jpg.rf.1714d4ca21a003ed35fc63cf9feb5336.txt  \n",
            "  inflating: train_data/veg3/train/labels/IMG20230502170541_jpg.rf.8988f61c6f039851ec96337202cf9f15.txt  \n",
            "  inflating: train_data/veg3/train/labels/IMG20230502170552_jpg.rf.9f20f8dda1f8c5ea1ab933cad67d9ef5.txt  \n",
            "  inflating: train_data/veg3/train/labels/IMG20230502170602_jpg.rf.f8751bc87248f84f1450226219222fa2.txt  \n",
            "  inflating: train_data/veg3/train/labels/IMG20230502170604_jpg.rf.fa4bed677c4c70b0759260f289b270ac.txt  \n",
            "  inflating: train_data/veg3/train/labels/IMG20230502170610_jpg.rf.2c6f6fe1472e61bf36ef42449255150a.txt  \n",
            "  inflating: train_data/veg3/train/labels/IMG20230502170703_jpg.rf.fffe017a4f58e976eb4c42da3fd94b2c.txt  \n",
            "  inflating: train_data/veg3/train/labels/IMG20230502170705_jpg.rf.fd1e9e766889cab70cf14f4df333de92.txt  \n",
            "  inflating: train_data/veg3/train/labels/IMG20230502170708_jpg.rf.1095ae2ba8b74ea1223b6ff1d0aaa91a.txt  \n",
            "  inflating: train_data/veg3/train/labels/IMG20230502170718_jpg.rf.194914b00410e5f1a275337a09ffba53.txt  \n",
            "  inflating: train_data/veg3/train/labels/IMG20230502170727_jpg.rf.8cbcdc7592ffcad10640f62db0fdb10d.txt  \n",
            "  inflating: train_data/veg3/train/labels/IMG20230502170730_jpg.rf.4abab50eae54c3b6a8f0865408186ff5.txt  \n",
            "  inflating: train_data/veg3/train/labels/IMG20230502170749_jpg.rf.d70d0045dd8400e67ba772591522bf14.txt  \n",
            "  inflating: train_data/veg3/train/labels/IMG20230502170758_jpg.rf.a5997027414155583aaf182dcff6361d.txt  \n",
            "  inflating: train_data/veg3/train/labels/IMG20230502171208_jpg.rf.79bc9c1fa1c9b4eef9dd198a743cba59.txt  \n",
            "  inflating: train_data/veg3/train/labels/IMG20230502171237_jpg.rf.d2de11887e92094be9d81293a40a95bb.txt  \n",
            "  inflating: train_data/veg3/train/labels/IMG20230502171243_jpg.rf.46cdde3b144368271a7626eb3596cc79.txt  \n",
            "  inflating: train_data/veg3/train/labels/IMG20230502171247_jpg.rf.2f0e31f66bb9f73cd0ed3eb8bcdf1f67.txt  \n",
            "  inflating: train_data/veg3/train/labels/IMG20230502171251_jpg.rf.b9f3caf42d28580d4813191695660f68.txt  \n",
            "  inflating: train_data/veg3/train/labels/IMG20230502171305_jpg.rf.a242d71113b598c9e7861010f6de36a7.txt  \n",
            "  inflating: train_data/veg3/train/labels/IMG20230502171324_jpg.rf.fec76bcb3be865723e38485ed0f6ed13.txt  \n",
            "  inflating: train_data/veg3/train/labels/IMG20230502171332_jpg.rf.f417ee1181a8e9c838fbb721dbf183bc.txt  \n",
            "  inflating: train_data/veg3/train/labels/IMG20230502171343_jpg.rf.875d6c2080a086c8c4bf6b625bb9bc3d.txt  \n",
            "  inflating: train_data/veg3/train/labels/IMG20230502171351_jpg.rf.5cc59be040ecc99e072911c4a4838c30.txt  \n",
            "  inflating: train_data/veg3/train/labels/IMG20230502171357_jpg.rf.753c570d45fbbda1466d3c7de5b436dc.txt  \n",
            "  inflating: train_data/veg3/train/labels/IMG20230502171408_jpg.rf.574cdeec75fa9e42479dc7b961a3b42d.txt  \n",
            "  inflating: train_data/veg3/train/labels/IMG20230502171411_jpg.rf.f37cabfbc4c76b201b1bbb4eb19911e7.txt  \n",
            "  inflating: train_data/veg3/train/labels/IMG20230502171414_jpg.rf.924d26e0dea8752681bc8f745a294667.txt  \n",
            "  inflating: train_data/veg3/train/labels/IMG20230502171441_jpg.rf.dfa5508093c75d7b5712ba184de81876.txt  \n",
            "  inflating: train_data/veg3/train/labels/IMG20230502171444_jpg.rf.f1a36e0e5e1fcbe4f75770f434f71eb7.txt  \n",
            "  inflating: train_data/veg3/train/labels/IMG20230502171446_jpg.rf.ded437f4a56788ff2ccc3d93a890cc42.txt  \n",
            "  inflating: train_data/veg3/train/labels/IMG20230502171510_jpg.rf.e5c3e84de3b6143a55619349778e8ad5.txt  \n",
            "  inflating: train_data/veg3/train/labels/IMG20230502171552_jpg.rf.0e8434bcfdeb6aac085a9b8354a99da2.txt  \n",
            "  inflating: train_data/veg3/train/labels/IMG20230502171555_jpg.rf.1419651ddc91bc8f178d6636df8b3d3f.txt  \n",
            "  inflating: train_data/veg3/train/labels/IMG20230502171557_jpg.rf.ab1cf491765f18444803c62b58eadf97.txt  \n",
            "  inflating: train_data/veg3/train/labels/IMG20230502171634_jpg.rf.546f8a659359e5690f56c99fb9e30cec.txt  \n",
            "  inflating: train_data/veg3/train/labels/IMG20230502171717_jpg.rf.e7da11d5b54c3de9dd87936bad33f8e8.txt  \n",
            "  inflating: train_data/veg3/train/labels/IMG20230502171728_jpg.rf.8e2324e5a1b901d1be369f6eba9b5557.txt  \n",
            "  inflating: train_data/veg3/train/labels/IMG20230502171730_jpg.rf.62d736feac04235acd2eecee6dc2a8a6.txt  \n",
            "  inflating: train_data/veg3/train/labels/IMG20230502171733_jpg.rf.389108a501b4129fca7f5db347ed8ba4.txt  \n",
            "  inflating: train_data/veg3/train/labels/IMG20230502171738_jpg.rf.e7299bae3278468701f15261a1213c7a.txt  \n",
            "  inflating: train_data/veg3/train/labels/IMG20230502171804_jpg.rf.8ef412d302a8e9585d9b023eb80f18de.txt  \n",
            "  inflating: train_data/veg3/train/labels/IMG20230502171809_jpg.rf.b17881a25780342f646de4b4d87b880d.txt  \n",
            "  inflating: train_data/veg3/train/labels/IMG20230502172202_jpg.rf.bb3666335a8982d6695660d8fc3015b0.txt  \n",
            "  inflating: train_data/veg3/train/labels/IMG20230502172206_jpg.rf.984432a8b5ed38661d0a260131d23c69.txt  \n",
            "  inflating: train_data/veg3/train/labels/IMG20230502172209_jpg.rf.33db4229585fcf7633dc286935a7f53d.txt  \n",
            "  inflating: train_data/veg3/train/labels/IMG20230502172211_jpg.rf.74b4f66a1b9ba327b94b3c4c381a8080.txt  \n",
            "  inflating: train_data/veg3/train/labels/IMG20230502172213_jpg.rf.d557be4e84efd81c8f38b1d20e26c546.txt  \n",
            "  inflating: train_data/veg3/train/labels/IMG20230502172215_jpg.rf.6ed08d4fabe30ddddbf601ec6a220bd8.txt  \n",
            "  inflating: train_data/veg3/train/labels/IMG20230502172221_jpg.rf.77c3b3d557f92a1a5d920b05a9ff9ed0.txt  \n",
            "  inflating: train_data/veg3/train/labels/IMG20230502172224_jpg.rf.22e04f30b1e8af9d2ff842fe10948bc1.txt  \n",
            "  inflating: train_data/veg3/train/labels/IMG20230502172231_jpg.rf.93499118ce8a722a6dcf4f7c7ad666e6.txt  \n",
            "  inflating: train_data/veg3/train/labels/IMG20230502172235_jpg.rf.1fca59e7bee88e4775cb0cf4b90fab13.txt  \n",
            "  inflating: train_data/veg3/train/labels/IMG20230502172249_jpg.rf.4867cc7c60919813d07c7c60380fcbe5.txt  \n",
            "  inflating: train_data/veg3/train/labels/IMG20230502172317_jpg.rf.155b82d66b6d6dd92274c8505fbab5fb.txt  \n",
            "  inflating: train_data/veg3/train/labels/IMG20230502172319_jpg.rf.b523d761f6aa7fbf227ab948a9e8c86e.txt  \n",
            "  inflating: train_data/veg3/train/labels/IMG20230502172322_jpg.rf.10a8fa9f93acc9b138d62d1c33ad4acc.txt  \n",
            "  inflating: train_data/veg3/train/labels/IMG20230502172328_jpg.rf.8af626a4f4e8868532f4bd5fef6e624d.txt  \n",
            "  inflating: train_data/veg3/train/labels/IMG20230502172347_jpg.rf.8af1bce454caf128cf37eaa0920a6150.txt  \n",
            "  inflating: train_data/veg3/train/labels/IMG20230502172351_jpg.rf.cc54de89f7972fcd1b7de06857ef1341.txt  \n",
            "  inflating: train_data/veg3/train/labels/IMG20230502172404_jpg.rf.89f5c5d742d1ac22bd4951a5606e2f19.txt  \n",
            "  inflating: train_data/veg3/train/labels/IMG20230502172407_jpg.rf.70bf1f71d3bb888e868fba00482dc94e.txt  \n",
            "  inflating: train_data/veg3/train/labels/IMG20230502172423_jpg.rf.30ad1987f8f41b4d05eff8b291bf4f1e.txt  \n",
            "  inflating: train_data/veg3/train/labels/IMG20230502172427_jpg.rf.b4fc82f205a87d7bba7dd14b22db7823.txt  \n",
            "  inflating: train_data/veg3/train/labels/IMG20230502172503_jpg.rf.3121152291aadcac5cce0ec8920522c0.txt  \n",
            "  inflating: train_data/veg3/train/labels/IMG20230502172506_jpg.rf.eac39a4ab86703305f435c0205606bf0.txt  \n",
            "  inflating: train_data/veg3/train/labels/IMG20230502172526_jpg.rf.d34a2e40d800423e847cb51a83a7ea68.txt  \n",
            "  inflating: train_data/veg3/train/labels/IMG20230502172608_jpg.rf.b96f5b06f15b2845141059f06121ff3b.txt  \n",
            "  inflating: train_data/veg3/train/labels/IMG20230502172614_jpg.rf.202002514a5daba03fb3ab4718a17b36.txt  \n",
            "  inflating: train_data/veg3/train/labels/IMG20230502172640_jpg.rf.b38bcbb2000f011f94a4f5e3e9b8bc3b.txt  \n",
            "  inflating: train_data/veg3/train/labels/IMG20230502172644_jpg.rf.11250fe0bb7a607965145a0943b4ad85.txt  \n",
            "  inflating: train_data/veg3/train/labels/IMG20230502174106_jpg.rf.f70f7ab2e9ed77c09a06fef68a7457c1.txt  \n",
            "  inflating: train_data/veg3/train/labels/IMG20230502174109_jpg.rf.34a0c87147aeae539d65ec1107c0abdd.txt  \n",
            "  inflating: train_data/veg3/train/labels/IMG20230502174113_jpg.rf.11813cd362dcab35e326e6df3219fd0e.txt  \n",
            "  inflating: train_data/veg3/train/labels/IMG20230502174127_jpg.rf.0980387f856e57ebf9cd7f632e5c5aff.txt  \n",
            "  inflating: train_data/veg3/train/labels/IMG20230502174136_jpg.rf.1c828a6fdd3849a65b2bee3e9bc0be30.txt  \n",
            "  inflating: train_data/veg3/train/labels/IMG20230502174202_jpg.rf.c2930de26c13ea6c32f79ac05f992445.txt  \n",
            "  inflating: train_data/veg3/train/labels/IMG20230502174212_jpg.rf.dbead342148feab2b897347b71722442.txt  \n",
            "  inflating: train_data/veg3/train/labels/IMG20230502174214_jpg.rf.5d09498ec9d6d4d79f463159f5bb3fd3.txt  \n",
            "  inflating: train_data/veg3/train/labels/IMG20230502174222_jpg.rf.4123b55b963f105266a1b0cc65f3a6e5.txt  \n",
            "  inflating: train_data/veg3/train/labels/IMG20230502174237_jpg.rf.7599a1284aefea435cd6a9308f276bb3.txt  \n",
            "  inflating: train_data/veg3/train/labels/IMG20230502174240_jpg.rf.0d21a5cc0ced1268911cc986a78728eb.txt  \n",
            "  inflating: train_data/veg3/train/labels/IMG20230502174251_jpg.rf.368c32ebf30f8ef956625e332e26fab5.txt  \n",
            "  inflating: train_data/veg3/train/labels/IMG20230502174302_jpg.rf.5cf951a6b7acc3e76c0ab2580b564b46.txt  \n",
            "  inflating: train_data/veg3/train/labels/IMG20230502174310_jpg.rf.42ae6d125be6eac380857931ab9a6f58.txt  \n",
            "  inflating: train_data/veg3/train/labels/IMG20230502174312_jpg.rf.f5ac0c843b000bb1e3ffb85ca3d6c7b7.txt  \n",
            "  inflating: train_data/veg3/train/labels/IMG20230502174321_jpg.rf.dad45dc89edb6c78492b4f032f979ebf.txt  \n",
            "  inflating: train_data/veg3/train/labels/IMG20230502174330_jpg.rf.07f95a607d75971f821a43f32ccf0f5a.txt  \n",
            "  inflating: train_data/veg3/train/labels/IMG20230502174334_jpg.rf.e130e9bcd1a399b6b930c164cd889b47.txt  \n",
            "  inflating: train_data/veg3/train/labels/IMG20230502174336_jpg.rf.2d67b9efdebe9f60251ff18cbbf79a62.txt  \n",
            "  inflating: train_data/veg3/train/labels/IMG20230502174339_jpg.rf.039d9689645bbcfd503992d660655074.txt  \n",
            "  inflating: train_data/veg3/train/labels/IMG20230502174343_jpg.rf.aada4a81d23d6d2e2b07dc6823a38ac6.txt  \n",
            "  inflating: train_data/veg3/train/labels/IMG20230502174358_jpg.rf.2d661efb5fc3009a85212dfb1e5640a7.txt  \n",
            "  inflating: train_data/veg3/train/labels/IMG20230502174404_jpg.rf.69043864c50be860c94748dfb188373f.txt  \n",
            "  inflating: train_data/veg3/train/labels/IMG20230502174413_jpg.rf.2e6d23482560ad333742e9e3573057b2.txt  \n",
            "  inflating: train_data/veg3/train/labels/IMG20230502174416_jpg.rf.674a0362be6a3e76a0b5682a2d2b1cff.txt  \n",
            "  inflating: train_data/veg3/train/labels/IMG20230502174420_jpg.rf.dec5ca9e8ff256e97a797868ce53ec1c.txt  \n",
            "  inflating: train_data/veg3/train/labels/IMG20230502174426_jpg.rf.aff45c2dfd0a186bb77e897fe6411d64.txt  \n",
            "  inflating: train_data/veg3/train/labels/IMG20230502174430_jpg.rf.5433c4edebb2c79fa81bc8820d53e0da.txt  \n",
            "  inflating: train_data/veg3/train/labels/IMG20230502174657_jpg.rf.f9efe301ae6d801f1790d5a916f8a4d1.txt  \n",
            "  inflating: train_data/veg3/train/labels/IMG20230502174704_jpg.rf.403b6ffe1241c0ea809ce33410834ac0.txt  \n",
            "  inflating: train_data/veg3/train/labels/IMG20230502174707_jpg.rf.63bf69c35956727dded860d05e3e4986.txt  \n",
            "  inflating: train_data/veg3/train/labels/IMG20230502174712_jpg.rf.40eb1aaf906601cea7cef663e00b4c47.txt  \n",
            "  inflating: train_data/veg3/train/labels/IMG20230502174714_jpg.rf.7e0a4abae579747462a4375b3dd82301.txt  \n",
            "  inflating: train_data/veg3/train/labels/IMG20230502174727_jpg.rf.50e232f4bb0569d712a1d27d289cc153.txt  \n",
            "  inflating: train_data/veg3/train/labels/IMG20230502174736_jpg.rf.70c80104ada9dd36e5c53386b0531e90.txt  \n",
            "  inflating: train_data/veg3/train/labels/IMG20230502174738_jpg.rf.68ab37ca6408c365561c43889e3f9468.txt  \n",
            "  inflating: train_data/veg3/train/labels/IMG20230502174744_jpg.rf.b491ae5ae4288a5ebd45f5010a838b08.txt  \n",
            "  inflating: train_data/veg3/train/labels/IMG20230502174806_jpg.rf.4d0e6286ba64a9ab11796b327cd234d8.txt  \n",
            "  inflating: train_data/veg3/train/labels/IMG20230502174816_jpg.rf.355b61c5a3ed0d58f463cbfe1a1cca6d.txt  \n",
            "  inflating: train_data/veg3/train/labels/IMG20230502174822_jpg.rf.137226e6d624d6e802488ac19a8dbad9.txt  \n",
            "  inflating: train_data/veg3/train/labels/IMG20230502174824_jpg.rf.69e08589aaaf273e1fc9dddf68db1faf.txt  \n",
            "  inflating: train_data/veg3/train/labels/IMG20230502174827_jpg.rf.02d953eccd1d5953d4cad680e28f79a6.txt  \n",
            "  inflating: train_data/veg3/train/labels/IMG20230502174832_jpg.rf.d149a64670bc64e29b99a97958dde36c.txt  \n",
            "  inflating: train_data/veg3/train/labels/IMG20230502174846_jpg.rf.9918668fc5ffb734652de454ca1ca93b.txt  \n",
            "  inflating: train_data/veg3/train/labels/IMG20230502174848_jpg.rf.dffdb1b5e8722e9b380d5c25a3df11fe.txt  \n",
            "  inflating: train_data/veg3/train/labels/IMG20230502174851_jpg.rf.7589f25c26d42a753d8ef46cc5ae8d66.txt  \n",
            "  inflating: train_data/veg3/train/labels/IMG20230502174905_jpg.rf.2bdc2dd96a5c5ae39fe855d1cb1d3c14.txt  \n",
            "  inflating: train_data/veg3/train/labels/IMG20230502174910_jpg.rf.54db5dda08effc39e16e6c5f9545146f.txt  \n",
            "  inflating: train_data/veg3/train/labels/IMG20230502174934_jpg.rf.2e6e06cfa3024e3c156c40ca167e119d.txt  \n",
            "  inflating: train_data/veg3/train/labels/IMG20230502174937_jpg.rf.0bc42bdfa6f161b52684a04d9e9efef0.txt  \n",
            "  inflating: train_data/veg3/train/labels/IMG20230502174940_jpg.rf.b83880ad4e218ac5415e971565eb35c8.txt  \n",
            "  inflating: train_data/veg3/train/labels/IMG20230502175015_jpg.rf.9ddd6e6da7d8cb002417e1ad88d144dc.txt  \n",
            "  inflating: train_data/veg3/train/labels/IMG20230502175028_jpg.rf.5978eead428517308f0a690c84540661.txt  \n",
            "  inflating: train_data/veg3/train/labels/IMG20230502175033_jpg.rf.52d7276cfb4c1a03e49c2ca6c16395c7.txt  \n",
            "  inflating: train_data/veg3/train/labels/IMG20230502175036_jpg.rf.4d42e254bea927605acced094b04e85c.txt  \n",
            "  inflating: train_data/veg3/train/labels/IMG20230502175117_jpg.rf.ea77436eb55804aca166f37dd03dcfe4.txt  \n",
            "  inflating: train_data/veg3/train/labels/IMG20230502175123_jpg.rf.6a7ece4f3abfc866fea5200f05c1152a.txt  \n",
            "  inflating: train_data/veg3/train/labels/IMG20230502175134_jpg.rf.b1d8861c220d3c383b5fa80d8bbe38ad.txt  \n",
            "  inflating: train_data/veg3/train/labels/IMG20230502175956_jpg.rf.9f6d820757f05284342bc08bdde52bef.txt  \n",
            "  inflating: train_data/veg3/train/labels/IMG20230502175959_jpg.rf.e7f434aa3726fdee486c46de807ea55e.txt  \n",
            "  inflating: train_data/veg3/train/labels/IMG20230502180004_jpg.rf.20200dfd7bb277b32c3341f8d103974d.txt  \n",
            "  inflating: train_data/veg3/train/labels/IMG20230502180010_jpg.rf.c14c21c44efd07285dd519c8b1324f44.txt  \n",
            "  inflating: train_data/veg3/train/labels/IMG20230502180012_jpg.rf.1e32d988bfc76ffa1213ab9525e1ccb4.txt  \n",
            "  inflating: train_data/veg3/train/labels/IMG20230502180014_jpg.rf.75126328859e9aa33251edf449208ff7.txt  \n",
            "  inflating: train_data/veg3/train/labels/IMG20230502180016_jpg.rf.62eade12ced46658c581a9ff480b96bc.txt  \n",
            "  inflating: train_data/veg3/train/labels/IMG20230502180030_jpg.rf.e795759a84521d3d32c66a6feff1d1b7.txt  \n",
            "  inflating: train_data/veg3/train/labels/IMG20230502180035_jpg.rf.137bda38a5616accbe5c18d2ce59d41c.txt  \n",
            "  inflating: train_data/veg3/train/labels/IMG20230502180040_jpg.rf.83fe2baae71339bbf7a7cfbd3baa21b8.txt  \n",
            "  inflating: train_data/veg3/train/labels/IMG20230502180043_jpg.rf.c3c3df08ad7061cfed35fb7ec0b0c155.txt  \n",
            "  inflating: train_data/veg3/train/labels/IMG20230502180049_jpg.rf.a02ce24cc363b14dc5cc0390aac48d87.txt  \n",
            "  inflating: train_data/veg3/train/labels/IMG20230502180055_jpg.rf.3a2b94c1e32a0093338cd64e1571f006.txt  \n",
            "  inflating: train_data/veg3/train/labels/IMG20230502180102_jpg.rf.1bf9285a630448fbfa2fa984825abffa.txt  \n",
            "  inflating: train_data/veg3/train/labels/IMG20230502180108_jpg.rf.a0424cd3d5a326888ae019a8175c83b3.txt  \n",
            "  inflating: train_data/veg3/train/labels/IMG20230502180117_jpg.rf.b7c4df15a62effe30f411467fbf21cb1.txt  \n",
            "  inflating: train_data/veg3/train/labels/IMG20230502180130_jpg.rf.e06e18266cf7d345c85478f645f0fcf7.txt  \n",
            "  inflating: train_data/veg3/train/labels/IMG20230502180134_jpg.rf.5144176649605c25ab4b5668ffdf3f64.txt  \n",
            "  inflating: train_data/veg3/train/labels/IMG20230502180136_jpg.rf.933dd380d2f68011d302b562ff9932e4.txt  \n",
            "  inflating: train_data/veg3/train/labels/IMG20230502180148_jpg.rf.f1506c1c5ed543abe650fe01a9799145.txt  \n",
            "  inflating: train_data/veg3/train/labels/IMG20230502180153_jpg.rf.405145f68dd74dd9c101e0e41c6355c8.txt  \n",
            "  inflating: train_data/veg3/train/labels/IMG20230502180156_jpg.rf.7689afbac98203febbe4aceb840d324c.txt  \n",
            "  inflating: train_data/veg3/train/labels/IMG20230502180256_jpg.rf.3db5d7bb45af473345515d01b57982d7.txt  \n",
            "  inflating: train_data/veg3/train/labels/IMG20230502180300_jpg.rf.0ab06c08671ae9f625d009c1e2e99f38.txt  \n",
            "  inflating: train_data/veg3/train/labels/IMG20230502180303_jpg.rf.34532abdaac3bc033cfc4b3d942da062.txt  \n",
            "  inflating: train_data/veg3/train/labels/IMG20230502180313_jpg.rf.c87f699f3e5dd4030a1ab824a644fcb4.txt  \n",
            "  inflating: train_data/veg3/train/labels/IMG20230502180316_jpg.rf.e3e1cbf750cca21d4cf43eb81d2ddbb8.txt  \n",
            "  inflating: train_data/veg3/train/labels/IMG20230502180319_jpg.rf.3e4c8f9b7c35cc9ec1df1094e305ad2c.txt  \n",
            "  inflating: train_data/veg3/train/labels/IMG20230502180325_jpg.rf.c0d8c89f2d2eaa6b4c559744a0a17e9b.txt  \n",
            "  inflating: train_data/veg3/train/labels/IMG20230502180331_jpg.rf.0109604149ffcf5aab771129929d50fd.txt  \n",
            "  inflating: train_data/veg3/train/labels/IMG20230502180332_jpg.rf.7911e881636d3c1dde27edb980672001.txt  \n",
            "  inflating: train_data/veg3/train/labels/IMG20230502180334_jpg.rf.b5f83370efc732d2495be8df19ef8079.txt  \n",
            "  inflating: train_data/veg3/train/labels/IMG20230502180627_jpg.rf.b5c840a718dc0855b6511fd7d0d83b30.txt  \n",
            "  inflating: train_data/veg3/train/labels/IMG20230502180629_jpg.rf.c5f20677b2808e09def6f46015fba5a9.txt  \n",
            "  inflating: train_data/veg3/train/labels/IMG20230502180631_jpg.rf.3f303fef420fe1d56a6a486540023872.txt  \n",
            "  inflating: train_data/veg3/train/labels/IMG20230502180633_jpg.rf.d2a9bee3dd69c750488a89755df7634c.txt  \n",
            "  inflating: train_data/veg3/train/labels/IMG20230502180635_jpg.rf.d8057d6bf9ec69910828585bd3a9b669.txt  \n",
            "  inflating: train_data/veg3/train/labels/IMG20230502180637_jpg.rf.2d3b11ef43fea8548565ef04c4862433.txt  \n",
            "  inflating: train_data/veg3/train/labels/IMG20230502180642_jpg.rf.11753340b3c24045858211051c7f4f39.txt  \n",
            "  inflating: train_data/veg3/train/labels/IMG20230502180644_jpg.rf.cd00a07162c038231a6fe0e6749545c0.txt  \n",
            "  inflating: train_data/veg3/train/labels/IMG20230502180645_jpg.rf.607a0a38b59f074a4e3b801ae199971e.txt  \n",
            "  inflating: train_data/veg3/train/labels/IMG20230502180654_jpg.rf.6ae3854be92db0ae92d53f63f1975b23.txt  \n",
            "  inflating: train_data/veg3/train/labels/IMG20230502180710_jpg.rf.fcf1454d52403427c420f163b64410e5.txt  \n",
            "  inflating: train_data/veg3/train/labels/IMG20230502180714_jpg.rf.34407d77423dfb87768613e194cbc557.txt  \n",
            "  inflating: train_data/veg3/train/labels/IMG20230502180721_jpg.rf.e9f2fcc9455884837fce81f19da38b8d.txt  \n",
            "  inflating: train_data/veg3/train/labels/IMG20230502180737_jpg.rf.cd3643417457853c9257f46e209b5e66.txt  \n",
            "  inflating: train_data/veg3/train/labels/IMG20230502180742_jpg.rf.b4c990ab2f3638ea76714b66589abf5f.txt  \n",
            "  inflating: train_data/veg3/train/labels/IMG20230502180801_jpg.rf.8ade357e548450d338fbb287ee5bdd01.txt  \n",
            "  inflating: train_data/veg3/train/labels/IMG20230502180804_jpg.rf.137bb005ecd606fb318540b2f45146c3.txt  \n",
            "  inflating: train_data/veg3/train/labels/IMG20230502180809_jpg.rf.22bc9efcb0af2df99f1553bec24b453d.txt  \n",
            "  inflating: train_data/veg3/train/labels/IMG20230502180811_jpg.rf.27895d9e0f9ce71463a9be70a9116545.txt  \n",
            "  inflating: train_data/veg3/train/labels/IMG20230502180818_jpg.rf.aed880871f2a26971616c008280f0fa8.txt  \n",
            "  inflating: train_data/veg3/train/labels/IMG20230502180821_jpg.rf.55e1e674cd1e2df6ec5e37626673ebe7.txt  \n",
            "  inflating: train_data/veg3/train/labels/IMG20230502180824_jpg.rf.75326d42a98bc86fdc8b6e318b5f8435.txt  \n",
            "  inflating: train_data/veg3/train/labels/IMG20230502180833_jpg.rf.79d9f3b834a62ebd5eef63d1a81a1ee4.txt  \n",
            "  inflating: train_data/veg3/train/labels/IMG20230502180836_jpg.rf.287b0644e75a63f46a0a0da0da076bfd.txt  \n",
            "  inflating: train_data/veg3/train/labels/IMG20230502180842_jpg.rf.8015e57b9df8a22ab629c91623d7bad6.txt  \n",
            "  inflating: train_data/veg3/train/labels/IMG20230502180848_jpg.rf.8c8d26b542a5a5bf4a2599a611de0d4a.txt  \n",
            "  inflating: train_data/veg3/train/labels/IMG20230502180945_jpg.rf.79508f20c86bb58c3bff1a96a7432a39.txt  \n",
            "  inflating: train_data/veg3/train/labels/IMG20230502180947_jpg.rf.adb4b0685cd01863f9311c398a6ecfe0.txt  \n",
            "  inflating: train_data/veg3/train/labels/IMG20230502180955_jpg.rf.959e5f7969647dfcabcc87176927c6c7.txt  \n",
            "  inflating: train_data/veg3/train/labels/IMG20230502181000_jpg.rf.15d1b6bd7ebbf021fcf12d3972b0189f.txt  \n",
            "  inflating: train_data/veg3/train/labels/IMG20230502181013_jpg.rf.14d7ee59dc89ebe89f7cc76f0f352b8d.txt  \n",
            "  inflating: train_data/veg3/train/labels/IMG20230502181920_jpg.rf.7593381519920ab86694bf6bf15f16fe.txt  \n",
            "  inflating: train_data/veg3/train/labels/IMG20230502181927_jpg.rf.580664efbcdb6a709f8e4cd8022eb491.txt  \n",
            "  inflating: train_data/veg3/train/labels/IMG20230502181954_jpg.rf.8d8d52d92f481d39748125f13953dbdf.txt  \n",
            "  inflating: train_data/veg3/train/labels/IMG20230502182002_jpg.rf.919692dbc438a1d4ad4c54d8763d2274.txt  \n",
            "  inflating: train_data/veg3/train/labels/IMG20230502182010_jpg.rf.23d9c1a6d112e6fefd096d80171d3d3d.txt  \n",
            "  inflating: train_data/veg3/train/labels/IMG20230502182015_jpg.rf.73f753f13959dce7f0e8a316e0a5d609.txt  \n",
            "  inflating: train_data/veg3/train/labels/IMG20230502182844_jpg.rf.f41671f551951ffdb9e3b65c80508213.txt  \n",
            "  inflating: train_data/veg3/train/labels/IMG20230502182856_jpg.rf.c3d6c61d9b48f84add4fdb3e05171ffa.txt  \n",
            "  inflating: train_data/veg3/train/labels/IMG20230502182925_jpg.rf.5576ff2ef61572de058061bfa330986d.txt  \n",
            "  inflating: train_data/veg3/train/labels/IMG20230502182938_jpg.rf.d799e109fec34086045dd332d7a0dfc3.txt  \n",
            "  inflating: train_data/veg3/train/labels/IMG20230502183017_jpg.rf.f40b1acc65279ce20062bfeda2cc4c96.txt  \n",
            "  inflating: train_data/veg3/train/labels/IMG20230502183021_jpg.rf.721049ae9e31fa30c28f7fe7b69b89bc.txt  \n",
            "  inflating: train_data/veg3/train/labels/IMG20230502183027_jpg.rf.1f1ed2f5ff95c8dcd4c03b49411cdfb7.txt  \n",
            "  inflating: train_data/veg3/train/labels/IMG20230502183300_jpg.rf.edec8b7a34d81e3ec595908198e5b31a.txt  \n",
            "  inflating: train_data/veg3/train/labels/IMG20230502183308_jpg.rf.02dbd980ccfb45ddabdc5f9e417fce82.txt  \n",
            "  inflating: train_data/veg3/train/labels/IMG20230502183313_jpg.rf.c9a297cab07500a52cd66304ecf46f2d.txt  \n",
            "  inflating: train_data/veg3/train/labels/IMG20230502183340_jpg.rf.596ce5004235ea5ae6eb6406a56c03da.txt  \n",
            "  inflating: train_data/veg3/train/labels/IMG20230502183345_jpg.rf.a93810334f4e7d16805b16d0316b1de0.txt  \n",
            "  inflating: train_data/veg3/train/labels/IMG20230502183416_jpg.rf.e3d23640e8e8eec63ac89c811b03ccae.txt  \n",
            "  inflating: train_data/veg3/train/labels/IMG20230502183421_jpg.rf.308d414fff1950d32f5e071d3b9afbd0.txt  \n",
            "  inflating: train_data/veg3/train/labels/IMG20230502183427_jpg.rf.90ce8273fd6ef4e655f66286fc8a0aad.txt  \n",
            "  inflating: train_data/veg3/train/labels/IMG20230502184154_jpg.rf.6650007c01fbdddbc7ee1872aa547d8a.txt  \n",
            "  inflating: train_data/veg3/train/labels/IMG20230502184950_jpg.rf.28b872edb3fb0642d1bdd08cbbd06d99.txt  \n",
            "  inflating: train_data/veg3/train/labels/IMG20230502190704_jpg.rf.b7bdd1c81534161968e0f236abbeed6e.txt  \n",
            "  inflating: train_data/veg3/train/labels/IMG20230502190718_jpg.rf.74b0cdc8ec01a42d5274e068f9b1524b.txt  \n",
            "  inflating: train_data/veg3/train/labels/IMG20230502191056_jpg.rf.ea1db832728639ec40acf8cac8d8f826.txt  \n",
            "  inflating: train_data/veg3/train/labels/IMG20230502191140_jpg.rf.665825e4a5bd0109a0f904d63ddf6e37.txt  \n",
            "  inflating: train_data/veg3/train/labels/IMG20230502191215_jpg.rf.12d038c489ca9bdbee631c2aa8975b99.txt  \n",
            "  inflating: train_data/veg3/train/labels/IMG20230502191256_jpg.rf.cbc39ec6c71be823322b8170e169487f.txt  \n",
            "  inflating: train_data/veg3/train/labels/IMG_20230412_114823_jpg.rf.321e4a0c299f28554ca35602d6ed62cd.txt  \n",
            "  inflating: train_data/veg3/train/labels/IMG_20230412_114830_jpg.rf.a6dc17b423114846752209228b33fee5.txt  \n",
            "  inflating: train_data/veg3/train/labels/IMG_20230412_114842_jpg.rf.66d62a60c0a7104bf3313b451bd3ec09.txt  \n",
            "  inflating: train_data/veg3/train/labels/IMG_20230412_115012_jpg.rf.ca70d7a63181c280ffa84eabad6c6a9a.txt  \n",
            "  inflating: train_data/veg3/train/labels/IMG_20230412_115017_jpg.rf.1a80362fdd4eb2fd0d388e3a660a76fc.txt  \n",
            "  inflating: train_data/veg3/train/labels/IMG_20230412_115026_jpg.rf.82c31f5964ba4b91526102d55327fb13.txt  \n",
            "  inflating: train_data/veg3/train/labels/IMG_20230412_115245_jpg.rf.3251f4cc45f0858fe450daa57beb3dc7.txt  \n",
            " extracting: train_data/veg3/train/labels/IMG_20230412_115320_jpg.rf.dd900966799ee8dd5b1d554d24cb0822.txt  \n",
            "  inflating: train_data/veg3/train/labels/IMG_20230412_115404_jpg.rf.3b2fded49e5bd6b5e32f4dbd53ff6057.txt  \n",
            "  inflating: train_data/veg3/train/labels/IMG_20230412_115413_jpg.rf.a4f013ef0e0c3e453b80944e31551c6e.txt  \n",
            "  inflating: train_data/veg3/train/labels/IMG_20230412_115421_jpg.rf.8e74493315e5a7be0a5dd2a53b895e46.txt  \n",
            "  inflating: train_data/veg3/train/labels/IMG_20230412_115453_jpg.rf.1b3d2ab6742431952746f7105a91ab9c.txt  \n",
            "  inflating: train_data/veg3/train/labels/IMG_20230428_113145_jpg.rf.c0d299cc909830acc858cb84b699afc3.txt  \n",
            "  inflating: train_data/veg3/train/labels/IMG_20230428_113157_jpg.rf.4b732a92368cee710ca86da874f4fa9f.txt  \n",
            "  inflating: train_data/veg3/train/labels/IMG_20230428_113217_jpg.rf.3ee72b5d3a5907b33edd63a0c15f6316.txt  \n",
            "  inflating: train_data/veg3/train/labels/IMG_20230428_113222_jpg.rf.3709856e88dbdb2c003b8143df72bfb5.txt  \n",
            "  inflating: train_data/veg3/train/labels/IMG_20230428_113229_jpg.rf.fce3873cccecba221bfc0c47d05b78a6.txt  \n",
            "  inflating: train_data/veg3/train/labels/IMG_20230428_113250_jpg.rf.55dbbce3fa13c3a6606d4d1ae483f35a.txt  \n",
            "  inflating: train_data/veg3/train/labels/IMG_20230428_113306_jpg.rf.2738ba3409cf357a8996f13bb45ce061.txt  \n",
            "  inflating: train_data/veg3/train/labels/IMG_20230428_113318_jpg.rf.44f31068de75804fb576d5a33a59549c.txt  \n",
            "  inflating: train_data/veg3/train/labels/IMG_20230428_113330_jpg.rf.6160a5c029f9fbf1711193afed47e7d4.txt  \n",
            "  inflating: train_data/veg3/train/labels/IMG_20230428_113443_jpg.rf.40b599c55be5746039b8a67236787326.txt  \n",
            "  inflating: train_data/veg3/train/labels/IMG_20230428_113449_jpg.rf.a1e465e3b566e1add31facdab994f2af.txt  \n",
            "  inflating: train_data/veg3/train/labels/IMG_20230428_113506_jpg.rf.86cc3f54a6a3b0183570c2d8634ec12d.txt  \n",
            "  inflating: train_data/veg3/train/labels/IMG_20230428_113511_jpg.rf.852b17087adc25af502c326cccf9362a.txt  \n",
            "  inflating: train_data/veg3/train/labels/IMG_20230428_113524_jpg.rf.a80ae99a0791e86d1800c596ea5b88e7.txt  \n",
            "  inflating: train_data/veg3/train/labels/IMG_20230428_113552_jpg.rf.f362c2c9d197c1bbe14c7b0935240bb5.txt  \n",
            "  inflating: train_data/veg3/train/labels/IMG_20230428_113612_jpg.rf.351e15c7379983cc1a0ffd7d1c5fdc93.txt  \n",
            "  inflating: train_data/veg3/train/labels/IMG_20230428_113634_jpg.rf.646259d0e08997f7265bed2e43114fe9.txt  \n",
            "  inflating: train_data/veg3/train/labels/IMG_20230428_113638_jpg.rf.24382c7a0e48adf6d7cb07c8f5448ec3.txt  \n",
            "  inflating: train_data/veg3/train/labels/IMG_20230428_113645_jpg.rf.f905ef8755a16ab5341220a9c00355a6.txt  \n",
            "  inflating: train_data/veg3/train/labels/IMG_20230428_113649_jpg.rf.e0043792effa674f48f5dbbfaf06618a.txt  \n",
            "  inflating: train_data/veg3/train/labels/IMG_20230428_113712_jpg.rf.d98dd94119f394e7a71d7e2441d9fa93.txt  \n",
            "  inflating: train_data/veg3/train/labels/IMG_20230428_113753_jpg.rf.e39d7cafdea696166a083c90016b7622.txt  \n",
            "  inflating: train_data/veg3/train/labels/IMG_20230428_113806_jpg.rf.b5b638fe841fb1cc143dc75b46c6f3ab.txt  \n",
            "  inflating: train_data/veg3/train/labels/IMG_20230428_113828_jpg.rf.85d4fb9702ebe95c742f4c480f59df55.txt  \n",
            "  inflating: train_data/veg3/train/labels/IMG_20230428_113844_jpg.rf.9c2180dc1957e0a34f3348c605a0a752.txt  \n",
            "  inflating: train_data/veg3/train/labels/IMG_20230428_113856_jpg.rf.19fe6cb5f0f0ce6372799ef36ab869e1.txt  \n",
            "  inflating: train_data/veg3/train/labels/IMG_20230428_113913_jpg.rf.ea5cec12cd7b92e04c9dc1f08734e592.txt  \n",
            "  inflating: train_data/veg3/train/labels/IMG_20230428_113920_jpg.rf.96961e82d7ce336e0c4713d163b8f1cc.txt  \n",
            "  inflating: train_data/veg3/train/labels/IMG_20230428_113942_jpg.rf.086f401753a4c6a69935dd8cb08310e6.txt  \n",
            "  inflating: train_data/veg3/train/labels/IMG_20230428_113958_jpg.rf.6aea5f3150ae782d6fa18468313383f2.txt  \n",
            "  inflating: train_data/veg3/train/labels/IMG_20230428_114005_jpg.rf.d03bf466949bbe13a56a4ee6fb1985b2.txt  \n",
            "  inflating: train_data/veg3/train/labels/IMG_20230428_114030_jpg.rf.73a85b51126861708d50672851313204.txt  \n",
            "  inflating: train_data/veg3/train/labels/IMG_20230428_122518_jpg.rf.db6f3067c83590e40c9275b3854d928c.txt  \n",
            "  inflating: train_data/veg3/train/labels/IMG_20230428_122603_jpg.rf.6321aeddef58854d2f9056a682816298.txt  \n",
            "  inflating: train_data/veg3/train/labels/IMG_20230428_122627_jpg.rf.fe566c5e13e00f5ef17fc707feaafe62.txt  \n",
            "  inflating: train_data/veg3/train/labels/IMG_20230428_122638_jpg.rf.2e323c5b2318ec13a233a0e869e4f020.txt  \n",
            "  inflating: train_data/veg3/train/labels/IMG_20230428_122704_jpg.rf.fafd5056f64f73ffdaaff063e6edce9d.txt  \n",
            "  inflating: train_data/veg3/train/labels/IMG_20230428_122710_jpg.rf.e44bb7d9948620a4591624752353fe8c.txt  \n",
            "  inflating: train_data/veg3/train/labels/IMG_20230428_122738_jpg.rf.45635e2da37e1a60cd77ca0e4175706b.txt  \n",
            "  inflating: train_data/veg3/train/labels/IMG_20230428_122742_jpg.rf.c5cec4ddc6c40e7dfac09caf572f9824.txt  \n",
            "  inflating: train_data/veg3/train/labels/IMG_20230428_122814_jpg.rf.78a95ac0ff5a8bd87b3ed08db12b68f8.txt  \n",
            "  inflating: train_data/veg3/train/labels/IMG_20230428_122821_jpg.rf.436109efbe6e0696d23047a38da19ac9.txt  \n",
            "  inflating: train_data/veg3/train/labels/IMG_20230428_122836_jpg.rf.069563535cf3ef347629fc5ee8558d06.txt  \n",
            "  inflating: train_data/veg3/train/labels/IMG_20230428_122856_jpg.rf.9ed09e6cfac17fb29a9d92ad90785296.txt  \n",
            "  inflating: train_data/veg3/train/labels/IMG_20230428_122902_jpg.rf.c51cee7127c6ba04ad272ed7d1b69cba.txt  \n",
            "  inflating: train_data/veg3/train/labels/IMG_20230428_122927_jpg.rf.8e846bf03139119273cefc4ab77372cd.txt  \n",
            "  inflating: train_data/veg3/train/labels/IMG_20230428_122959_jpg.rf.e3cfeb32cfb5737cecec7f9059844ca1.txt  \n",
            "  inflating: train_data/veg3/train/labels/IMG_20230428_123008_jpg.rf.9f09d0714ba6ac9971aff1640189a1c2.txt  \n",
            "  inflating: train_data/veg3/train/labels/IMG_20230428_123012_jpg.rf.cf93629d26efe0d5bc54e295761d5395.txt  \n",
            "  inflating: train_data/veg3/train/labels/IMG_20230428_123024_jpg.rf.29f4c5ba63bf1f64c4839832fa6eb8de.txt  \n",
            "  inflating: train_data/veg3/train/labels/IMG_20230428_123040_jpg.rf.801b4ea52f5611633f25d504a6946956.txt  \n",
            "  inflating: train_data/veg3/train/labels/IMG_20230428_123043_jpg.rf.8401cd5481f7e2c53a37052dc2ee40c2.txt  \n",
            "  inflating: train_data/veg3/train/labels/IMG_20230428_123051_jpg.rf.bd5827a5c57d4140f0b10da9c61cd35e.txt  \n",
            "  inflating: train_data/veg3/train/labels/IMG_20230428_123051_jpg.rf.bd7822d116d5eac6369bf65ce8ff35ef.txt  \n",
            "  inflating: train_data/veg3/train/labels/IMG_20230428_123113_jpg.rf.0087fb8012f55a13dca9d39770eb61df.txt  \n",
            "  inflating: train_data/veg3/train/labels/IMG_20230428_123125_jpg.rf.9c527ff73fa51db3a77672a603f8f303.txt  \n",
            "  inflating: train_data/veg3/train/labels/IMG_20230428_123126_jpg.rf.67695607c679c56ce6a43014b78c4af3.txt  \n",
            "  inflating: train_data/veg3/train/labels/IMG_20230428_123135_jpg.rf.6d2d5abd9de86921b5593740ce772d4c.txt  \n",
            "  inflating: train_data/veg3/train/labels/IMG_20230428_123143_jpg.rf.65de9a47830dabe2b1d83d4ba4d12205.txt  \n",
            "  inflating: train_data/veg3/train/labels/IMG_20230428_123149_jpg.rf.e0800e7566745f7aabd3959767ea9303.txt  \n",
            "  inflating: train_data/veg3/train/labels/IMG_20230428_123155_jpg.rf.1d2b449b5eab2c8932147950dc137883.txt  \n",
            "  inflating: train_data/veg3/train/labels/IMG_20230428_123211_jpg.rf.97f09c7999c7654624cca0aff972bea3.txt  \n",
            "  inflating: train_data/veg3/train/labels/IMG_20230428_123217_jpg.rf.865ce4c67bad3eed2eaae5ed8e423f1f.txt  \n",
            "  inflating: train_data/veg3/train/labels/IMG_20230428_123221_jpg.rf.0f78f59375204173a1f0580345bb3c11.txt  \n",
            "  inflating: train_data/veg3/train/labels/IMG_20230428_123227_jpg.rf.3df1e327f8a04ec151e9222aecdb4891.txt  \n",
            "  inflating: train_data/veg3/train/labels/IMG_20230428_123247_jpg.rf.dc15f5ff857e3a207ebb977e2851cc10.txt  \n",
            "  inflating: train_data/veg3/train/labels/IMG_20230428_123256_jpg.rf.3985ac5b65892e85592384c8e6fced11.txt  \n",
            "  inflating: train_data/veg3/train/labels/IMG_20230428_123305_jpg.rf.7fd6e239e1b092d568682c0f4baa88db.txt  \n",
            "  inflating: train_data/veg3/train/labels/IMG_20230428_123318_jpg.rf.51f6939ceb678921e586c6dac92de765.txt  \n",
            "  inflating: train_data/veg3/train/labels/IMG_20230428_123354_jpg.rf.9f892707373e9a1aafabae76faddb7e9.txt  \n",
            "  inflating: train_data/veg3/train/labels/IMG_20230428_123406_jpg.rf.f82c9d411b2d7deb0ae4d3827ff6a9f8.txt  \n",
            "  inflating: train_data/veg3/train/labels/IMG_20230428_123419_jpg.rf.7599b1405d0209cde3c0cb3b190c1934.txt  \n",
            "  inflating: train_data/veg3/train/labels/IMG_20230428_123431_jpg.rf.7bf6a69f4e640ebf8b111da68debd70a.txt  \n",
            "  inflating: train_data/veg3/train/labels/IMG_20230428_123443_jpg.rf.5b5af4e6e5fc2db5253402268de35e2c.txt  \n",
            "  inflating: train_data/veg3/train/labels/IMG_20230428_123508_jpg.rf.ca214fda2c20a78a5be9a41c8f67eb56.txt  \n",
            "  inflating: train_data/veg3/train/labels/IMG_20230428_123511_jpg.rf.712469641e2266a2b02daa376473d452.txt  \n",
            "  inflating: train_data/veg3/train/labels/IMG_20230428_123516_jpg.rf.51dfdbd3e7abc8ce778a6464e08ec029.txt  \n",
            "  inflating: train_data/veg3/train/labels/IMG_20230428_123526_jpg.rf.07c2c276c69afbd86e5fe8dad288c598.txt  \n",
            "  inflating: train_data/veg3/train/labels/IMG_20230428_123535_jpg.rf.255096e0111f4cf84077e9c88bc44e4d.txt  \n",
            "  inflating: train_data/veg3/train/labels/IMG_20230428_123542_jpg.rf.fc82cff98904296861f0ec9a1bb3337b.txt  \n",
            "  inflating: train_data/veg3/train/labels/IMG_20230428_123551_jpg.rf.39aecf5891d180e5736fe6ed71c4c507.txt  \n",
            "  inflating: train_data/veg3/train/labels/IMG_20230428_124247_jpg.rf.f45978c3192d2820505ec99156fbf7b8.txt  \n",
            "  inflating: train_data/veg3/train/labels/IMG_20230428_124251_jpg.rf.c5d8c8bc3b00d93e4193d4a9db0f053a.txt  \n",
            "  inflating: train_data/veg3/train/labels/IMG_20230428_124306_jpg.rf.739c7280e203af87983b7debb421965b.txt  \n",
            "  inflating: train_data/veg3/train/labels/IMG_20230428_124335_jpg.rf.fef5923701fef9c23d0dcf68109c7495.txt  \n",
            "  inflating: train_data/veg3/train/labels/IMG_20230428_124401_jpg.rf.0d37ef78421e4b95d39097dc54bd6e90.txt  \n",
            "  inflating: train_data/veg3/train/labels/IMG_20230428_124404_jpg.rf.654d93cbcef80ac3808993511df348a9.txt  \n",
            "  inflating: train_data/veg3/train/labels/IMG_20230428_124407_jpg.rf.40565d874f8a2eada8f3d73433fdbb32.txt  \n",
            "  inflating: train_data/veg3/train/labels/IMG_20230428_124411_jpg.rf.538b7897eb042f18e91395df5dbb4ddd.txt  \n",
            "  inflating: train_data/veg3/train/labels/IMG_20230428_124418_jpg.rf.5dd738920bc099733d8aeed9800ed7fa.txt  \n",
            "  inflating: train_data/veg3/train/labels/IMG_20230428_124420_jpg.rf.00366b324ac134b1f3131771413ef2af.txt  \n",
            "  inflating: train_data/veg3/train/labels/IMG_20230428_124422_jpg.rf.6387768cb536d4dc59b6163913192d41.txt  \n",
            "  inflating: train_data/veg3/train/labels/IMG_20230428_124429_jpg.rf.c6182ea2d5423b6682684e060e3d8fbf.txt  \n",
            "  inflating: train_data/veg3/train/labels/IMG_20230428_124431_jpg.rf.c63355c8fc9f7df973ad8a3b0d23e499.txt  \n",
            "  inflating: train_data/veg3/train/labels/IMG_20230428_124434_jpg.rf.d506ba396cd69063c3aa81e75b5c4f66.txt  \n",
            "  inflating: train_data/veg3/train/labels/IMG_20230428_124445_jpg.rf.e71194a6f62a16f32c80ade08b04f717.txt  \n",
            "  inflating: train_data/veg3/train/labels/IMG_20230428_124452_jpg.rf.119238c8f9b09dafba6ff0fab83c057b.txt  \n",
            "  inflating: train_data/veg3/train/labels/IMG_20230428_124457_jpg.rf.a78bbbd458b2bdd587f952f07f42c80d.txt  \n",
            "  inflating: train_data/veg3/train/labels/IMG_20230428_124501_jpg.rf.4c38fecddabcba682f504361e51c768b.txt  \n",
            "  inflating: train_data/veg3/train/labels/IMG_20230428_124505_jpg.rf.d8c81ca5bdb576187d395ea5a4254ea9.txt  \n",
            "  inflating: train_data/veg3/train/labels/IMG_20230428_124518_jpg.rf.3b0a458cb4cd2e9f0364b3e726dda574.txt  \n",
            "  inflating: train_data/veg3/train/labels/IMG_20230428_124536_jpg.rf.19e1662d78f335b627ff921dbbb41f4c.txt  \n",
            "  inflating: train_data/veg3/train/labels/IMG_20230428_124914_jpg.rf.e8161ddb5f1ab3fe168d30ccd7770f63.txt  \n",
            "  inflating: train_data/veg3/train/labels/IMG_20230428_124919_jpg.rf.3fd5c9f6da64dc067e9dc9a8d4885cfb.txt  \n",
            "  inflating: train_data/veg3/train/labels/IMG_20230428_124934_jpg.rf.a2271062f18f11fb0969df1e207ac54f.txt  \n",
            "  inflating: train_data/veg3/train/labels/IMG_20230428_124949_jpg.rf.d94ebc3e9e88ada5d63e58ad262abb2c.txt  \n",
            "  inflating: train_data/veg3/train/labels/IMG_20230428_124957_jpg.rf.0bb1902f034283758873126c36d2128d.txt  \n",
            "  inflating: train_data/veg3/train/labels/IMG_20230428_125003_jpg.rf.ba8eb834cd35eb355e82a06d56f03af1.txt  \n",
            "  inflating: train_data/veg3/train/labels/IMG_20230428_125029_jpg.rf.d4481c591ce3a9e17d53f5fa3f3a8e52.txt  \n",
            "  inflating: train_data/veg3/train/labels/IMG_20230428_125052_jpg.rf.3615e07e7f9b10e234ed2d2ccb5a6f4f.txt  \n",
            "  inflating: train_data/veg3/train/labels/IMG_20230428_125054_jpg.rf.23e35cb9feaab0368c63468dd09cbdec.txt  \n",
            "  inflating: train_data/veg3/train/labels/IMG_20230428_125058_jpg.rf.992b327291e30a0f30587bdddc147a6c.txt  \n",
            "  inflating: train_data/veg3/train/labels/IMG_20230428_125116_jpg.rf.f3bb62523a0ad7194015e780cf5d74a0.txt  \n",
            "  inflating: train_data/veg3/train/labels/IMG_20230428_125119_jpg.rf.15d43f9b21745cf546baad982337f03b.txt  \n",
            "  inflating: train_data/veg3/train/labels/IMG_20230428_125124_jpg.rf.76993fb3f547608765cdf87ee0f8e171.txt  \n",
            "  inflating: train_data/veg3/train/labels/IMG_20230428_125131_jpg.rf.866589e131a11641969fe04fb131aa81.txt  \n",
            "  inflating: train_data/veg3/train/labels/IMG_20230428_125133_jpg.rf.01887dd9d3ca3fc71af5ac3b894ad776.txt  \n",
            "  inflating: train_data/veg3/train/labels/IMG_20230428_125136_jpg.rf.d270bce5e07d3ebb10763e17c84a7efc.txt  \n",
            "  inflating: train_data/veg3/train/labels/IMG_20230428_125144_jpg.rf.03766324987d580f8fbe5a16eed4723f.txt  \n",
            "  inflating: train_data/veg3/train/labels/IMG_20230428_125149_jpg.rf.2713429bf2605b13e4bb2c55bfb7d987.txt  \n",
            "  inflating: train_data/veg3/train/labels/IMG_20230428_125153_jpg.rf.b17134dbd2767482a82e54f0fd222894.txt  \n",
            "  inflating: train_data/veg3/train/labels/IMG_20230428_125210_jpg.rf.6377737c48cb05ccb77e10fa236e8193.txt  \n",
            "  inflating: train_data/veg3/train/labels/IMG_20230428_125218_jpg.rf.918ca8b8f595033acd3806e26d81c4e1.txt  \n",
            "  inflating: train_data/veg3/train/labels/IMG_20230428_125223_jpg.rf.2ee75170678de71c66544b0e25dd1558.txt  \n",
            "  inflating: train_data/veg3/train/labels/IMG_20230428_125231_jpg.rf.3e0b68741249d62efd2fac519e40b27e.txt  \n",
            "  inflating: train_data/veg3/train/labels/IMG_20230428_125244_jpg.rf.417a37269585ba52e150d9388a39db20.txt  \n",
            "  inflating: train_data/veg3/train/labels/IMG_20230428_125252_jpg.rf.0ede4e912e9669b65696dfdfe45571e0.txt  \n",
            "  inflating: train_data/veg3/train/labels/IMG_20230502_130854_jpg.rf.4ed7bec68088efbffd2879bce7e314dc.txt  \n",
            "  inflating: train_data/veg3/train/labels/IMG_20230502_163945_jpg.rf.9306144ebbdeac1debfac5cf0041cbed.txt  \n",
            "  inflating: train_data/veg3/train/labels/IMG_20230502_183503_jpg.rf.2fb114142da81948ae1cc110dce3025b.txt  \n",
            "  inflating: train_data/veg3/train/labels/IMG_20230502_184603_jpg.rf.10c66115aab2650c287384f65874f13c.txt  \n",
            "  inflating: train_data/veg3/train/labels/IMG_20230502_184635_jpg.rf.48cca847ca4c989be8c4976380216bc6.txt  \n",
            "  inflating: train_data/veg3/train/labels/IMG_20230502_184720_jpg.rf.afcae1bebcf88d2f08eb5017715d2f59.txt  \n",
            "  inflating: train_data/veg3/train/labels/IMG_20230502_185207_jpg.rf.2c8b0a9696edd969b3400a91062ddb7d.txt  \n",
            "  inflating: train_data/veg3/train/labels/IMG_20230502_185224_jpg.rf.06fb67d74a7b8f86b78d5241543e3823.txt  \n",
            "  inflating: train_data/veg3/train/labels/IMG_20230502_185245_jpg.rf.362ccedc058477b9212206fa97288ae2.txt  \n",
            "  inflating: train_data/veg3/train/labels/IMG_20230502_185257_jpg.rf.d132823698bf02ba33086a5dab8835f5.txt  \n",
            "  inflating: train_data/veg3/train/labels/IMG_20230502_185421_jpg.rf.9762bcb7226e1709ad0ae86893a66633.txt  \n",
            "  inflating: train_data/veg3/train/labels/IMG_20230502_190052_jpg.rf.ef0da1e8e3bbc89209134d040c0b06eb.txt  \n",
            "  inflating: train_data/veg3/train/labels/IMG_20230502_190110_jpg.rf.922370a1c5be2392b77ab4d083bfaf27.txt  \n",
            "  inflating: train_data/veg3/train/labels/IMG_20230502_190844_jpg.rf.b2de17229f79a6edb386743b5e2cbea2.txt  \n",
            "  inflating: train_data/veg3/train/labels/IMG_20230502_191343_jpg.rf.39b7e47f1b8c0cb6bd2962c5f3e4f9a6.txt  \n",
            "   creating: train_data/veg3/valid/\n",
            "   creating: train_data/veg3/valid/images/\n",
            "  inflating: train_data/veg3/valid/images/20230412_112412_jpg.rf.fb831161db4716577def03248ad7fbed.jpg  \n",
            "  inflating: train_data/veg3/valid/images/20230412_112519_jpg.rf.b5c73f84be60f7dffb66014e0aaebd0c.jpg  \n",
            "  inflating: train_data/veg3/valid/images/IMG-20230412-WA0011_jpg.rf.fdc7b27aa565632712b2ef48d7282a30.jpg  \n",
            "  inflating: train_data/veg3/valid/images/IMG20230412113105_jpg.rf.7b8426f3be153afb988bab622d0bde76.jpg  \n",
            "  inflating: train_data/veg3/valid/images/IMG20230412113133_jpg.rf.4dca580a08f2cfccda0265b31c238c93.jpg  \n",
            "  inflating: train_data/veg3/valid/images/IMG20230412113325_jpg.rf.90aeb0e238be4fdacdea18e5a0b9204d.jpg  \n",
            "  inflating: train_data/veg3/valid/images/IMG20230412113459_jpg.rf.965fba5349f89b6777061603e825b724.jpg  \n",
            "  inflating: train_data/veg3/valid/images/IMG20230412113523_jpg.rf.7ef050a12f0f3e8de06e3f5351bf13e1.jpg  \n",
            "  inflating: train_data/veg3/valid/images/IMG20230412113617_jpg.rf.2bc5d3a6a6e54db20499ea9237d73c69.jpg  \n",
            "  inflating: train_data/veg3/valid/images/IMG20230412113624_jpg.rf.adf08db4abdfc2b7c4c943a62afbab4b.jpg  \n",
            "  inflating: train_data/veg3/valid/images/IMG20230412114035_jpg.rf.39a377c1cc0cff764f675ea11e54c817.jpg  \n",
            "  inflating: train_data/veg3/valid/images/IMG20230412115647_jpg.rf.ac02a2548c7cff9c056d8c7ddb9ecdb1.jpg  \n",
            "  inflating: train_data/veg3/valid/images/IMG20230412115716_jpg.rf.765cc7d6c700ae2cdba0c7c9132da602.jpg  \n",
            "  inflating: train_data/veg3/valid/images/IMG20230412115749_jpg.rf.4e12ac641ac87f23b39d3a81195c1cf6.jpg  \n",
            "  inflating: train_data/veg3/valid/images/IMG20230412115800_jpg.rf.6dcfef4d9f55454d1957ad79699a536b.jpg  \n",
            "  inflating: train_data/veg3/valid/images/IMG20230428125824_jpg.rf.f62694b5f3d05968a275ffd9ed385ff2.jpg  \n",
            "  inflating: train_data/veg3/valid/images/IMG20230428125904_jpg.rf.fff9fbd4484770aac5a90360415b92df.jpg  \n",
            "  inflating: train_data/veg3/valid/images/IMG20230428125930_jpg.rf.ea1951bfd97937abc78a21d53fa3ba89.jpg  \n",
            "  inflating: train_data/veg3/valid/images/IMG20230428125944_jpg.rf.97ce746bf5361316c243a035d488d97d.jpg  \n",
            "  inflating: train_data/veg3/valid/images/IMG20230428125947_jpg.rf.53a0a83ccfe7d35264e07abd6d29b02a.jpg  \n",
            "  inflating: train_data/veg3/valid/images/IMG20230428130005_jpg.rf.b6f2386e90537a37539e75dee4e0c6d1.jpg  \n",
            "  inflating: train_data/veg3/valid/images/IMG20230428130025_jpg.rf.cd996c95c357f553fbc23ec67121e5dd.jpg  \n",
            "  inflating: train_data/veg3/valid/images/IMG20230428130119_jpg.rf.f265f497704d99a920d3a938c45ae38c.jpg  \n",
            "  inflating: train_data/veg3/valid/images/IMG20230428130635_jpg.rf.91dbacfef581b2ef5a89dcfc7ca096c1.jpg  \n",
            "  inflating: train_data/veg3/valid/images/IMG20230428130643_jpg.rf.ad86125038c38388e07f0cf016471adc.jpg  \n",
            "  inflating: train_data/veg3/valid/images/IMG20230502125953_jpg.rf.44b3a578c2594fb554110c3f97563ed6.jpg  \n",
            "  inflating: train_data/veg3/valid/images/IMG20230502130136_jpg.rf.877e874592f76987ad935d26ae485f4f.jpg  \n",
            "  inflating: train_data/veg3/valid/images/IMG20230502130228_jpg.rf.9b7f510e79197d92620c2dd222fb27f6.jpg  \n",
            "  inflating: train_data/veg3/valid/images/IMG20230502130738_jpg.rf.9b01055c5dadc901c52a2e6a45945c62.jpg  \n",
            "  inflating: train_data/veg3/valid/images/IMG20230502130748_jpg.rf.200c4bff7352e00a47c05ab05d73d3db.jpg  \n",
            "  inflating: train_data/veg3/valid/images/IMG20230502130948_jpg.rf.2b89180d7ac919046f613ce18b1f9d8d.jpg  \n",
            "  inflating: train_data/veg3/valid/images/IMG20230502131129_jpg.rf.632be85574a41522272c93fe9ff71142.jpg  \n",
            "  inflating: train_data/veg3/valid/images/IMG20230502131135_jpg.rf.40d7e4d79ff6b63949d26b58763fe92b.jpg  \n",
            "  inflating: train_data/veg3/valid/images/IMG20230502131253_jpg.rf.18ee87aebf87a0379bcceb88435850d4.jpg  \n",
            "  inflating: train_data/veg3/valid/images/IMG20230502131258_jpg.rf.ec249bb353a757dcd4745667fe4a2540.jpg  \n",
            "  inflating: train_data/veg3/valid/images/IMG20230502131318_jpg.rf.e0f487b3f71880b0004140cfe9749936.jpg  \n",
            "  inflating: train_data/veg3/valid/images/IMG20230502131611_jpg.rf.a614e6f7e3cad02aeaacd3b23635f89a.jpg  \n",
            "  inflating: train_data/veg3/valid/images/IMG20230502131629_jpg.rf.56ccb233fa3b004925f06ab67c2c0139.jpg  \n",
            "  inflating: train_data/veg3/valid/images/IMG20230502131755_jpg.rf.bacc8ac9591508eaf9aef507c79e6011.jpg  \n",
            "  inflating: train_data/veg3/valid/images/IMG20230502131817_jpg.rf.4e315bc4187f2db6529943e357109971.jpg  \n",
            "  inflating: train_data/veg3/valid/images/IMG20230502132451_jpg.rf.1306a5bd6fd6f5bd0a1c7dc7fa600280.jpg  \n",
            "  inflating: train_data/veg3/valid/images/IMG20230502155336_jpg.rf.4285aef37855fe50202c5048ae3170cd.jpg  \n",
            "  inflating: train_data/veg3/valid/images/IMG20230502155437_jpg.rf.4a3050b63fb6b525518b2a5eaa7ad760.jpg  \n",
            "  inflating: train_data/veg3/valid/images/IMG20230502155659_jpg.rf.0519680ebab17ec3acc6fdc84d23520e.jpg  \n",
            "  inflating: train_data/veg3/valid/images/IMG20230502155740_jpg.rf.2a6ff419919c91b80c6d764192011dd0.jpg  \n",
            "  inflating: train_data/veg3/valid/images/IMG20230502155751_jpg.rf.1a3eace31d6bb7ac450d951399d852e3.jpg  \n",
            "  inflating: train_data/veg3/valid/images/IMG20230502155810_jpg.rf.47383d4132eb58391740133510a63fea.jpg  \n",
            "  inflating: train_data/veg3/valid/images/IMG20230502155824_jpg.rf.99b50eec11becdff233ac41129f3acdd.jpg  \n",
            "  inflating: train_data/veg3/valid/images/IMG20230502155949_jpg.rf.6a64c4b0d91991af4def2e429a99c2c6.jpg  \n",
            "  inflating: train_data/veg3/valid/images/IMG20230502160005_jpg.rf.8d2229c0323f6bcbd858d22338ed5d9d.jpg  \n",
            "  inflating: train_data/veg3/valid/images/IMG20230502160038_jpg.rf.e56222f5b440a110fe954772649d9a3b.jpg  \n",
            "  inflating: train_data/veg3/valid/images/IMG20230502160130_jpg.rf.67e77f53146ef4b8f06ff1112ef9168d.jpg  \n",
            "  inflating: train_data/veg3/valid/images/IMG20230502160135_jpg.rf.34338e784fe506c52e090d49a0310c2c.jpg  \n",
            "  inflating: train_data/veg3/valid/images/IMG20230502161108_jpg.rf.eca660597238645a711ce9cad96e6ba5.jpg  \n",
            "  inflating: train_data/veg3/valid/images/IMG20230502161120_jpg.rf.f51f91eb57bee36f2ab9d3d2d64ceeb0.jpg  \n",
            "  inflating: train_data/veg3/valid/images/IMG20230502161239_jpg.rf.f8fbf9914405ac1451ea9a6e07cad75f.jpg  \n",
            "  inflating: train_data/veg3/valid/images/IMG20230502161313_jpg.rf.61b3d5f803eb4ad56a044150bd024c7d.jpg  \n",
            "  inflating: train_data/veg3/valid/images/IMG20230502161330_jpg.rf.c67ad415d3cbddaa766487b80882879b.jpg  \n",
            "  inflating: train_data/veg3/valid/images/IMG20230502161636_jpg.rf.118d60117feb8dd8d8075380ba79c3bd.jpg  \n",
            "  inflating: train_data/veg3/valid/images/IMG20230502161650_jpg.rf.dfe58c5ebcf658235584eff9d2bd4d54.jpg  \n",
            "  inflating: train_data/veg3/valid/images/IMG20230502162255_jpg.rf.6956b1e5c6cde3c65da158887bd15bd2.jpg  \n",
            "  inflating: train_data/veg3/valid/images/IMG20230502162511_jpg.rf.21a890d1e88d1a5850bb41d6788ec5f2.jpg  \n",
            "  inflating: train_data/veg3/valid/images/IMG20230502162631_jpg.rf.40f2ddbf2a0661b8bcee6e0a0fbcdb1b.jpg  \n",
            "  inflating: train_data/veg3/valid/images/IMG20230502163227_jpg.rf.ce2da4d106273098dd970642701bd8f7.jpg  \n",
            "  inflating: train_data/veg3/valid/images/IMG20230502163231_jpg.rf.df4c36f947cf75dd10082fe91c37adc0.jpg  \n",
            "  inflating: train_data/veg3/valid/images/IMG20230502163235_jpg.rf.64d77fb8f17cffe0df0b3d8c9cd8fe70.jpg  \n",
            "  inflating: train_data/veg3/valid/images/IMG20230502163411_jpg.rf.4c9398a01fbd8f8cabc79bef2405af84.jpg  \n",
            "  inflating: train_data/veg3/valid/images/IMG20230502163529_jpg.rf.c6b2f092aaf8881b20ad3a9fd90e1ac1.jpg  \n",
            "  inflating: train_data/veg3/valid/images/IMG20230502163536_jpg.rf.cc7e692ce8f62ea630e3999f2041e369.jpg  \n",
            "  inflating: train_data/veg3/valid/images/IMG20230502163556_jpg.rf.79c89c9bfbeae226abe4ed89f3d4fc57.jpg  \n",
            "  inflating: train_data/veg3/valid/images/IMG20230502164041_jpg.rf.e11e28a8a4750c314cd7ce0015850ad7.jpg  \n",
            "  inflating: train_data/veg3/valid/images/IMG20230502164446_jpg.rf.ea957cbf342a7f1bcdd531e4b777bdf1.jpg  \n",
            "  inflating: train_data/veg3/valid/images/IMG20230502164528_jpg.rf.ee4652ddf045d0fad7dc5bd766b3296c.jpg  \n",
            "  inflating: train_data/veg3/valid/images/IMG20230502164543_jpg.rf.cefdf4905cf486da3d722d93416f2963.jpg  \n",
            "  inflating: train_data/veg3/valid/images/IMG20230502164556_jpg.rf.a7d8384173df09280513db578bd31298.jpg  \n",
            "  inflating: train_data/veg3/valid/images/IMG20230502164605_jpg.rf.41520a868ee9702c8f57ced2276eea9f.jpg  \n",
            "  inflating: train_data/veg3/valid/images/IMG20230502164703_jpg.rf.44386ac443398e257acd5b5d47190333.jpg  \n",
            "  inflating: train_data/veg3/valid/images/IMG20230502164708_jpg.rf.f4f5f6125a274c90bb326c637bfce8a5.jpg  \n",
            "  inflating: train_data/veg3/valid/images/IMG20230502164851_jpg.rf.4eb0b802e16f18f5e9c63788fc9a733c.jpg  \n",
            "  inflating: train_data/veg3/valid/images/IMG20230502164942_jpg.rf.c283e49cfa02bfceb051a1dbc7be99a0.jpg  \n",
            "  inflating: train_data/veg3/valid/images/IMG20230502165816_jpg.rf.45593dee6e982dbaab2667ca342f0dd9.jpg  \n",
            "  inflating: train_data/veg3/valid/images/IMG20230502165822_jpg.rf.bef0067595f847d1979303ea6d62411c.jpg  \n",
            "  inflating: train_data/veg3/valid/images/IMG20230502165829_jpg.rf.06777ac665b2aca7e08ae93f0d8685ee.jpg  \n",
            "  inflating: train_data/veg3/valid/images/IMG20230502165850_jpg.rf.5b2557056ce16ccb5ec9a5ca0d096ccc.jpg  \n",
            "  inflating: train_data/veg3/valid/images/IMG20230502165854_jpg.rf.24a41277a6b2f2ae27a4ed2eff5ea183.jpg  \n",
            "  inflating: train_data/veg3/valid/images/IMG20230502165905_jpg.rf.95a7a3a49854a7212e08f16681bfeec5.jpg  \n",
            "  inflating: train_data/veg3/valid/images/IMG20230502165923_jpg.rf.d131334f35427ca0dc19a865c1d50b4a.jpg  \n",
            "  inflating: train_data/veg3/valid/images/IMG20230502165953_jpg.rf.d23957b405cbfca033711d18c233161e.jpg  \n",
            "  inflating: train_data/veg3/valid/images/IMG20230502170007_jpg.rf.dacc36573ad67bd01192199923d99d24.jpg  \n",
            "  inflating: train_data/veg3/valid/images/IMG20230502170356_jpg.rf.dcef92b7d7f0c28e39b993cc209c0ada.jpg  \n",
            "  inflating: train_data/veg3/valid/images/IMG20230502170407_jpg.rf.96a1e2faef0e7a25e463b894e5c08e27.jpg  \n",
            "  inflating: train_data/veg3/valid/images/IMG20230502170409_jpg.rf.0f18d57a49837caa38d775e54243fb60.jpg  \n",
            "  inflating: train_data/veg3/valid/images/IMG20230502170451_jpg.rf.87c4baced0f6c1a5f40c381498969dcd.jpg  \n",
            "  inflating: train_data/veg3/valid/images/IMG20230502170607_jpg.rf.8bef0baaa65bdfae2fa87f31722b60aa.jpg  \n",
            "  inflating: train_data/veg3/valid/images/IMG20230502170711_jpg.rf.fd8d50d32b140e442e21b1b5017b5fbb.jpg  \n",
            "  inflating: train_data/veg3/valid/images/IMG20230502170722_jpg.rf.1822cd7d7d6abfa6ae6c768d9aa82eb2.jpg  \n",
            "  inflating: train_data/veg3/valid/images/IMG20230502171213_jpg.rf.65ba248a1259875195080b7e211c59aa.jpg  \n",
            "  inflating: train_data/veg3/valid/images/IMG20230502171219_jpg.rf.7a3f0c935107ae78b9f3abbd31bd9564.jpg  \n",
            "  inflating: train_data/veg3/valid/images/IMG20230502171245_jpg.rf.b5baf603223f792f0e9539e8e1adc1bc.jpg  \n",
            "  inflating: train_data/veg3/valid/images/IMG20230502171314_jpg.rf.767ca6aadb85881b8e56b02334629022.jpg  \n",
            "  inflating: train_data/veg3/valid/images/IMG20230502171348_jpg.rf.40a740c9aaf4de10daeee1c073169c06.jpg  \n",
            "  inflating: train_data/veg3/valid/images/IMG20230502171457_jpg.rf.66aeb17c115b527d84eef47e55ab354a.jpg  \n",
            "  inflating: train_data/veg3/valid/images/IMG20230502171603_jpg.rf.89414261ee617c574e72bcea03d362d6.jpg  \n",
            "  inflating: train_data/veg3/valid/images/IMG20230502171610_jpg.rf.9662cff11aba4a496ecc1cd50c4f872f.jpg  \n",
            "  inflating: train_data/veg3/valid/images/IMG20230502171708_jpg.rf.e4d6545e0b0974820be0cfc4e4fb235e.jpg  \n",
            "  inflating: train_data/veg3/valid/images/IMG20230502171711_jpg.rf.8e4dc232ad92dddd3ab3ef5641b2c11b.jpg  \n",
            "  inflating: train_data/veg3/valid/images/IMG20230502171714_jpg.rf.96c0c467f1055e824b621c2ac26ff6c1.jpg  \n",
            "  inflating: train_data/veg3/valid/images/IMG20230502172255_jpg.rf.12b649bad827356051a902d78a8ae945.jpg  \n",
            "  inflating: train_data/veg3/valid/images/IMG20230502172307_jpg.rf.1f36ed376ad564bb8c3480f8071617c2.jpg  \n",
            "  inflating: train_data/veg3/valid/images/IMG20230502172310_jpg.rf.12066bcbc5e22b457c8797c4a9a0b672.jpg  \n",
            "  inflating: train_data/veg3/valid/images/IMG20230502172335_jpg.rf.94a7edfd822ad0d92c22d3ef3752584a.jpg  \n",
            "  inflating: train_data/veg3/valid/images/IMG20230502172456_jpg.rf.b8392a92e1992851c63eebdb201a7dc3.jpg  \n",
            "  inflating: train_data/veg3/valid/images/IMG20230502172514_jpg.rf.59a18c1850d7e7c28ca38346f2fa30a5.jpg  \n",
            "  inflating: train_data/veg3/valid/images/IMG20230502172610_jpg.rf.63485b31ed474d5a5efe7fd53a3b3942.jpg  \n",
            "  inflating: train_data/veg3/valid/images/IMG20230502172618_jpg.rf.32872c46083e4b986f5bc27ef345faf7.jpg  \n",
            "  inflating: train_data/veg3/valid/images/IMG20230502172647_jpg.rf.4998cfc72692ae4ea2b079f972dd3b0b.jpg  \n",
            "  inflating: train_data/veg3/valid/images/IMG20230502172701_jpg.rf.fced90d3594ac8ae097cbd780a943b4f.jpg  \n",
            "  inflating: train_data/veg3/valid/images/IMG20230502172705_jpg.rf.b98d2f6dac79306c3ce9ae6761e94d68.jpg  \n",
            "  inflating: train_data/veg3/valid/images/IMG20230502174121_jpg.rf.752b61eb3db51e48ce23e3b4cf56a2a5.jpg  \n",
            "  inflating: train_data/veg3/valid/images/IMG20230502174147_jpg.rf.f1c9191e85a63e4671a1dc6f752051d8.jpg  \n",
            "  inflating: train_data/veg3/valid/images/IMG20230502174154_jpg.rf.81f54c4fb9f2943fb91bb0fcdc49d206.jpg  \n",
            "  inflating: train_data/veg3/valid/images/IMG20230502174242_jpg.rf.6841d899b0f683b5be7ddf6df590085b.jpg  \n",
            "  inflating: train_data/veg3/valid/images/IMG20230502174245_jpg.rf.c6b1a6438af3e2a837f8c6ffc5ca6bb3.jpg  \n",
            "  inflating: train_data/veg3/valid/images/IMG20230502174423_jpg.rf.d14efa9728efa5f7b1649c4f1f9e33f0.jpg  \n",
            "  inflating: train_data/veg3/valid/images/IMG20230502174655_jpg.rf.1b60f3ce84b0bd61bd0b7469a7aaa5c3.jpg  \n",
            "  inflating: train_data/veg3/valid/images/IMG20230502174700_jpg.rf.17ef7ef1f6b994d3d8e33040d9f4d1be.jpg  \n",
            "  inflating: train_data/veg3/valid/images/IMG20230502174729_jpg.rf.9de9a5e57287cb4aef29075cbb940e4b.jpg  \n",
            "  inflating: train_data/veg3/valid/images/IMG20230502174830_jpg.rf.7ffe71040d656d5f47ebf6cfbd0e6699.jpg  \n",
            "  inflating: train_data/veg3/valid/images/IMG20230502174835_jpg.rf.e30359ad97a8e56111fd1ebe2e4d6ff2.jpg  \n",
            "  inflating: train_data/veg3/valid/images/IMG20230502174854_jpg.rf.474ef4bb0c45186da31062481bf0f55f.jpg  \n",
            "  inflating: train_data/veg3/valid/images/IMG20230502175023_jpg.rf.8ed8365d41dcb258091cd9ca202e6181.jpg  \n",
            "  inflating: train_data/veg3/valid/images/IMG20230502175140_jpg.rf.da5bb07b901a4f9ac8db7bdadd11f1aa.jpg  \n",
            "  inflating: train_data/veg3/valid/images/IMG20230502180000_jpg.rf.f9ee0c2e20be91184c078e12913598bb.jpg  \n",
            "  inflating: train_data/veg3/valid/images/IMG20230502180033_jpg.rf.bc4c2d78249f2f3ed73ff31216810184.jpg  \n",
            "  inflating: train_data/veg3/valid/images/IMG20230502180038_jpg.rf.e13de6944680b186bd9b0cc3261ba699.jpg  \n",
            "  inflating: train_data/veg3/valid/images/IMG20230502180047_jpg.rf.5afc98dcedc000560c529b6eb5ea9547.jpg  \n",
            "  inflating: train_data/veg3/valid/images/IMG20230502180052_jpg.rf.74528e90cf5733d3d9bff954ed7c3d69.jpg  \n",
            "  inflating: train_data/veg3/valid/images/IMG20230502180059_jpg.rf.ab0a88594752a3a34e7d9c48bbb8386e.jpg  \n",
            "  inflating: train_data/veg3/valid/images/IMG20230502180119_jpg.rf.3de59c7192b3c5b0e1277a33105fbe90.jpg  \n",
            "  inflating: train_data/veg3/valid/images/IMG20230502180141_jpg.rf.85671ebbb6be99257275d5112f4cbce9.jpg  \n",
            "  inflating: train_data/veg3/valid/images/IMG20230502180143_jpg.rf.60045fa6f6bbe78e9a6ee5b884c5493a.jpg  \n",
            "  inflating: train_data/veg3/valid/images/IMG20230502180145_jpg.rf.6512171f037b8e7ba64ba05ebb0e4540.jpg  \n",
            "  inflating: train_data/veg3/valid/images/IMG20230502180649_jpg.rf.e5cea175cfb2f9c0b45f6959b787e604.jpg  \n",
            "  inflating: train_data/veg3/valid/images/IMG20230502180719_jpg.rf.b2381c828102c1c3a325c548bba3be05.jpg  \n",
            "  inflating: train_data/veg3/valid/images/IMG20230502180731_jpg.rf.1b956952fc8e839e3d8c31108a9d12ab.jpg  \n",
            "  inflating: train_data/veg3/valid/images/IMG20230502180733_jpg.rf.9f90373c7440d6b99ca1c325c557acf8.jpg  \n",
            "  inflating: train_data/veg3/valid/images/IMG20230502180814_jpg.rf.c7fd79f7d6d3405ba34fb1d7f9193cc2.jpg  \n",
            "  inflating: train_data/veg3/valid/images/IMG20230502181005_jpg.rf.d03c7d81579fabf26e3c3a32fd50d145.jpg  \n",
            "  inflating: train_data/veg3/valid/images/IMG20230502181917_jpg.rf.6828e8234cead06c6f00c0a3d0e49a55.jpg  \n",
            "  inflating: train_data/veg3/valid/images/IMG20230502181924_jpg.rf.7635f8ab4b0281b359f051297fc466dd.jpg  \n",
            "  inflating: train_data/veg3/valid/images/IMG20230502182113_jpg.rf.6c75eb74a8e5dc36226ba293a591e401.jpg  \n",
            "  inflating: train_data/veg3/valid/images/IMG20230502182116_jpg.rf.6b5f3dc7a2a809cd3fa563921f999b38.jpg  \n",
            "  inflating: train_data/veg3/valid/images/IMG20230502182950_jpg.rf.54665eb83f179bc163eb4a0deb3484c0.jpg  \n",
            "  inflating: train_data/veg3/valid/images/IMG20230502183304_jpg.rf.8a7479ad31ae618a0d2868748ad60994.jpg  \n",
            "  inflating: train_data/veg3/valid/images/IMG20230502184216_jpg.rf.653e1de105735185223bb26710c21346.jpg  \n",
            "  inflating: train_data/veg3/valid/images/IMG20230502184314_jpg.rf.94197188e2a1a6abd3fdb8de48950839.jpg  \n",
            "  inflating: train_data/veg3/valid/images/IMG20230502191048_jpg.rf.3ba93a3f647e4af563f67952d52a0383.jpg  \n",
            "  inflating: train_data/veg3/valid/images/IMG20230502191133_jpg.rf.85aeaf43d355ca64130482a9957d730b.jpg  \n",
            "  inflating: train_data/veg3/valid/images/IMG_20230412_114818_jpg.rf.79279c2fc107aeef957f34135a0b98bd.jpg  \n",
            "  inflating: train_data/veg3/valid/images/IMG_20230412_114825_jpg.rf.c2564ffc34006830b97fbeae7a806cba.jpg  \n",
            "  inflating: train_data/veg3/valid/images/IMG_20230412_114854_jpg.rf.b338c8870aa1d1a0c6a02a6c331ee05f.jpg  \n",
            "  inflating: train_data/veg3/valid/images/IMG_20230412_115500_jpg.rf.73e6ae0f477b73c2c33cae3fa969ad3b.jpg  \n",
            "  inflating: train_data/veg3/valid/images/IMG_20230428_113240_jpg.rf.9489400f58a9070ca75a5d55bd54c09b.jpg  \n",
            "  inflating: train_data/veg3/valid/images/IMG_20230428_113343_jpg.rf.c418cc779d35f6bc22202b2ae9f88143.jpg  \n",
            "  inflating: train_data/veg3/valid/images/IMG_20230428_113428_jpg.rf.07a5dac895567f6a1f8441a4988d1054.jpg  \n",
            "  inflating: train_data/veg3/valid/images/IMG_20230428_113456_jpg.rf.cda25eb937e5c479da581ab698b8f6e4.jpg  \n",
            "  inflating: train_data/veg3/valid/images/IMG_20230428_113517_jpg.rf.a103d3f7157d6a40a58e5798574caca7.jpg  \n",
            "  inflating: train_data/veg3/valid/images/IMG_20230428_113622_jpg.rf.af980a75e3035f867af70bb64f7956b0.jpg  \n",
            "  inflating: train_data/veg3/valid/images/IMG_20230428_113628_jpg.rf.8d42a3d50485375084cfcc062ad72070.jpg  \n",
            "  inflating: train_data/veg3/valid/images/IMG_20230428_113930_jpg.rf.c7293c79dc993b04aa09e496cd4d77f5.jpg  \n",
            "  inflating: train_data/veg3/valid/images/IMG_20230428_113938_jpg.rf.9e755c05abc087abc4448c2a0a1c2824.jpg  \n",
            "  inflating: train_data/veg3/valid/images/IMG_20230428_122658_jpg.rf.7a53fe1bc18f54347d26ee0e58e495ac.jpg  \n",
            "  inflating: train_data/veg3/valid/images/IMG_20230428_122707_jpg.rf.a514273dc5938d350b4a572aaf5de6cf.jpg  \n",
            "  inflating: train_data/veg3/valid/images/IMG_20230428_122714_jpg.rf.10d087756ba5ea4fbdacc6a1ce242268.jpg  \n",
            "  inflating: train_data/veg3/valid/images/IMG_20230428_122749_jpg.rf.31303dd74e10caf3ae4544657288f400.jpg  \n",
            "  inflating: train_data/veg3/valid/images/IMG_20230428_122758_jpg.rf.0253ba96eebbce8f8051072462a6f6b0.jpg  \n",
            "  inflating: train_data/veg3/valid/images/IMG_20230428_122847_jpg.rf.0cf2881de96c08703618a82ac4a4e5c6.jpg  \n",
            "  inflating: train_data/veg3/valid/images/IMG_20230428_122946_jpg.rf.bcf1c32e78a40da886ec4ba83c08a09d.jpg  \n",
            "  inflating: train_data/veg3/valid/images/IMG_20230428_122951_jpg.rf.3f2a7f9b722f9ffde6414c27c0c1bf67.jpg  \n",
            "  inflating: train_data/veg3/valid/images/IMG_20230428_123043_jpg.rf.6a1e7a22c65e5617b99acc5dd281f380.jpg  \n",
            "  inflating: train_data/veg3/valid/images/IMG_20230428_123101_jpg.rf.d1bbcd56f595215a2ea957fe613f4f00.jpg  \n",
            "  inflating: train_data/veg3/valid/images/IMG_20230428_123314_jpg.rf.4dd7e43d3ca5172d1a33757e836f03c7.jpg  \n",
            "  inflating: train_data/veg3/valid/images/IMG_20230428_123349_jpg.rf.2a40440a8a832129a15480b4f71d38be.jpg  \n",
            "  inflating: train_data/veg3/valid/images/IMG_20230428_123425_jpg.rf.91b637a0766ad3d5329331594519a98e.jpg  \n",
            "  inflating: train_data/veg3/valid/images/IMG_20230428_123505_jpg.rf.9a651b42faa2e6944efe2a96a0677807.jpg  \n",
            "  inflating: train_data/veg3/valid/images/IMG_20230428_124353_jpg.rf.26f66ed53483741ca9df2cee3a623ac3.jpg  \n",
            "  inflating: train_data/veg3/valid/images/IMG_20230428_124509_jpg.rf.c52955fd6a393f5885b0ea1f0c560ad4.jpg  \n",
            "  inflating: train_data/veg3/valid/images/IMG_20230428_124515_jpg.rf.178367cde84cb8c2ab518eb4b5890279.jpg  \n",
            "  inflating: train_data/veg3/valid/images/IMG_20230428_124749_jpg.rf.7c44c246b14a7de6e9d82785456cc6c3.jpg  \n",
            "  inflating: train_data/veg3/valid/images/IMG_20230428_124909_jpg.rf.b18cfeaed28b543de2669b7d09277447.jpg  \n",
            "  inflating: train_data/veg3/valid/images/IMG_20230428_125008_jpg.rf.df643c918f5b090f3e9a28a6915465de.jpg  \n",
            "  inflating: train_data/veg3/valid/images/IMG_20230428_125011_jpg.rf.6d491c543b60e02df251b727cc26cec0.jpg  \n",
            "  inflating: train_data/veg3/valid/images/IMG_20230428_125026_jpg.rf.e3b8c2a5019879373d40dab7d1f83251.jpg  \n",
            "  inflating: train_data/veg3/valid/images/IMG_20230428_125104_jpg.rf.f010729284c3877b2d4fdef67f0579fb.jpg  \n",
            "  inflating: train_data/veg3/valid/images/IMG_20230428_125121_jpg.rf.43d8472e4973e5dac04a4aade3d0b836.jpg  \n",
            "  inflating: train_data/veg3/valid/images/IMG_20230428_125158_jpg.rf.3a0b752562a22c7b7124ec49401d0da6.jpg  \n",
            "  inflating: train_data/veg3/valid/images/IMG_20230428_125234_jpg.rf.c8ec473bdbfbdd68b5e15d57a5c071e9.jpg  \n",
            "  inflating: train_data/veg3/valid/images/IMG_20230428_125249_jpg.rf.78b2e2568062387719480ef295c5726c.jpg  \n",
            "  inflating: train_data/veg3/valid/images/IMG_20230502_184708_jpg.rf.b1e325269a5d1e65ce883f565800618e.jpg  \n",
            "  inflating: train_data/veg3/valid/images/IMG_20230502_185438_jpg.rf.c5f6c4fa424c30d3cba912ddc9fc4714.jpg  \n",
            "  inflating: train_data/veg3/valid/images/IMG_20230502_191323_jpg.rf.0a62fe614255fad84e778769ffefa53d.jpg  \n",
            "   creating: train_data/veg3/valid/labels/\n",
            "  inflating: train_data/veg3/valid/labels/20230412_112412_jpg.rf.fb831161db4716577def03248ad7fbed.txt  \n",
            "  inflating: train_data/veg3/valid/labels/20230412_112519_jpg.rf.b5c73f84be60f7dffb66014e0aaebd0c.txt  \n",
            "  inflating: train_data/veg3/valid/labels/IMG-20230412-WA0011_jpg.rf.fdc7b27aa565632712b2ef48d7282a30.txt  \n",
            "  inflating: train_data/veg3/valid/labels/IMG20230412113105_jpg.rf.7b8426f3be153afb988bab622d0bde76.txt  \n",
            "  inflating: train_data/veg3/valid/labels/IMG20230412113133_jpg.rf.4dca580a08f2cfccda0265b31c238c93.txt  \n",
            "  inflating: train_data/veg3/valid/labels/IMG20230412113325_jpg.rf.90aeb0e238be4fdacdea18e5a0b9204d.txt  \n",
            "  inflating: train_data/veg3/valid/labels/IMG20230412113459_jpg.rf.965fba5349f89b6777061603e825b724.txt  \n",
            "  inflating: train_data/veg3/valid/labels/IMG20230412113523_jpg.rf.7ef050a12f0f3e8de06e3f5351bf13e1.txt  \n",
            "  inflating: train_data/veg3/valid/labels/IMG20230412113617_jpg.rf.2bc5d3a6a6e54db20499ea9237d73c69.txt  \n",
            "  inflating: train_data/veg3/valid/labels/IMG20230412113624_jpg.rf.adf08db4abdfc2b7c4c943a62afbab4b.txt  \n",
            "  inflating: train_data/veg3/valid/labels/IMG20230412114035_jpg.rf.39a377c1cc0cff764f675ea11e54c817.txt  \n",
            "  inflating: train_data/veg3/valid/labels/IMG20230412115647_jpg.rf.ac02a2548c7cff9c056d8c7ddb9ecdb1.txt  \n",
            "  inflating: train_data/veg3/valid/labels/IMG20230412115716_jpg.rf.765cc7d6c700ae2cdba0c7c9132da602.txt  \n",
            "  inflating: train_data/veg3/valid/labels/IMG20230412115749_jpg.rf.4e12ac641ac87f23b39d3a81195c1cf6.txt  \n",
            "  inflating: train_data/veg3/valid/labels/IMG20230412115800_jpg.rf.6dcfef4d9f55454d1957ad79699a536b.txt  \n",
            "  inflating: train_data/veg3/valid/labels/IMG20230428125824_jpg.rf.f62694b5f3d05968a275ffd9ed385ff2.txt  \n",
            "  inflating: train_data/veg3/valid/labels/IMG20230428125904_jpg.rf.fff9fbd4484770aac5a90360415b92df.txt  \n",
            "  inflating: train_data/veg3/valid/labels/IMG20230428125930_jpg.rf.ea1951bfd97937abc78a21d53fa3ba89.txt  \n",
            "  inflating: train_data/veg3/valid/labels/IMG20230428125944_jpg.rf.97ce746bf5361316c243a035d488d97d.txt  \n",
            "  inflating: train_data/veg3/valid/labels/IMG20230428125947_jpg.rf.53a0a83ccfe7d35264e07abd6d29b02a.txt  \n",
            "  inflating: train_data/veg3/valid/labels/IMG20230428130005_jpg.rf.b6f2386e90537a37539e75dee4e0c6d1.txt  \n",
            "  inflating: train_data/veg3/valid/labels/IMG20230428130025_jpg.rf.cd996c95c357f553fbc23ec67121e5dd.txt  \n",
            "  inflating: train_data/veg3/valid/labels/IMG20230428130119_jpg.rf.f265f497704d99a920d3a938c45ae38c.txt  \n",
            "  inflating: train_data/veg3/valid/labels/IMG20230428130635_jpg.rf.91dbacfef581b2ef5a89dcfc7ca096c1.txt  \n",
            "  inflating: train_data/veg3/valid/labels/IMG20230428130643_jpg.rf.ad86125038c38388e07f0cf016471adc.txt  \n",
            "  inflating: train_data/veg3/valid/labels/IMG20230502125953_jpg.rf.44b3a578c2594fb554110c3f97563ed6.txt  \n",
            "  inflating: train_data/veg3/valid/labels/IMG20230502130136_jpg.rf.877e874592f76987ad935d26ae485f4f.txt  \n",
            "  inflating: train_data/veg3/valid/labels/IMG20230502130228_jpg.rf.9b7f510e79197d92620c2dd222fb27f6.txt  \n",
            "  inflating: train_data/veg3/valid/labels/IMG20230502130738_jpg.rf.9b01055c5dadc901c52a2e6a45945c62.txt  \n",
            "  inflating: train_data/veg3/valid/labels/IMG20230502130748_jpg.rf.200c4bff7352e00a47c05ab05d73d3db.txt  \n",
            "  inflating: train_data/veg3/valid/labels/IMG20230502130948_jpg.rf.2b89180d7ac919046f613ce18b1f9d8d.txt  \n",
            "  inflating: train_data/veg3/valid/labels/IMG20230502131129_jpg.rf.632be85574a41522272c93fe9ff71142.txt  \n",
            "  inflating: train_data/veg3/valid/labels/IMG20230502131135_jpg.rf.40d7e4d79ff6b63949d26b58763fe92b.txt  \n",
            "  inflating: train_data/veg3/valid/labels/IMG20230502131253_jpg.rf.18ee87aebf87a0379bcceb88435850d4.txt  \n",
            "  inflating: train_data/veg3/valid/labels/IMG20230502131258_jpg.rf.ec249bb353a757dcd4745667fe4a2540.txt  \n",
            "  inflating: train_data/veg3/valid/labels/IMG20230502131318_jpg.rf.e0f487b3f71880b0004140cfe9749936.txt  \n",
            "  inflating: train_data/veg3/valid/labels/IMG20230502131611_jpg.rf.a614e6f7e3cad02aeaacd3b23635f89a.txt  \n",
            "  inflating: train_data/veg3/valid/labels/IMG20230502131629_jpg.rf.56ccb233fa3b004925f06ab67c2c0139.txt  \n",
            "  inflating: train_data/veg3/valid/labels/IMG20230502131755_jpg.rf.bacc8ac9591508eaf9aef507c79e6011.txt  \n",
            "  inflating: train_data/veg3/valid/labels/IMG20230502131817_jpg.rf.4e315bc4187f2db6529943e357109971.txt  \n",
            "  inflating: train_data/veg3/valid/labels/IMG20230502132451_jpg.rf.1306a5bd6fd6f5bd0a1c7dc7fa600280.txt  \n",
            "  inflating: train_data/veg3/valid/labels/IMG20230502155336_jpg.rf.4285aef37855fe50202c5048ae3170cd.txt  \n",
            "  inflating: train_data/veg3/valid/labels/IMG20230502155437_jpg.rf.4a3050b63fb6b525518b2a5eaa7ad760.txt  \n",
            "  inflating: train_data/veg3/valid/labels/IMG20230502155659_jpg.rf.0519680ebab17ec3acc6fdc84d23520e.txt  \n",
            "  inflating: train_data/veg3/valid/labels/IMG20230502155740_jpg.rf.2a6ff419919c91b80c6d764192011dd0.txt  \n",
            "  inflating: train_data/veg3/valid/labels/IMG20230502155751_jpg.rf.1a3eace31d6bb7ac450d951399d852e3.txt  \n",
            "  inflating: train_data/veg3/valid/labels/IMG20230502155810_jpg.rf.47383d4132eb58391740133510a63fea.txt  \n",
            "  inflating: train_data/veg3/valid/labels/IMG20230502155824_jpg.rf.99b50eec11becdff233ac41129f3acdd.txt  \n",
            "  inflating: train_data/veg3/valid/labels/IMG20230502155949_jpg.rf.6a64c4b0d91991af4def2e429a99c2c6.txt  \n",
            "  inflating: train_data/veg3/valid/labels/IMG20230502160005_jpg.rf.8d2229c0323f6bcbd858d22338ed5d9d.txt  \n",
            "  inflating: train_data/veg3/valid/labels/IMG20230502160038_jpg.rf.e56222f5b440a110fe954772649d9a3b.txt  \n",
            "  inflating: train_data/veg3/valid/labels/IMG20230502160130_jpg.rf.67e77f53146ef4b8f06ff1112ef9168d.txt  \n",
            "  inflating: train_data/veg3/valid/labels/IMG20230502160135_jpg.rf.34338e784fe506c52e090d49a0310c2c.txt  \n",
            "  inflating: train_data/veg3/valid/labels/IMG20230502161108_jpg.rf.eca660597238645a711ce9cad96e6ba5.txt  \n",
            "  inflating: train_data/veg3/valid/labels/IMG20230502161120_jpg.rf.f51f91eb57bee36f2ab9d3d2d64ceeb0.txt  \n",
            "  inflating: train_data/veg3/valid/labels/IMG20230502161239_jpg.rf.f8fbf9914405ac1451ea9a6e07cad75f.txt  \n",
            "  inflating: train_data/veg3/valid/labels/IMG20230502161313_jpg.rf.61b3d5f803eb4ad56a044150bd024c7d.txt  \n",
            "  inflating: train_data/veg3/valid/labels/IMG20230502161330_jpg.rf.c67ad415d3cbddaa766487b80882879b.txt  \n",
            "  inflating: train_data/veg3/valid/labels/IMG20230502161636_jpg.rf.118d60117feb8dd8d8075380ba79c3bd.txt  \n",
            "  inflating: train_data/veg3/valid/labels/IMG20230502161650_jpg.rf.dfe58c5ebcf658235584eff9d2bd4d54.txt  \n",
            "  inflating: train_data/veg3/valid/labels/IMG20230502162255_jpg.rf.6956b1e5c6cde3c65da158887bd15bd2.txt  \n",
            "  inflating: train_data/veg3/valid/labels/IMG20230502162511_jpg.rf.21a890d1e88d1a5850bb41d6788ec5f2.txt  \n",
            "  inflating: train_data/veg3/valid/labels/IMG20230502162631_jpg.rf.40f2ddbf2a0661b8bcee6e0a0fbcdb1b.txt  \n",
            "  inflating: train_data/veg3/valid/labels/IMG20230502163227_jpg.rf.ce2da4d106273098dd970642701bd8f7.txt  \n",
            "  inflating: train_data/veg3/valid/labels/IMG20230502163231_jpg.rf.df4c36f947cf75dd10082fe91c37adc0.txt  \n",
            "  inflating: train_data/veg3/valid/labels/IMG20230502163235_jpg.rf.64d77fb8f17cffe0df0b3d8c9cd8fe70.txt  \n",
            "  inflating: train_data/veg3/valid/labels/IMG20230502163411_jpg.rf.4c9398a01fbd8f8cabc79bef2405af84.txt  \n",
            "  inflating: train_data/veg3/valid/labels/IMG20230502163529_jpg.rf.c6b2f092aaf8881b20ad3a9fd90e1ac1.txt  \n",
            "  inflating: train_data/veg3/valid/labels/IMG20230502163536_jpg.rf.cc7e692ce8f62ea630e3999f2041e369.txt  \n",
            "  inflating: train_data/veg3/valid/labels/IMG20230502163556_jpg.rf.79c89c9bfbeae226abe4ed89f3d4fc57.txt  \n",
            "  inflating: train_data/veg3/valid/labels/IMG20230502164041_jpg.rf.e11e28a8a4750c314cd7ce0015850ad7.txt  \n",
            "  inflating: train_data/veg3/valid/labels/IMG20230502164446_jpg.rf.ea957cbf342a7f1bcdd531e4b777bdf1.txt  \n",
            "  inflating: train_data/veg3/valid/labels/IMG20230502164528_jpg.rf.ee4652ddf045d0fad7dc5bd766b3296c.txt  \n",
            "  inflating: train_data/veg3/valid/labels/IMG20230502164543_jpg.rf.cefdf4905cf486da3d722d93416f2963.txt  \n",
            "  inflating: train_data/veg3/valid/labels/IMG20230502164556_jpg.rf.a7d8384173df09280513db578bd31298.txt  \n",
            "  inflating: train_data/veg3/valid/labels/IMG20230502164605_jpg.rf.41520a868ee9702c8f57ced2276eea9f.txt  \n",
            "  inflating: train_data/veg3/valid/labels/IMG20230502164703_jpg.rf.44386ac443398e257acd5b5d47190333.txt  \n",
            "  inflating: train_data/veg3/valid/labels/IMG20230502164708_jpg.rf.f4f5f6125a274c90bb326c637bfce8a5.txt  \n",
            "  inflating: train_data/veg3/valid/labels/IMG20230502164851_jpg.rf.4eb0b802e16f18f5e9c63788fc9a733c.txt  \n",
            "  inflating: train_data/veg3/valid/labels/IMG20230502164942_jpg.rf.c283e49cfa02bfceb051a1dbc7be99a0.txt  \n",
            "  inflating: train_data/veg3/valid/labels/IMG20230502165816_jpg.rf.45593dee6e982dbaab2667ca342f0dd9.txt  \n",
            "  inflating: train_data/veg3/valid/labels/IMG20230502165822_jpg.rf.bef0067595f847d1979303ea6d62411c.txt  \n",
            "  inflating: train_data/veg3/valid/labels/IMG20230502165829_jpg.rf.06777ac665b2aca7e08ae93f0d8685ee.txt  \n",
            "  inflating: train_data/veg3/valid/labels/IMG20230502165850_jpg.rf.5b2557056ce16ccb5ec9a5ca0d096ccc.txt  \n",
            "  inflating: train_data/veg3/valid/labels/IMG20230502165854_jpg.rf.24a41277a6b2f2ae27a4ed2eff5ea183.txt  \n",
            "  inflating: train_data/veg3/valid/labels/IMG20230502165905_jpg.rf.95a7a3a49854a7212e08f16681bfeec5.txt  \n",
            "  inflating: train_data/veg3/valid/labels/IMG20230502165923_jpg.rf.d131334f35427ca0dc19a865c1d50b4a.txt  \n",
            "  inflating: train_data/veg3/valid/labels/IMG20230502165953_jpg.rf.d23957b405cbfca033711d18c233161e.txt  \n",
            "  inflating: train_data/veg3/valid/labels/IMG20230502170007_jpg.rf.dacc36573ad67bd01192199923d99d24.txt  \n",
            "  inflating: train_data/veg3/valid/labels/IMG20230502170356_jpg.rf.dcef92b7d7f0c28e39b993cc209c0ada.txt  \n",
            "  inflating: train_data/veg3/valid/labels/IMG20230502170407_jpg.rf.96a1e2faef0e7a25e463b894e5c08e27.txt  \n",
            "  inflating: train_data/veg3/valid/labels/IMG20230502170409_jpg.rf.0f18d57a49837caa38d775e54243fb60.txt  \n",
            "  inflating: train_data/veg3/valid/labels/IMG20230502170451_jpg.rf.87c4baced0f6c1a5f40c381498969dcd.txt  \n",
            "  inflating: train_data/veg3/valid/labels/IMG20230502170607_jpg.rf.8bef0baaa65bdfae2fa87f31722b60aa.txt  \n",
            "  inflating: train_data/veg3/valid/labels/IMG20230502170711_jpg.rf.fd8d50d32b140e442e21b1b5017b5fbb.txt  \n",
            "  inflating: train_data/veg3/valid/labels/IMG20230502170722_jpg.rf.1822cd7d7d6abfa6ae6c768d9aa82eb2.txt  \n",
            "  inflating: train_data/veg3/valid/labels/IMG20230502171213_jpg.rf.65ba248a1259875195080b7e211c59aa.txt  \n",
            "  inflating: train_data/veg3/valid/labels/IMG20230502171219_jpg.rf.7a3f0c935107ae78b9f3abbd31bd9564.txt  \n",
            "  inflating: train_data/veg3/valid/labels/IMG20230502171245_jpg.rf.b5baf603223f792f0e9539e8e1adc1bc.txt  \n",
            "  inflating: train_data/veg3/valid/labels/IMG20230502171314_jpg.rf.767ca6aadb85881b8e56b02334629022.txt  \n",
            "  inflating: train_data/veg3/valid/labels/IMG20230502171348_jpg.rf.40a740c9aaf4de10daeee1c073169c06.txt  \n",
            "  inflating: train_data/veg3/valid/labels/IMG20230502171457_jpg.rf.66aeb17c115b527d84eef47e55ab354a.txt  \n",
            "  inflating: train_data/veg3/valid/labels/IMG20230502171603_jpg.rf.89414261ee617c574e72bcea03d362d6.txt  \n",
            "  inflating: train_data/veg3/valid/labels/IMG20230502171610_jpg.rf.9662cff11aba4a496ecc1cd50c4f872f.txt  \n",
            "  inflating: train_data/veg3/valid/labels/IMG20230502171708_jpg.rf.e4d6545e0b0974820be0cfc4e4fb235e.txt  \n",
            "  inflating: train_data/veg3/valid/labels/IMG20230502171711_jpg.rf.8e4dc232ad92dddd3ab3ef5641b2c11b.txt  \n",
            "  inflating: train_data/veg3/valid/labels/IMG20230502171714_jpg.rf.96c0c467f1055e824b621c2ac26ff6c1.txt  \n",
            "  inflating: train_data/veg3/valid/labels/IMG20230502172255_jpg.rf.12b649bad827356051a902d78a8ae945.txt  \n",
            "  inflating: train_data/veg3/valid/labels/IMG20230502172307_jpg.rf.1f36ed376ad564bb8c3480f8071617c2.txt  \n",
            "  inflating: train_data/veg3/valid/labels/IMG20230502172310_jpg.rf.12066bcbc5e22b457c8797c4a9a0b672.txt  \n",
            "  inflating: train_data/veg3/valid/labels/IMG20230502172335_jpg.rf.94a7edfd822ad0d92c22d3ef3752584a.txt  \n",
            "  inflating: train_data/veg3/valid/labels/IMG20230502172456_jpg.rf.b8392a92e1992851c63eebdb201a7dc3.txt  \n",
            "  inflating: train_data/veg3/valid/labels/IMG20230502172514_jpg.rf.59a18c1850d7e7c28ca38346f2fa30a5.txt  \n",
            "  inflating: train_data/veg3/valid/labels/IMG20230502172610_jpg.rf.63485b31ed474d5a5efe7fd53a3b3942.txt  \n",
            "  inflating: train_data/veg3/valid/labels/IMG20230502172618_jpg.rf.32872c46083e4b986f5bc27ef345faf7.txt  \n",
            "  inflating: train_data/veg3/valid/labels/IMG20230502172647_jpg.rf.4998cfc72692ae4ea2b079f972dd3b0b.txt  \n",
            "  inflating: train_data/veg3/valid/labels/IMG20230502172701_jpg.rf.fced90d3594ac8ae097cbd780a943b4f.txt  \n",
            "  inflating: train_data/veg3/valid/labels/IMG20230502172705_jpg.rf.b98d2f6dac79306c3ce9ae6761e94d68.txt  \n",
            "  inflating: train_data/veg3/valid/labels/IMG20230502174121_jpg.rf.752b61eb3db51e48ce23e3b4cf56a2a5.txt  \n",
            "  inflating: train_data/veg3/valid/labels/IMG20230502174147_jpg.rf.f1c9191e85a63e4671a1dc6f752051d8.txt  \n",
            "  inflating: train_data/veg3/valid/labels/IMG20230502174154_jpg.rf.81f54c4fb9f2943fb91bb0fcdc49d206.txt  \n",
            "  inflating: train_data/veg3/valid/labels/IMG20230502174242_jpg.rf.6841d899b0f683b5be7ddf6df590085b.txt  \n",
            "  inflating: train_data/veg3/valid/labels/IMG20230502174245_jpg.rf.c6b1a6438af3e2a837f8c6ffc5ca6bb3.txt  \n",
            "  inflating: train_data/veg3/valid/labels/IMG20230502174423_jpg.rf.d14efa9728efa5f7b1649c4f1f9e33f0.txt  \n",
            "  inflating: train_data/veg3/valid/labels/IMG20230502174655_jpg.rf.1b60f3ce84b0bd61bd0b7469a7aaa5c3.txt  \n",
            "  inflating: train_data/veg3/valid/labels/IMG20230502174700_jpg.rf.17ef7ef1f6b994d3d8e33040d9f4d1be.txt  \n",
            "  inflating: train_data/veg3/valid/labels/IMG20230502174729_jpg.rf.9de9a5e57287cb4aef29075cbb940e4b.txt  \n",
            "  inflating: train_data/veg3/valid/labels/IMG20230502174830_jpg.rf.7ffe71040d656d5f47ebf6cfbd0e6699.txt  \n",
            "  inflating: train_data/veg3/valid/labels/IMG20230502174835_jpg.rf.e30359ad97a8e56111fd1ebe2e4d6ff2.txt  \n",
            "  inflating: train_data/veg3/valid/labels/IMG20230502174854_jpg.rf.474ef4bb0c45186da31062481bf0f55f.txt  \n",
            "  inflating: train_data/veg3/valid/labels/IMG20230502175023_jpg.rf.8ed8365d41dcb258091cd9ca202e6181.txt  \n",
            "  inflating: train_data/veg3/valid/labels/IMG20230502175140_jpg.rf.da5bb07b901a4f9ac8db7bdadd11f1aa.txt  \n",
            "  inflating: train_data/veg3/valid/labels/IMG20230502180000_jpg.rf.f9ee0c2e20be91184c078e12913598bb.txt  \n",
            "  inflating: train_data/veg3/valid/labels/IMG20230502180033_jpg.rf.bc4c2d78249f2f3ed73ff31216810184.txt  \n",
            "  inflating: train_data/veg3/valid/labels/IMG20230502180038_jpg.rf.e13de6944680b186bd9b0cc3261ba699.txt  \n",
            "  inflating: train_data/veg3/valid/labels/IMG20230502180047_jpg.rf.5afc98dcedc000560c529b6eb5ea9547.txt  \n",
            "  inflating: train_data/veg3/valid/labels/IMG20230502180052_jpg.rf.74528e90cf5733d3d9bff954ed7c3d69.txt  \n",
            "  inflating: train_data/veg3/valid/labels/IMG20230502180059_jpg.rf.ab0a88594752a3a34e7d9c48bbb8386e.txt  \n",
            "  inflating: train_data/veg3/valid/labels/IMG20230502180119_jpg.rf.3de59c7192b3c5b0e1277a33105fbe90.txt  \n",
            "  inflating: train_data/veg3/valid/labels/IMG20230502180141_jpg.rf.85671ebbb6be99257275d5112f4cbce9.txt  \n",
            "  inflating: train_data/veg3/valid/labels/IMG20230502180143_jpg.rf.60045fa6f6bbe78e9a6ee5b884c5493a.txt  \n",
            "  inflating: train_data/veg3/valid/labels/IMG20230502180145_jpg.rf.6512171f037b8e7ba64ba05ebb0e4540.txt  \n",
            "  inflating: train_data/veg3/valid/labels/IMG20230502180649_jpg.rf.e5cea175cfb2f9c0b45f6959b787e604.txt  \n",
            "  inflating: train_data/veg3/valid/labels/IMG20230502180719_jpg.rf.b2381c828102c1c3a325c548bba3be05.txt  \n",
            "  inflating: train_data/veg3/valid/labels/IMG20230502180731_jpg.rf.1b956952fc8e839e3d8c31108a9d12ab.txt  \n",
            "  inflating: train_data/veg3/valid/labels/IMG20230502180733_jpg.rf.9f90373c7440d6b99ca1c325c557acf8.txt  \n",
            "  inflating: train_data/veg3/valid/labels/IMG20230502180814_jpg.rf.c7fd79f7d6d3405ba34fb1d7f9193cc2.txt  \n",
            "  inflating: train_data/veg3/valid/labels/IMG20230502181005_jpg.rf.d03c7d81579fabf26e3c3a32fd50d145.txt  \n",
            "  inflating: train_data/veg3/valid/labels/IMG20230502181917_jpg.rf.6828e8234cead06c6f00c0a3d0e49a55.txt  \n",
            "  inflating: train_data/veg3/valid/labels/IMG20230502181924_jpg.rf.7635f8ab4b0281b359f051297fc466dd.txt  \n",
            "  inflating: train_data/veg3/valid/labels/IMG20230502182113_jpg.rf.6c75eb74a8e5dc36226ba293a591e401.txt  \n",
            "  inflating: train_data/veg3/valid/labels/IMG20230502182116_jpg.rf.6b5f3dc7a2a809cd3fa563921f999b38.txt  \n",
            "  inflating: train_data/veg3/valid/labels/IMG20230502182950_jpg.rf.54665eb83f179bc163eb4a0deb3484c0.txt  \n",
            "  inflating: train_data/veg3/valid/labels/IMG20230502183304_jpg.rf.8a7479ad31ae618a0d2868748ad60994.txt  \n",
            "  inflating: train_data/veg3/valid/labels/IMG20230502184216_jpg.rf.653e1de105735185223bb26710c21346.txt  \n",
            "  inflating: train_data/veg3/valid/labels/IMG20230502184314_jpg.rf.94197188e2a1a6abd3fdb8de48950839.txt  \n",
            "  inflating: train_data/veg3/valid/labels/IMG20230502191048_jpg.rf.3ba93a3f647e4af563f67952d52a0383.txt  \n",
            "  inflating: train_data/veg3/valid/labels/IMG20230502191133_jpg.rf.85aeaf43d355ca64130482a9957d730b.txt  \n",
            "  inflating: train_data/veg3/valid/labels/IMG_20230412_114818_jpg.rf.79279c2fc107aeef957f34135a0b98bd.txt  \n",
            "  inflating: train_data/veg3/valid/labels/IMG_20230412_114825_jpg.rf.c2564ffc34006830b97fbeae7a806cba.txt  \n",
            "  inflating: train_data/veg3/valid/labels/IMG_20230412_114854_jpg.rf.b338c8870aa1d1a0c6a02a6c331ee05f.txt  \n",
            "  inflating: train_data/veg3/valid/labels/IMG_20230412_115500_jpg.rf.73e6ae0f477b73c2c33cae3fa969ad3b.txt  \n",
            "  inflating: train_data/veg3/valid/labels/IMG_20230428_113240_jpg.rf.9489400f58a9070ca75a5d55bd54c09b.txt  \n",
            "  inflating: train_data/veg3/valid/labels/IMG_20230428_113343_jpg.rf.c418cc779d35f6bc22202b2ae9f88143.txt  \n",
            "  inflating: train_data/veg3/valid/labels/IMG_20230428_113428_jpg.rf.07a5dac895567f6a1f8441a4988d1054.txt  \n",
            "  inflating: train_data/veg3/valid/labels/IMG_20230428_113456_jpg.rf.cda25eb937e5c479da581ab698b8f6e4.txt  \n",
            "  inflating: train_data/veg3/valid/labels/IMG_20230428_113517_jpg.rf.a103d3f7157d6a40a58e5798574caca7.txt  \n",
            "  inflating: train_data/veg3/valid/labels/IMG_20230428_113622_jpg.rf.af980a75e3035f867af70bb64f7956b0.txt  \n",
            "  inflating: train_data/veg3/valid/labels/IMG_20230428_113628_jpg.rf.8d42a3d50485375084cfcc062ad72070.txt  \n",
            "  inflating: train_data/veg3/valid/labels/IMG_20230428_113930_jpg.rf.c7293c79dc993b04aa09e496cd4d77f5.txt  \n",
            "  inflating: train_data/veg3/valid/labels/IMG_20230428_113938_jpg.rf.9e755c05abc087abc4448c2a0a1c2824.txt  \n",
            "  inflating: train_data/veg3/valid/labels/IMG_20230428_122658_jpg.rf.7a53fe1bc18f54347d26ee0e58e495ac.txt  \n",
            "  inflating: train_data/veg3/valid/labels/IMG_20230428_122707_jpg.rf.a514273dc5938d350b4a572aaf5de6cf.txt  \n",
            "  inflating: train_data/veg3/valid/labels/IMG_20230428_122714_jpg.rf.10d087756ba5ea4fbdacc6a1ce242268.txt  \n",
            "  inflating: train_data/veg3/valid/labels/IMG_20230428_122749_jpg.rf.31303dd74e10caf3ae4544657288f400.txt  \n",
            "  inflating: train_data/veg3/valid/labels/IMG_20230428_122758_jpg.rf.0253ba96eebbce8f8051072462a6f6b0.txt  \n",
            "  inflating: train_data/veg3/valid/labels/IMG_20230428_122847_jpg.rf.0cf2881de96c08703618a82ac4a4e5c6.txt  \n",
            "  inflating: train_data/veg3/valid/labels/IMG_20230428_122946_jpg.rf.bcf1c32e78a40da886ec4ba83c08a09d.txt  \n",
            "  inflating: train_data/veg3/valid/labels/IMG_20230428_122951_jpg.rf.3f2a7f9b722f9ffde6414c27c0c1bf67.txt  \n",
            "  inflating: train_data/veg3/valid/labels/IMG_20230428_123043_jpg.rf.6a1e7a22c65e5617b99acc5dd281f380.txt  \n",
            "  inflating: train_data/veg3/valid/labels/IMG_20230428_123101_jpg.rf.d1bbcd56f595215a2ea957fe613f4f00.txt  \n",
            "  inflating: train_data/veg3/valid/labels/IMG_20230428_123314_jpg.rf.4dd7e43d3ca5172d1a33757e836f03c7.txt  \n",
            "  inflating: train_data/veg3/valid/labels/IMG_20230428_123349_jpg.rf.2a40440a8a832129a15480b4f71d38be.txt  \n",
            "  inflating: train_data/veg3/valid/labels/IMG_20230428_123425_jpg.rf.91b637a0766ad3d5329331594519a98e.txt  \n",
            "  inflating: train_data/veg3/valid/labels/IMG_20230428_123505_jpg.rf.9a651b42faa2e6944efe2a96a0677807.txt  \n",
            "  inflating: train_data/veg3/valid/labels/IMG_20230428_124353_jpg.rf.26f66ed53483741ca9df2cee3a623ac3.txt  \n",
            "  inflating: train_data/veg3/valid/labels/IMG_20230428_124509_jpg.rf.c52955fd6a393f5885b0ea1f0c560ad4.txt  \n",
            "  inflating: train_data/veg3/valid/labels/IMG_20230428_124515_jpg.rf.178367cde84cb8c2ab518eb4b5890279.txt  \n",
            "  inflating: train_data/veg3/valid/labels/IMG_20230428_124749_jpg.rf.7c44c246b14a7de6e9d82785456cc6c3.txt  \n",
            "  inflating: train_data/veg3/valid/labels/IMG_20230428_124909_jpg.rf.b18cfeaed28b543de2669b7d09277447.txt  \n",
            "  inflating: train_data/veg3/valid/labels/IMG_20230428_125008_jpg.rf.df643c918f5b090f3e9a28a6915465de.txt  \n",
            "  inflating: train_data/veg3/valid/labels/IMG_20230428_125011_jpg.rf.6d491c543b60e02df251b727cc26cec0.txt  \n",
            "  inflating: train_data/veg3/valid/labels/IMG_20230428_125026_jpg.rf.e3b8c2a5019879373d40dab7d1f83251.txt  \n",
            "  inflating: train_data/veg3/valid/labels/IMG_20230428_125104_jpg.rf.f010729284c3877b2d4fdef67f0579fb.txt  \n",
            "  inflating: train_data/veg3/valid/labels/IMG_20230428_125121_jpg.rf.43d8472e4973e5dac04a4aade3d0b836.txt  \n",
            "  inflating: train_data/veg3/valid/labels/IMG_20230428_125158_jpg.rf.3a0b752562a22c7b7124ec49401d0da6.txt  \n",
            "  inflating: train_data/veg3/valid/labels/IMG_20230428_125234_jpg.rf.c8ec473bdbfbdd68b5e15d57a5c071e9.txt  \n",
            "  inflating: train_data/veg3/valid/labels/IMG_20230428_125249_jpg.rf.78b2e2568062387719480ef295c5726c.txt  \n",
            "  inflating: train_data/veg3/valid/labels/IMG_20230502_184708_jpg.rf.b1e325269a5d1e65ce883f565800618e.txt  \n",
            "  inflating: train_data/veg3/valid/labels/IMG_20230502_185438_jpg.rf.c5f6c4fa424c30d3cba912ddc9fc4714.txt  \n",
            "  inflating: train_data/veg3/valid/labels/IMG_20230502_191323_jpg.rf.0a62fe614255fad84e778769ffefa53d.txt  \n"
          ]
        }
      ]
    },
    {
      "cell_type": "code",
      "source": [
        "# Install the yolosplitter package, used for splitting YOLO datasets into training, validation, and test sets\n",
        "!pip install yolosplitter!pip install yolosplitter"
      ],
      "metadata": {
        "colab": {
          "base_uri": "https://localhost:8080/"
        },
        "collapsed": true,
        "id": "hR3NEg69sNc2",
        "outputId": "e04cb9df-5227-4662-cdce-2cc039b02aad"
      },
      "execution_count": null,
      "outputs": [
        {
          "output_type": "stream",
          "name": "stdout",
          "text": [
            "Collecting yolosplitter\n",
            "  Downloading yolosplitter-0.4.9.1-py3-none-any.whl.metadata (3.8 kB)\n",
            "Requirement already satisfied: pandas in /usr/local/lib/python3.10/dist-packages (from yolosplitter) (2.1.4)\n",
            "Requirement already satisfied: tqdm in /usr/local/lib/python3.10/dist-packages (from yolosplitter) (4.66.4)\n",
            "Requirement already satisfied: PyYAML in /usr/local/lib/python3.10/dist-packages (from yolosplitter) (6.0.1)\n",
            "Requirement already satisfied: numpy<2,>=1.22.4 in /usr/local/lib/python3.10/dist-packages (from pandas->yolosplitter) (1.26.4)\n",
            "Requirement already satisfied: python-dateutil>=2.8.2 in /usr/local/lib/python3.10/dist-packages (from pandas->yolosplitter) (2.8.2)\n",
            "Requirement already satisfied: pytz>=2020.1 in /usr/local/lib/python3.10/dist-packages (from pandas->yolosplitter) (2024.1)\n",
            "Requirement already satisfied: tzdata>=2022.1 in /usr/local/lib/python3.10/dist-packages (from pandas->yolosplitter) (2024.1)\n",
            "Requirement already satisfied: six>=1.5 in /usr/local/lib/python3.10/dist-packages (from python-dateutil>=2.8.2->pandas->yolosplitter) (1.16.0)\n",
            "Downloading yolosplitter-0.4.9.1-py3-none-any.whl (4.9 kB)\n",
            "Installing collected packages: yolosplitter\n",
            "Successfully installed yolosplitter-0.4.9.1\n"
          ]
        }
      ]
    },
    {
      "cell_type": "code",
      "source": [
        "# Import YoloSplitter class from yolosplitter package\n",
        "from yolosplitter import YoloSplitter"
      ],
      "metadata": {
        "id": "G8neqjYJuaIE"
      },
      "execution_count": null,
      "outputs": []
    },
    {
      "cell_type": "code",
      "source": [
        "# Initialize YoloSplitter object for dataset splitting\n",
        "ys=YoloSplitter()"
      ],
      "metadata": {
        "id": "cfyE_WWeuMmN"
      },
      "execution_count": null,
      "outputs": []
    },
    {
      "cell_type": "code",
      "source": [
        "# Split the dataset into training and validation sets with the specified ratio\n",
        "# Ratio (0.80, 0.20) means 80% of the data is used for training and 20% for validation\n",
        "ys.from_yolo_dir(r\"/content/train_data/veg3\",ratio=(0.80,0.20))"
      ],
      "metadata": {
        "colab": {
          "base_uri": "https://localhost:8080/"
        },
        "id": "OsRSHkfXsNZ1",
        "outputId": "9cd2de57-c0c1-421b-f0a5-981ce20dbba1"
      },
      "execution_count": null,
      "outputs": [
        {
          "output_type": "stream",
          "name": "stdout",
          "text": [
            "\n",
            "Train size:818,Validation size:204,Test size :0\n",
            "\n",
            "{'train': 818, 'val': 204, 'test': 0, 'cls_names': {0, 1, 2, 3, 4, 5, 6, 7, 8, 9, 10, 11, 12, 13, 14}, 'errors': 0}\n"
          ]
        }
      ]
    },
    {
      "cell_type": "code",
      "source": [
        "# Save the split dataset to a new directory called \"veg3-2\"\n",
        "ys.save_split(r\"/content/train_data/veg3-2\")"
      ],
      "metadata": {
        "colab": {
          "base_uri": "https://localhost:8080/"
        },
        "id": "5L6KVMTAsNW_",
        "outputId": "dabe9a86-f241-4258-8f5a-23ffd9b186be"
      },
      "execution_count": null,
      "outputs": [
        {
          "output_type": "stream",
          "name": "stdout",
          "text": [
            "Saving New split in '/content/train_data/veg3-2' dir\n"
          ]
        },
        {
          "output_type": "stream",
          "name": "stderr",
          "text": [
            "100%|██████████| 1022/1022 [00:00<00:00, 1447.86it/s]\n"
          ]
        }
      ]
    },
    {
      "cell_type": "code",
      "source": [
        "# Define paths for saving the trained model and project files\n",
        "project = \"/content/drive/MyDrive/Projects/veggies\"\n",
        "dir_path = \"/content/drive/MyDrive/Projects/veggies\"\n",
        "\n",
        "# Train the YOLOv8 model with the split dataset\n",
        "# Parameters:\n",
        "# - data: path to the YAML file describing the dataset structure and splits\n",
        "# - epochs: number of epochs to train the model (101 in this case)\n",
        "# - project: directory where training outputs (logs, weights) will be saved\n",
        "# - save_dir: directory to save the model weights and logs\n",
        "\n",
        "model.train(data = \"/content/train_data/veg3-2/data.yaml\", epochs=101,project = project, save_dir=dir_path)"
      ],
      "metadata": {
        "colab": {
          "base_uri": "https://localhost:8080/"
        },
        "id": "xwypY8IfsNTt",
        "outputId": "2035fbf6-c887-4226-8862-c3e3cd0b5851"
      },
      "execution_count": null,
      "outputs": [
        {
          "output_type": "stream",
          "name": "stdout",
          "text": [
            "Ultralytics YOLOv8.2.74 🚀 Python-3.10.12 torch-2.3.1+cu121 CUDA:0 (Tesla T4, 15102MiB)\n",
            "\u001b[34m\u001b[1mengine/trainer: \u001b[0mtask=detect, mode=train, model=yolov8s.pt, data=/content/train_data/veg3-2/data.yaml, epochs=101, time=None, patience=100, batch=16, imgsz=640, save=True, save_period=-1, cache=False, device=None, workers=8, project=/content/drive/MyDrive/Projects/veggies, name=train2222, exist_ok=False, pretrained=True, optimizer=auto, verbose=True, seed=0, deterministic=True, single_cls=False, rect=False, cos_lr=False, close_mosaic=10, resume=False, amp=True, fraction=1.0, profile=False, freeze=None, multi_scale=False, overlap_mask=True, mask_ratio=4, dropout=0.0, val=True, split=val, save_json=False, save_hybrid=False, conf=None, iou=0.7, max_det=300, half=False, dnn=False, plots=True, source=None, vid_stride=1, stream_buffer=False, visualize=False, augment=False, agnostic_nms=False, classes=None, retina_masks=False, embed=None, show=False, save_frames=False, save_txt=False, save_conf=False, save_crop=False, show_labels=True, show_conf=True, show_boxes=True, line_width=None, format=torchscript, keras=False, optimize=False, int8=False, dynamic=False, simplify=False, opset=None, workspace=4, nms=False, lr0=0.01, lrf=0.01, momentum=0.937, weight_decay=0.0005, warmup_epochs=3.0, warmup_momentum=0.8, warmup_bias_lr=0.0, box=7.5, cls=0.5, dfl=1.5, pose=12.0, kobj=1.0, label_smoothing=0.0, nbs=64, hsv_h=0.015, hsv_s=0.7, hsv_v=0.4, degrees=0.0, translate=0.1, scale=0.5, shear=0.0, perspective=0.0, flipud=0.0, fliplr=0.5, bgr=0.0, mosaic=0.0, mixup=0.0, copy_paste=0.0, auto_augment=randaugment, erasing=0.4, crop_fraction=1.0, cfg=None, tracker=botsort.yaml, save_dir=/content/drive/MyDrive/Projects/veggies/train2222\n",
            "\n",
            "                   from  n    params  module                                       arguments                     \n",
            "  0                  -1  1       928  ultralytics.nn.modules.conv.Conv             [3, 32, 3, 2]                 \n",
            "  1                  -1  1     18560  ultralytics.nn.modules.conv.Conv             [32, 64, 3, 2]                \n",
            "  2                  -1  1     29056  ultralytics.nn.modules.block.C2f             [64, 64, 1, True]             \n",
            "  3                  -1  1     73984  ultralytics.nn.modules.conv.Conv             [64, 128, 3, 2]               \n",
            "  4                  -1  2    197632  ultralytics.nn.modules.block.C2f             [128, 128, 2, True]           \n",
            "  5                  -1  1    295424  ultralytics.nn.modules.conv.Conv             [128, 256, 3, 2]              \n",
            "  6                  -1  2    788480  ultralytics.nn.modules.block.C2f             [256, 256, 2, True]           \n",
            "  7                  -1  1   1180672  ultralytics.nn.modules.conv.Conv             [256, 512, 3, 2]              \n",
            "  8                  -1  1   1838080  ultralytics.nn.modules.block.C2f             [512, 512, 1, True]           \n",
            "  9                  -1  1    656896  ultralytics.nn.modules.block.SPPF            [512, 512, 5]                 \n",
            " 10                  -1  1         0  torch.nn.modules.upsampling.Upsample         [None, 2, 'nearest']          \n",
            " 11             [-1, 6]  1         0  ultralytics.nn.modules.conv.Concat           [1]                           \n",
            " 12                  -1  1    591360  ultralytics.nn.modules.block.C2f             [768, 256, 1]                 \n",
            " 13                  -1  1         0  torch.nn.modules.upsampling.Upsample         [None, 2, 'nearest']          \n",
            " 14             [-1, 4]  1         0  ultralytics.nn.modules.conv.Concat           [1]                           \n",
            " 15                  -1  1    148224  ultralytics.nn.modules.block.C2f             [384, 128, 1]                 \n",
            " 16                  -1  1    147712  ultralytics.nn.modules.conv.Conv             [128, 128, 3, 2]              \n",
            " 17            [-1, 12]  1         0  ultralytics.nn.modules.conv.Concat           [1]                           \n",
            " 18                  -1  1    493056  ultralytics.nn.modules.block.C2f             [384, 256, 1]                 \n",
            " 19                  -1  1    590336  ultralytics.nn.modules.conv.Conv             [256, 256, 3, 2]              \n",
            " 20             [-1, 9]  1         0  ultralytics.nn.modules.conv.Concat           [1]                           \n",
            " 21                  -1  1   1969152  ultralytics.nn.modules.block.C2f             [768, 512, 1]                 \n",
            " 22        [15, 18, 21]  1   2121853  ultralytics.nn.modules.head.Detect           [15, [128, 256, 512]]         \n",
            "Model summary: 225 layers, 11,141,405 parameters, 11,141,389 gradients, 28.7 GFLOPs\n",
            "\n",
            "Transferred 355/355 items from pretrained weights\n",
            "\u001b[34m\u001b[1mTensorBoard: \u001b[0mStart with 'tensorboard --logdir /content/drive/MyDrive/Projects/veggies/train2222', view at http://localhost:6006/\n",
            "Freezing layer 'model.22.dfl.conv.weight'\n",
            "\u001b[34m\u001b[1mAMP: \u001b[0mrunning Automatic Mixed Precision (AMP) checks with YOLOv8n...\n",
            "\u001b[34m\u001b[1mAMP: \u001b[0mchecks passed ✅\n"
          ]
        },
        {
          "output_type": "stream",
          "name": "stderr",
          "text": [
            "\u001b[34m\u001b[1mtrain: \u001b[0mScanning /content/train_data/veg3-2/train/labels.cache... 818 images, 3 backgrounds, 0 corrupt: 100%|██████████| 818/818 [00:00<?, ?it/s]"
          ]
        },
        {
          "output_type": "stream",
          "name": "stdout",
          "text": [
            "\u001b[34m\u001b[1mtrain: \u001b[0mWARNING ⚠️ /content/train_data/veg3-2/train/images/IMG-20230412-WA0004_jpg.rf.efbcb7240130892733a4b69782188c35.jpg: 1 duplicate labels removed\n",
            "\u001b[34m\u001b[1mtrain: \u001b[0mWARNING ⚠️ /content/train_data/veg3-2/train/images/IMG20230412113105_jpg.rf.7b8426f3be153afb988bab622d0bde76.jpg: 1 duplicate labels removed\n",
            "\u001b[34m\u001b[1mtrain: \u001b[0mWARNING ⚠️ /content/train_data/veg3-2/train/images/IMG20230502131335_jpg.rf.4a69e153ac3def0d9c4e255a5d1e49f8.jpg: 1 duplicate labels removed\n",
            "\u001b[34m\u001b[1mtrain: \u001b[0mWARNING ⚠️ /content/train_data/veg3-2/train/images/IMG20230502155634_jpg.rf.5316704edc9047d3c32d58fb435f08de.jpg: 1 duplicate labels removed\n",
            "\u001b[34m\u001b[1mtrain: \u001b[0mWARNING ⚠️ /content/train_data/veg3-2/train/images/IMG20230502182856_jpg.rf.c3d6c61d9b48f84add4fdb3e05171ffa.jpg: 1 duplicate labels removed\n",
            "\u001b[34m\u001b[1mtrain: \u001b[0mWARNING ⚠️ /content/train_data/veg3-2/train/images/IMG20230502183416_jpg.rf.e3d23640e8e8eec63ac89c811b03ccae.jpg: 1 duplicate labels removed\n",
            "\u001b[34m\u001b[1mtrain: \u001b[0mWARNING ⚠️ /content/train_data/veg3-2/train/images/IMG20230502184154_jpg.rf.6650007c01fbdddbc7ee1872aa547d8a.jpg: 1 duplicate labels removed\n",
            "\u001b[34m\u001b[1mtrain: \u001b[0mWARNING ⚠️ /content/train_data/veg3-2/train/images/IMG_20230502_184720_jpg.rf.afcae1bebcf88d2f08eb5017715d2f59.jpg: 1 duplicate labels removed\n",
            "\u001b[34m\u001b[1mtrain: \u001b[0mWARNING ⚠️ /content/train_data/veg3-2/train/images/IMG_20230502_185928_jpg.rf.9bd2705e6311fe94a519493353f32e99.jpg: 1 duplicate labels removed\n",
            "WARNING ⚠️ Box and segment counts should be equal, but got len(segments) = 2582, len(boxes) = 3045. To resolve this only boxes will be used and all segments will be removed. To avoid this please supply either a detect or segment dataset, not a detect-segment mixed dataset.\n",
            "\u001b[34m\u001b[1malbumentations: \u001b[0mBlur(p=0.01, blur_limit=(3, 7)), MedianBlur(p=0.01, blur_limit=(3, 7)), ToGray(p=0.01), CLAHE(p=0.01, clip_limit=(1, 4.0), tile_grid_size=(8, 8))\n"
          ]
        },
        {
          "output_type": "stream",
          "name": "stderr",
          "text": [
            "\n",
            "/usr/lib/python3.10/multiprocessing/popen_fork.py:66: RuntimeWarning: os.fork() was called. os.fork() is incompatible with multithreaded code, and JAX is multithreaded, so this will likely lead to a deadlock.\n",
            "  self.pid = os.fork()\n",
            "\u001b[34m\u001b[1mval: \u001b[0mScanning /content/train_data/veg3-2/valid/labels.cache... 204 images, 0 backgrounds, 0 corrupt: 100%|██████████| 204/204 [00:00<?, ?it/s]"
          ]
        },
        {
          "output_type": "stream",
          "name": "stdout",
          "text": [
            "\u001b[34m\u001b[1mval: \u001b[0mWARNING ⚠️ /content/train_data/veg3-2/valid/images/IMG20230502181920_jpg.rf.7593381519920ab86694bf6bf15f16fe.jpg: 1 duplicate labels removed\n",
            "WARNING ⚠️ Box and segment counts should be equal, but got len(segments) = 692, len(boxes) = 821. To resolve this only boxes will be used and all segments will be removed. To avoid this please supply either a detect or segment dataset, not a detect-segment mixed dataset.\n"
          ]
        },
        {
          "output_type": "stream",
          "name": "stderr",
          "text": [
            "\n"
          ]
        },
        {
          "output_type": "stream",
          "name": "stdout",
          "text": [
            "Plotting labels to /content/drive/MyDrive/Projects/veggies/train2222/labels.jpg... \n",
            "\u001b[34m\u001b[1moptimizer:\u001b[0m 'optimizer=auto' found, ignoring 'lr0=0.01' and 'momentum=0.937' and determining best 'optimizer', 'lr0' and 'momentum' automatically... \n",
            "\u001b[34m\u001b[1moptimizer:\u001b[0m AdamW(lr=0.000526, momentum=0.9) with parameter groups 57 weight(decay=0.0), 64 weight(decay=0.0005), 63 bias(decay=0.0)\n",
            "\u001b[34m\u001b[1mTensorBoard: \u001b[0mmodel graph visualization added ✅\n",
            "Image sizes 640 train, 640 val\n",
            "Using 2 dataloader workers\n",
            "Logging results to \u001b[1m/content/drive/MyDrive/Projects/veggies/train2222\u001b[0m\n",
            "Starting training for 101 epochs...\n",
            "\n",
            "      Epoch    GPU_mem   box_loss   cls_loss   dfl_loss  Instances       Size\n"
          ]
        },
        {
          "output_type": "stream",
          "name": "stderr",
          "text": [
            "      1/101      4.56G     0.3719     0.2695     0.9002          2        640: 100%|██████████| 52/52 [00:21<00:00,  2.41it/s]\n",
            "                 Class     Images  Instances      Box(P          R      mAP50  mAP50-95): 100%|██████████| 7/7 [00:03<00:00,  2.06it/s]\n"
          ]
        },
        {
          "output_type": "stream",
          "name": "stdout",
          "text": [
            "                   all        204        821      0.853      0.816      0.839      0.692\n",
            "\n",
            "      Epoch    GPU_mem   box_loss   cls_loss   dfl_loss  Instances       Size\n"
          ]
        },
        {
          "output_type": "stream",
          "name": "stderr",
          "text": [
            "      2/101      4.28G      0.397     0.2905     0.8947          6        640: 100%|██████████| 52/52 [00:22<00:00,  2.35it/s]\n",
            "                 Class     Images  Instances      Box(P          R      mAP50  mAP50-95): 100%|██████████| 7/7 [00:01<00:00,  3.57it/s]"
          ]
        },
        {
          "output_type": "stream",
          "name": "stdout",
          "text": [
            "                   all        204        821      0.839      0.812      0.833      0.683\n"
          ]
        },
        {
          "output_type": "stream",
          "name": "stderr",
          "text": [
            "\n"
          ]
        },
        {
          "output_type": "stream",
          "name": "stdout",
          "text": [
            "\n",
            "      Epoch    GPU_mem   box_loss   cls_loss   dfl_loss  Instances       Size\n"
          ]
        },
        {
          "output_type": "stream",
          "name": "stderr",
          "text": [
            "      3/101      4.36G     0.4387     0.3276     0.9196          7        640: 100%|██████████| 52/52 [00:20<00:00,  2.55it/s]\n",
            "                 Class     Images  Instances      Box(P          R      mAP50  mAP50-95): 100%|██████████| 7/7 [00:01<00:00,  3.52it/s]"
          ]
        },
        {
          "output_type": "stream",
          "name": "stdout",
          "text": [
            "                   all        204        821      0.805      0.839       0.82      0.655\n"
          ]
        },
        {
          "output_type": "stream",
          "name": "stderr",
          "text": [
            "\n"
          ]
        },
        {
          "output_type": "stream",
          "name": "stdout",
          "text": [
            "\n",
            "      Epoch    GPU_mem   box_loss   cls_loss   dfl_loss  Instances       Size\n"
          ]
        },
        {
          "output_type": "stream",
          "name": "stderr",
          "text": [
            "      4/101      4.31G     0.4817     0.3851     0.9464          2        640: 100%|██████████| 52/52 [00:20<00:00,  2.57it/s]\n",
            "                 Class     Images  Instances      Box(P          R      mAP50  mAP50-95): 100%|██████████| 7/7 [00:02<00:00,  2.53it/s]"
          ]
        },
        {
          "output_type": "stream",
          "name": "stdout",
          "text": [
            "                   all        204        821      0.814      0.809      0.819      0.637\n"
          ]
        },
        {
          "output_type": "stream",
          "name": "stderr",
          "text": [
            "\n"
          ]
        },
        {
          "output_type": "stream",
          "name": "stdout",
          "text": [
            "\n",
            "      Epoch    GPU_mem   box_loss   cls_loss   dfl_loss  Instances       Size\n"
          ]
        },
        {
          "output_type": "stream",
          "name": "stderr",
          "text": [
            "      5/101      4.31G       0.49     0.4004     0.9564          2        640: 100%|██████████| 52/52 [00:18<00:00,  2.86it/s]\n",
            "                 Class     Images  Instances      Box(P          R      mAP50  mAP50-95): 100%|██████████| 7/7 [00:03<00:00,  2.06it/s]"
          ]
        },
        {
          "output_type": "stream",
          "name": "stdout",
          "text": [
            "                   all        204        821      0.812      0.815      0.829       0.66\n"
          ]
        },
        {
          "output_type": "stream",
          "name": "stderr",
          "text": [
            "\n"
          ]
        },
        {
          "output_type": "stream",
          "name": "stdout",
          "text": [
            "\n",
            "      Epoch    GPU_mem   box_loss   cls_loss   dfl_loss  Instances       Size\n"
          ]
        },
        {
          "output_type": "stream",
          "name": "stderr",
          "text": [
            "      6/101      4.29G     0.4914     0.3886     0.9482          8        640: 100%|██████████| 52/52 [00:16<00:00,  3.10it/s]\n",
            "                 Class     Images  Instances      Box(P          R      mAP50  mAP50-95): 100%|██████████| 7/7 [00:03<00:00,  2.00it/s]"
          ]
        },
        {
          "output_type": "stream",
          "name": "stdout",
          "text": [
            "                   all        204        821      0.829       0.77      0.804      0.634\n"
          ]
        },
        {
          "output_type": "stream",
          "name": "stderr",
          "text": [
            "\n"
          ]
        },
        {
          "output_type": "stream",
          "name": "stdout",
          "text": [
            "\n",
            "      Epoch    GPU_mem   box_loss   cls_loss   dfl_loss  Instances       Size\n"
          ]
        },
        {
          "output_type": "stream",
          "name": "stderr",
          "text": [
            "      7/101      4.29G      0.473     0.3821     0.9543          2        640: 100%|██████████| 52/52 [00:16<00:00,  3.19it/s]\n",
            "                 Class     Images  Instances      Box(P          R      mAP50  mAP50-95): 100%|██████████| 7/7 [00:02<00:00,  2.42it/s]\n"
          ]
        },
        {
          "output_type": "stream",
          "name": "stdout",
          "text": [
            "                   all        204        821      0.816      0.812      0.821      0.659\n",
            "\n",
            "      Epoch    GPU_mem   box_loss   cls_loss   dfl_loss  Instances       Size\n"
          ]
        },
        {
          "output_type": "stream",
          "name": "stderr",
          "text": [
            "      8/101      4.28G     0.5114     0.4152     0.9706          2        640: 100%|██████████| 52/52 [00:17<00:00,  2.90it/s]\n",
            "                 Class     Images  Instances      Box(P          R      mAP50  mAP50-95): 100%|██████████| 7/7 [00:02<00:00,  3.32it/s]"
          ]
        },
        {
          "output_type": "stream",
          "name": "stdout",
          "text": [
            "                   all        204        821      0.794      0.803      0.824      0.648\n"
          ]
        },
        {
          "output_type": "stream",
          "name": "stderr",
          "text": [
            "\n"
          ]
        },
        {
          "output_type": "stream",
          "name": "stdout",
          "text": [
            "\n",
            "      Epoch    GPU_mem   box_loss   cls_loss   dfl_loss  Instances       Size\n"
          ]
        },
        {
          "output_type": "stream",
          "name": "stderr",
          "text": [
            "      9/101      4.33G     0.4947     0.4313     0.9562          6        640: 100%|██████████| 52/52 [00:19<00:00,  2.70it/s]\n",
            "                 Class     Images  Instances      Box(P          R      mAP50  mAP50-95): 100%|██████████| 7/7 [00:01<00:00,  3.67it/s]"
          ]
        },
        {
          "output_type": "stream",
          "name": "stdout",
          "text": [
            "                   all        204        821      0.843      0.813      0.842      0.674\n"
          ]
        },
        {
          "output_type": "stream",
          "name": "stderr",
          "text": [
            "\n"
          ]
        },
        {
          "output_type": "stream",
          "name": "stdout",
          "text": [
            "\n",
            "      Epoch    GPU_mem   box_loss   cls_loss   dfl_loss  Instances       Size\n"
          ]
        },
        {
          "output_type": "stream",
          "name": "stderr",
          "text": [
            "     10/101      4.43G       0.49     0.3946     0.9549          7        640: 100%|██████████| 52/52 [00:20<00:00,  2.59it/s]\n",
            "                 Class     Images  Instances      Box(P          R      mAP50  mAP50-95): 100%|██████████| 7/7 [00:01<00:00,  3.58it/s]"
          ]
        },
        {
          "output_type": "stream",
          "name": "stdout",
          "text": [
            "                   all        204        821      0.804      0.779      0.813      0.641\n"
          ]
        },
        {
          "output_type": "stream",
          "name": "stderr",
          "text": [
            "\n"
          ]
        },
        {
          "output_type": "stream",
          "name": "stdout",
          "text": [
            "\n",
            "      Epoch    GPU_mem   box_loss   cls_loss   dfl_loss  Instances       Size\n"
          ]
        },
        {
          "output_type": "stream",
          "name": "stderr",
          "text": [
            "     11/101      4.44G     0.4862      0.401     0.9517         15        640: 100%|██████████| 52/52 [00:20<00:00,  2.59it/s]\n",
            "                 Class     Images  Instances      Box(P          R      mAP50  mAP50-95): 100%|██████████| 7/7 [00:02<00:00,  2.35it/s]"
          ]
        },
        {
          "output_type": "stream",
          "name": "stdout",
          "text": [
            "                   all        204        821       0.81      0.827      0.811       0.66\n"
          ]
        },
        {
          "output_type": "stream",
          "name": "stderr",
          "text": [
            "\n"
          ]
        },
        {
          "output_type": "stream",
          "name": "stdout",
          "text": [
            "\n",
            "      Epoch    GPU_mem   box_loss   cls_loss   dfl_loss  Instances       Size\n"
          ]
        },
        {
          "output_type": "stream",
          "name": "stderr",
          "text": [
            "     12/101      4.36G     0.4952     0.3926     0.9669         13        640: 100%|██████████| 52/52 [00:20<00:00,  2.59it/s]\n",
            "                 Class     Images  Instances      Box(P          R      mAP50  mAP50-95): 100%|██████████| 7/7 [00:02<00:00,  2.94it/s]"
          ]
        },
        {
          "output_type": "stream",
          "name": "stdout",
          "text": [
            "                   all        204        821      0.823       0.78      0.798      0.645\n"
          ]
        },
        {
          "output_type": "stream",
          "name": "stderr",
          "text": [
            "\n"
          ]
        },
        {
          "output_type": "stream",
          "name": "stdout",
          "text": [
            "\n",
            "      Epoch    GPU_mem   box_loss   cls_loss   dfl_loss  Instances       Size\n"
          ]
        },
        {
          "output_type": "stream",
          "name": "stderr",
          "text": [
            "     13/101       4.4G     0.4838      0.398     0.9569          2        640: 100%|██████████| 52/52 [00:17<00:00,  2.92it/s]\n",
            "                 Class     Images  Instances      Box(P          R      mAP50  mAP50-95): 100%|██████████| 7/7 [00:03<00:00,  2.02it/s]"
          ]
        },
        {
          "output_type": "stream",
          "name": "stdout",
          "text": [
            "                   all        204        821      0.819      0.791      0.817      0.649\n"
          ]
        },
        {
          "output_type": "stream",
          "name": "stderr",
          "text": [
            "\n"
          ]
        },
        {
          "output_type": "stream",
          "name": "stdout",
          "text": [
            "\n",
            "      Epoch    GPU_mem   box_loss   cls_loss   dfl_loss  Instances       Size\n"
          ]
        },
        {
          "output_type": "stream",
          "name": "stderr",
          "text": [
            "     14/101      4.33G     0.4809     0.3831     0.9561          2        640: 100%|██████████| 52/52 [00:16<00:00,  3.20it/s]\n",
            "                 Class     Images  Instances      Box(P          R      mAP50  mAP50-95): 100%|██████████| 7/7 [00:03<00:00,  2.23it/s]"
          ]
        },
        {
          "output_type": "stream",
          "name": "stdout",
          "text": [
            "                   all        204        821      0.776      0.815      0.823      0.661\n"
          ]
        },
        {
          "output_type": "stream",
          "name": "stderr",
          "text": [
            "\n"
          ]
        },
        {
          "output_type": "stream",
          "name": "stdout",
          "text": [
            "\n",
            "      Epoch    GPU_mem   box_loss   cls_loss   dfl_loss  Instances       Size\n"
          ]
        },
        {
          "output_type": "stream",
          "name": "stderr",
          "text": [
            "     15/101       4.3G     0.4923     0.4004     0.9542          4        640: 100%|██████████| 52/52 [00:16<00:00,  3.11it/s]\n",
            "                 Class     Images  Instances      Box(P          R      mAP50  mAP50-95): 100%|██████████| 7/7 [00:02<00:00,  2.59it/s]"
          ]
        },
        {
          "output_type": "stream",
          "name": "stdout",
          "text": [
            "                   all        204        821       0.83       0.82      0.834      0.661\n"
          ]
        },
        {
          "output_type": "stream",
          "name": "stderr",
          "text": [
            "\n"
          ]
        },
        {
          "output_type": "stream",
          "name": "stdout",
          "text": [
            "\n",
            "      Epoch    GPU_mem   box_loss   cls_loss   dfl_loss  Instances       Size\n"
          ]
        },
        {
          "output_type": "stream",
          "name": "stderr",
          "text": [
            "     16/101      4.36G     0.4771     0.3969     0.9589          2        640: 100%|██████████| 52/52 [00:17<00:00,  2.91it/s]\n",
            "                 Class     Images  Instances      Box(P          R      mAP50  mAP50-95): 100%|██████████| 7/7 [00:01<00:00,  3.52it/s]"
          ]
        },
        {
          "output_type": "stream",
          "name": "stdout",
          "text": [
            "                   all        204        821      0.848      0.812      0.829      0.672\n"
          ]
        },
        {
          "output_type": "stream",
          "name": "stderr",
          "text": [
            "\n"
          ]
        },
        {
          "output_type": "stream",
          "name": "stdout",
          "text": [
            "\n",
            "      Epoch    GPU_mem   box_loss   cls_loss   dfl_loss  Instances       Size\n"
          ]
        },
        {
          "output_type": "stream",
          "name": "stderr",
          "text": [
            "     17/101       4.3G      0.486     0.3727      0.959          2        640: 100%|██████████| 52/52 [00:19<00:00,  2.64it/s]\n",
            "                 Class     Images  Instances      Box(P          R      mAP50  mAP50-95): 100%|██████████| 7/7 [00:02<00:00,  3.49it/s]"
          ]
        },
        {
          "output_type": "stream",
          "name": "stdout",
          "text": [
            "                   all        204        821      0.796      0.842      0.832      0.663\n"
          ]
        },
        {
          "output_type": "stream",
          "name": "stderr",
          "text": [
            "\n"
          ]
        },
        {
          "output_type": "stream",
          "name": "stdout",
          "text": [
            "\n",
            "      Epoch    GPU_mem   box_loss   cls_loss   dfl_loss  Instances       Size\n"
          ]
        },
        {
          "output_type": "stream",
          "name": "stderr",
          "text": [
            "     18/101      4.29G     0.4981     0.4116     0.9592          2        640: 100%|██████████| 52/52 [00:20<00:00,  2.49it/s]\n",
            "                 Class     Images  Instances      Box(P          R      mAP50  mAP50-95): 100%|██████████| 7/7 [00:02<00:00,  3.49it/s]"
          ]
        },
        {
          "output_type": "stream",
          "name": "stdout",
          "text": [
            "                   all        204        821      0.833      0.806      0.829       0.66\n"
          ]
        },
        {
          "output_type": "stream",
          "name": "stderr",
          "text": [
            "\n"
          ]
        },
        {
          "output_type": "stream",
          "name": "stdout",
          "text": [
            "\n",
            "      Epoch    GPU_mem   box_loss   cls_loss   dfl_loss  Instances       Size\n"
          ]
        },
        {
          "output_type": "stream",
          "name": "stderr",
          "text": [
            "     19/101      4.35G     0.4744     0.3638     0.9491          8        640: 100%|██████████| 52/52 [00:19<00:00,  2.67it/s]\n",
            "                 Class     Images  Instances      Box(P          R      mAP50  mAP50-95): 100%|██████████| 7/7 [00:02<00:00,  2.63it/s]"
          ]
        },
        {
          "output_type": "stream",
          "name": "stdout",
          "text": [
            "                   all        204        821      0.824      0.808      0.835       0.67\n"
          ]
        },
        {
          "output_type": "stream",
          "name": "stderr",
          "text": [
            "\n"
          ]
        },
        {
          "output_type": "stream",
          "name": "stdout",
          "text": [
            "\n",
            "      Epoch    GPU_mem   box_loss   cls_loss   dfl_loss  Instances       Size\n"
          ]
        },
        {
          "output_type": "stream",
          "name": "stderr",
          "text": [
            "     20/101      4.27G     0.4724     0.3897     0.9497          2        640: 100%|██████████| 52/52 [00:17<00:00,  2.92it/s]\n",
            "                 Class     Images  Instances      Box(P          R      mAP50  mAP50-95): 100%|██████████| 7/7 [00:03<00:00,  2.05it/s]"
          ]
        },
        {
          "output_type": "stream",
          "name": "stdout",
          "text": [
            "                   all        204        821      0.827      0.802      0.829      0.659\n"
          ]
        },
        {
          "output_type": "stream",
          "name": "stderr",
          "text": [
            "\n"
          ]
        },
        {
          "output_type": "stream",
          "name": "stdout",
          "text": [
            "\n",
            "      Epoch    GPU_mem   box_loss   cls_loss   dfl_loss  Instances       Size\n"
          ]
        },
        {
          "output_type": "stream",
          "name": "stderr",
          "text": [
            "     21/101      4.32G     0.4772     0.3644     0.9418          5        640: 100%|██████████| 52/52 [00:16<00:00,  3.23it/s]\n",
            "                 Class     Images  Instances      Box(P          R      mAP50  mAP50-95): 100%|██████████| 7/7 [00:03<00:00,  2.18it/s]\n"
          ]
        },
        {
          "output_type": "stream",
          "name": "stdout",
          "text": [
            "                   all        204        821      0.853      0.805      0.831      0.661\n",
            "\n",
            "      Epoch    GPU_mem   box_loss   cls_loss   dfl_loss  Instances       Size\n"
          ]
        },
        {
          "output_type": "stream",
          "name": "stderr",
          "text": [
            "     22/101      4.29G     0.4694     0.3956     0.9385         11        640: 100%|██████████| 52/52 [00:16<00:00,  3.15it/s]\n",
            "                 Class     Images  Instances      Box(P          R      mAP50  mAP50-95): 100%|██████████| 7/7 [00:02<00:00,  2.46it/s]"
          ]
        },
        {
          "output_type": "stream",
          "name": "stdout",
          "text": [
            "                   all        204        821      0.826      0.818      0.848      0.694\n"
          ]
        },
        {
          "output_type": "stream",
          "name": "stderr",
          "text": [
            "\n"
          ]
        },
        {
          "output_type": "stream",
          "name": "stdout",
          "text": [
            "\n",
            "      Epoch    GPU_mem   box_loss   cls_loss   dfl_loss  Instances       Size\n"
          ]
        },
        {
          "output_type": "stream",
          "name": "stderr",
          "text": [
            "     23/101      4.29G     0.4623     0.3626     0.9392          2        640: 100%|██████████| 52/52 [00:17<00:00,  3.00it/s]\n",
            "                 Class     Images  Instances      Box(P          R      mAP50  mAP50-95): 100%|██████████| 7/7 [00:03<00:00,  2.06it/s]\n"
          ]
        },
        {
          "output_type": "stream",
          "name": "stdout",
          "text": [
            "                   all        204        821      0.862      0.804      0.841      0.676\n",
            "\n",
            "      Epoch    GPU_mem   box_loss   cls_loss   dfl_loss  Instances       Size\n"
          ]
        },
        {
          "output_type": "stream",
          "name": "stderr",
          "text": [
            "     24/101      4.43G     0.4527     0.3563     0.9435          2        640: 100%|██████████| 52/52 [00:16<00:00,  3.24it/s]\n",
            "                 Class     Images  Instances      Box(P          R      mAP50  mAP50-95): 100%|██████████| 7/7 [00:03<00:00,  2.11it/s]"
          ]
        },
        {
          "output_type": "stream",
          "name": "stdout",
          "text": [
            "                   all        204        821      0.846       0.79      0.819      0.659\n"
          ]
        },
        {
          "output_type": "stream",
          "name": "stderr",
          "text": [
            "\n"
          ]
        },
        {
          "output_type": "stream",
          "name": "stdout",
          "text": [
            "\n",
            "      Epoch    GPU_mem   box_loss   cls_loss   dfl_loss  Instances       Size\n"
          ]
        },
        {
          "output_type": "stream",
          "name": "stderr",
          "text": [
            "     25/101      4.28G     0.4532     0.3687     0.9344          5        640: 100%|██████████| 52/52 [00:16<00:00,  3.09it/s]\n",
            "                 Class     Images  Instances      Box(P          R      mAP50  mAP50-95): 100%|██████████| 7/7 [00:03<00:00,  2.31it/s]"
          ]
        },
        {
          "output_type": "stream",
          "name": "stdout",
          "text": [
            "                   all        204        821      0.844      0.804      0.844      0.678\n"
          ]
        },
        {
          "output_type": "stream",
          "name": "stderr",
          "text": [
            "\n"
          ]
        },
        {
          "output_type": "stream",
          "name": "stdout",
          "text": [
            "\n",
            "      Epoch    GPU_mem   box_loss   cls_loss   dfl_loss  Instances       Size\n"
          ]
        },
        {
          "output_type": "stream",
          "name": "stderr",
          "text": [
            "     26/101       4.3G     0.4583     0.3523     0.9302          5        640: 100%|██████████| 52/52 [00:18<00:00,  2.82it/s]\n",
            "                 Class     Images  Instances      Box(P          R      mAP50  mAP50-95): 100%|██████████| 7/7 [00:02<00:00,  2.96it/s]"
          ]
        },
        {
          "output_type": "stream",
          "name": "stdout",
          "text": [
            "                   all        204        821      0.846      0.815      0.826      0.656\n"
          ]
        },
        {
          "output_type": "stream",
          "name": "stderr",
          "text": [
            "\n"
          ]
        },
        {
          "output_type": "stream",
          "name": "stdout",
          "text": [
            "\n",
            "      Epoch    GPU_mem   box_loss   cls_loss   dfl_loss  Instances       Size\n"
          ]
        },
        {
          "output_type": "stream",
          "name": "stderr",
          "text": [
            "     27/101      4.35G     0.4456     0.3486     0.9326          9        640: 100%|██████████| 52/52 [00:19<00:00,  2.64it/s]\n",
            "                 Class     Images  Instances      Box(P          R      mAP50  mAP50-95): 100%|██████████| 7/7 [00:01<00:00,  3.57it/s]"
          ]
        },
        {
          "output_type": "stream",
          "name": "stdout",
          "text": [
            "                   all        204        821      0.816      0.839      0.832      0.671\n"
          ]
        },
        {
          "output_type": "stream",
          "name": "stderr",
          "text": [
            "\n"
          ]
        },
        {
          "output_type": "stream",
          "name": "stdout",
          "text": [
            "\n",
            "      Epoch    GPU_mem   box_loss   cls_loss   dfl_loss  Instances       Size\n"
          ]
        },
        {
          "output_type": "stream",
          "name": "stderr",
          "text": [
            "     28/101      4.29G     0.4603     0.3506     0.9436          2        640: 100%|██████████| 52/52 [00:20<00:00,  2.53it/s]\n",
            "                 Class     Images  Instances      Box(P          R      mAP50  mAP50-95): 100%|██████████| 7/7 [00:02<00:00,  3.47it/s]"
          ]
        },
        {
          "output_type": "stream",
          "name": "stdout",
          "text": [
            "                   all        204        821      0.854      0.803      0.828      0.674\n"
          ]
        },
        {
          "output_type": "stream",
          "name": "stderr",
          "text": [
            "\n"
          ]
        },
        {
          "output_type": "stream",
          "name": "stdout",
          "text": [
            "\n",
            "      Epoch    GPU_mem   box_loss   cls_loss   dfl_loss  Instances       Size\n"
          ]
        },
        {
          "output_type": "stream",
          "name": "stderr",
          "text": [
            "     29/101       4.3G     0.4634     0.3507     0.9655          7        640: 100%|██████████| 52/52 [00:19<00:00,  2.69it/s]\n",
            "                 Class     Images  Instances      Box(P          R      mAP50  mAP50-95): 100%|██████████| 7/7 [00:03<00:00,  2.31it/s]"
          ]
        },
        {
          "output_type": "stream",
          "name": "stdout",
          "text": [
            "                   all        204        821      0.833      0.815      0.823      0.659\n"
          ]
        },
        {
          "output_type": "stream",
          "name": "stderr",
          "text": [
            "\n"
          ]
        },
        {
          "output_type": "stream",
          "name": "stdout",
          "text": [
            "\n",
            "      Epoch    GPU_mem   box_loss   cls_loss   dfl_loss  Instances       Size\n"
          ]
        },
        {
          "output_type": "stream",
          "name": "stderr",
          "text": [
            "     30/101      4.32G     0.4356     0.3565     0.9191         17        640: 100%|██████████| 52/52 [00:17<00:00,  2.96it/s]\n",
            "                 Class     Images  Instances      Box(P          R      mAP50  mAP50-95): 100%|██████████| 7/7 [00:03<00:00,  2.06it/s]"
          ]
        },
        {
          "output_type": "stream",
          "name": "stdout",
          "text": [
            "                   all        204        821      0.828      0.834       0.84      0.675\n"
          ]
        },
        {
          "output_type": "stream",
          "name": "stderr",
          "text": [
            "\n"
          ]
        },
        {
          "output_type": "stream",
          "name": "stdout",
          "text": [
            "\n",
            "      Epoch    GPU_mem   box_loss   cls_loss   dfl_loss  Instances       Size\n"
          ]
        },
        {
          "output_type": "stream",
          "name": "stderr",
          "text": [
            "     31/101      4.35G     0.4433      0.345      0.933          7        640: 100%|██████████| 52/52 [00:16<00:00,  3.12it/s]\n",
            "                 Class     Images  Instances      Box(P          R      mAP50  mAP50-95): 100%|██████████| 7/7 [00:03<00:00,  2.01it/s]"
          ]
        },
        {
          "output_type": "stream",
          "name": "stdout",
          "text": [
            "                   all        204        821      0.852      0.816      0.831      0.669\n"
          ]
        },
        {
          "output_type": "stream",
          "name": "stderr",
          "text": [
            "\n"
          ]
        },
        {
          "output_type": "stream",
          "name": "stdout",
          "text": [
            "\n",
            "      Epoch    GPU_mem   box_loss   cls_loss   dfl_loss  Instances       Size\n"
          ]
        },
        {
          "output_type": "stream",
          "name": "stderr",
          "text": [
            "     32/101       4.3G     0.4354     0.3316      0.916         12        640: 100%|██████████| 52/52 [00:16<00:00,  3.09it/s]\n",
            "                 Class     Images  Instances      Box(P          R      mAP50  mAP50-95): 100%|██████████| 7/7 [00:03<00:00,  2.29it/s]"
          ]
        },
        {
          "output_type": "stream",
          "name": "stdout",
          "text": [
            "                   all        204        821      0.838      0.805      0.825      0.669\n"
          ]
        },
        {
          "output_type": "stream",
          "name": "stderr",
          "text": [
            "\n"
          ]
        },
        {
          "output_type": "stream",
          "name": "stdout",
          "text": [
            "\n",
            "      Epoch    GPU_mem   box_loss   cls_loss   dfl_loss  Instances       Size\n"
          ]
        },
        {
          "output_type": "stream",
          "name": "stderr",
          "text": [
            "     33/101      4.34G      0.442     0.3268      0.924          2        640: 100%|██████████| 52/52 [00:18<00:00,  2.87it/s]\n",
            "                 Class     Images  Instances      Box(P          R      mAP50  mAP50-95): 100%|██████████| 7/7 [00:02<00:00,  2.80it/s]"
          ]
        },
        {
          "output_type": "stream",
          "name": "stdout",
          "text": [
            "                   all        204        821      0.841      0.792      0.823      0.668\n"
          ]
        },
        {
          "output_type": "stream",
          "name": "stderr",
          "text": [
            "\n"
          ]
        },
        {
          "output_type": "stream",
          "name": "stdout",
          "text": [
            "\n",
            "      Epoch    GPU_mem   box_loss   cls_loss   dfl_loss  Instances       Size\n"
          ]
        },
        {
          "output_type": "stream",
          "name": "stderr",
          "text": [
            "     34/101      4.31G      0.431       0.32     0.9297          9        640: 100%|██████████| 52/52 [00:18<00:00,  2.77it/s]\n",
            "                 Class     Images  Instances      Box(P          R      mAP50  mAP50-95): 100%|██████████| 7/7 [00:01<00:00,  3.57it/s]"
          ]
        },
        {
          "output_type": "stream",
          "name": "stdout",
          "text": [
            "                   all        204        821      0.809      0.833      0.828      0.676\n"
          ]
        },
        {
          "output_type": "stream",
          "name": "stderr",
          "text": [
            "\n"
          ]
        },
        {
          "output_type": "stream",
          "name": "stdout",
          "text": [
            "\n",
            "      Epoch    GPU_mem   box_loss   cls_loss   dfl_loss  Instances       Size\n"
          ]
        },
        {
          "output_type": "stream",
          "name": "stderr",
          "text": [
            "     35/101      4.39G     0.4181     0.3074     0.9164         19        640: 100%|██████████| 52/52 [00:20<00:00,  2.52it/s]\n",
            "                 Class     Images  Instances      Box(P          R      mAP50  mAP50-95): 100%|██████████| 7/7 [00:02<00:00,  3.50it/s]"
          ]
        },
        {
          "output_type": "stream",
          "name": "stdout",
          "text": [
            "                   all        204        821      0.798      0.847      0.839      0.681\n"
          ]
        },
        {
          "output_type": "stream",
          "name": "stderr",
          "text": [
            "\n"
          ]
        },
        {
          "output_type": "stream",
          "name": "stdout",
          "text": [
            "\n",
            "      Epoch    GPU_mem   box_loss   cls_loss   dfl_loss  Instances       Size\n"
          ]
        },
        {
          "output_type": "stream",
          "name": "stderr",
          "text": [
            "     36/101      4.37G     0.4176     0.3122      0.923          2        640: 100%|██████████| 52/52 [00:20<00:00,  2.58it/s]\n",
            "                 Class     Images  Instances      Box(P          R      mAP50  mAP50-95): 100%|██████████| 7/7 [00:02<00:00,  3.27it/s]"
          ]
        },
        {
          "output_type": "stream",
          "name": "stdout",
          "text": [
            "                   all        204        821       0.85       0.81      0.832      0.677\n"
          ]
        },
        {
          "output_type": "stream",
          "name": "stderr",
          "text": [
            "\n"
          ]
        },
        {
          "output_type": "stream",
          "name": "stdout",
          "text": [
            "\n",
            "      Epoch    GPU_mem   box_loss   cls_loss   dfl_loss  Instances       Size\n"
          ]
        },
        {
          "output_type": "stream",
          "name": "stderr",
          "text": [
            "     37/101      4.31G     0.4219     0.3159     0.9062          9        640: 100%|██████████| 52/52 [00:19<00:00,  2.72it/s]\n",
            "                 Class     Images  Instances      Box(P          R      mAP50  mAP50-95): 100%|██████████| 7/7 [00:03<00:00,  2.20it/s]"
          ]
        },
        {
          "output_type": "stream",
          "name": "stdout",
          "text": [
            "                   all        204        821      0.834      0.846      0.843      0.681\n"
          ]
        },
        {
          "output_type": "stream",
          "name": "stderr",
          "text": [
            "\n"
          ]
        },
        {
          "output_type": "stream",
          "name": "stdout",
          "text": [
            "\n",
            "      Epoch    GPU_mem   box_loss   cls_loss   dfl_loss  Instances       Size\n"
          ]
        },
        {
          "output_type": "stream",
          "name": "stderr",
          "text": [
            "     38/101       4.3G     0.4236     0.3119     0.9181          2        640: 100%|██████████| 52/52 [00:16<00:00,  3.21it/s]\n",
            "                 Class     Images  Instances      Box(P          R      mAP50  mAP50-95): 100%|██████████| 7/7 [00:03<00:00,  2.00it/s]\n"
          ]
        },
        {
          "output_type": "stream",
          "name": "stdout",
          "text": [
            "                   all        204        821      0.824      0.812      0.835      0.676\n",
            "\n",
            "      Epoch    GPU_mem   box_loss   cls_loss   dfl_loss  Instances       Size\n"
          ]
        },
        {
          "output_type": "stream",
          "name": "stderr",
          "text": [
            "     39/101      4.31G     0.4198     0.3086     0.9221          7        640: 100%|██████████| 52/52 [00:16<00:00,  3.17it/s]\n",
            "                 Class     Images  Instances      Box(P          R      mAP50  mAP50-95): 100%|██████████| 7/7 [00:03<00:00,  2.27it/s]\n"
          ]
        },
        {
          "output_type": "stream",
          "name": "stdout",
          "text": [
            "                   all        204        821      0.833      0.808      0.817      0.669\n",
            "\n",
            "      Epoch    GPU_mem   box_loss   cls_loss   dfl_loss  Instances       Size\n"
          ]
        },
        {
          "output_type": "stream",
          "name": "stderr",
          "text": [
            "     40/101      4.29G     0.4234     0.3148     0.9138          9        640: 100%|██████████| 52/52 [00:17<00:00,  2.93it/s]\n",
            "                 Class     Images  Instances      Box(P          R      mAP50  mAP50-95): 100%|██████████| 7/7 [00:02<00:00,  3.09it/s]"
          ]
        },
        {
          "output_type": "stream",
          "name": "stdout",
          "text": [
            "                   all        204        821      0.851      0.809      0.834      0.679\n"
          ]
        },
        {
          "output_type": "stream",
          "name": "stderr",
          "text": [
            "\n"
          ]
        },
        {
          "output_type": "stream",
          "name": "stdout",
          "text": [
            "\n",
            "      Epoch    GPU_mem   box_loss   cls_loss   dfl_loss  Instances       Size\n"
          ]
        },
        {
          "output_type": "stream",
          "name": "stderr",
          "text": [
            "     41/101       4.3G      0.405      0.316     0.9067          7        640: 100%|██████████| 52/52 [00:19<00:00,  2.61it/s]\n",
            "                 Class     Images  Instances      Box(P          R      mAP50  mAP50-95): 100%|██████████| 7/7 [00:01<00:00,  3.55it/s]"
          ]
        },
        {
          "output_type": "stream",
          "name": "stdout",
          "text": [
            "                   all        204        821      0.855      0.809      0.844      0.685\n"
          ]
        },
        {
          "output_type": "stream",
          "name": "stderr",
          "text": [
            "\n"
          ]
        },
        {
          "output_type": "stream",
          "name": "stdout",
          "text": [
            "\n",
            "      Epoch    GPU_mem   box_loss   cls_loss   dfl_loss  Instances       Size\n"
          ]
        },
        {
          "output_type": "stream",
          "name": "stderr",
          "text": [
            "     42/101      4.32G     0.3927     0.2901      0.899          7        640: 100%|██████████| 52/52 [00:19<00:00,  2.62it/s]\n",
            "                 Class     Images  Instances      Box(P          R      mAP50  mAP50-95): 100%|██████████| 7/7 [00:01<00:00,  3.52it/s]"
          ]
        },
        {
          "output_type": "stream",
          "name": "stdout",
          "text": [
            "                   all        204        821      0.837      0.828      0.829      0.678\n"
          ]
        },
        {
          "output_type": "stream",
          "name": "stderr",
          "text": [
            "\n"
          ]
        },
        {
          "output_type": "stream",
          "name": "stdout",
          "text": [
            "\n",
            "      Epoch    GPU_mem   box_loss   cls_loss   dfl_loss  Instances       Size\n"
          ]
        },
        {
          "output_type": "stream",
          "name": "stderr",
          "text": [
            "     43/101      4.35G     0.3985     0.3025     0.9084          2        640: 100%|██████████| 52/52 [00:20<00:00,  2.59it/s]\n",
            "                 Class     Images  Instances      Box(P          R      mAP50  mAP50-95): 100%|██████████| 7/7 [00:02<00:00,  3.18it/s]"
          ]
        },
        {
          "output_type": "stream",
          "name": "stdout",
          "text": [
            "                   all        204        821       0.84      0.806      0.839      0.686\n"
          ]
        },
        {
          "output_type": "stream",
          "name": "stderr",
          "text": [
            "\n"
          ]
        },
        {
          "output_type": "stream",
          "name": "stdout",
          "text": [
            "\n",
            "      Epoch    GPU_mem   box_loss   cls_loss   dfl_loss  Instances       Size\n"
          ]
        },
        {
          "output_type": "stream",
          "name": "stderr",
          "text": [
            "     44/101       4.3G     0.4055     0.2963     0.9006          2        640: 100%|██████████| 52/52 [00:18<00:00,  2.79it/s]\n",
            "                 Class     Images  Instances      Box(P          R      mAP50  mAP50-95): 100%|██████████| 7/7 [00:03<00:00,  2.05it/s]"
          ]
        },
        {
          "output_type": "stream",
          "name": "stdout",
          "text": [
            "                   all        204        821      0.841       0.82      0.829      0.682\n"
          ]
        },
        {
          "output_type": "stream",
          "name": "stderr",
          "text": [
            "\n"
          ]
        },
        {
          "output_type": "stream",
          "name": "stdout",
          "text": [
            "\n",
            "      Epoch    GPU_mem   box_loss   cls_loss   dfl_loss  Instances       Size\n"
          ]
        },
        {
          "output_type": "stream",
          "name": "stderr",
          "text": [
            "     45/101      4.29G     0.3897     0.2903     0.8924         13        640: 100%|██████████| 52/52 [00:16<00:00,  3.15it/s]\n",
            "                 Class     Images  Instances      Box(P          R      mAP50  mAP50-95): 100%|██████████| 7/7 [00:03<00:00,  2.04it/s]"
          ]
        },
        {
          "output_type": "stream",
          "name": "stdout",
          "text": [
            "                   all        204        821      0.857      0.834      0.848      0.693\n"
          ]
        },
        {
          "output_type": "stream",
          "name": "stderr",
          "text": [
            "\n"
          ]
        },
        {
          "output_type": "stream",
          "name": "stdout",
          "text": [
            "\n",
            "      Epoch    GPU_mem   box_loss   cls_loss   dfl_loss  Instances       Size\n"
          ]
        },
        {
          "output_type": "stream",
          "name": "stderr",
          "text": [
            "     46/101      4.29G     0.3878     0.2832     0.8927          4        640: 100%|██████████| 52/52 [00:16<00:00,  3.17it/s]\n",
            "                 Class     Images  Instances      Box(P          R      mAP50  mAP50-95): 100%|██████████| 7/7 [00:03<00:00,  2.30it/s]"
          ]
        },
        {
          "output_type": "stream",
          "name": "stdout",
          "text": [
            "                   all        204        821      0.842      0.846      0.844      0.697\n"
          ]
        },
        {
          "output_type": "stream",
          "name": "stderr",
          "text": [
            "\n"
          ]
        },
        {
          "output_type": "stream",
          "name": "stdout",
          "text": [
            "\n",
            "      Epoch    GPU_mem   box_loss   cls_loss   dfl_loss  Instances       Size\n"
          ]
        },
        {
          "output_type": "stream",
          "name": "stderr",
          "text": [
            "     47/101      4.29G     0.3867     0.2858     0.8968          2        640: 100%|██████████| 52/52 [00:17<00:00,  2.95it/s]\n",
            "                 Class     Images  Instances      Box(P          R      mAP50  mAP50-95): 100%|██████████| 7/7 [00:02<00:00,  2.69it/s]"
          ]
        },
        {
          "output_type": "stream",
          "name": "stdout",
          "text": [
            "                   all        204        821      0.861      0.839      0.837      0.687\n"
          ]
        },
        {
          "output_type": "stream",
          "name": "stderr",
          "text": [
            "\n"
          ]
        },
        {
          "output_type": "stream",
          "name": "stdout",
          "text": [
            "\n",
            "      Epoch    GPU_mem   box_loss   cls_loss   dfl_loss  Instances       Size\n"
          ]
        },
        {
          "output_type": "stream",
          "name": "stderr",
          "text": [
            "     48/101      4.32G     0.3857     0.2898     0.8985          2        640: 100%|██████████| 52/52 [00:19<00:00,  2.71it/s]\n",
            "                 Class     Images  Instances      Box(P          R      mAP50  mAP50-95): 100%|██████████| 7/7 [00:02<00:00,  3.48it/s]"
          ]
        },
        {
          "output_type": "stream",
          "name": "stdout",
          "text": [
            "                   all        204        821      0.866      0.811      0.837      0.694\n"
          ]
        },
        {
          "output_type": "stream",
          "name": "stderr",
          "text": [
            "\n"
          ]
        },
        {
          "output_type": "stream",
          "name": "stdout",
          "text": [
            "\n",
            "      Epoch    GPU_mem   box_loss   cls_loss   dfl_loss  Instances       Size\n"
          ]
        },
        {
          "output_type": "stream",
          "name": "stderr",
          "text": [
            "     49/101      4.33G     0.3789      0.285     0.8874          2        640: 100%|██████████| 52/52 [00:20<00:00,  2.59it/s]\n",
            "                 Class     Images  Instances      Box(P          R      mAP50  mAP50-95): 100%|██████████| 7/7 [00:02<00:00,  3.48it/s]"
          ]
        },
        {
          "output_type": "stream",
          "name": "stdout",
          "text": [
            "                   all        204        821      0.863      0.804      0.828      0.684\n"
          ]
        },
        {
          "output_type": "stream",
          "name": "stderr",
          "text": [
            "\n"
          ]
        },
        {
          "output_type": "stream",
          "name": "stdout",
          "text": [
            "\n",
            "      Epoch    GPU_mem   box_loss   cls_loss   dfl_loss  Instances       Size\n"
          ]
        },
        {
          "output_type": "stream",
          "name": "stderr",
          "text": [
            "     50/101       4.3G     0.3796     0.2794     0.8866         15        640: 100%|██████████| 52/52 [00:19<00:00,  2.65it/s]\n",
            "                 Class     Images  Instances      Box(P          R      mAP50  mAP50-95): 100%|██████████| 7/7 [00:02<00:00,  3.48it/s]"
          ]
        },
        {
          "output_type": "stream",
          "name": "stdout",
          "text": [
            "                   all        204        821      0.835      0.819      0.832      0.685\n"
          ]
        },
        {
          "output_type": "stream",
          "name": "stderr",
          "text": [
            "\n"
          ]
        },
        {
          "output_type": "stream",
          "name": "stdout",
          "text": [
            "\n",
            "      Epoch    GPU_mem   box_loss   cls_loss   dfl_loss  Instances       Size\n"
          ]
        },
        {
          "output_type": "stream",
          "name": "stderr",
          "text": [
            "     51/101      4.32G     0.3805     0.2804     0.8983          2        640: 100%|██████████| 52/52 [00:19<00:00,  2.68it/s]\n",
            "                 Class     Images  Instances      Box(P          R      mAP50  mAP50-95): 100%|██████████| 7/7 [00:02<00:00,  2.59it/s]"
          ]
        },
        {
          "output_type": "stream",
          "name": "stdout",
          "text": [
            "                   all        204        821      0.842      0.824      0.836      0.692\n"
          ]
        },
        {
          "output_type": "stream",
          "name": "stderr",
          "text": [
            "\n"
          ]
        },
        {
          "output_type": "stream",
          "name": "stdout",
          "text": [
            "\n",
            "      Epoch    GPU_mem   box_loss   cls_loss   dfl_loss  Instances       Size\n"
          ]
        },
        {
          "output_type": "stream",
          "name": "stderr",
          "text": [
            "     52/101      4.32G     0.3745     0.2805     0.8943          2        640: 100%|██████████| 52/52 [00:18<00:00,  2.88it/s]\n",
            "                 Class     Images  Instances      Box(P          R      mAP50  mAP50-95): 100%|██████████| 7/7 [00:03<00:00,  2.00it/s]"
          ]
        },
        {
          "output_type": "stream",
          "name": "stdout",
          "text": [
            "                   all        204        821       0.85      0.799      0.834      0.683\n"
          ]
        },
        {
          "output_type": "stream",
          "name": "stderr",
          "text": [
            "\n"
          ]
        },
        {
          "output_type": "stream",
          "name": "stdout",
          "text": [
            "\n",
            "      Epoch    GPU_mem   box_loss   cls_loss   dfl_loss  Instances       Size\n"
          ]
        },
        {
          "output_type": "stream",
          "name": "stderr",
          "text": [
            "     53/101      4.37G     0.3809     0.2798      0.896          2        640: 100%|██████████| 52/52 [00:16<00:00,  3.24it/s]\n",
            "                 Class     Images  Instances      Box(P          R      mAP50  mAP50-95): 100%|██████████| 7/7 [00:03<00:00,  2.16it/s]"
          ]
        },
        {
          "output_type": "stream",
          "name": "stdout",
          "text": [
            "                   all        204        821      0.827      0.836      0.844      0.695\n"
          ]
        },
        {
          "output_type": "stream",
          "name": "stderr",
          "text": [
            "\n"
          ]
        },
        {
          "output_type": "stream",
          "name": "stdout",
          "text": [
            "\n",
            "      Epoch    GPU_mem   box_loss   cls_loss   dfl_loss  Instances       Size\n"
          ]
        },
        {
          "output_type": "stream",
          "name": "stderr",
          "text": [
            "     54/101      4.45G     0.3901      0.281     0.8941          2        640: 100%|██████████| 52/52 [00:17<00:00,  3.03it/s]\n",
            "                 Class     Images  Instances      Box(P          R      mAP50  mAP50-95): 100%|██████████| 7/7 [00:02<00:00,  2.39it/s]\n"
          ]
        },
        {
          "output_type": "stream",
          "name": "stdout",
          "text": [
            "                   all        204        821      0.835      0.836      0.835      0.679\n",
            "\n",
            "      Epoch    GPU_mem   box_loss   cls_loss   dfl_loss  Instances       Size\n"
          ]
        },
        {
          "output_type": "stream",
          "name": "stderr",
          "text": [
            "     55/101      4.34G     0.3721     0.2732     0.8903         10        640: 100%|██████████| 52/52 [00:17<00:00,  2.95it/s]\n",
            "                 Class     Images  Instances      Box(P          R      mAP50  mAP50-95): 100%|██████████| 7/7 [00:02<00:00,  2.79it/s]\n"
          ]
        },
        {
          "output_type": "stream",
          "name": "stdout",
          "text": [
            "                   all        204        821      0.844      0.814      0.842      0.689\n",
            "\n",
            "      Epoch    GPU_mem   box_loss   cls_loss   dfl_loss  Instances       Size\n"
          ]
        },
        {
          "output_type": "stream",
          "name": "stderr",
          "text": [
            "     56/101      4.37G     0.3648     0.2676     0.8876          7        640: 100%|██████████| 52/52 [00:19<00:00,  2.64it/s]\n",
            "                 Class     Images  Instances      Box(P          R      mAP50  mAP50-95): 100%|██████████| 7/7 [00:01<00:00,  3.62it/s]"
          ]
        },
        {
          "output_type": "stream",
          "name": "stdout",
          "text": [
            "                   all        204        821      0.872      0.804       0.84      0.685\n"
          ]
        },
        {
          "output_type": "stream",
          "name": "stderr",
          "text": [
            "\n"
          ]
        },
        {
          "output_type": "stream",
          "name": "stdout",
          "text": [
            "\n",
            "      Epoch    GPU_mem   box_loss   cls_loss   dfl_loss  Instances       Size\n"
          ]
        },
        {
          "output_type": "stream",
          "name": "stderr",
          "text": [
            "     57/101       4.3G      0.369     0.2683     0.9073          2        640: 100%|██████████| 52/52 [00:21<00:00,  2.47it/s]\n",
            "                 Class     Images  Instances      Box(P          R      mAP50  mAP50-95): 100%|██████████| 7/7 [00:02<00:00,  3.45it/s]"
          ]
        },
        {
          "output_type": "stream",
          "name": "stdout",
          "text": [
            "                   all        204        821      0.853      0.817      0.835      0.674\n"
          ]
        },
        {
          "output_type": "stream",
          "name": "stderr",
          "text": [
            "\n"
          ]
        },
        {
          "output_type": "stream",
          "name": "stdout",
          "text": [
            "\n",
            "      Epoch    GPU_mem   box_loss   cls_loss   dfl_loss  Instances       Size\n"
          ]
        },
        {
          "output_type": "stream",
          "name": "stderr",
          "text": [
            "     58/101       4.3G      0.368     0.2732     0.8851         14        640: 100%|██████████| 52/52 [00:20<00:00,  2.56it/s]\n",
            "                 Class     Images  Instances      Box(P          R      mAP50  mAP50-95): 100%|██████████| 7/7 [00:02<00:00,  2.73it/s]"
          ]
        },
        {
          "output_type": "stream",
          "name": "stdout",
          "text": [
            "                   all        204        821      0.864       0.81      0.841       0.69\n"
          ]
        },
        {
          "output_type": "stream",
          "name": "stderr",
          "text": [
            "\n"
          ]
        },
        {
          "output_type": "stream",
          "name": "stdout",
          "text": [
            "\n",
            "      Epoch    GPU_mem   box_loss   cls_loss   dfl_loss  Instances       Size\n"
          ]
        },
        {
          "output_type": "stream",
          "name": "stderr",
          "text": [
            "     59/101      4.32G     0.3712     0.2656      0.895          2        640: 100%|██████████| 52/52 [00:18<00:00,  2.88it/s]\n",
            "                 Class     Images  Instances      Box(P          R      mAP50  mAP50-95): 100%|██████████| 7/7 [00:03<00:00,  2.16it/s]"
          ]
        },
        {
          "output_type": "stream",
          "name": "stdout",
          "text": [
            "                   all        204        821      0.868      0.807      0.834      0.682\n"
          ]
        },
        {
          "output_type": "stream",
          "name": "stderr",
          "text": [
            "\n"
          ]
        },
        {
          "output_type": "stream",
          "name": "stdout",
          "text": [
            "\n",
            "      Epoch    GPU_mem   box_loss   cls_loss   dfl_loss  Instances       Size\n"
          ]
        },
        {
          "output_type": "stream",
          "name": "stderr",
          "text": [
            "     60/101       4.3G     0.3591      0.263      0.887          2        640: 100%|██████████| 52/52 [00:16<00:00,  3.20it/s]\n",
            "                 Class     Images  Instances      Box(P          R      mAP50  mAP50-95): 100%|██████████| 7/7 [00:03<00:00,  1.99it/s]"
          ]
        },
        {
          "output_type": "stream",
          "name": "stdout",
          "text": [
            "                   all        204        821       0.86      0.808      0.838      0.693\n"
          ]
        },
        {
          "output_type": "stream",
          "name": "stderr",
          "text": [
            "\n"
          ]
        },
        {
          "output_type": "stream",
          "name": "stdout",
          "text": [
            "\n",
            "      Epoch    GPU_mem   box_loss   cls_loss   dfl_loss  Instances       Size\n"
          ]
        },
        {
          "output_type": "stream",
          "name": "stderr",
          "text": [
            "     61/101      4.31G     0.3657     0.2687     0.8909          2        640: 100%|██████████| 52/52 [00:17<00:00,  3.04it/s]\n",
            "                 Class     Images  Instances      Box(P          R      mAP50  mAP50-95): 100%|██████████| 7/7 [00:02<00:00,  2.60it/s]"
          ]
        },
        {
          "output_type": "stream",
          "name": "stdout",
          "text": [
            "                   all        204        821       0.85      0.823      0.835      0.692\n"
          ]
        },
        {
          "output_type": "stream",
          "name": "stderr",
          "text": [
            "\n"
          ]
        },
        {
          "output_type": "stream",
          "name": "stdout",
          "text": [
            "\n",
            "      Epoch    GPU_mem   box_loss   cls_loss   dfl_loss  Instances       Size\n"
          ]
        },
        {
          "output_type": "stream",
          "name": "stderr",
          "text": [
            "     62/101       4.3G     0.3622     0.2705     0.8752          6        640: 100%|██████████| 52/52 [00:18<00:00,  2.76it/s]\n",
            "                 Class     Images  Instances      Box(P          R      mAP50  mAP50-95): 100%|██████████| 7/7 [00:02<00:00,  3.30it/s]"
          ]
        },
        {
          "output_type": "stream",
          "name": "stdout",
          "text": [
            "                   all        204        821      0.859      0.812      0.837       0.69\n"
          ]
        },
        {
          "output_type": "stream",
          "name": "stderr",
          "text": [
            "\n"
          ]
        },
        {
          "output_type": "stream",
          "name": "stdout",
          "text": [
            "\n",
            "      Epoch    GPU_mem   box_loss   cls_loss   dfl_loss  Instances       Size\n"
          ]
        },
        {
          "output_type": "stream",
          "name": "stderr",
          "text": [
            "     63/101       4.3G     0.3517     0.2822     0.8836          6        640: 100%|██████████| 52/52 [00:19<00:00,  2.64it/s]\n",
            "                 Class     Images  Instances      Box(P          R      mAP50  mAP50-95): 100%|██████████| 7/7 [00:01<00:00,  3.52it/s]"
          ]
        },
        {
          "output_type": "stream",
          "name": "stdout",
          "text": [
            "                   all        204        821      0.868      0.822      0.842        0.7\n"
          ]
        },
        {
          "output_type": "stream",
          "name": "stderr",
          "text": [
            "\n"
          ]
        },
        {
          "output_type": "stream",
          "name": "stdout",
          "text": [
            "\n",
            "      Epoch    GPU_mem   box_loss   cls_loss   dfl_loss  Instances       Size\n"
          ]
        },
        {
          "output_type": "stream",
          "name": "stderr",
          "text": [
            "     64/101      4.33G     0.3443      0.251     0.8735          2        640: 100%|██████████| 52/52 [00:21<00:00,  2.47it/s]\n",
            "                 Class     Images  Instances      Box(P          R      mAP50  mAP50-95): 100%|██████████| 7/7 [00:02<00:00,  3.48it/s]"
          ]
        },
        {
          "output_type": "stream",
          "name": "stdout",
          "text": [
            "                   all        204        821       0.86      0.817      0.836      0.688\n"
          ]
        },
        {
          "output_type": "stream",
          "name": "stderr",
          "text": [
            "\n"
          ]
        },
        {
          "output_type": "stream",
          "name": "stdout",
          "text": [
            "\n",
            "      Epoch    GPU_mem   box_loss   cls_loss   dfl_loss  Instances       Size\n"
          ]
        },
        {
          "output_type": "stream",
          "name": "stderr",
          "text": [
            "     65/101      4.34G     0.3458     0.2549     0.8799          4        640: 100%|██████████| 52/52 [00:18<00:00,  2.78it/s]\n",
            "                 Class     Images  Instances      Box(P          R      mAP50  mAP50-95): 100%|██████████| 7/7 [00:02<00:00,  2.57it/s]"
          ]
        },
        {
          "output_type": "stream",
          "name": "stdout",
          "text": [
            "                   all        204        821      0.846      0.827      0.845      0.693\n"
          ]
        },
        {
          "output_type": "stream",
          "name": "stderr",
          "text": [
            "\n"
          ]
        },
        {
          "output_type": "stream",
          "name": "stdout",
          "text": [
            "\n",
            "      Epoch    GPU_mem   box_loss   cls_loss   dfl_loss  Instances       Size\n"
          ]
        },
        {
          "output_type": "stream",
          "name": "stderr",
          "text": [
            "     66/101       4.3G     0.3358     0.2488     0.8718          2        640: 100%|██████████| 52/52 [00:17<00:00,  2.90it/s]\n",
            "                 Class     Images  Instances      Box(P          R      mAP50  mAP50-95): 100%|██████████| 7/7 [00:03<00:00,  2.03it/s]"
          ]
        },
        {
          "output_type": "stream",
          "name": "stdout",
          "text": [
            "                   all        204        821      0.832      0.848       0.85      0.703\n"
          ]
        },
        {
          "output_type": "stream",
          "name": "stderr",
          "text": [
            "\n"
          ]
        },
        {
          "output_type": "stream",
          "name": "stdout",
          "text": [
            "\n",
            "      Epoch    GPU_mem   box_loss   cls_loss   dfl_loss  Instances       Size\n"
          ]
        },
        {
          "output_type": "stream",
          "name": "stderr",
          "text": [
            "     67/101      4.32G     0.3465     0.2539     0.8834          6        640: 100%|██████████| 52/52 [00:16<00:00,  3.10it/s]\n",
            "                 Class     Images  Instances      Box(P          R      mAP50  mAP50-95): 100%|██████████| 7/7 [00:03<00:00,  2.09it/s]"
          ]
        },
        {
          "output_type": "stream",
          "name": "stdout",
          "text": [
            "                   all        204        821      0.851      0.831      0.846      0.702\n"
          ]
        },
        {
          "output_type": "stream",
          "name": "stderr",
          "text": [
            "\n"
          ]
        },
        {
          "output_type": "stream",
          "name": "stdout",
          "text": [
            "\n",
            "      Epoch    GPU_mem   box_loss   cls_loss   dfl_loss  Instances       Size\n"
          ]
        },
        {
          "output_type": "stream",
          "name": "stderr",
          "text": [
            "     68/101      4.32G     0.3404      0.253     0.8665          2        640: 100%|██████████| 52/52 [00:16<00:00,  3.15it/s]\n",
            "                 Class     Images  Instances      Box(P          R      mAP50  mAP50-95): 100%|██████████| 7/7 [00:02<00:00,  2.46it/s]"
          ]
        },
        {
          "output_type": "stream",
          "name": "stdout",
          "text": [
            "                   all        204        821      0.871       0.81      0.837      0.698\n"
          ]
        },
        {
          "output_type": "stream",
          "name": "stderr",
          "text": [
            "\n"
          ]
        },
        {
          "output_type": "stream",
          "name": "stdout",
          "text": [
            "\n",
            "      Epoch    GPU_mem   box_loss   cls_loss   dfl_loss  Instances       Size\n"
          ]
        },
        {
          "output_type": "stream",
          "name": "stderr",
          "text": [
            "     69/101      4.31G     0.3393     0.2514     0.8672          2        640: 100%|██████████| 52/52 [00:17<00:00,  2.95it/s]\n",
            "                 Class     Images  Instances      Box(P          R      mAP50  mAP50-95): 100%|██████████| 7/7 [00:02<00:00,  2.77it/s]"
          ]
        },
        {
          "output_type": "stream",
          "name": "stdout",
          "text": [
            "                   all        204        821      0.846      0.812      0.846      0.699\n"
          ]
        },
        {
          "output_type": "stream",
          "name": "stderr",
          "text": [
            "\n"
          ]
        },
        {
          "output_type": "stream",
          "name": "stdout",
          "text": [
            "\n",
            "      Epoch    GPU_mem   box_loss   cls_loss   dfl_loss  Instances       Size\n"
          ]
        },
        {
          "output_type": "stream",
          "name": "stderr",
          "text": [
            "     70/101       4.3G      0.336     0.2475     0.8753          2        640: 100%|██████████| 52/52 [00:19<00:00,  2.71it/s]\n",
            "                 Class     Images  Instances      Box(P          R      mAP50  mAP50-95): 100%|██████████| 7/7 [00:01<00:00,  3.59it/s]"
          ]
        },
        {
          "output_type": "stream",
          "name": "stdout",
          "text": [
            "                   all        204        821      0.861      0.827      0.846        0.7\n"
          ]
        },
        {
          "output_type": "stream",
          "name": "stderr",
          "text": [
            "\n"
          ]
        },
        {
          "output_type": "stream",
          "name": "stdout",
          "text": [
            "\n",
            "      Epoch    GPU_mem   box_loss   cls_loss   dfl_loss  Instances       Size\n"
          ]
        },
        {
          "output_type": "stream",
          "name": "stderr",
          "text": [
            "     71/101       4.3G     0.3296     0.2358     0.8811          2        640: 100%|██████████| 52/52 [00:20<00:00,  2.55it/s]\n",
            "                 Class     Images  Instances      Box(P          R      mAP50  mAP50-95): 100%|██████████| 7/7 [00:02<00:00,  3.25it/s]"
          ]
        },
        {
          "output_type": "stream",
          "name": "stdout",
          "text": [
            "                   all        204        821      0.859      0.825      0.847      0.711\n"
          ]
        },
        {
          "output_type": "stream",
          "name": "stderr",
          "text": [
            "\n"
          ]
        },
        {
          "output_type": "stream",
          "name": "stdout",
          "text": [
            "\n",
            "      Epoch    GPU_mem   box_loss   cls_loss   dfl_loss  Instances       Size\n"
          ]
        },
        {
          "output_type": "stream",
          "name": "stderr",
          "text": [
            "     72/101      4.41G     0.3287      0.243     0.8645          3        640: 100%|██████████| 52/52 [00:20<00:00,  2.54it/s]\n",
            "                 Class     Images  Instances      Box(P          R      mAP50  mAP50-95): 100%|██████████| 7/7 [00:02<00:00,  3.44it/s]"
          ]
        },
        {
          "output_type": "stream",
          "name": "stdout",
          "text": [
            "                   all        204        821      0.859      0.835      0.852      0.709\n"
          ]
        },
        {
          "output_type": "stream",
          "name": "stderr",
          "text": [
            "\n"
          ]
        },
        {
          "output_type": "stream",
          "name": "stdout",
          "text": [
            "\n",
            "      Epoch    GPU_mem   box_loss   cls_loss   dfl_loss  Instances       Size\n"
          ]
        },
        {
          "output_type": "stream",
          "name": "stderr",
          "text": [
            "     73/101      4.27G     0.3206     0.2315     0.8685          2        640: 100%|██████████| 52/52 [00:19<00:00,  2.69it/s]\n",
            "                 Class     Images  Instances      Box(P          R      mAP50  mAP50-95): 100%|██████████| 7/7 [00:03<00:00,  2.06it/s]\n"
          ]
        },
        {
          "output_type": "stream",
          "name": "stdout",
          "text": [
            "                   all        204        821      0.847      0.833      0.851      0.709\n",
            "\n",
            "      Epoch    GPU_mem   box_loss   cls_loss   dfl_loss  Instances       Size\n"
          ]
        },
        {
          "output_type": "stream",
          "name": "stderr",
          "text": [
            "     74/101      4.29G     0.3159     0.2305     0.8638          2        640: 100%|██████████| 52/52 [00:17<00:00,  2.98it/s]\n",
            "                 Class     Images  Instances      Box(P          R      mAP50  mAP50-95): 100%|██████████| 7/7 [00:03<00:00,  2.05it/s]"
          ]
        },
        {
          "output_type": "stream",
          "name": "stdout",
          "text": [
            "                   all        204        821      0.865      0.812       0.84      0.697\n"
          ]
        },
        {
          "output_type": "stream",
          "name": "stderr",
          "text": [
            "\n"
          ]
        },
        {
          "output_type": "stream",
          "name": "stdout",
          "text": [
            "\n",
            "      Epoch    GPU_mem   box_loss   cls_loss   dfl_loss  Instances       Size\n"
          ]
        },
        {
          "output_type": "stream",
          "name": "stderr",
          "text": [
            "     75/101      4.29G     0.3156     0.2299     0.8676          2        640: 100%|██████████| 52/52 [00:16<00:00,  3.14it/s]\n",
            "                 Class     Images  Instances      Box(P          R      mAP50  mAP50-95): 100%|██████████| 7/7 [00:03<00:00,  2.12it/s]"
          ]
        },
        {
          "output_type": "stream",
          "name": "stdout",
          "text": [
            "                   all        204        821      0.859      0.824      0.852       0.71\n"
          ]
        },
        {
          "output_type": "stream",
          "name": "stderr",
          "text": [
            "\n"
          ]
        },
        {
          "output_type": "stream",
          "name": "stdout",
          "text": [
            "\n",
            "      Epoch    GPU_mem   box_loss   cls_loss   dfl_loss  Instances       Size\n"
          ]
        },
        {
          "output_type": "stream",
          "name": "stderr",
          "text": [
            "     76/101      4.39G     0.3204     0.2384     0.8609         12        640: 100%|██████████| 52/52 [00:16<00:00,  3.12it/s]\n",
            "                 Class     Images  Instances      Box(P          R      mAP50  mAP50-95): 100%|██████████| 7/7 [00:02<00:00,  2.46it/s]\n"
          ]
        },
        {
          "output_type": "stream",
          "name": "stdout",
          "text": [
            "                   all        204        821      0.861      0.819      0.849      0.703\n",
            "\n",
            "      Epoch    GPU_mem   box_loss   cls_loss   dfl_loss  Instances       Size\n"
          ]
        },
        {
          "output_type": "stream",
          "name": "stderr",
          "text": [
            "     77/101      4.43G      0.313      0.231     0.8569          8        640: 100%|██████████| 52/52 [00:18<00:00,  2.81it/s]\n",
            "                 Class     Images  Instances      Box(P          R      mAP50  mAP50-95): 100%|██████████| 7/7 [00:01<00:00,  3.54it/s]"
          ]
        },
        {
          "output_type": "stream",
          "name": "stdout",
          "text": [
            "                   all        204        821      0.851      0.825      0.844      0.704\n"
          ]
        },
        {
          "output_type": "stream",
          "name": "stderr",
          "text": [
            "\n"
          ]
        },
        {
          "output_type": "stream",
          "name": "stdout",
          "text": [
            "\n",
            "      Epoch    GPU_mem   box_loss   cls_loss   dfl_loss  Instances       Size\n"
          ]
        },
        {
          "output_type": "stream",
          "name": "stderr",
          "text": [
            "     78/101       4.3G     0.3153     0.2275     0.8552          2        640: 100%|██████████| 52/52 [00:19<00:00,  2.60it/s]\n",
            "                 Class     Images  Instances      Box(P          R      mAP50  mAP50-95): 100%|██████████| 7/7 [00:01<00:00,  3.50it/s]"
          ]
        },
        {
          "output_type": "stream",
          "name": "stdout",
          "text": [
            "                   all        204        821      0.879        0.8      0.853       0.71\n"
          ]
        },
        {
          "output_type": "stream",
          "name": "stderr",
          "text": [
            "\n"
          ]
        },
        {
          "output_type": "stream",
          "name": "stdout",
          "text": [
            "\n",
            "      Epoch    GPU_mem   box_loss   cls_loss   dfl_loss  Instances       Size\n"
          ]
        },
        {
          "output_type": "stream",
          "name": "stderr",
          "text": [
            "     79/101      4.31G     0.3102      0.227     0.8577         16        640: 100%|██████████| 52/52 [00:21<00:00,  2.43it/s]\n",
            "                 Class     Images  Instances      Box(P          R      mAP50  mAP50-95): 100%|██████████| 7/7 [00:02<00:00,  3.42it/s]\n"
          ]
        },
        {
          "output_type": "stream",
          "name": "stdout",
          "text": [
            "                   all        204        821      0.875      0.818      0.846      0.706\n",
            "\n",
            "      Epoch    GPU_mem   box_loss   cls_loss   dfl_loss  Instances       Size\n"
          ]
        },
        {
          "output_type": "stream",
          "name": "stderr",
          "text": [
            "     80/101      4.31G     0.3048     0.2376     0.8551          7        640: 100%|██████████| 52/52 [00:20<00:00,  2.53it/s]\n",
            "                 Class     Images  Instances      Box(P          R      mAP50  mAP50-95): 100%|██████████| 7/7 [00:02<00:00,  3.44it/s]"
          ]
        },
        {
          "output_type": "stream",
          "name": "stdout",
          "text": [
            "                   all        204        821      0.876      0.806      0.846      0.708\n"
          ]
        },
        {
          "output_type": "stream",
          "name": "stderr",
          "text": [
            "\n"
          ]
        },
        {
          "output_type": "stream",
          "name": "stdout",
          "text": [
            "\n",
            "      Epoch    GPU_mem   box_loss   cls_loss   dfl_loss  Instances       Size\n"
          ]
        },
        {
          "output_type": "stream",
          "name": "stderr",
          "text": [
            "     81/101      4.42G     0.2961      0.224     0.8505          9        640: 100%|██████████| 52/52 [00:20<00:00,  2.54it/s]\n",
            "                 Class     Images  Instances      Box(P          R      mAP50  mAP50-95): 100%|██████████| 7/7 [00:02<00:00,  2.63it/s]"
          ]
        },
        {
          "output_type": "stream",
          "name": "stdout",
          "text": [
            "                   all        204        821      0.859      0.829      0.856      0.719\n"
          ]
        },
        {
          "output_type": "stream",
          "name": "stderr",
          "text": [
            "\n"
          ]
        },
        {
          "output_type": "stream",
          "name": "stdout",
          "text": [
            "\n",
            "      Epoch    GPU_mem   box_loss   cls_loss   dfl_loss  Instances       Size\n"
          ]
        },
        {
          "output_type": "stream",
          "name": "stderr",
          "text": [
            "     82/101      4.35G     0.3009     0.2224     0.8546          5        640: 100%|██████████| 52/52 [00:20<00:00,  2.59it/s]\n",
            "                 Class     Images  Instances      Box(P          R      mAP50  mAP50-95): 100%|██████████| 7/7 [00:02<00:00,  3.15it/s]"
          ]
        },
        {
          "output_type": "stream",
          "name": "stdout",
          "text": [
            "                   all        204        821       0.85      0.828      0.856      0.718\n"
          ]
        },
        {
          "output_type": "stream",
          "name": "stderr",
          "text": [
            "\n"
          ]
        },
        {
          "output_type": "stream",
          "name": "stdout",
          "text": [
            "\n",
            "      Epoch    GPU_mem   box_loss   cls_loss   dfl_loss  Instances       Size\n"
          ]
        },
        {
          "output_type": "stream",
          "name": "stderr",
          "text": [
            "     83/101      4.29G     0.2916     0.2386     0.8511          2        640: 100%|██████████| 52/52 [00:18<00:00,  2.84it/s]\n",
            "                 Class     Images  Instances      Box(P          R      mAP50  mAP50-95): 100%|██████████| 7/7 [00:03<00:00,  2.15it/s]"
          ]
        },
        {
          "output_type": "stream",
          "name": "stdout",
          "text": [
            "                   all        204        821      0.863      0.823      0.856      0.718\n"
          ]
        },
        {
          "output_type": "stream",
          "name": "stderr",
          "text": [
            "\n"
          ]
        },
        {
          "output_type": "stream",
          "name": "stdout",
          "text": [
            "\n",
            "      Epoch    GPU_mem   box_loss   cls_loss   dfl_loss  Instances       Size\n"
          ]
        },
        {
          "output_type": "stream",
          "name": "stderr",
          "text": [
            "     84/101      4.29G     0.3075     0.2262     0.8575          2        640: 100%|██████████| 52/52 [00:16<00:00,  3.08it/s]\n",
            "                 Class     Images  Instances      Box(P          R      mAP50  mAP50-95): 100%|██████████| 7/7 [00:03<00:00,  2.02it/s]\n"
          ]
        },
        {
          "output_type": "stream",
          "name": "stdout",
          "text": [
            "                   all        204        821      0.862      0.823      0.858      0.716\n",
            "\n",
            "      Epoch    GPU_mem   box_loss   cls_loss   dfl_loss  Instances       Size\n"
          ]
        },
        {
          "output_type": "stream",
          "name": "stderr",
          "text": [
            "     85/101       4.3G     0.2962     0.2192     0.8412          2        640: 100%|██████████| 52/52 [00:17<00:00,  2.89it/s]\n",
            "                 Class     Images  Instances      Box(P          R      mAP50  mAP50-95): 100%|██████████| 7/7 [00:03<00:00,  2.33it/s]"
          ]
        },
        {
          "output_type": "stream",
          "name": "stdout",
          "text": [
            "                   all        204        821      0.866      0.818      0.848      0.704\n"
          ]
        },
        {
          "output_type": "stream",
          "name": "stderr",
          "text": [
            "\n"
          ]
        },
        {
          "output_type": "stream",
          "name": "stdout",
          "text": [
            "\n",
            "      Epoch    GPU_mem   box_loss   cls_loss   dfl_loss  Instances       Size\n"
          ]
        },
        {
          "output_type": "stream",
          "name": "stderr",
          "text": [
            "     86/101       4.3G     0.2766     0.2067     0.8504          2        640: 100%|██████████| 52/52 [00:17<00:00,  2.94it/s]\n",
            "                 Class     Images  Instances      Box(P          R      mAP50  mAP50-95): 100%|██████████| 7/7 [00:02<00:00,  2.50it/s]"
          ]
        },
        {
          "output_type": "stream",
          "name": "stdout",
          "text": [
            "                   all        204        821       0.85      0.822      0.847      0.707\n"
          ]
        },
        {
          "output_type": "stream",
          "name": "stderr",
          "text": [
            "\n"
          ]
        },
        {
          "output_type": "stream",
          "name": "stdout",
          "text": [
            "\n",
            "      Epoch    GPU_mem   box_loss   cls_loss   dfl_loss  Instances       Size\n"
          ]
        },
        {
          "output_type": "stream",
          "name": "stderr",
          "text": [
            "     87/101      4.32G     0.2815     0.2121     0.8429          2        640: 100%|██████████| 52/52 [00:19<00:00,  2.66it/s]\n",
            "                 Class     Images  Instances      Box(P          R      mAP50  mAP50-95): 100%|██████████| 7/7 [00:01<00:00,  3.57it/s]"
          ]
        },
        {
          "output_type": "stream",
          "name": "stdout",
          "text": [
            "                   all        204        821      0.866      0.808      0.851      0.715\n"
          ]
        },
        {
          "output_type": "stream",
          "name": "stderr",
          "text": [
            "\n"
          ]
        },
        {
          "output_type": "stream",
          "name": "stdout",
          "text": [
            "\n",
            "      Epoch    GPU_mem   box_loss   cls_loss   dfl_loss  Instances       Size\n"
          ]
        },
        {
          "output_type": "stream",
          "name": "stderr",
          "text": [
            "     88/101       4.3G     0.2851     0.2209     0.8428         56        640: 100%|██████████| 52/52 [00:20<00:00,  2.55it/s]\n",
            "                 Class     Images  Instances      Box(P          R      mAP50  mAP50-95): 100%|██████████| 7/7 [00:01<00:00,  3.61it/s]"
          ]
        },
        {
          "output_type": "stream",
          "name": "stdout",
          "text": [
            "                   all        204        821      0.872      0.811      0.849      0.714\n"
          ]
        },
        {
          "output_type": "stream",
          "name": "stderr",
          "text": [
            "\n"
          ]
        },
        {
          "output_type": "stream",
          "name": "stdout",
          "text": [
            "\n",
            "      Epoch    GPU_mem   box_loss   cls_loss   dfl_loss  Instances       Size\n"
          ]
        },
        {
          "output_type": "stream",
          "name": "stderr",
          "text": [
            "     89/101      4.33G     0.2789       0.21     0.8491          8        640: 100%|██████████| 52/52 [00:21<00:00,  2.45it/s]\n",
            "                 Class     Images  Instances      Box(P          R      mAP50  mAP50-95): 100%|██████████| 7/7 [00:02<00:00,  3.25it/s]"
          ]
        },
        {
          "output_type": "stream",
          "name": "stdout",
          "text": [
            "                   all        204        821       0.86      0.821      0.848      0.713\n"
          ]
        },
        {
          "output_type": "stream",
          "name": "stderr",
          "text": [
            "\n"
          ]
        },
        {
          "output_type": "stream",
          "name": "stdout",
          "text": [
            "\n",
            "      Epoch    GPU_mem   box_loss   cls_loss   dfl_loss  Instances       Size\n"
          ]
        },
        {
          "output_type": "stream",
          "name": "stderr",
          "text": [
            "     90/101      4.27G     0.2832     0.2114     0.8473         11        640: 100%|██████████| 52/52 [00:17<00:00,  2.90it/s]\n",
            "                 Class     Images  Instances      Box(P          R      mAP50  mAP50-95): 100%|██████████| 7/7 [00:03<00:00,  2.09it/s]"
          ]
        },
        {
          "output_type": "stream",
          "name": "stdout",
          "text": [
            "                   all        204        821      0.862       0.82       0.85      0.715\n"
          ]
        },
        {
          "output_type": "stream",
          "name": "stderr",
          "text": [
            "\n"
          ]
        },
        {
          "output_type": "stream",
          "name": "stdout",
          "text": [
            "\n",
            "      Epoch    GPU_mem   box_loss   cls_loss   dfl_loss  Instances       Size\n"
          ]
        },
        {
          "output_type": "stream",
          "name": "stderr",
          "text": [
            "     91/101      4.28G     0.2799     0.2061     0.8517          2        640: 100%|██████████| 52/52 [00:16<00:00,  3.22it/s]\n",
            "                 Class     Images  Instances      Box(P          R      mAP50  mAP50-95): 100%|██████████| 7/7 [00:03<00:00,  2.16it/s]"
          ]
        },
        {
          "output_type": "stream",
          "name": "stdout",
          "text": [
            "                   all        204        821      0.866      0.826      0.851      0.715\n"
          ]
        },
        {
          "output_type": "stream",
          "name": "stderr",
          "text": [
            "\n"
          ]
        },
        {
          "output_type": "stream",
          "name": "stdout",
          "text": [
            "Closing dataloader mosaic\n",
            "\u001b[34m\u001b[1malbumentations: \u001b[0mBlur(p=0.01, blur_limit=(3, 7)), MedianBlur(p=0.01, blur_limit=(3, 7)), ToGray(p=0.01), CLAHE(p=0.01, clip_limit=(1, 4.0), tile_grid_size=(8, 8))\n"
          ]
        },
        {
          "output_type": "stream",
          "name": "stderr",
          "text": [
            "/usr/lib/python3.10/multiprocessing/popen_fork.py:66: RuntimeWarning: os.fork() was called. os.fork() is incompatible with multithreaded code, and JAX is multithreaded, so this will likely lead to a deadlock.\n",
            "  self.pid = os.fork()\n",
            "/usr/lib/python3.10/multiprocessing/popen_fork.py:66: RuntimeWarning: os.fork() was called. os.fork() is incompatible with multithreaded code, and JAX is multithreaded, so this will likely lead to a deadlock.\n",
            "  self.pid = os.fork()\n"
          ]
        },
        {
          "output_type": "stream",
          "name": "stdout",
          "text": [
            "\n",
            "      Epoch    GPU_mem   box_loss   cls_loss   dfl_loss  Instances       Size\n"
          ]
        },
        {
          "output_type": "stream",
          "name": "stderr",
          "text": [
            "     92/101      4.32G     0.2789     0.2049     0.8436          2        640: 100%|██████████| 52/52 [00:20<00:00,  2.53it/s]\n",
            "                 Class     Images  Instances      Box(P          R      mAP50  mAP50-95): 100%|██████████| 7/7 [00:03<00:00,  1.88it/s]\n"
          ]
        },
        {
          "output_type": "stream",
          "name": "stdout",
          "text": [
            "                   all        204        821      0.872      0.815      0.848      0.713\n",
            "\n",
            "      Epoch    GPU_mem   box_loss   cls_loss   dfl_loss  Instances       Size\n"
          ]
        },
        {
          "output_type": "stream",
          "name": "stderr",
          "text": [
            "     93/101      4.31G     0.2676     0.2051     0.8447          2        640: 100%|██████████| 52/52 [00:16<00:00,  3.13it/s]\n",
            "                 Class     Images  Instances      Box(P          R      mAP50  mAP50-95): 100%|██████████| 7/7 [00:02<00:00,  2.34it/s]"
          ]
        },
        {
          "output_type": "stream",
          "name": "stdout",
          "text": [
            "                   all        204        821      0.857      0.832      0.854      0.715\n"
          ]
        },
        {
          "output_type": "stream",
          "name": "stderr",
          "text": [
            "\n"
          ]
        },
        {
          "output_type": "stream",
          "name": "stdout",
          "text": [
            "\n",
            "      Epoch    GPU_mem   box_loss   cls_loss   dfl_loss  Instances       Size\n"
          ]
        },
        {
          "output_type": "stream",
          "name": "stderr",
          "text": [
            "     94/101      4.29G     0.2709     0.2055     0.8369         23        640: 100%|██████████| 52/52 [00:16<00:00,  3.08it/s]\n",
            "                 Class     Images  Instances      Box(P          R      mAP50  mAP50-95): 100%|██████████| 7/7 [00:03<00:00,  2.10it/s]\n"
          ]
        },
        {
          "output_type": "stream",
          "name": "stdout",
          "text": [
            "                   all        204        821      0.882      0.805      0.854      0.713\n",
            "\n",
            "      Epoch    GPU_mem   box_loss   cls_loss   dfl_loss  Instances       Size\n"
          ]
        },
        {
          "output_type": "stream",
          "name": "stderr",
          "text": [
            "     95/101      4.29G      0.274      0.204     0.8505          2        640: 100%|██████████| 52/52 [00:17<00:00,  2.89it/s]\n",
            "                 Class     Images  Instances      Box(P          R      mAP50  mAP50-95): 100%|██████████| 7/7 [00:02<00:00,  2.83it/s]\n"
          ]
        },
        {
          "output_type": "stream",
          "name": "stdout",
          "text": [
            "                   all        204        821      0.879      0.796      0.853      0.714\n",
            "\n",
            "      Epoch    GPU_mem   box_loss   cls_loss   dfl_loss  Instances       Size\n"
          ]
        },
        {
          "output_type": "stream",
          "name": "stderr",
          "text": [
            "     96/101      4.39G     0.2619     0.1982     0.8403          2        640: 100%|██████████| 52/52 [00:19<00:00,  2.71it/s]\n",
            "                 Class     Images  Instances      Box(P          R      mAP50  mAP50-95): 100%|██████████| 7/7 [00:01<00:00,  3.55it/s]"
          ]
        },
        {
          "output_type": "stream",
          "name": "stdout",
          "text": [
            "                   all        204        821      0.848      0.823      0.852      0.711\n"
          ]
        },
        {
          "output_type": "stream",
          "name": "stderr",
          "text": [
            "\n"
          ]
        },
        {
          "output_type": "stream",
          "name": "stdout",
          "text": [
            "\n",
            "      Epoch    GPU_mem   box_loss   cls_loss   dfl_loss  Instances       Size\n"
          ]
        },
        {
          "output_type": "stream",
          "name": "stderr",
          "text": [
            "     97/101      4.32G     0.2688     0.2048     0.8448          2        640: 100%|██████████| 52/52 [00:19<00:00,  2.67it/s]\n",
            "                 Class     Images  Instances      Box(P          R      mAP50  mAP50-95): 100%|██████████| 7/7 [00:01<00:00,  3.55it/s]"
          ]
        },
        {
          "output_type": "stream",
          "name": "stdout",
          "text": [
            "                   all        204        821      0.863      0.815      0.851      0.712\n"
          ]
        },
        {
          "output_type": "stream",
          "name": "stderr",
          "text": [
            "\n"
          ]
        },
        {
          "output_type": "stream",
          "name": "stdout",
          "text": [
            "\n",
            "      Epoch    GPU_mem   box_loss   cls_loss   dfl_loss  Instances       Size\n"
          ]
        },
        {
          "output_type": "stream",
          "name": "stderr",
          "text": [
            "     98/101       4.3G     0.2665     0.1973     0.8482          2        640: 100%|██████████| 52/52 [00:20<00:00,  2.50it/s]\n",
            "                 Class     Images  Instances      Box(P          R      mAP50  mAP50-95): 100%|██████████| 7/7 [00:02<00:00,  3.19it/s]"
          ]
        },
        {
          "output_type": "stream",
          "name": "stdout",
          "text": [
            "                   all        204        821      0.873      0.817      0.856      0.716\n"
          ]
        },
        {
          "output_type": "stream",
          "name": "stderr",
          "text": [
            "\n"
          ]
        },
        {
          "output_type": "stream",
          "name": "stdout",
          "text": [
            "\n",
            "      Epoch    GPU_mem   box_loss   cls_loss   dfl_loss  Instances       Size\n"
          ]
        },
        {
          "output_type": "stream",
          "name": "stderr",
          "text": [
            "     99/101      4.27G     0.2614     0.1985     0.8389          9        640: 100%|██████████| 52/52 [00:18<00:00,  2.77it/s]\n",
            "                 Class     Images  Instances      Box(P          R      mAP50  mAP50-95): 100%|██████████| 7/7 [00:03<00:00,  2.30it/s]"
          ]
        },
        {
          "output_type": "stream",
          "name": "stdout",
          "text": [
            "                   all        204        821       0.87      0.819      0.856      0.717\n"
          ]
        },
        {
          "output_type": "stream",
          "name": "stderr",
          "text": [
            "\n"
          ]
        },
        {
          "output_type": "stream",
          "name": "stdout",
          "text": [
            "\n",
            "      Epoch    GPU_mem   box_loss   cls_loss   dfl_loss  Instances       Size\n"
          ]
        },
        {
          "output_type": "stream",
          "name": "stderr",
          "text": [
            "    100/101       4.3G     0.2646     0.2006     0.8423          2        640: 100%|██████████| 52/52 [00:17<00:00,  2.90it/s]\n",
            "                 Class     Images  Instances      Box(P          R      mAP50  mAP50-95): 100%|██████████| 7/7 [00:03<00:00,  2.14it/s]\n"
          ]
        },
        {
          "output_type": "stream",
          "name": "stdout",
          "text": [
            "                   all        204        821      0.874      0.816      0.854      0.717\n",
            "\n",
            "      Epoch    GPU_mem   box_loss   cls_loss   dfl_loss  Instances       Size\n"
          ]
        },
        {
          "output_type": "stream",
          "name": "stderr",
          "text": [
            "    101/101      4.39G     0.2578     0.1943     0.8415          9        640: 100%|██████████| 52/52 [00:17<00:00,  3.04it/s]\n",
            "                 Class     Images  Instances      Box(P          R      mAP50  mAP50-95): 100%|██████████| 7/7 [00:03<00:00,  2.15it/s]"
          ]
        },
        {
          "output_type": "stream",
          "name": "stdout",
          "text": [
            "                   all        204        821      0.873      0.819      0.854      0.717\n"
          ]
        },
        {
          "output_type": "stream",
          "name": "stderr",
          "text": [
            "\n"
          ]
        },
        {
          "output_type": "stream",
          "name": "stdout",
          "text": [
            "\n",
            "101 epochs completed in 0.639 hours.\n",
            "Optimizer stripped from /content/drive/MyDrive/Projects/veggies/train2222/weights/last.pt, 22.5MB\n",
            "Optimizer stripped from /content/drive/MyDrive/Projects/veggies/train2222/weights/best.pt, 22.5MB\n",
            "\n",
            "Validating /content/drive/MyDrive/Projects/veggies/train2222/weights/best.pt...\n",
            "Ultralytics YOLOv8.2.74 🚀 Python-3.10.12 torch-2.3.1+cu121 CUDA:0 (Tesla T4, 15102MiB)\n",
            "Model summary (fused): 168 layers, 11,131,389 parameters, 0 gradients, 28.5 GFLOPs\n"
          ]
        },
        {
          "output_type": "stream",
          "name": "stderr",
          "text": [
            "                 Class     Images  Instances      Box(P          R      mAP50  mAP50-95): 100%|██████████| 7/7 [00:07<00:00,  1.14s/it]\n"
          ]
        },
        {
          "output_type": "stream",
          "name": "stdout",
          "text": [
            "                   all        204        821      0.859      0.829      0.856      0.718\n",
            "                 Beans         19         51       0.64      0.594      0.634      0.526\n",
            "          Bitter Gourd         19         44      0.954      0.946      0.988        0.8\n",
            "               Brinjal         23         47      0.663      0.809      0.728      0.545\n",
            "               Cabbage         15         15      0.912      0.933      0.909      0.801\n",
            "              Capsicum         19         25      0.785        0.8      0.781      0.704\n",
            "                Carrot         23         76      0.813      0.776      0.832      0.713\n",
            "               Chayote         25         34      0.967      0.875      0.903      0.816\n",
            "              Cucumber         20         31      0.965      0.884      0.955      0.841\n",
            "                   Egg         37        195      0.949      0.955      0.949      0.889\n",
            "              Eggplant         16         18      0.925      0.778      0.824      0.661\n",
            "                Ginger         23         61      0.796      0.787      0.827      0.675\n",
            "          Green Chilly         19         99      0.789       0.49       0.67      0.504\n",
            "         Ladies Finger          4          4       0.88          1      0.995      0.679\n",
            "                Tomato         28         92      0.949      0.946       0.98      0.899\n",
            "                Turnip         17         29      0.895      0.862      0.861      0.711\n",
            "Speed: 0.4ms preprocess, 5.2ms inference, 0.0ms loss, 3.7ms postprocess per image\n",
            "Results saved to \u001b[1m/content/drive/MyDrive/Projects/veggies/train2222\u001b[0m\n"
          ]
        },
        {
          "output_type": "execute_result",
          "data": {
            "text/plain": [
              "ultralytics.utils.metrics.DetMetrics object with attributes:\n",
              "\n",
              "ap_class_index: array([ 0,  1,  2,  3,  4,  5,  6,  7,  8,  9, 10, 11, 12, 13, 14])\n",
              "box: ultralytics.utils.metrics.Metric object\n",
              "confusion_matrix: <ultralytics.utils.metrics.ConfusionMatrix object at 0x7feeb5258640>\n",
              "curves: ['Precision-Recall(B)', 'F1-Confidence(B)', 'Precision-Confidence(B)', 'Recall-Confidence(B)']\n",
              "curves_results: [[array([          0,    0.001001,    0.002002,    0.003003,    0.004004,    0.005005,    0.006006,    0.007007,    0.008008,    0.009009,     0.01001,    0.011011,    0.012012,    0.013013,    0.014014,    0.015015,    0.016016,    0.017017,    0.018018,    0.019019,     0.02002,    0.021021,    0.022022,    0.023023,\n",
              "          0.024024,    0.025025,    0.026026,    0.027027,    0.028028,    0.029029,     0.03003,    0.031031,    0.032032,    0.033033,    0.034034,    0.035035,    0.036036,    0.037037,    0.038038,    0.039039,     0.04004,    0.041041,    0.042042,    0.043043,    0.044044,    0.045045,    0.046046,    0.047047,\n",
              "          0.048048,    0.049049,     0.05005,    0.051051,    0.052052,    0.053053,    0.054054,    0.055055,    0.056056,    0.057057,    0.058058,    0.059059,     0.06006,    0.061061,    0.062062,    0.063063,    0.064064,    0.065065,    0.066066,    0.067067,    0.068068,    0.069069,     0.07007,    0.071071,\n",
              "          0.072072,    0.073073,    0.074074,    0.075075,    0.076076,    0.077077,    0.078078,    0.079079,     0.08008,    0.081081,    0.082082,    0.083083,    0.084084,    0.085085,    0.086086,    0.087087,    0.088088,    0.089089,     0.09009,    0.091091,    0.092092,    0.093093,    0.094094,    0.095095,\n",
              "          0.096096,    0.097097,    0.098098,    0.099099,      0.1001,      0.1011,      0.1021,      0.1031,      0.1041,     0.10511,     0.10611,     0.10711,     0.10811,     0.10911,     0.11011,     0.11111,     0.11211,     0.11311,     0.11411,     0.11512,     0.11612,     0.11712,     0.11812,     0.11912,\n",
              "           0.12012,     0.12112,     0.12212,     0.12312,     0.12412,     0.12513,     0.12613,     0.12713,     0.12813,     0.12913,     0.13013,     0.13113,     0.13213,     0.13313,     0.13413,     0.13514,     0.13614,     0.13714,     0.13814,     0.13914,     0.14014,     0.14114,     0.14214,     0.14314,\n",
              "           0.14414,     0.14515,     0.14615,     0.14715,     0.14815,     0.14915,     0.15015,     0.15115,     0.15215,     0.15315,     0.15415,     0.15516,     0.15616,     0.15716,     0.15816,     0.15916,     0.16016,     0.16116,     0.16216,     0.16316,     0.16416,     0.16517,     0.16617,     0.16717,\n",
              "           0.16817,     0.16917,     0.17017,     0.17117,     0.17217,     0.17317,     0.17417,     0.17518,     0.17618,     0.17718,     0.17818,     0.17918,     0.18018,     0.18118,     0.18218,     0.18318,     0.18418,     0.18519,     0.18619,     0.18719,     0.18819,     0.18919,     0.19019,     0.19119,\n",
              "           0.19219,     0.19319,     0.19419,      0.1952,      0.1962,      0.1972,      0.1982,      0.1992,      0.2002,      0.2012,      0.2022,      0.2032,      0.2042,     0.20521,     0.20621,     0.20721,     0.20821,     0.20921,     0.21021,     0.21121,     0.21221,     0.21321,     0.21421,     0.21522,\n",
              "           0.21622,     0.21722,     0.21822,     0.21922,     0.22022,     0.22122,     0.22222,     0.22322,     0.22422,     0.22523,     0.22623,     0.22723,     0.22823,     0.22923,     0.23023,     0.23123,     0.23223,     0.23323,     0.23423,     0.23524,     0.23624,     0.23724,     0.23824,     0.23924,\n",
              "           0.24024,     0.24124,     0.24224,     0.24324,     0.24424,     0.24525,     0.24625,     0.24725,     0.24825,     0.24925,     0.25025,     0.25125,     0.25225,     0.25325,     0.25425,     0.25526,     0.25626,     0.25726,     0.25826,     0.25926,     0.26026,     0.26126,     0.26226,     0.26326,\n",
              "           0.26426,     0.26527,     0.26627,     0.26727,     0.26827,     0.26927,     0.27027,     0.27127,     0.27227,     0.27327,     0.27427,     0.27528,     0.27628,     0.27728,     0.27828,     0.27928,     0.28028,     0.28128,     0.28228,     0.28328,     0.28428,     0.28529,     0.28629,     0.28729,\n",
              "           0.28829,     0.28929,     0.29029,     0.29129,     0.29229,     0.29329,     0.29429,      0.2953,      0.2963,      0.2973,      0.2983,      0.2993,      0.3003,      0.3013,      0.3023,      0.3033,      0.3043,     0.30531,     0.30631,     0.30731,     0.30831,     0.30931,     0.31031,     0.31131,\n",
              "           0.31231,     0.31331,     0.31431,     0.31532,     0.31632,     0.31732,     0.31832,     0.31932,     0.32032,     0.32132,     0.32232,     0.32332,     0.32432,     0.32533,     0.32633,     0.32733,     0.32833,     0.32933,     0.33033,     0.33133,     0.33233,     0.33333,     0.33433,     0.33534,\n",
              "           0.33634,     0.33734,     0.33834,     0.33934,     0.34034,     0.34134,     0.34234,     0.34334,     0.34434,     0.34535,     0.34635,     0.34735,     0.34835,     0.34935,     0.35035,     0.35135,     0.35235,     0.35335,     0.35435,     0.35536,     0.35636,     0.35736,     0.35836,     0.35936,\n",
              "           0.36036,     0.36136,     0.36236,     0.36336,     0.36436,     0.36537,     0.36637,     0.36737,     0.36837,     0.36937,     0.37037,     0.37137,     0.37237,     0.37337,     0.37437,     0.37538,     0.37638,     0.37738,     0.37838,     0.37938,     0.38038,     0.38138,     0.38238,     0.38338,\n",
              "           0.38438,     0.38539,     0.38639,     0.38739,     0.38839,     0.38939,     0.39039,     0.39139,     0.39239,     0.39339,     0.39439,      0.3954,      0.3964,      0.3974,      0.3984,      0.3994,      0.4004,      0.4014,      0.4024,      0.4034,      0.4044,     0.40541,     0.40641,     0.40741,\n",
              "           0.40841,     0.40941,     0.41041,     0.41141,     0.41241,     0.41341,     0.41441,     0.41542,     0.41642,     0.41742,     0.41842,     0.41942,     0.42042,     0.42142,     0.42242,     0.42342,     0.42442,     0.42543,     0.42643,     0.42743,     0.42843,     0.42943,     0.43043,     0.43143,\n",
              "           0.43243,     0.43343,     0.43443,     0.43544,     0.43644,     0.43744,     0.43844,     0.43944,     0.44044,     0.44144,     0.44244,     0.44344,     0.44444,     0.44545,     0.44645,     0.44745,     0.44845,     0.44945,     0.45045,     0.45145,     0.45245,     0.45345,     0.45445,     0.45546,\n",
              "           0.45646,     0.45746,     0.45846,     0.45946,     0.46046,     0.46146,     0.46246,     0.46346,     0.46446,     0.46547,     0.46647,     0.46747,     0.46847,     0.46947,     0.47047,     0.47147,     0.47247,     0.47347,     0.47447,     0.47548,     0.47648,     0.47748,     0.47848,     0.47948,\n",
              "           0.48048,     0.48148,     0.48248,     0.48348,     0.48448,     0.48549,     0.48649,     0.48749,     0.48849,     0.48949,     0.49049,     0.49149,     0.49249,     0.49349,     0.49449,      0.4955,      0.4965,      0.4975,      0.4985,      0.4995,      0.5005,      0.5015,      0.5025,      0.5035,\n",
              "            0.5045,     0.50551,     0.50651,     0.50751,     0.50851,     0.50951,     0.51051,     0.51151,     0.51251,     0.51351,     0.51451,     0.51552,     0.51652,     0.51752,     0.51852,     0.51952,     0.52052,     0.52152,     0.52252,     0.52352,     0.52452,     0.52553,     0.52653,     0.52753,\n",
              "           0.52853,     0.52953,     0.53053,     0.53153,     0.53253,     0.53353,     0.53453,     0.53554,     0.53654,     0.53754,     0.53854,     0.53954,     0.54054,     0.54154,     0.54254,     0.54354,     0.54454,     0.54555,     0.54655,     0.54755,     0.54855,     0.54955,     0.55055,     0.55155,\n",
              "           0.55255,     0.55355,     0.55455,     0.55556,     0.55656,     0.55756,     0.55856,     0.55956,     0.56056,     0.56156,     0.56256,     0.56356,     0.56456,     0.56557,     0.56657,     0.56757,     0.56857,     0.56957,     0.57057,     0.57157,     0.57257,     0.57357,     0.57457,     0.57558,\n",
              "           0.57658,     0.57758,     0.57858,     0.57958,     0.58058,     0.58158,     0.58258,     0.58358,     0.58458,     0.58559,     0.58659,     0.58759,     0.58859,     0.58959,     0.59059,     0.59159,     0.59259,     0.59359,     0.59459,      0.5956,      0.5966,      0.5976,      0.5986,      0.5996,\n",
              "            0.6006,      0.6016,      0.6026,      0.6036,      0.6046,     0.60561,     0.60661,     0.60761,     0.60861,     0.60961,     0.61061,     0.61161,     0.61261,     0.61361,     0.61461,     0.61562,     0.61662,     0.61762,     0.61862,     0.61962,     0.62062,     0.62162,     0.62262,     0.62362,\n",
              "           0.62462,     0.62563,     0.62663,     0.62763,     0.62863,     0.62963,     0.63063,     0.63163,     0.63263,     0.63363,     0.63463,     0.63564,     0.63664,     0.63764,     0.63864,     0.63964,     0.64064,     0.64164,     0.64264,     0.64364,     0.64464,     0.64565,     0.64665,     0.64765,\n",
              "           0.64865,     0.64965,     0.65065,     0.65165,     0.65265,     0.65365,     0.65465,     0.65566,     0.65666,     0.65766,     0.65866,     0.65966,     0.66066,     0.66166,     0.66266,     0.66366,     0.66466,     0.66567,     0.66667,     0.66767,     0.66867,     0.66967,     0.67067,     0.67167,\n",
              "           0.67267,     0.67367,     0.67467,     0.67568,     0.67668,     0.67768,     0.67868,     0.67968,     0.68068,     0.68168,     0.68268,     0.68368,     0.68468,     0.68569,     0.68669,     0.68769,     0.68869,     0.68969,     0.69069,     0.69169,     0.69269,     0.69369,     0.69469,      0.6957,\n",
              "            0.6967,      0.6977,      0.6987,      0.6997,      0.7007,      0.7017,      0.7027,      0.7037,      0.7047,     0.70571,     0.70671,     0.70771,     0.70871,     0.70971,     0.71071,     0.71171,     0.71271,     0.71371,     0.71471,     0.71572,     0.71672,     0.71772,     0.71872,     0.71972,\n",
              "           0.72072,     0.72172,     0.72272,     0.72372,     0.72472,     0.72573,     0.72673,     0.72773,     0.72873,     0.72973,     0.73073,     0.73173,     0.73273,     0.73373,     0.73473,     0.73574,     0.73674,     0.73774,     0.73874,     0.73974,     0.74074,     0.74174,     0.74274,     0.74374,\n",
              "           0.74474,     0.74575,     0.74675,     0.74775,     0.74875,     0.74975,     0.75075,     0.75175,     0.75275,     0.75375,     0.75475,     0.75576,     0.75676,     0.75776,     0.75876,     0.75976,     0.76076,     0.76176,     0.76276,     0.76376,     0.76476,     0.76577,     0.76677,     0.76777,\n",
              "           0.76877,     0.76977,     0.77077,     0.77177,     0.77277,     0.77377,     0.77477,     0.77578,     0.77678,     0.77778,     0.77878,     0.77978,     0.78078,     0.78178,     0.78278,     0.78378,     0.78478,     0.78579,     0.78679,     0.78779,     0.78879,     0.78979,     0.79079,     0.79179,\n",
              "           0.79279,     0.79379,     0.79479,      0.7958,      0.7968,      0.7978,      0.7988,      0.7998,      0.8008,      0.8018,      0.8028,      0.8038,      0.8048,     0.80581,     0.80681,     0.80781,     0.80881,     0.80981,     0.81081,     0.81181,     0.81281,     0.81381,     0.81481,     0.81582,\n",
              "           0.81682,     0.81782,     0.81882,     0.81982,     0.82082,     0.82182,     0.82282,     0.82382,     0.82482,     0.82583,     0.82683,     0.82783,     0.82883,     0.82983,     0.83083,     0.83183,     0.83283,     0.83383,     0.83483,     0.83584,     0.83684,     0.83784,     0.83884,     0.83984,\n",
              "           0.84084,     0.84184,     0.84284,     0.84384,     0.84484,     0.84585,     0.84685,     0.84785,     0.84885,     0.84985,     0.85085,     0.85185,     0.85285,     0.85385,     0.85485,     0.85586,     0.85686,     0.85786,     0.85886,     0.85986,     0.86086,     0.86186,     0.86286,     0.86386,\n",
              "           0.86486,     0.86587,     0.86687,     0.86787,     0.86887,     0.86987,     0.87087,     0.87187,     0.87287,     0.87387,     0.87487,     0.87588,     0.87688,     0.87788,     0.87888,     0.87988,     0.88088,     0.88188,     0.88288,     0.88388,     0.88488,     0.88589,     0.88689,     0.88789,\n",
              "           0.88889,     0.88989,     0.89089,     0.89189,     0.89289,     0.89389,     0.89489,      0.8959,      0.8969,      0.8979,      0.8989,      0.8999,      0.9009,      0.9019,      0.9029,      0.9039,      0.9049,     0.90591,     0.90691,     0.90791,     0.90891,     0.90991,     0.91091,     0.91191,\n",
              "           0.91291,     0.91391,     0.91491,     0.91592,     0.91692,     0.91792,     0.91892,     0.91992,     0.92092,     0.92192,     0.92292,     0.92392,     0.92492,     0.92593,     0.92693,     0.92793,     0.92893,     0.92993,     0.93093,     0.93193,     0.93293,     0.93393,     0.93493,     0.93594,\n",
              "           0.93694,     0.93794,     0.93894,     0.93994,     0.94094,     0.94194,     0.94294,     0.94394,     0.94494,     0.94595,     0.94695,     0.94795,     0.94895,     0.94995,     0.95095,     0.95195,     0.95295,     0.95395,     0.95495,     0.95596,     0.95696,     0.95796,     0.95896,     0.95996,\n",
              "           0.96096,     0.96196,     0.96296,     0.96396,     0.96496,     0.96597,     0.96697,     0.96797,     0.96897,     0.96997,     0.97097,     0.97197,     0.97297,     0.97397,     0.97497,     0.97598,     0.97698,     0.97798,     0.97898,     0.97998,     0.98098,     0.98198,     0.98298,     0.98398,\n",
              "           0.98498,     0.98599,     0.98699,     0.98799,     0.98899,     0.98999,     0.99099,     0.99199,     0.99299,     0.99399,     0.99499,       0.996,       0.997,       0.998,       0.999,           1]), array([[          1,           1,           1, ...,    0.001355,  0.00067752,           0],\n",
              "       [          1,           1,           1, ...,        0.88,        0.88,           0],\n",
              "       [    0.91667,     0.91667,     0.91667, ...,   0.0036326,   0.0018163,           0],\n",
              "       ...,\n",
              "       [          1,           1,           1, ...,           1,           1,           0],\n",
              "       [          1,           1,           1, ...,     0.13094,    0.065472,           0],\n",
              "       [          1,           1,           1, ...,   0.0086753,   0.0043377,           0]]), 'Recall', 'Precision'], [array([          0,    0.001001,    0.002002,    0.003003,    0.004004,    0.005005,    0.006006,    0.007007,    0.008008,    0.009009,     0.01001,    0.011011,    0.012012,    0.013013,    0.014014,    0.015015,    0.016016,    0.017017,    0.018018,    0.019019,     0.02002,    0.021021,    0.022022,    0.023023,\n",
              "          0.024024,    0.025025,    0.026026,    0.027027,    0.028028,    0.029029,     0.03003,    0.031031,    0.032032,    0.033033,    0.034034,    0.035035,    0.036036,    0.037037,    0.038038,    0.039039,     0.04004,    0.041041,    0.042042,    0.043043,    0.044044,    0.045045,    0.046046,    0.047047,\n",
              "          0.048048,    0.049049,     0.05005,    0.051051,    0.052052,    0.053053,    0.054054,    0.055055,    0.056056,    0.057057,    0.058058,    0.059059,     0.06006,    0.061061,    0.062062,    0.063063,    0.064064,    0.065065,    0.066066,    0.067067,    0.068068,    0.069069,     0.07007,    0.071071,\n",
              "          0.072072,    0.073073,    0.074074,    0.075075,    0.076076,    0.077077,    0.078078,    0.079079,     0.08008,    0.081081,    0.082082,    0.083083,    0.084084,    0.085085,    0.086086,    0.087087,    0.088088,    0.089089,     0.09009,    0.091091,    0.092092,    0.093093,    0.094094,    0.095095,\n",
              "          0.096096,    0.097097,    0.098098,    0.099099,      0.1001,      0.1011,      0.1021,      0.1031,      0.1041,     0.10511,     0.10611,     0.10711,     0.10811,     0.10911,     0.11011,     0.11111,     0.11211,     0.11311,     0.11411,     0.11512,     0.11612,     0.11712,     0.11812,     0.11912,\n",
              "           0.12012,     0.12112,     0.12212,     0.12312,     0.12412,     0.12513,     0.12613,     0.12713,     0.12813,     0.12913,     0.13013,     0.13113,     0.13213,     0.13313,     0.13413,     0.13514,     0.13614,     0.13714,     0.13814,     0.13914,     0.14014,     0.14114,     0.14214,     0.14314,\n",
              "           0.14414,     0.14515,     0.14615,     0.14715,     0.14815,     0.14915,     0.15015,     0.15115,     0.15215,     0.15315,     0.15415,     0.15516,     0.15616,     0.15716,     0.15816,     0.15916,     0.16016,     0.16116,     0.16216,     0.16316,     0.16416,     0.16517,     0.16617,     0.16717,\n",
              "           0.16817,     0.16917,     0.17017,     0.17117,     0.17217,     0.17317,     0.17417,     0.17518,     0.17618,     0.17718,     0.17818,     0.17918,     0.18018,     0.18118,     0.18218,     0.18318,     0.18418,     0.18519,     0.18619,     0.18719,     0.18819,     0.18919,     0.19019,     0.19119,\n",
              "           0.19219,     0.19319,     0.19419,      0.1952,      0.1962,      0.1972,      0.1982,      0.1992,      0.2002,      0.2012,      0.2022,      0.2032,      0.2042,     0.20521,     0.20621,     0.20721,     0.20821,     0.20921,     0.21021,     0.21121,     0.21221,     0.21321,     0.21421,     0.21522,\n",
              "           0.21622,     0.21722,     0.21822,     0.21922,     0.22022,     0.22122,     0.22222,     0.22322,     0.22422,     0.22523,     0.22623,     0.22723,     0.22823,     0.22923,     0.23023,     0.23123,     0.23223,     0.23323,     0.23423,     0.23524,     0.23624,     0.23724,     0.23824,     0.23924,\n",
              "           0.24024,     0.24124,     0.24224,     0.24324,     0.24424,     0.24525,     0.24625,     0.24725,     0.24825,     0.24925,     0.25025,     0.25125,     0.25225,     0.25325,     0.25425,     0.25526,     0.25626,     0.25726,     0.25826,     0.25926,     0.26026,     0.26126,     0.26226,     0.26326,\n",
              "           0.26426,     0.26527,     0.26627,     0.26727,     0.26827,     0.26927,     0.27027,     0.27127,     0.27227,     0.27327,     0.27427,     0.27528,     0.27628,     0.27728,     0.27828,     0.27928,     0.28028,     0.28128,     0.28228,     0.28328,     0.28428,     0.28529,     0.28629,     0.28729,\n",
              "           0.28829,     0.28929,     0.29029,     0.29129,     0.29229,     0.29329,     0.29429,      0.2953,      0.2963,      0.2973,      0.2983,      0.2993,      0.3003,      0.3013,      0.3023,      0.3033,      0.3043,     0.30531,     0.30631,     0.30731,     0.30831,     0.30931,     0.31031,     0.31131,\n",
              "           0.31231,     0.31331,     0.31431,     0.31532,     0.31632,     0.31732,     0.31832,     0.31932,     0.32032,     0.32132,     0.32232,     0.32332,     0.32432,     0.32533,     0.32633,     0.32733,     0.32833,     0.32933,     0.33033,     0.33133,     0.33233,     0.33333,     0.33433,     0.33534,\n",
              "           0.33634,     0.33734,     0.33834,     0.33934,     0.34034,     0.34134,     0.34234,     0.34334,     0.34434,     0.34535,     0.34635,     0.34735,     0.34835,     0.34935,     0.35035,     0.35135,     0.35235,     0.35335,     0.35435,     0.35536,     0.35636,     0.35736,     0.35836,     0.35936,\n",
              "           0.36036,     0.36136,     0.36236,     0.36336,     0.36436,     0.36537,     0.36637,     0.36737,     0.36837,     0.36937,     0.37037,     0.37137,     0.37237,     0.37337,     0.37437,     0.37538,     0.37638,     0.37738,     0.37838,     0.37938,     0.38038,     0.38138,     0.38238,     0.38338,\n",
              "           0.38438,     0.38539,     0.38639,     0.38739,     0.38839,     0.38939,     0.39039,     0.39139,     0.39239,     0.39339,     0.39439,      0.3954,      0.3964,      0.3974,      0.3984,      0.3994,      0.4004,      0.4014,      0.4024,      0.4034,      0.4044,     0.40541,     0.40641,     0.40741,\n",
              "           0.40841,     0.40941,     0.41041,     0.41141,     0.41241,     0.41341,     0.41441,     0.41542,     0.41642,     0.41742,     0.41842,     0.41942,     0.42042,     0.42142,     0.42242,     0.42342,     0.42442,     0.42543,     0.42643,     0.42743,     0.42843,     0.42943,     0.43043,     0.43143,\n",
              "           0.43243,     0.43343,     0.43443,     0.43544,     0.43644,     0.43744,     0.43844,     0.43944,     0.44044,     0.44144,     0.44244,     0.44344,     0.44444,     0.44545,     0.44645,     0.44745,     0.44845,     0.44945,     0.45045,     0.45145,     0.45245,     0.45345,     0.45445,     0.45546,\n",
              "           0.45646,     0.45746,     0.45846,     0.45946,     0.46046,     0.46146,     0.46246,     0.46346,     0.46446,     0.46547,     0.46647,     0.46747,     0.46847,     0.46947,     0.47047,     0.47147,     0.47247,     0.47347,     0.47447,     0.47548,     0.47648,     0.47748,     0.47848,     0.47948,\n",
              "           0.48048,     0.48148,     0.48248,     0.48348,     0.48448,     0.48549,     0.48649,     0.48749,     0.48849,     0.48949,     0.49049,     0.49149,     0.49249,     0.49349,     0.49449,      0.4955,      0.4965,      0.4975,      0.4985,      0.4995,      0.5005,      0.5015,      0.5025,      0.5035,\n",
              "            0.5045,     0.50551,     0.50651,     0.50751,     0.50851,     0.50951,     0.51051,     0.51151,     0.51251,     0.51351,     0.51451,     0.51552,     0.51652,     0.51752,     0.51852,     0.51952,     0.52052,     0.52152,     0.52252,     0.52352,     0.52452,     0.52553,     0.52653,     0.52753,\n",
              "           0.52853,     0.52953,     0.53053,     0.53153,     0.53253,     0.53353,     0.53453,     0.53554,     0.53654,     0.53754,     0.53854,     0.53954,     0.54054,     0.54154,     0.54254,     0.54354,     0.54454,     0.54555,     0.54655,     0.54755,     0.54855,     0.54955,     0.55055,     0.55155,\n",
              "           0.55255,     0.55355,     0.55455,     0.55556,     0.55656,     0.55756,     0.55856,     0.55956,     0.56056,     0.56156,     0.56256,     0.56356,     0.56456,     0.56557,     0.56657,     0.56757,     0.56857,     0.56957,     0.57057,     0.57157,     0.57257,     0.57357,     0.57457,     0.57558,\n",
              "           0.57658,     0.57758,     0.57858,     0.57958,     0.58058,     0.58158,     0.58258,     0.58358,     0.58458,     0.58559,     0.58659,     0.58759,     0.58859,     0.58959,     0.59059,     0.59159,     0.59259,     0.59359,     0.59459,      0.5956,      0.5966,      0.5976,      0.5986,      0.5996,\n",
              "            0.6006,      0.6016,      0.6026,      0.6036,      0.6046,     0.60561,     0.60661,     0.60761,     0.60861,     0.60961,     0.61061,     0.61161,     0.61261,     0.61361,     0.61461,     0.61562,     0.61662,     0.61762,     0.61862,     0.61962,     0.62062,     0.62162,     0.62262,     0.62362,\n",
              "           0.62462,     0.62563,     0.62663,     0.62763,     0.62863,     0.62963,     0.63063,     0.63163,     0.63263,     0.63363,     0.63463,     0.63564,     0.63664,     0.63764,     0.63864,     0.63964,     0.64064,     0.64164,     0.64264,     0.64364,     0.64464,     0.64565,     0.64665,     0.64765,\n",
              "           0.64865,     0.64965,     0.65065,     0.65165,     0.65265,     0.65365,     0.65465,     0.65566,     0.65666,     0.65766,     0.65866,     0.65966,     0.66066,     0.66166,     0.66266,     0.66366,     0.66466,     0.66567,     0.66667,     0.66767,     0.66867,     0.66967,     0.67067,     0.67167,\n",
              "           0.67267,     0.67367,     0.67467,     0.67568,     0.67668,     0.67768,     0.67868,     0.67968,     0.68068,     0.68168,     0.68268,     0.68368,     0.68468,     0.68569,     0.68669,     0.68769,     0.68869,     0.68969,     0.69069,     0.69169,     0.69269,     0.69369,     0.69469,      0.6957,\n",
              "            0.6967,      0.6977,      0.6987,      0.6997,      0.7007,      0.7017,      0.7027,      0.7037,      0.7047,     0.70571,     0.70671,     0.70771,     0.70871,     0.70971,     0.71071,     0.71171,     0.71271,     0.71371,     0.71471,     0.71572,     0.71672,     0.71772,     0.71872,     0.71972,\n",
              "           0.72072,     0.72172,     0.72272,     0.72372,     0.72472,     0.72573,     0.72673,     0.72773,     0.72873,     0.72973,     0.73073,     0.73173,     0.73273,     0.73373,     0.73473,     0.73574,     0.73674,     0.73774,     0.73874,     0.73974,     0.74074,     0.74174,     0.74274,     0.74374,\n",
              "           0.74474,     0.74575,     0.74675,     0.74775,     0.74875,     0.74975,     0.75075,     0.75175,     0.75275,     0.75375,     0.75475,     0.75576,     0.75676,     0.75776,     0.75876,     0.75976,     0.76076,     0.76176,     0.76276,     0.76376,     0.76476,     0.76577,     0.76677,     0.76777,\n",
              "           0.76877,     0.76977,     0.77077,     0.77177,     0.77277,     0.77377,     0.77477,     0.77578,     0.77678,     0.77778,     0.77878,     0.77978,     0.78078,     0.78178,     0.78278,     0.78378,     0.78478,     0.78579,     0.78679,     0.78779,     0.78879,     0.78979,     0.79079,     0.79179,\n",
              "           0.79279,     0.79379,     0.79479,      0.7958,      0.7968,      0.7978,      0.7988,      0.7998,      0.8008,      0.8018,      0.8028,      0.8038,      0.8048,     0.80581,     0.80681,     0.80781,     0.80881,     0.80981,     0.81081,     0.81181,     0.81281,     0.81381,     0.81481,     0.81582,\n",
              "           0.81682,     0.81782,     0.81882,     0.81982,     0.82082,     0.82182,     0.82282,     0.82382,     0.82482,     0.82583,     0.82683,     0.82783,     0.82883,     0.82983,     0.83083,     0.83183,     0.83283,     0.83383,     0.83483,     0.83584,     0.83684,     0.83784,     0.83884,     0.83984,\n",
              "           0.84084,     0.84184,     0.84284,     0.84384,     0.84484,     0.84585,     0.84685,     0.84785,     0.84885,     0.84985,     0.85085,     0.85185,     0.85285,     0.85385,     0.85485,     0.85586,     0.85686,     0.85786,     0.85886,     0.85986,     0.86086,     0.86186,     0.86286,     0.86386,\n",
              "           0.86486,     0.86587,     0.86687,     0.86787,     0.86887,     0.86987,     0.87087,     0.87187,     0.87287,     0.87387,     0.87487,     0.87588,     0.87688,     0.87788,     0.87888,     0.87988,     0.88088,     0.88188,     0.88288,     0.88388,     0.88488,     0.88589,     0.88689,     0.88789,\n",
              "           0.88889,     0.88989,     0.89089,     0.89189,     0.89289,     0.89389,     0.89489,      0.8959,      0.8969,      0.8979,      0.8989,      0.8999,      0.9009,      0.9019,      0.9029,      0.9039,      0.9049,     0.90591,     0.90691,     0.90791,     0.90891,     0.90991,     0.91091,     0.91191,\n",
              "           0.91291,     0.91391,     0.91491,     0.91592,     0.91692,     0.91792,     0.91892,     0.91992,     0.92092,     0.92192,     0.92292,     0.92392,     0.92492,     0.92593,     0.92693,     0.92793,     0.92893,     0.92993,     0.93093,     0.93193,     0.93293,     0.93393,     0.93493,     0.93594,\n",
              "           0.93694,     0.93794,     0.93894,     0.93994,     0.94094,     0.94194,     0.94294,     0.94394,     0.94494,     0.94595,     0.94695,     0.94795,     0.94895,     0.94995,     0.95095,     0.95195,     0.95295,     0.95395,     0.95495,     0.95596,     0.95696,     0.95796,     0.95896,     0.95996,\n",
              "           0.96096,     0.96196,     0.96296,     0.96396,     0.96496,     0.96597,     0.96697,     0.96797,     0.96897,     0.96997,     0.97097,     0.97197,     0.97297,     0.97397,     0.97497,     0.97598,     0.97698,     0.97798,     0.97898,     0.97998,     0.98098,     0.98198,     0.98298,     0.98398,\n",
              "           0.98498,     0.98599,     0.98699,     0.98799,     0.98899,     0.98999,     0.99099,     0.99199,     0.99299,     0.99399,     0.99499,       0.996,       0.997,       0.998,       0.999,           1]), array([[    0.24615,     0.24615,     0.29504, ...,           0,           0,           0],\n",
              "       [    0.64234,     0.64234,     0.71871, ...,           0,           0,           0],\n",
              "       [    0.36607,     0.36607,     0.42267, ...,           0,           0,           0],\n",
              "       ...,\n",
              "       [    0.44444,     0.44444,     0.57279, ...,           0,           0,           0],\n",
              "       [    0.82727,     0.82727,      0.8997, ...,           0,           0,           0],\n",
              "       [     0.5977,      0.5977,     0.71684, ...,           0,           0,           0]]), 'Confidence', 'F1'], [array([          0,    0.001001,    0.002002,    0.003003,    0.004004,    0.005005,    0.006006,    0.007007,    0.008008,    0.009009,     0.01001,    0.011011,    0.012012,    0.013013,    0.014014,    0.015015,    0.016016,    0.017017,    0.018018,    0.019019,     0.02002,    0.021021,    0.022022,    0.023023,\n",
              "          0.024024,    0.025025,    0.026026,    0.027027,    0.028028,    0.029029,     0.03003,    0.031031,    0.032032,    0.033033,    0.034034,    0.035035,    0.036036,    0.037037,    0.038038,    0.039039,     0.04004,    0.041041,    0.042042,    0.043043,    0.044044,    0.045045,    0.046046,    0.047047,\n",
              "          0.048048,    0.049049,     0.05005,    0.051051,    0.052052,    0.053053,    0.054054,    0.055055,    0.056056,    0.057057,    0.058058,    0.059059,     0.06006,    0.061061,    0.062062,    0.063063,    0.064064,    0.065065,    0.066066,    0.067067,    0.068068,    0.069069,     0.07007,    0.071071,\n",
              "          0.072072,    0.073073,    0.074074,    0.075075,    0.076076,    0.077077,    0.078078,    0.079079,     0.08008,    0.081081,    0.082082,    0.083083,    0.084084,    0.085085,    0.086086,    0.087087,    0.088088,    0.089089,     0.09009,    0.091091,    0.092092,    0.093093,    0.094094,    0.095095,\n",
              "          0.096096,    0.097097,    0.098098,    0.099099,      0.1001,      0.1011,      0.1021,      0.1031,      0.1041,     0.10511,     0.10611,     0.10711,     0.10811,     0.10911,     0.11011,     0.11111,     0.11211,     0.11311,     0.11411,     0.11512,     0.11612,     0.11712,     0.11812,     0.11912,\n",
              "           0.12012,     0.12112,     0.12212,     0.12312,     0.12412,     0.12513,     0.12613,     0.12713,     0.12813,     0.12913,     0.13013,     0.13113,     0.13213,     0.13313,     0.13413,     0.13514,     0.13614,     0.13714,     0.13814,     0.13914,     0.14014,     0.14114,     0.14214,     0.14314,\n",
              "           0.14414,     0.14515,     0.14615,     0.14715,     0.14815,     0.14915,     0.15015,     0.15115,     0.15215,     0.15315,     0.15415,     0.15516,     0.15616,     0.15716,     0.15816,     0.15916,     0.16016,     0.16116,     0.16216,     0.16316,     0.16416,     0.16517,     0.16617,     0.16717,\n",
              "           0.16817,     0.16917,     0.17017,     0.17117,     0.17217,     0.17317,     0.17417,     0.17518,     0.17618,     0.17718,     0.17818,     0.17918,     0.18018,     0.18118,     0.18218,     0.18318,     0.18418,     0.18519,     0.18619,     0.18719,     0.18819,     0.18919,     0.19019,     0.19119,\n",
              "           0.19219,     0.19319,     0.19419,      0.1952,      0.1962,      0.1972,      0.1982,      0.1992,      0.2002,      0.2012,      0.2022,      0.2032,      0.2042,     0.20521,     0.20621,     0.20721,     0.20821,     0.20921,     0.21021,     0.21121,     0.21221,     0.21321,     0.21421,     0.21522,\n",
              "           0.21622,     0.21722,     0.21822,     0.21922,     0.22022,     0.22122,     0.22222,     0.22322,     0.22422,     0.22523,     0.22623,     0.22723,     0.22823,     0.22923,     0.23023,     0.23123,     0.23223,     0.23323,     0.23423,     0.23524,     0.23624,     0.23724,     0.23824,     0.23924,\n",
              "           0.24024,     0.24124,     0.24224,     0.24324,     0.24424,     0.24525,     0.24625,     0.24725,     0.24825,     0.24925,     0.25025,     0.25125,     0.25225,     0.25325,     0.25425,     0.25526,     0.25626,     0.25726,     0.25826,     0.25926,     0.26026,     0.26126,     0.26226,     0.26326,\n",
              "           0.26426,     0.26527,     0.26627,     0.26727,     0.26827,     0.26927,     0.27027,     0.27127,     0.27227,     0.27327,     0.27427,     0.27528,     0.27628,     0.27728,     0.27828,     0.27928,     0.28028,     0.28128,     0.28228,     0.28328,     0.28428,     0.28529,     0.28629,     0.28729,\n",
              "           0.28829,     0.28929,     0.29029,     0.29129,     0.29229,     0.29329,     0.29429,      0.2953,      0.2963,      0.2973,      0.2983,      0.2993,      0.3003,      0.3013,      0.3023,      0.3033,      0.3043,     0.30531,     0.30631,     0.30731,     0.30831,     0.30931,     0.31031,     0.31131,\n",
              "           0.31231,     0.31331,     0.31431,     0.31532,     0.31632,     0.31732,     0.31832,     0.31932,     0.32032,     0.32132,     0.32232,     0.32332,     0.32432,     0.32533,     0.32633,     0.32733,     0.32833,     0.32933,     0.33033,     0.33133,     0.33233,     0.33333,     0.33433,     0.33534,\n",
              "           0.33634,     0.33734,     0.33834,     0.33934,     0.34034,     0.34134,     0.34234,     0.34334,     0.34434,     0.34535,     0.34635,     0.34735,     0.34835,     0.34935,     0.35035,     0.35135,     0.35235,     0.35335,     0.35435,     0.35536,     0.35636,     0.35736,     0.35836,     0.35936,\n",
              "           0.36036,     0.36136,     0.36236,     0.36336,     0.36436,     0.36537,     0.36637,     0.36737,     0.36837,     0.36937,     0.37037,     0.37137,     0.37237,     0.37337,     0.37437,     0.37538,     0.37638,     0.37738,     0.37838,     0.37938,     0.38038,     0.38138,     0.38238,     0.38338,\n",
              "           0.38438,     0.38539,     0.38639,     0.38739,     0.38839,     0.38939,     0.39039,     0.39139,     0.39239,     0.39339,     0.39439,      0.3954,      0.3964,      0.3974,      0.3984,      0.3994,      0.4004,      0.4014,      0.4024,      0.4034,      0.4044,     0.40541,     0.40641,     0.40741,\n",
              "           0.40841,     0.40941,     0.41041,     0.41141,     0.41241,     0.41341,     0.41441,     0.41542,     0.41642,     0.41742,     0.41842,     0.41942,     0.42042,     0.42142,     0.42242,     0.42342,     0.42442,     0.42543,     0.42643,     0.42743,     0.42843,     0.42943,     0.43043,     0.43143,\n",
              "           0.43243,     0.43343,     0.43443,     0.43544,     0.43644,     0.43744,     0.43844,     0.43944,     0.44044,     0.44144,     0.44244,     0.44344,     0.44444,     0.44545,     0.44645,     0.44745,     0.44845,     0.44945,     0.45045,     0.45145,     0.45245,     0.45345,     0.45445,     0.45546,\n",
              "           0.45646,     0.45746,     0.45846,     0.45946,     0.46046,     0.46146,     0.46246,     0.46346,     0.46446,     0.46547,     0.46647,     0.46747,     0.46847,     0.46947,     0.47047,     0.47147,     0.47247,     0.47347,     0.47447,     0.47548,     0.47648,     0.47748,     0.47848,     0.47948,\n",
              "           0.48048,     0.48148,     0.48248,     0.48348,     0.48448,     0.48549,     0.48649,     0.48749,     0.48849,     0.48949,     0.49049,     0.49149,     0.49249,     0.49349,     0.49449,      0.4955,      0.4965,      0.4975,      0.4985,      0.4995,      0.5005,      0.5015,      0.5025,      0.5035,\n",
              "            0.5045,     0.50551,     0.50651,     0.50751,     0.50851,     0.50951,     0.51051,     0.51151,     0.51251,     0.51351,     0.51451,     0.51552,     0.51652,     0.51752,     0.51852,     0.51952,     0.52052,     0.52152,     0.52252,     0.52352,     0.52452,     0.52553,     0.52653,     0.52753,\n",
              "           0.52853,     0.52953,     0.53053,     0.53153,     0.53253,     0.53353,     0.53453,     0.53554,     0.53654,     0.53754,     0.53854,     0.53954,     0.54054,     0.54154,     0.54254,     0.54354,     0.54454,     0.54555,     0.54655,     0.54755,     0.54855,     0.54955,     0.55055,     0.55155,\n",
              "           0.55255,     0.55355,     0.55455,     0.55556,     0.55656,     0.55756,     0.55856,     0.55956,     0.56056,     0.56156,     0.56256,     0.56356,     0.56456,     0.56557,     0.56657,     0.56757,     0.56857,     0.56957,     0.57057,     0.57157,     0.57257,     0.57357,     0.57457,     0.57558,\n",
              "           0.57658,     0.57758,     0.57858,     0.57958,     0.58058,     0.58158,     0.58258,     0.58358,     0.58458,     0.58559,     0.58659,     0.58759,     0.58859,     0.58959,     0.59059,     0.59159,     0.59259,     0.59359,     0.59459,      0.5956,      0.5966,      0.5976,      0.5986,      0.5996,\n",
              "            0.6006,      0.6016,      0.6026,      0.6036,      0.6046,     0.60561,     0.60661,     0.60761,     0.60861,     0.60961,     0.61061,     0.61161,     0.61261,     0.61361,     0.61461,     0.61562,     0.61662,     0.61762,     0.61862,     0.61962,     0.62062,     0.62162,     0.62262,     0.62362,\n",
              "           0.62462,     0.62563,     0.62663,     0.62763,     0.62863,     0.62963,     0.63063,     0.63163,     0.63263,     0.63363,     0.63463,     0.63564,     0.63664,     0.63764,     0.63864,     0.63964,     0.64064,     0.64164,     0.64264,     0.64364,     0.64464,     0.64565,     0.64665,     0.64765,\n",
              "           0.64865,     0.64965,     0.65065,     0.65165,     0.65265,     0.65365,     0.65465,     0.65566,     0.65666,     0.65766,     0.65866,     0.65966,     0.66066,     0.66166,     0.66266,     0.66366,     0.66466,     0.66567,     0.66667,     0.66767,     0.66867,     0.66967,     0.67067,     0.67167,\n",
              "           0.67267,     0.67367,     0.67467,     0.67568,     0.67668,     0.67768,     0.67868,     0.67968,     0.68068,     0.68168,     0.68268,     0.68368,     0.68468,     0.68569,     0.68669,     0.68769,     0.68869,     0.68969,     0.69069,     0.69169,     0.69269,     0.69369,     0.69469,      0.6957,\n",
              "            0.6967,      0.6977,      0.6987,      0.6997,      0.7007,      0.7017,      0.7027,      0.7037,      0.7047,     0.70571,     0.70671,     0.70771,     0.70871,     0.70971,     0.71071,     0.71171,     0.71271,     0.71371,     0.71471,     0.71572,     0.71672,     0.71772,     0.71872,     0.71972,\n",
              "           0.72072,     0.72172,     0.72272,     0.72372,     0.72472,     0.72573,     0.72673,     0.72773,     0.72873,     0.72973,     0.73073,     0.73173,     0.73273,     0.73373,     0.73473,     0.73574,     0.73674,     0.73774,     0.73874,     0.73974,     0.74074,     0.74174,     0.74274,     0.74374,\n",
              "           0.74474,     0.74575,     0.74675,     0.74775,     0.74875,     0.74975,     0.75075,     0.75175,     0.75275,     0.75375,     0.75475,     0.75576,     0.75676,     0.75776,     0.75876,     0.75976,     0.76076,     0.76176,     0.76276,     0.76376,     0.76476,     0.76577,     0.76677,     0.76777,\n",
              "           0.76877,     0.76977,     0.77077,     0.77177,     0.77277,     0.77377,     0.77477,     0.77578,     0.77678,     0.77778,     0.77878,     0.77978,     0.78078,     0.78178,     0.78278,     0.78378,     0.78478,     0.78579,     0.78679,     0.78779,     0.78879,     0.78979,     0.79079,     0.79179,\n",
              "           0.79279,     0.79379,     0.79479,      0.7958,      0.7968,      0.7978,      0.7988,      0.7998,      0.8008,      0.8018,      0.8028,      0.8038,      0.8048,     0.80581,     0.80681,     0.80781,     0.80881,     0.80981,     0.81081,     0.81181,     0.81281,     0.81381,     0.81481,     0.81582,\n",
              "           0.81682,     0.81782,     0.81882,     0.81982,     0.82082,     0.82182,     0.82282,     0.82382,     0.82482,     0.82583,     0.82683,     0.82783,     0.82883,     0.82983,     0.83083,     0.83183,     0.83283,     0.83383,     0.83483,     0.83584,     0.83684,     0.83784,     0.83884,     0.83984,\n",
              "           0.84084,     0.84184,     0.84284,     0.84384,     0.84484,     0.84585,     0.84685,     0.84785,     0.84885,     0.84985,     0.85085,     0.85185,     0.85285,     0.85385,     0.85485,     0.85586,     0.85686,     0.85786,     0.85886,     0.85986,     0.86086,     0.86186,     0.86286,     0.86386,\n",
              "           0.86486,     0.86587,     0.86687,     0.86787,     0.86887,     0.86987,     0.87087,     0.87187,     0.87287,     0.87387,     0.87487,     0.87588,     0.87688,     0.87788,     0.87888,     0.87988,     0.88088,     0.88188,     0.88288,     0.88388,     0.88488,     0.88589,     0.88689,     0.88789,\n",
              "           0.88889,     0.88989,     0.89089,     0.89189,     0.89289,     0.89389,     0.89489,      0.8959,      0.8969,      0.8979,      0.8989,      0.8999,      0.9009,      0.9019,      0.9029,      0.9039,      0.9049,     0.90591,     0.90691,     0.90791,     0.90891,     0.90991,     0.91091,     0.91191,\n",
              "           0.91291,     0.91391,     0.91491,     0.91592,     0.91692,     0.91792,     0.91892,     0.91992,     0.92092,     0.92192,     0.92292,     0.92392,     0.92492,     0.92593,     0.92693,     0.92793,     0.92893,     0.92993,     0.93093,     0.93193,     0.93293,     0.93393,     0.93493,     0.93594,\n",
              "           0.93694,     0.93794,     0.93894,     0.93994,     0.94094,     0.94194,     0.94294,     0.94394,     0.94494,     0.94595,     0.94695,     0.94795,     0.94895,     0.94995,     0.95095,     0.95195,     0.95295,     0.95395,     0.95495,     0.95596,     0.95696,     0.95796,     0.95896,     0.95996,\n",
              "           0.96096,     0.96196,     0.96296,     0.96396,     0.96496,     0.96597,     0.96697,     0.96797,     0.96897,     0.96997,     0.97097,     0.97197,     0.97297,     0.97397,     0.97497,     0.97598,     0.97698,     0.97798,     0.97898,     0.97998,     0.98098,     0.98198,     0.98298,     0.98398,\n",
              "           0.98498,     0.98599,     0.98699,     0.98799,     0.98899,     0.98999,     0.99099,     0.99199,     0.99299,     0.99399,     0.99499,       0.996,       0.997,       0.998,       0.999,           1]), array([[    0.14599,     0.14599,     0.18278, ...,           1,           1,           1],\n",
              "       [    0.47312,     0.47312,     0.56092, ...,           1,           1,           1],\n",
              "       [    0.23164,     0.23164,      0.2789, ...,           1,           1,           1],\n",
              "       ...,\n",
              "       [    0.28571,     0.28571,     0.40133, ...,           1,           1,           1],\n",
              "       [    0.71094,     0.71094,     0.83282, ...,           1,           1,           1],\n",
              "       [    0.44828,     0.44828,     0.59714, ...,           1,           1,           1]]), 'Confidence', 'Precision'], [array([          0,    0.001001,    0.002002,    0.003003,    0.004004,    0.005005,    0.006006,    0.007007,    0.008008,    0.009009,     0.01001,    0.011011,    0.012012,    0.013013,    0.014014,    0.015015,    0.016016,    0.017017,    0.018018,    0.019019,     0.02002,    0.021021,    0.022022,    0.023023,\n",
              "          0.024024,    0.025025,    0.026026,    0.027027,    0.028028,    0.029029,     0.03003,    0.031031,    0.032032,    0.033033,    0.034034,    0.035035,    0.036036,    0.037037,    0.038038,    0.039039,     0.04004,    0.041041,    0.042042,    0.043043,    0.044044,    0.045045,    0.046046,    0.047047,\n",
              "          0.048048,    0.049049,     0.05005,    0.051051,    0.052052,    0.053053,    0.054054,    0.055055,    0.056056,    0.057057,    0.058058,    0.059059,     0.06006,    0.061061,    0.062062,    0.063063,    0.064064,    0.065065,    0.066066,    0.067067,    0.068068,    0.069069,     0.07007,    0.071071,\n",
              "          0.072072,    0.073073,    0.074074,    0.075075,    0.076076,    0.077077,    0.078078,    0.079079,     0.08008,    0.081081,    0.082082,    0.083083,    0.084084,    0.085085,    0.086086,    0.087087,    0.088088,    0.089089,     0.09009,    0.091091,    0.092092,    0.093093,    0.094094,    0.095095,\n",
              "          0.096096,    0.097097,    0.098098,    0.099099,      0.1001,      0.1011,      0.1021,      0.1031,      0.1041,     0.10511,     0.10611,     0.10711,     0.10811,     0.10911,     0.11011,     0.11111,     0.11211,     0.11311,     0.11411,     0.11512,     0.11612,     0.11712,     0.11812,     0.11912,\n",
              "           0.12012,     0.12112,     0.12212,     0.12312,     0.12412,     0.12513,     0.12613,     0.12713,     0.12813,     0.12913,     0.13013,     0.13113,     0.13213,     0.13313,     0.13413,     0.13514,     0.13614,     0.13714,     0.13814,     0.13914,     0.14014,     0.14114,     0.14214,     0.14314,\n",
              "           0.14414,     0.14515,     0.14615,     0.14715,     0.14815,     0.14915,     0.15015,     0.15115,     0.15215,     0.15315,     0.15415,     0.15516,     0.15616,     0.15716,     0.15816,     0.15916,     0.16016,     0.16116,     0.16216,     0.16316,     0.16416,     0.16517,     0.16617,     0.16717,\n",
              "           0.16817,     0.16917,     0.17017,     0.17117,     0.17217,     0.17317,     0.17417,     0.17518,     0.17618,     0.17718,     0.17818,     0.17918,     0.18018,     0.18118,     0.18218,     0.18318,     0.18418,     0.18519,     0.18619,     0.18719,     0.18819,     0.18919,     0.19019,     0.19119,\n",
              "           0.19219,     0.19319,     0.19419,      0.1952,      0.1962,      0.1972,      0.1982,      0.1992,      0.2002,      0.2012,      0.2022,      0.2032,      0.2042,     0.20521,     0.20621,     0.20721,     0.20821,     0.20921,     0.21021,     0.21121,     0.21221,     0.21321,     0.21421,     0.21522,\n",
              "           0.21622,     0.21722,     0.21822,     0.21922,     0.22022,     0.22122,     0.22222,     0.22322,     0.22422,     0.22523,     0.22623,     0.22723,     0.22823,     0.22923,     0.23023,     0.23123,     0.23223,     0.23323,     0.23423,     0.23524,     0.23624,     0.23724,     0.23824,     0.23924,\n",
              "           0.24024,     0.24124,     0.24224,     0.24324,     0.24424,     0.24525,     0.24625,     0.24725,     0.24825,     0.24925,     0.25025,     0.25125,     0.25225,     0.25325,     0.25425,     0.25526,     0.25626,     0.25726,     0.25826,     0.25926,     0.26026,     0.26126,     0.26226,     0.26326,\n",
              "           0.26426,     0.26527,     0.26627,     0.26727,     0.26827,     0.26927,     0.27027,     0.27127,     0.27227,     0.27327,     0.27427,     0.27528,     0.27628,     0.27728,     0.27828,     0.27928,     0.28028,     0.28128,     0.28228,     0.28328,     0.28428,     0.28529,     0.28629,     0.28729,\n",
              "           0.28829,     0.28929,     0.29029,     0.29129,     0.29229,     0.29329,     0.29429,      0.2953,      0.2963,      0.2973,      0.2983,      0.2993,      0.3003,      0.3013,      0.3023,      0.3033,      0.3043,     0.30531,     0.30631,     0.30731,     0.30831,     0.30931,     0.31031,     0.31131,\n",
              "           0.31231,     0.31331,     0.31431,     0.31532,     0.31632,     0.31732,     0.31832,     0.31932,     0.32032,     0.32132,     0.32232,     0.32332,     0.32432,     0.32533,     0.32633,     0.32733,     0.32833,     0.32933,     0.33033,     0.33133,     0.33233,     0.33333,     0.33433,     0.33534,\n",
              "           0.33634,     0.33734,     0.33834,     0.33934,     0.34034,     0.34134,     0.34234,     0.34334,     0.34434,     0.34535,     0.34635,     0.34735,     0.34835,     0.34935,     0.35035,     0.35135,     0.35235,     0.35335,     0.35435,     0.35536,     0.35636,     0.35736,     0.35836,     0.35936,\n",
              "           0.36036,     0.36136,     0.36236,     0.36336,     0.36436,     0.36537,     0.36637,     0.36737,     0.36837,     0.36937,     0.37037,     0.37137,     0.37237,     0.37337,     0.37437,     0.37538,     0.37638,     0.37738,     0.37838,     0.37938,     0.38038,     0.38138,     0.38238,     0.38338,\n",
              "           0.38438,     0.38539,     0.38639,     0.38739,     0.38839,     0.38939,     0.39039,     0.39139,     0.39239,     0.39339,     0.39439,      0.3954,      0.3964,      0.3974,      0.3984,      0.3994,      0.4004,      0.4014,      0.4024,      0.4034,      0.4044,     0.40541,     0.40641,     0.40741,\n",
              "           0.40841,     0.40941,     0.41041,     0.41141,     0.41241,     0.41341,     0.41441,     0.41542,     0.41642,     0.41742,     0.41842,     0.41942,     0.42042,     0.42142,     0.42242,     0.42342,     0.42442,     0.42543,     0.42643,     0.42743,     0.42843,     0.42943,     0.43043,     0.43143,\n",
              "           0.43243,     0.43343,     0.43443,     0.43544,     0.43644,     0.43744,     0.43844,     0.43944,     0.44044,     0.44144,     0.44244,     0.44344,     0.44444,     0.44545,     0.44645,     0.44745,     0.44845,     0.44945,     0.45045,     0.45145,     0.45245,     0.45345,     0.45445,     0.45546,\n",
              "           0.45646,     0.45746,     0.45846,     0.45946,     0.46046,     0.46146,     0.46246,     0.46346,     0.46446,     0.46547,     0.46647,     0.46747,     0.46847,     0.46947,     0.47047,     0.47147,     0.47247,     0.47347,     0.47447,     0.47548,     0.47648,     0.47748,     0.47848,     0.47948,\n",
              "           0.48048,     0.48148,     0.48248,     0.48348,     0.48448,     0.48549,     0.48649,     0.48749,     0.48849,     0.48949,     0.49049,     0.49149,     0.49249,     0.49349,     0.49449,      0.4955,      0.4965,      0.4975,      0.4985,      0.4995,      0.5005,      0.5015,      0.5025,      0.5035,\n",
              "            0.5045,     0.50551,     0.50651,     0.50751,     0.50851,     0.50951,     0.51051,     0.51151,     0.51251,     0.51351,     0.51451,     0.51552,     0.51652,     0.51752,     0.51852,     0.51952,     0.52052,     0.52152,     0.52252,     0.52352,     0.52452,     0.52553,     0.52653,     0.52753,\n",
              "           0.52853,     0.52953,     0.53053,     0.53153,     0.53253,     0.53353,     0.53453,     0.53554,     0.53654,     0.53754,     0.53854,     0.53954,     0.54054,     0.54154,     0.54254,     0.54354,     0.54454,     0.54555,     0.54655,     0.54755,     0.54855,     0.54955,     0.55055,     0.55155,\n",
              "           0.55255,     0.55355,     0.55455,     0.55556,     0.55656,     0.55756,     0.55856,     0.55956,     0.56056,     0.56156,     0.56256,     0.56356,     0.56456,     0.56557,     0.56657,     0.56757,     0.56857,     0.56957,     0.57057,     0.57157,     0.57257,     0.57357,     0.57457,     0.57558,\n",
              "           0.57658,     0.57758,     0.57858,     0.57958,     0.58058,     0.58158,     0.58258,     0.58358,     0.58458,     0.58559,     0.58659,     0.58759,     0.58859,     0.58959,     0.59059,     0.59159,     0.59259,     0.59359,     0.59459,      0.5956,      0.5966,      0.5976,      0.5986,      0.5996,\n",
              "            0.6006,      0.6016,      0.6026,      0.6036,      0.6046,     0.60561,     0.60661,     0.60761,     0.60861,     0.60961,     0.61061,     0.61161,     0.61261,     0.61361,     0.61461,     0.61562,     0.61662,     0.61762,     0.61862,     0.61962,     0.62062,     0.62162,     0.62262,     0.62362,\n",
              "           0.62462,     0.62563,     0.62663,     0.62763,     0.62863,     0.62963,     0.63063,     0.63163,     0.63263,     0.63363,     0.63463,     0.63564,     0.63664,     0.63764,     0.63864,     0.63964,     0.64064,     0.64164,     0.64264,     0.64364,     0.64464,     0.64565,     0.64665,     0.64765,\n",
              "           0.64865,     0.64965,     0.65065,     0.65165,     0.65265,     0.65365,     0.65465,     0.65566,     0.65666,     0.65766,     0.65866,     0.65966,     0.66066,     0.66166,     0.66266,     0.66366,     0.66466,     0.66567,     0.66667,     0.66767,     0.66867,     0.66967,     0.67067,     0.67167,\n",
              "           0.67267,     0.67367,     0.67467,     0.67568,     0.67668,     0.67768,     0.67868,     0.67968,     0.68068,     0.68168,     0.68268,     0.68368,     0.68468,     0.68569,     0.68669,     0.68769,     0.68869,     0.68969,     0.69069,     0.69169,     0.69269,     0.69369,     0.69469,      0.6957,\n",
              "            0.6967,      0.6977,      0.6987,      0.6997,      0.7007,      0.7017,      0.7027,      0.7037,      0.7047,     0.70571,     0.70671,     0.70771,     0.70871,     0.70971,     0.71071,     0.71171,     0.71271,     0.71371,     0.71471,     0.71572,     0.71672,     0.71772,     0.71872,     0.71972,\n",
              "           0.72072,     0.72172,     0.72272,     0.72372,     0.72472,     0.72573,     0.72673,     0.72773,     0.72873,     0.72973,     0.73073,     0.73173,     0.73273,     0.73373,     0.73473,     0.73574,     0.73674,     0.73774,     0.73874,     0.73974,     0.74074,     0.74174,     0.74274,     0.74374,\n",
              "           0.74474,     0.74575,     0.74675,     0.74775,     0.74875,     0.74975,     0.75075,     0.75175,     0.75275,     0.75375,     0.75475,     0.75576,     0.75676,     0.75776,     0.75876,     0.75976,     0.76076,     0.76176,     0.76276,     0.76376,     0.76476,     0.76577,     0.76677,     0.76777,\n",
              "           0.76877,     0.76977,     0.77077,     0.77177,     0.77277,     0.77377,     0.77477,     0.77578,     0.77678,     0.77778,     0.77878,     0.77978,     0.78078,     0.78178,     0.78278,     0.78378,     0.78478,     0.78579,     0.78679,     0.78779,     0.78879,     0.78979,     0.79079,     0.79179,\n",
              "           0.79279,     0.79379,     0.79479,      0.7958,      0.7968,      0.7978,      0.7988,      0.7998,      0.8008,      0.8018,      0.8028,      0.8038,      0.8048,     0.80581,     0.80681,     0.80781,     0.80881,     0.80981,     0.81081,     0.81181,     0.81281,     0.81381,     0.81481,     0.81582,\n",
              "           0.81682,     0.81782,     0.81882,     0.81982,     0.82082,     0.82182,     0.82282,     0.82382,     0.82482,     0.82583,     0.82683,     0.82783,     0.82883,     0.82983,     0.83083,     0.83183,     0.83283,     0.83383,     0.83483,     0.83584,     0.83684,     0.83784,     0.83884,     0.83984,\n",
              "           0.84084,     0.84184,     0.84284,     0.84384,     0.84484,     0.84585,     0.84685,     0.84785,     0.84885,     0.84985,     0.85085,     0.85185,     0.85285,     0.85385,     0.85485,     0.85586,     0.85686,     0.85786,     0.85886,     0.85986,     0.86086,     0.86186,     0.86286,     0.86386,\n",
              "           0.86486,     0.86587,     0.86687,     0.86787,     0.86887,     0.86987,     0.87087,     0.87187,     0.87287,     0.87387,     0.87487,     0.87588,     0.87688,     0.87788,     0.87888,     0.87988,     0.88088,     0.88188,     0.88288,     0.88388,     0.88488,     0.88589,     0.88689,     0.88789,\n",
              "           0.88889,     0.88989,     0.89089,     0.89189,     0.89289,     0.89389,     0.89489,      0.8959,      0.8969,      0.8979,      0.8989,      0.8999,      0.9009,      0.9019,      0.9029,      0.9039,      0.9049,     0.90591,     0.90691,     0.90791,     0.90891,     0.90991,     0.91091,     0.91191,\n",
              "           0.91291,     0.91391,     0.91491,     0.91592,     0.91692,     0.91792,     0.91892,     0.91992,     0.92092,     0.92192,     0.92292,     0.92392,     0.92492,     0.92593,     0.92693,     0.92793,     0.92893,     0.92993,     0.93093,     0.93193,     0.93293,     0.93393,     0.93493,     0.93594,\n",
              "           0.93694,     0.93794,     0.93894,     0.93994,     0.94094,     0.94194,     0.94294,     0.94394,     0.94494,     0.94595,     0.94695,     0.94795,     0.94895,     0.94995,     0.95095,     0.95195,     0.95295,     0.95395,     0.95495,     0.95596,     0.95696,     0.95796,     0.95896,     0.95996,\n",
              "           0.96096,     0.96196,     0.96296,     0.96396,     0.96496,     0.96597,     0.96697,     0.96797,     0.96897,     0.96997,     0.97097,     0.97197,     0.97297,     0.97397,     0.97497,     0.97598,     0.97698,     0.97798,     0.97898,     0.97998,     0.98098,     0.98198,     0.98298,     0.98398,\n",
              "           0.98498,     0.98599,     0.98699,     0.98799,     0.98899,     0.98999,     0.99099,     0.99199,     0.99299,     0.99399,     0.99499,       0.996,       0.997,       0.998,       0.999,           1]), array([[    0.78431,     0.78431,     0.76471, ...,           0,           0,           0],\n",
              "       [          1,           1,           1, ...,           0,           0,           0],\n",
              "       [    0.87234,     0.87234,     0.87234, ...,           0,           0,           0],\n",
              "       ...,\n",
              "       [          1,           1,           1, ...,           0,           0,           0],\n",
              "       [    0.98913,     0.98913,     0.97826, ...,           0,           0,           0],\n",
              "       [    0.89655,     0.89655,     0.89655, ...,           0,           0,           0]]), 'Confidence', 'Recall']]\n",
              "fitness: 0.7314211173828308\n",
              "keys: ['metrics/precision(B)', 'metrics/recall(B)', 'metrics/mAP50(B)', 'metrics/mAP50-95(B)']\n",
              "maps: array([    0.52637,      0.7997,     0.54535,     0.80054,     0.70403,     0.71321,     0.81583,     0.84119,     0.88942,     0.66081,      0.6747,     0.50403,     0.67921,     0.89856,     0.71117])\n",
              "names: {0: 'Beans', 1: 'Bitter Gourd', 2: 'Brinjal', 3: 'Cabbage', 4: 'Capsicum', 5: 'Carrot', 6: 'Chayote', 7: 'Cucumber', 8: 'Egg', 9: 'Eggplant', 10: 'Ginger', 11: 'Green Chilly', 12: 'Ladies Finger', 13: 'Tomato', 14: 'Turnip'}\n",
              "plot: True\n",
              "results_dict: {'metrics/precision(B)': 0.8588017458029804, 'metrics/recall(B)': 0.8289040009100943, 'metrics/mAP50(B)': 0.855746177341222, 'metrics/mAP50-95(B)': 0.7176072218318984, 'fitness': 0.7314211173828308}\n",
              "save_dir: PosixPath('/content/drive/MyDrive/Projects/veggies/train2222')\n",
              "speed: {'preprocess': 0.4271432465197993, 'inference': 5.157534982643875, 'loss': 0.000668506996304381, 'postprocess': 3.677856688405953}\n",
              "task: 'detect'"
            ]
          },
          "metadata": {},
          "execution_count": 15
        }
      ]
    },
    {
      "cell_type": "code",
      "source": [
        "model1=YOLO(\"/content/drive/MyDrive/Projects/veggies/train2222/weights/best.pt\")"
      ],
      "metadata": {
        "id": "6piYXhRfsNQW"
      },
      "execution_count": null,
      "outputs": []
    },
    {
      "cell_type": "code",
      "source": [
        "model1.predict('/content/IMG_20230502_184708_jpg.rf.b1e325269a5d1e65ce883f565800618e.jpg',save=True)"
      ],
      "metadata": {
        "colab": {
          "base_uri": "https://localhost:8080/"
        },
        "id": "Hul99draLyRB",
        "outputId": "e6e943aa-a85f-4780-84cb-e6237dedf717"
      },
      "execution_count": null,
      "outputs": [
        {
          "output_type": "stream",
          "name": "stdout",
          "text": [
            "\n",
            "image 1/1 /content/IMG_20230502_184708_jpg.rf.b1e325269a5d1e65ce883f565800618e.jpg: 640x640 6 Beanss, 6 Bitter Gourds, 8 Brinjals, 1 Cabbage, 2 Capsicums, 11 Carrots, 1 Chayote, 1 Eggplant, 9 Gingers, 10 Green Chillys, 5 Tomatos, 3 Turnips, 30.0ms\n",
            "Speed: 2.2ms preprocess, 30.0ms inference, 2.2ms postprocess per image at shape (1, 3, 640, 640)\n",
            "Results saved to \u001b[1mruns/detect/predict\u001b[0m\n"
          ]
        },
        {
          "output_type": "execute_result",
          "data": {
            "text/plain": [
              "[ultralytics.engine.results.Results object with attributes:\n",
              " \n",
              " boxes: ultralytics.engine.results.Boxes object\n",
              " keypoints: None\n",
              " masks: None\n",
              " names: {0: 'Beans', 1: 'Bitter Gourd', 2: 'Brinjal', 3: 'Cabbage', 4: 'Capsicum', 5: 'Carrot', 6: 'Chayote', 7: 'Cucumber', 8: 'Egg', 9: 'Eggplant', 10: 'Ginger', 11: 'Green Chilly', 12: 'Ladies Finger', 13: 'Tomato', 14: 'Turnip'}\n",
              " obb: None\n",
              " orig_img: array([[[ 57,  89,  95],\n",
              "         [ 67,  99, 105],\n",
              "         [ 65,  96, 105],\n",
              "         ...,\n",
              "         [ 79, 108, 123],\n",
              "         [ 58,  84,  98],\n",
              "         [ 56,  80,  92]],\n",
              " \n",
              "        [[ 59,  88,  95],\n",
              "         [ 66,  95, 102],\n",
              "         [ 66,  95, 102],\n",
              "         ...,\n",
              "         [ 86, 115, 130],\n",
              "         [ 65,  91, 105],\n",
              "         [ 57,  81,  93]],\n",
              " \n",
              "        [[ 70,  96, 102],\n",
              "         [ 68,  94, 100],\n",
              "         [ 67,  93,  99],\n",
              "         ...,\n",
              "         [ 95, 124, 139],\n",
              "         [ 76, 102, 116],\n",
              "         [ 57,  81,  93]],\n",
              " \n",
              "        ...,\n",
              " \n",
              "        [[103, 123, 124],\n",
              "         [100, 120, 121],\n",
              "         [ 96, 116, 117],\n",
              "         ...,\n",
              "         [194, 197, 195],\n",
              "         [194, 197, 195],\n",
              "         [194, 197, 195]],\n",
              " \n",
              "        [[104, 128, 128],\n",
              "         [101, 125, 125],\n",
              "         [ 97, 121, 121],\n",
              "         ...,\n",
              "         [194, 197, 195],\n",
              "         [194, 197, 195],\n",
              "         [194, 197, 195]],\n",
              " \n",
              "        [[ 93, 119, 119],\n",
              "         [ 91, 117, 117],\n",
              "         [ 89, 115, 115],\n",
              "         ...,\n",
              "         [194, 197, 195],\n",
              "         [194, 197, 195],\n",
              "         [194, 197, 195]]], dtype=uint8)\n",
              " orig_shape: (640, 640)\n",
              " path: '/content/IMG_20230502_184708_jpg.rf.b1e325269a5d1e65ce883f565800618e.jpg'\n",
              " probs: None\n",
              " save_dir: 'runs/detect/predict'\n",
              " speed: {'preprocess': 2.1762847900390625, 'inference': 29.992341995239258, 'postprocess': 2.182483673095703}]"
            ]
          },
          "metadata": {},
          "execution_count": 17
        }
      ]
    },
    {
      "cell_type": "code",
      "source": [
        "# Copy the trained model weights to a new directory for later use\n",
        "\n",
        "cp /content/drive/MyDrive/Projects/veggies/train2222/weights/best.pt /content/drive/MyDrive/Projects/veggies/model/veggie.pt"
      ],
      "metadata": {
        "id": "9v5LzXjWLyNl"
      },
      "execution_count": null,
      "outputs": []
    },
    {
      "cell_type": "code",
      "source": [
        "# Import locale library to handle encoding issues\n",
        "import locale\n",
        "locale.getpreferredencoding = lambda: \"UTF-8\""
      ],
      "metadata": {
        "id": "st6Ql7txLyLC"
      },
      "execution_count": null,
      "outputs": []
    },
    {
      "cell_type": "code",
      "source": [
        "# Predict using the model and retrieve the results\n",
        "\n",
        "z=model1.predict(\"/content/IMG_20230502_184708_jpg.rf.b1e325269a5d1e65ce883f565800618e.jpg\")#.names[0]"
      ],
      "metadata": {
        "colab": {
          "base_uri": "https://localhost:8080/"
        },
        "id": "C4qyG6g6LyIN",
        "outputId": "1da108af-6614-44f5-a53b-804f94e7e500"
      },
      "execution_count": null,
      "outputs": [
        {
          "output_type": "stream",
          "name": "stdout",
          "text": [
            "\n",
            "image 1/1 /content/IMG_20230502_184708_jpg.rf.b1e325269a5d1e65ce883f565800618e.jpg: 640x640 6 Beanss, 6 Bitter Gourds, 8 Brinjals, 1 Cabbage, 2 Capsicums, 11 Carrots, 1 Chayote, 1 Eggplant, 9 Gingers, 10 Green Chillys, 5 Tomatos, 3 Turnips, 28.6ms\n",
            "Speed: 5.2ms preprocess, 28.6ms inference, 1.9ms postprocess per image at shape (1, 3, 640, 640)\n"
          ]
        }
      ]
    },
    {
      "cell_type": "code",
      "source": [
        "z[0]"
      ],
      "metadata": {
        "colab": {
          "base_uri": "https://localhost:8080/"
        },
        "id": "7uAkGS4NLx-_",
        "outputId": "77957979-8d1d-45b3-88e9-9e926a1129b9"
      },
      "execution_count": null,
      "outputs": [
        {
          "output_type": "execute_result",
          "data": {
            "text/plain": [
              "ultralytics.engine.results.Results object with attributes:\n",
              "\n",
              "boxes: ultralytics.engine.results.Boxes object\n",
              "keypoints: None\n",
              "masks: None\n",
              "names: {0: 'Beans', 1: 'Bitter Gourd', 2: 'Brinjal', 3: 'Cabbage', 4: 'Capsicum', 5: 'Carrot', 6: 'Chayote', 7: 'Cucumber', 8: 'Egg', 9: 'Eggplant', 10: 'Ginger', 11: 'Green Chilly', 12: 'Ladies Finger', 13: 'Tomato', 14: 'Turnip'}\n",
              "obb: None\n",
              "orig_img: array([[[ 57,  89,  95],\n",
              "        [ 67,  99, 105],\n",
              "        [ 65,  96, 105],\n",
              "        ...,\n",
              "        [ 79, 108, 123],\n",
              "        [ 58,  84,  98],\n",
              "        [ 56,  80,  92]],\n",
              "\n",
              "       [[ 59,  88,  95],\n",
              "        [ 66,  95, 102],\n",
              "        [ 66,  95, 102],\n",
              "        ...,\n",
              "        [ 86, 115, 130],\n",
              "        [ 65,  91, 105],\n",
              "        [ 57,  81,  93]],\n",
              "\n",
              "       [[ 70,  96, 102],\n",
              "        [ 68,  94, 100],\n",
              "        [ 67,  93,  99],\n",
              "        ...,\n",
              "        [ 95, 124, 139],\n",
              "        [ 76, 102, 116],\n",
              "        [ 57,  81,  93]],\n",
              "\n",
              "       ...,\n",
              "\n",
              "       [[103, 123, 124],\n",
              "        [100, 120, 121],\n",
              "        [ 96, 116, 117],\n",
              "        ...,\n",
              "        [194, 197, 195],\n",
              "        [194, 197, 195],\n",
              "        [194, 197, 195]],\n",
              "\n",
              "       [[104, 128, 128],\n",
              "        [101, 125, 125],\n",
              "        [ 97, 121, 121],\n",
              "        ...,\n",
              "        [194, 197, 195],\n",
              "        [194, 197, 195],\n",
              "        [194, 197, 195]],\n",
              "\n",
              "       [[ 93, 119, 119],\n",
              "        [ 91, 117, 117],\n",
              "        [ 89, 115, 115],\n",
              "        ...,\n",
              "        [194, 197, 195],\n",
              "        [194, 197, 195],\n",
              "        [194, 197, 195]]], dtype=uint8)\n",
              "orig_shape: (640, 640)\n",
              "path: '/content/IMG_20230502_184708_jpg.rf.b1e325269a5d1e65ce883f565800618e.jpg'\n",
              "probs: None\n",
              "save_dir: 'runs/detect/predict'\n",
              "speed: {'preprocess': 5.157709121704102, 'inference': 28.55229377746582, 'postprocess': 1.9040107727050781}"
            ]
          },
          "metadata": {},
          "execution_count": 42
        }
      ]
    },
    {
      "cell_type": "code",
      "source": [
        "z"
      ],
      "metadata": {
        "colab": {
          "base_uri": "https://localhost:8080/"
        },
        "id": "wRNFAfVFOfVS",
        "outputId": "843d96ff-c509-40a6-a709-53929633e2a8"
      },
      "execution_count": null,
      "outputs": [
        {
          "output_type": "execute_result",
          "data": {
            "text/plain": [
              "[ultralytics.engine.results.Results object with attributes:\n",
              " \n",
              " boxes: ultralytics.engine.results.Boxes object\n",
              " keypoints: None\n",
              " masks: None\n",
              " names: {0: 'Beans', 1: 'Bitter Gourd', 2: 'Brinjal', 3: 'Cabbage', 4: 'Capsicum', 5: 'Carrot', 6: 'Chayote', 7: 'Cucumber', 8: 'Egg', 9: 'Eggplant', 10: 'Ginger', 11: 'Green Chilly', 12: 'Ladies Finger', 13: 'Tomato', 14: 'Turnip'}\n",
              " obb: None\n",
              " orig_img: array([[[ 57,  89,  95],\n",
              "         [ 67,  99, 105],\n",
              "         [ 65,  96, 105],\n",
              "         ...,\n",
              "         [ 79, 108, 123],\n",
              "         [ 58,  84,  98],\n",
              "         [ 56,  80,  92]],\n",
              " \n",
              "        [[ 59,  88,  95],\n",
              "         [ 66,  95, 102],\n",
              "         [ 66,  95, 102],\n",
              "         ...,\n",
              "         [ 86, 115, 130],\n",
              "         [ 65,  91, 105],\n",
              "         [ 57,  81,  93]],\n",
              " \n",
              "        [[ 70,  96, 102],\n",
              "         [ 68,  94, 100],\n",
              "         [ 67,  93,  99],\n",
              "         ...,\n",
              "         [ 95, 124, 139],\n",
              "         [ 76, 102, 116],\n",
              "         [ 57,  81,  93]],\n",
              " \n",
              "        ...,\n",
              " \n",
              "        [[103, 123, 124],\n",
              "         [100, 120, 121],\n",
              "         [ 96, 116, 117],\n",
              "         ...,\n",
              "         [194, 197, 195],\n",
              "         [194, 197, 195],\n",
              "         [194, 197, 195]],\n",
              " \n",
              "        [[104, 128, 128],\n",
              "         [101, 125, 125],\n",
              "         [ 97, 121, 121],\n",
              "         ...,\n",
              "         [194, 197, 195],\n",
              "         [194, 197, 195],\n",
              "         [194, 197, 195]],\n",
              " \n",
              "        [[ 93, 119, 119],\n",
              "         [ 91, 117, 117],\n",
              "         [ 89, 115, 115],\n",
              "         ...,\n",
              "         [194, 197, 195],\n",
              "         [194, 197, 195],\n",
              "         [194, 197, 195]]], dtype=uint8)\n",
              " orig_shape: (640, 640)\n",
              " path: '/content/IMG_20230502_184708_jpg.rf.b1e325269a5d1e65ce883f565800618e.jpg'\n",
              " probs: None\n",
              " save_dir: 'runs/detect/predict'\n",
              " speed: {'preprocess': 5.157709121704102, 'inference': 28.55229377746582, 'postprocess': 1.9040107727050781}]"
            ]
          },
          "metadata": {},
          "execution_count": 32
        }
      ]
    },
    {
      "cell_type": "code",
      "source": [
        "type(z)"
      ],
      "metadata": {
        "colab": {
          "base_uri": "https://localhost:8080/"
        },
        "id": "FnZn534SOsU4",
        "outputId": "96629069-6ae0-4119-a40e-3617aee9236a"
      },
      "execution_count": null,
      "outputs": [
        {
          "output_type": "execute_result",
          "data": {
            "text/plain": [
              "list"
            ]
          },
          "metadata": {},
          "execution_count": 33
        }
      ]
    },
    {
      "cell_type": "code",
      "source": [
        "z[0].names[8]"
      ],
      "metadata": {
        "colab": {
          "base_uri": "https://localhost:8080/",
          "height": 36
        },
        "id": "wqqgjPwuO3mx",
        "outputId": "4fdba3be-9dbc-4af4-9972-9f004a129bed"
      },
      "execution_count": null,
      "outputs": [
        {
          "output_type": "execute_result",
          "data": {
            "text/plain": [
              "'Egg'"
            ],
            "application/vnd.google.colaboratory.intrinsic+json": {
              "type": "string"
            }
          },
          "metadata": {},
          "execution_count": 40
        }
      ]
    },
    {
      "cell_type": "code",
      "source": [],
      "metadata": {
        "id": "t8Z2UP7AQsFJ"
      },
      "execution_count": null,
      "outputs": []
    }
  ]
}